{
 "cells": [
  {
   "cell_type": "code",
   "execution_count": 33,
   "id": "1b5d1c5c-f8ac-4a3f-991e-56485ad752ba",
   "metadata": {},
   "outputs": [],
   "source": [
    "import requests\n",
    "import json "
   ]
  },
  {
   "cell_type": "code",
   "execution_count": 15,
   "id": "454a73f8-c8ca-4044-96f7-dd8c228efb93",
   "metadata": {},
   "outputs": [],
   "source": [
    "url = 'http://10.0.0.101:9696/predict'"
   ]
  },
  {
   "cell_type": "code",
   "execution_count": 64,
   "id": "6f8a4b89-0c98-40db-85e1-4bcd4fb76acd",
   "metadata": {},
   "outputs": [],
   "source": [
    "# Write json ouput\n",
    "customer = {\n",
    "    \"customerid\": \"8879-zkjof\",\n",
    "    \"gender\": \"female\",\n",
    "    \"seniorcitizen\": 0,\n",
    "    \"partner\": \"no\",\n",
    "    \"dependents\": \"no\",\n",
    "    \"tenure\": 4,\n",
    "    \"phoneservice\": \"yes\",\n",
    "    \"multiplelines\": \"no\",\n",
    "    \"internetservice\": \"dsl\",\n",
    "    \"onlinesecurity\": \"yes\",\n",
    "    \"onlinebackup\": \"no\",\n",
    "    \"deviceprotection\": \"yes\",\n",
    "    \"techsupport\": \"yes\",\n",
    "    \"streamingtv\": \"yes\",\n",
    "    \"streamingmovies\": \"yes\",\n",
    "    \"contract\": \"month-to-month\",\n",
    "    \"paperlessbilling\": \"yes\",\n",
    "    \"paymentmethod\": \"bank_transfer_(automatic)\",\n",
    "    \"monthlycharges\": 79.85,\n",
    "    \"totalcharges\": 3320.75\n",
    "}\n",
    "\n",
    "\n",
    "with open('test-customer.json', 'w') as fout:\n",
    "    json.dump(customer, fout)"
   ]
  },
  {
   "cell_type": "code",
   "execution_count": 65,
   "id": "a21b95ca-40f7-490c-9ec6-355559d84bf6",
   "metadata": {},
   "outputs": [
    {
     "data": {
      "text/plain": [
       "{'customerid': '8879-zkjof',\n",
       " 'gender': 'female',\n",
       " 'seniorcitizen': 0,\n",
       " 'partner': 'no',\n",
       " 'dependents': 'no',\n",
       " 'tenure': 4,\n",
       " 'phoneservice': 'yes',\n",
       " 'multiplelines': 'no',\n",
       " 'internetservice': 'dsl',\n",
       " 'onlinesecurity': 'yes',\n",
       " 'onlinebackup': 'no',\n",
       " 'deviceprotection': 'yes',\n",
       " 'techsupport': 'yes',\n",
       " 'streamingtv': 'yes',\n",
       " 'streamingmovies': 'yes',\n",
       " 'contract': 'month-to-month',\n",
       " 'paperlessbilling': 'yes',\n",
       " 'paymentmethod': 'bank_transfer_(automatic)',\n",
       " 'monthlycharges': 79.85,\n",
       " 'totalcharges': 3320.75}"
      ]
     },
     "execution_count": 65,
     "metadata": {},
     "output_type": "execute_result"
    }
   ],
   "source": [
    "# Read from json file \n",
    "with open('test-customer.json', 'r') as fin:\n",
    "    customer = json.load(fin)\n",
    "    \n",
    "customer"
   ]
  },
  {
   "cell_type": "code",
   "execution_count": 66,
   "id": "87f93013-addd-416d-918b-92d0a796eed0",
   "metadata": {},
   "outputs": [
    {
     "data": {
      "text/plain": [
       "<Response [200]>"
      ]
     },
     "execution_count": 66,
     "metadata": {},
     "output_type": "execute_result"
    }
   ],
   "source": [
    "requests.post(url, json=customer)"
   ]
  },
  {
   "cell_type": "code",
   "execution_count": 67,
   "id": "0aacf237-424c-4409-89a2-2a47a67aedf8",
   "metadata": {},
   "outputs": [
    {
     "data": {
      "text/plain": [
       "{'churn': True, 'churn_probability': 0.5411382705557225}"
      ]
     },
     "execution_count": 67,
     "metadata": {},
     "output_type": "execute_result"
    }
   ],
   "source": [
    "# Json Reponse\n",
    "response = requests.post(url, json=customer).json()\n",
    "response"
   ]
  },
  {
   "cell_type": "code",
   "execution_count": 68,
   "id": "f7d0e7c4-e2a7-49e7-b48e-cfea5cd92219",
   "metadata": {},
   "outputs": [
    {
     "name": "stdout",
     "output_type": "stream",
     "text": [
      " Customer has 54.1138 probability to churn. \n",
      " Send PROMO email!\n"
     ]
    }
   ],
   "source": [
    "# EMail setup for chun customers \n",
    "if response['churn']:\n",
    "    print(f\" Customer has {round(response['churn_probability']*100, 4)} probability to churn. \\n Send PROMO email!\")\n",
    "else:\n",
    "    print(f\" Customer does NOT churn! - {round(response['churn_probability']*100, 4)}\")"
   ]
  },
  {
   "cell_type": "code",
   "execution_count": null,
   "id": "8ae3f262-e770-4aa6-9c67-8a2cc98cb007",
   "metadata": {},
   "outputs": [],
   "source": []
  },
  {
   "cell_type": "code",
   "execution_count": null,
   "id": "44867ee8-e019-49b4-9dee-ff9238c60052",
   "metadata": {},
   "outputs": [],
   "source": []
  }
 ],
 "metadata": {
  "kernelspec": {
   "display_name": "Python 3 (ipykernel)",
   "language": "python",
   "name": "python3"
  },
  "language_info": {
   "codemirror_mode": {
    "name": "ipython",
    "version": 3
   },
   "file_extension": ".py",
   "mimetype": "text/x-python",
   "name": "python",
   "nbconvert_exporter": "python",
   "pygments_lexer": "ipython3",
   "version": "3.10.6"
  }
 },
 "nbformat": 4,
 "nbformat_minor": 5
}
