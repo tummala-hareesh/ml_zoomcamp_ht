{
 "cells": [
  {
   "cell_type": "markdown",
   "id": "043f1e7b-ff6c-43f9-a898-ffad050f4b3f",
   "metadata": {},
   "source": [
    "# Homework for Week-4"
   ]
  },
  {
   "cell_type": "code",
   "execution_count": 1,
   "id": "0aabc822-f92d-415c-938e-5d57a551b1bd",
   "metadata": {},
   "outputs": [
    {
     "name": "stdout",
     "output_type": "stream",
     "text": [
      "--2022-10-10 03:05:24--  https://raw.githubusercontent.com/alexeygrigorev/datasets/master/AER_credit_card_data.csv\n",
      "Resolving raw.githubusercontent.com (raw.githubusercontent.com)... 185.199.111.133, 185.199.109.133, 185.199.110.133, ...\n",
      "Connecting to raw.githubusercontent.com (raw.githubusercontent.com)|185.199.111.133|:443... connected.\n",
      "HTTP request sent, awaiting response... 200 OK\n",
      "Length: 73250 (72K) [text/plain]\n",
      "Saving to: ‘../data/04_data_homework.csv’\n",
      "\n",
      "../data/04_data_hom 100%[===================>]  71.53K  --.-KB/s    in 0.02s   \n",
      "\n",
      "2022-10-10 03:05:24 (3.17 MB/s) - ‘../data/04_data_homework.csv’ saved [73250/73250]\n",
      "\n"
     ]
    }
   ],
   "source": [
    "## Dataset to download for week-4 homework\n",
    "!wget https://raw.githubusercontent.com/alexeygrigorev/datasets/master/AER_credit_card_data.csv -O ../data/04_data_homework.csv"
   ]
  },
  {
   "cell_type": "markdown",
   "id": "f61a6c54-a42b-4be9-b065-d5007ea7ac25",
   "metadata": {},
   "source": [
    "***"
   ]
  },
  {
   "cell_type": "markdown",
   "id": "1e18140b-5214-41af-a94a-9053331ee9ba",
   "metadata": {},
   "source": [
    "# Import Modules"
   ]
  },
  {
   "cell_type": "code",
   "execution_count": 2,
   "id": "73503259-d766-4780-a563-201496ad4d0a",
   "metadata": {},
   "outputs": [],
   "source": [
    "import pandas as pd\n",
    "import numpy as np \n",
    "\n",
    "import matplotlib.pyplot as plt\n",
    "import seaborn as sns\n",
    "\n",
    "%matplotlib inline"
   ]
  },
  {
   "cell_type": "code",
   "execution_count": 3,
   "id": "d594b158-5efe-4a59-a98c-44eef136dca6",
   "metadata": {},
   "outputs": [],
   "source": [
    "from sklearn.model_selection import train_test_split\n",
    "from sklearn.feature_extraction import DictVectorizer\n",
    "from sklearn.linear_model import LogisticRegression\n",
    "from sklearn.metrics import accuracy_score, f1_score\n",
    "from sklearn.metrics import roc_curve, roc_auc_score, auc\n",
    "from sklearn.model_selection import KFold"
   ]
  },
  {
   "cell_type": "markdown",
   "id": "54156f20-5ad0-4a87-91c4-dc0312f6d2c6",
   "metadata": {},
   "source": [
    "# Load utilities"
   ]
  },
  {
   "cell_type": "code",
   "execution_count": 6,
   "id": "abad7a2a-fc4b-4d2c-a3a5-081e51f71cc7",
   "metadata": {},
   "outputs": [],
   "source": [
    "import sys \n",
    "sys.path.append('../src/')\n",
    "\n",
    "import utilities as utils"
   ]
  },
  {
   "cell_type": "markdown",
   "id": "ce914ad7-7c32-44a1-8d22-126fa52bae74",
   "metadata": {},
   "source": [
    "***"
   ]
  },
  {
   "cell_type": "markdown",
   "id": "e9e76a32-17e6-4d05-89b2-3ac8d93e9985",
   "metadata": {},
   "source": [
    "# Read Data "
   ]
  },
  {
   "cell_type": "code",
   "execution_count": 7,
   "id": "1120a9da-9024-458d-a822-3501c360ec61",
   "metadata": {},
   "outputs": [
    {
     "data": {
      "text/plain": [
       "(1319, 12)"
      ]
     },
     "execution_count": 7,
     "metadata": {},
     "output_type": "execute_result"
    }
   ],
   "source": [
    "df = pd.read_csv('../data/04_data_homework.csv')\n",
    "df.shape"
   ]
  },
  {
   "cell_type": "code",
   "execution_count": 5,
   "id": "f6a35a57-5778-448c-9589-ec4aa6cb8bba",
   "metadata": {},
   "outputs": [
    {
     "data": {
      "text/plain": [
       "card            object\n",
       "reports          int64\n",
       "age            float64\n",
       "income         float64\n",
       "share          float64\n",
       "expenditure    float64\n",
       "owner           object\n",
       "selfemp         object\n",
       "dependents       int64\n",
       "months           int64\n",
       "majorcards       int64\n",
       "active           int64\n",
       "dtype: object"
      ]
     },
     "execution_count": 5,
     "metadata": {},
     "output_type": "execute_result"
    }
   ],
   "source": [
    "df.dtypes"
   ]
  },
  {
   "cell_type": "code",
   "execution_count": 6,
   "id": "c61af045-1fba-486c-9454-3ae4974c6865",
   "metadata": {},
   "outputs": [
    {
     "data": {
      "text/plain": [
       "yes    1023\n",
       "no      296\n",
       "Name: card, dtype: int64"
      ]
     },
     "execution_count": 6,
     "metadata": {},
     "output_type": "execute_result"
    }
   ],
   "source": [
    "# target varirable is card\n",
    "df.card.value_counts()"
   ]
  },
  {
   "cell_type": "markdown",
   "id": "69076b18-2325-4f82-9554-725a626ad09d",
   "metadata": {},
   "source": [
    "***"
   ]
  },
  {
   "cell_type": "markdown",
   "id": "5edcfdfa-b076-41fb-8867-bd6b29ef47a5",
   "metadata": {},
   "source": [
    "# Data Preparation "
   ]
  },
  {
   "cell_type": "code",
   "execution_count": 7,
   "id": "39fbf2c2-d6e9-4fa7-884c-abaebe87edb3",
   "metadata": {},
   "outputs": [],
   "source": [
    "# Map target variables yes=1 and no=0\n",
    "df.card = (df.card == 'yes').astype('int')"
   ]
  },
  {
   "cell_type": "code",
   "execution_count": 8,
   "id": "bd51d6cd-30e4-49d5-9d6c-c017fa2daf21",
   "metadata": {},
   "outputs": [
    {
     "data": {
      "text/plain": [
       "1    1023\n",
       "0     296\n",
       "Name: card, dtype: int64"
      ]
     },
     "execution_count": 8,
     "metadata": {},
     "output_type": "execute_result"
    }
   ],
   "source": [
    "df.card.value_counts()"
   ]
  },
  {
   "cell_type": "code",
   "execution_count": 22,
   "id": "96922750-5cbb-43c1-8c9e-882545b6e250",
   "metadata": {},
   "outputs": [
    {
     "name": "stdout",
     "output_type": "stream",
     "text": [
      " Split lengths: 791 264 264\n",
      " Split %: 59.97,                       20.02,                       20.02\n"
     ]
    }
   ],
   "source": [
    "# Split dataset into 3 parts \n",
    "df_train, df_val, df_test = utils.split_datasets_602020(df, \n",
    "                                                        randstate=1, \n",
    "                                                        verbose=True)\n",
    "\n",
    "# Prepare features and target sets\n",
    "df_train, y_train = utils.dataset_into_features_and_target(df_train, target='card')\n",
    "df_val, y_val     = utils.dataset_into_features_and_target(df_val, target='card')\n",
    "df_test, y_test   = utils.dataset_into_features_and_target(df_test, target='card')"
   ]
  },
  {
   "cell_type": "markdown",
   "id": "e463274a-5cb6-4881-96c5-c2f206b5c1bc",
   "metadata": {},
   "source": [
    "***"
   ]
  },
  {
   "cell_type": "markdown",
   "id": "1888fbc9-ab8a-4dc8-95e8-f11de395e150",
   "metadata": {},
   "source": [
    "# Question 1\n",
    "\n",
    "- ROC AUC could also be used to evaluate feature importance of numerical variables.-"
   ]
  },
  {
   "cell_type": "code",
   "execution_count": 23,
   "id": "312a494c-1778-45d1-ae4e-de04ec2b31b3",
   "metadata": {},
   "outputs": [
    {
     "data": {
      "text/plain": [
       "reports          int64\n",
       "age            float64\n",
       "income         float64\n",
       "share          float64\n",
       "expenditure    float64\n",
       "owner           object\n",
       "selfemp         object\n",
       "dependents       int64\n",
       "months           int64\n",
       "majorcards       int64\n",
       "active           int64\n",
       "dtype: object"
      ]
     },
     "execution_count": 23,
     "metadata": {},
     "output_type": "execute_result"
    }
   ],
   "source": [
    "df_train.dtypes"
   ]
  },
  {
   "cell_type": "code",
   "execution_count": 24,
   "id": "81f6bb60-4503-4bde-a60a-8f25763e2b9b",
   "metadata": {},
   "outputs": [
    {
     "data": {
      "text/plain": [
       "['reports',\n",
       " 'age',\n",
       " 'income',\n",
       " 'share',\n",
       " 'expenditure',\n",
       " 'dependents',\n",
       " 'months',\n",
       " 'majorcards',\n",
       " 'active']"
      ]
     },
     "execution_count": 24,
     "metadata": {},
     "output_type": "execute_result"
    }
   ],
   "source": [
    "list_numericals = utils.get_numerical_features(df_train)\n",
    "list_numericals"
   ]
  },
  {
   "cell_type": "code",
   "execution_count": 32,
   "id": "1a14c640-7e36-4035-bdd0-be851caef1ee",
   "metadata": {},
   "outputs": [
    {
     "name": "stdout",
     "output_type": "stream",
     "text": [
      " feature= reports    \t auc= 0.7167\n",
      " feature= age        \t auc= 0.5240\n",
      " feature= income     \t auc= 0.5908\n",
      " feature= share      \t auc= 0.9892\n",
      " feature= expenditure \t auc= 0.9910\n",
      " feature= dependents \t auc= 0.5328\n",
      " feature= months     \t auc= 0.5294\n",
      " feature= majorcards \t auc= 0.5344\n",
      " feature= active     \t auc= 0.6043\n"
     ]
    }
   ],
   "source": [
    "# AUC scores on numerical features \n",
    "features_q1 = ['reports', 'dependents', 'active', 'share']\n",
    "auc_q1 = []\n",
    "\n",
    "for feature in list_numericals:\n",
    "    auc = roc_auc_score(y_train, df_train[feature])\n",
    "    \n",
    "    if auc < 0.5:\n",
    "            auc = roc_auc_score(y_train, -df_train[feature])\n",
    "            \n",
    "    if feature in features_q1:\n",
    "        auc_q1.append(auc)\n",
    "            \n",
    "    print(f' feature= {feature:10s} \\t auc= {auc:.4f}')"
   ]
  },
  {
   "cell_type": "code",
   "execution_count": 33,
   "id": "a2e8ff1b-d5e7-4b28-89c5-5d687fc2b12e",
   "metadata": {},
   "outputs": [
    {
     "data": {
      "text/plain": [
       "0.989183643423692"
      ]
     },
     "execution_count": 33,
     "metadata": {},
     "output_type": "execute_result"
    }
   ],
   "source": [
    "np.max(auc_q1)"
   ]
  },
  {
   "cell_type": "markdown",
   "id": "7708c403-7f6e-410f-888f-aece2062bea5",
   "metadata": {},
   "source": [
    "***"
   ]
  },
  {
   "cell_type": "markdown",
   "id": "fae409aa-dd9d-43c6-a86b-97abe37a5ea6",
   "metadata": {},
   "source": [
    "# Training the model"
   ]
  },
  {
   "cell_type": "code",
   "execution_count": 34,
   "id": "12169106-b8ba-4dd0-9e5b-3953c2ec59a1",
   "metadata": {},
   "outputs": [
    {
     "data": {
      "text/plain": [
       "['reports',\n",
       " 'age',\n",
       " 'income',\n",
       " 'share',\n",
       " 'expenditure',\n",
       " 'dependents',\n",
       " 'months',\n",
       " 'majorcards',\n",
       " 'active',\n",
       " 'owner',\n",
       " 'selfemp']"
      ]
     },
     "execution_count": 34,
     "metadata": {},
     "output_type": "execute_result"
    }
   ],
   "source": [
    "# Features to use for the model\n",
    "list_features = [\"reports\", \"age\", \"income\", \"share\", \"expenditure\", \"dependents\", \"months\", \"majorcards\", \"active\", \"owner\", \"selfemp\"]\n",
    "list_features"
   ]
  },
  {
   "cell_type": "code",
   "execution_count": 67,
   "id": "4c5563c6-a085-4f77-8d94-60667935b6cb",
   "metadata": {},
   "outputs": [],
   "source": [
    "def train(df_train, y_train,C):\n",
    "    \n",
    "    dicts = df_train[list_features].to_dict(orient='records')\n",
    "    \n",
    "    dv = DictVectorizer(sparse=False)\n",
    "    X_train = dv.fit_transform(dicts)\n",
    "    \n",
    "    model = LogisticRegression(solver='liblinear', C=C, max_iter=1000)\n",
    "    model.fit(X_train, y_train)\n",
    "    \n",
    "    return dv, model"
   ]
  },
  {
   "cell_type": "code",
   "execution_count": 36,
   "id": "c18a7e77-5e50-4a0b-8746-4b46c9051cde",
   "metadata": {},
   "outputs": [],
   "source": [
    "dv, model = train(df_train, y_train)"
   ]
  },
  {
   "cell_type": "markdown",
   "id": "159a9725-81ae-4251-b262-f1d6ca973fef",
   "metadata": {},
   "source": [
    "***"
   ]
  },
  {
   "cell_type": "markdown",
   "id": "a7eded36-e53e-484c-a7f5-fe076b1222d6",
   "metadata": {},
   "source": [
    "# Question 2\n",
    "\n",
    "- What's the AUC of this model on the validation dataset? (round to 3 digits)"
   ]
  },
  {
   "cell_type": "code",
   "execution_count": 37,
   "id": "8f35b0f9-4d3a-4679-aad3-f156f01566fd",
   "metadata": {},
   "outputs": [],
   "source": [
    "def predict(df, dv, model):\n",
    "    dicts = df[list_features].to_dict(orient='records')\n",
    "    \n",
    "    X = dv.transform(dicts)\n",
    "    \n",
    "    y_pred = model.predict_proba(X)[:,1]\n",
    "    \n",
    "    return y_pred"
   ]
  },
  {
   "cell_type": "code",
   "execution_count": 39,
   "id": "9570ac3a-49da-4565-9c75-c94e3dbc18b9",
   "metadata": {},
   "outputs": [
    {
     "data": {
      "text/plain": [
       "0.995171242063847"
      ]
     },
     "execution_count": 39,
     "metadata": {},
     "output_type": "execute_result"
    }
   ],
   "source": [
    "y_pred = predict(df_val, dv, model)\n",
    "\n",
    "# AUC score on val_dataset\n",
    "auc = roc_auc_score(y_val, y_pred)\n",
    "auc"
   ]
  },
  {
   "cell_type": "markdown",
   "id": "a7dac1d8-598b-495d-a253-87fe81f492eb",
   "metadata": {},
   "source": [
    "***"
   ]
  },
  {
   "cell_type": "markdown",
   "id": "d79648c9-34cb-44e1-adb5-929ecd8c479c",
   "metadata": {},
   "source": [
    "# Question 3\n",
    "- Precision and Recall"
   ]
  },
  {
   "cell_type": "code",
   "execution_count": 45,
   "id": "b305eaca-219c-4781-aae2-57bd34feae2d",
   "metadata": {},
   "outputs": [
    {
     "data": {
      "text/html": [
       "<div>\n",
       "<style scoped>\n",
       "    .dataframe tbody tr th:only-of-type {\n",
       "        vertical-align: middle;\n",
       "    }\n",
       "\n",
       "    .dataframe tbody tr th {\n",
       "        vertical-align: top;\n",
       "    }\n",
       "\n",
       "    .dataframe thead th {\n",
       "        text-align: right;\n",
       "    }\n",
       "</style>\n",
       "<table border=\"1\" class=\"dataframe\">\n",
       "  <thead>\n",
       "    <tr style=\"text-align: right;\">\n",
       "      <th></th>\n",
       "      <th>threshold</th>\n",
       "      <th>TP</th>\n",
       "      <th>FP</th>\n",
       "      <th>FN</th>\n",
       "      <th>TN</th>\n",
       "    </tr>\n",
       "  </thead>\n",
       "  <tbody>\n",
       "    <tr>\n",
       "      <th>0</th>\n",
       "      <td>0.00</td>\n",
       "      <td>211</td>\n",
       "      <td>53</td>\n",
       "      <td>0</td>\n",
       "      <td>0</td>\n",
       "    </tr>\n",
       "    <tr>\n",
       "      <th>1</th>\n",
       "      <td>0.01</td>\n",
       "      <td>211</td>\n",
       "      <td>34</td>\n",
       "      <td>0</td>\n",
       "      <td>19</td>\n",
       "    </tr>\n",
       "    <tr>\n",
       "      <th>2</th>\n",
       "      <td>0.02</td>\n",
       "      <td>211</td>\n",
       "      <td>31</td>\n",
       "      <td>0</td>\n",
       "      <td>22</td>\n",
       "    </tr>\n",
       "    <tr>\n",
       "      <th>3</th>\n",
       "      <td>0.03</td>\n",
       "      <td>211</td>\n",
       "      <td>24</td>\n",
       "      <td>0</td>\n",
       "      <td>29</td>\n",
       "    </tr>\n",
       "    <tr>\n",
       "      <th>4</th>\n",
       "      <td>0.04</td>\n",
       "      <td>211</td>\n",
       "      <td>22</td>\n",
       "      <td>0</td>\n",
       "      <td>31</td>\n",
       "    </tr>\n",
       "    <tr>\n",
       "      <th>...</th>\n",
       "      <td>...</td>\n",
       "      <td>...</td>\n",
       "      <td>...</td>\n",
       "      <td>...</td>\n",
       "      <td>...</td>\n",
       "    </tr>\n",
       "    <tr>\n",
       "      <th>96</th>\n",
       "      <td>0.96</td>\n",
       "      <td>204</td>\n",
       "      <td>0</td>\n",
       "      <td>7</td>\n",
       "      <td>53</td>\n",
       "    </tr>\n",
       "    <tr>\n",
       "      <th>97</th>\n",
       "      <td>0.97</td>\n",
       "      <td>203</td>\n",
       "      <td>0</td>\n",
       "      <td>8</td>\n",
       "      <td>53</td>\n",
       "    </tr>\n",
       "    <tr>\n",
       "      <th>98</th>\n",
       "      <td>0.98</td>\n",
       "      <td>203</td>\n",
       "      <td>0</td>\n",
       "      <td>8</td>\n",
       "      <td>53</td>\n",
       "    </tr>\n",
       "    <tr>\n",
       "      <th>99</th>\n",
       "      <td>0.99</td>\n",
       "      <td>202</td>\n",
       "      <td>0</td>\n",
       "      <td>9</td>\n",
       "      <td>53</td>\n",
       "    </tr>\n",
       "    <tr>\n",
       "      <th>100</th>\n",
       "      <td>1.00</td>\n",
       "      <td>179</td>\n",
       "      <td>0</td>\n",
       "      <td>32</td>\n",
       "      <td>53</td>\n",
       "    </tr>\n",
       "  </tbody>\n",
       "</table>\n",
       "<p>101 rows × 5 columns</p>\n",
       "</div>"
      ],
      "text/plain": [
       "     threshold   TP  FP  FN  TN\n",
       "0         0.00  211  53   0   0\n",
       "1         0.01  211  34   0  19\n",
       "2         0.02  211  31   0  22\n",
       "3         0.03  211  24   0  29\n",
       "4         0.04  211  22   0  31\n",
       "..         ...  ...  ..  ..  ..\n",
       "96        0.96  204   0   7  53\n",
       "97        0.97  203   0   8  53\n",
       "98        0.98  203   0   8  53\n",
       "99        0.99  202   0   9  53\n",
       "100       1.00  179   0  32  53\n",
       "\n",
       "[101 rows x 5 columns]"
      ]
     },
     "execution_count": 45,
     "metadata": {},
     "output_type": "execute_result"
    }
   ],
   "source": [
    "thresholds = np.linspace(0.0, 1.0, 101)\n",
    "\n",
    "scores = []\n",
    "\n",
    "for t in thresholds:\n",
    "    actual_positive = (y_val == 1)\n",
    "    actual_negative = (y_val == 0)\n",
    "    \n",
    "    pred_positive = (y_pred >= t)\n",
    "    pred_negative = (y_pred < t)\n",
    "    \n",
    "    TP = (pred_positive & actual_positive).sum()\n",
    "    TN = (pred_negative & actual_negative).sum()\n",
    "\n",
    "    FP = (pred_positive & actual_negative).sum()\n",
    "    FN = (pred_negative & actual_positive).sum()\n",
    "\n",
    "    scores.append((t, TP, FP, FN, TN))\n",
    "        \n",
    "columns = ['threshold', 'TP', 'FP', 'FN', 'TN']\n",
    "\n",
    "df_scores = pd.DataFrame(scores, columns=columns)\n",
    "df_scores"
   ]
  },
  {
   "cell_type": "code",
   "execution_count": 47,
   "id": "82a0d39f-2713-414d-ae18-348ff2e5bbe1",
   "metadata": {},
   "outputs": [
    {
     "data": {
      "text/html": [
       "<div>\n",
       "<style scoped>\n",
       "    .dataframe tbody tr th:only-of-type {\n",
       "        vertical-align: middle;\n",
       "    }\n",
       "\n",
       "    .dataframe tbody tr th {\n",
       "        vertical-align: top;\n",
       "    }\n",
       "\n",
       "    .dataframe thead th {\n",
       "        text-align: right;\n",
       "    }\n",
       "</style>\n",
       "<table border=\"1\" class=\"dataframe\">\n",
       "  <thead>\n",
       "    <tr style=\"text-align: right;\">\n",
       "      <th></th>\n",
       "      <th>threshold</th>\n",
       "      <th>TP</th>\n",
       "      <th>FP</th>\n",
       "      <th>FN</th>\n",
       "      <th>TN</th>\n",
       "      <th>Precision</th>\n",
       "      <th>Recall</th>\n",
       "    </tr>\n",
       "  </thead>\n",
       "  <tbody>\n",
       "    <tr>\n",
       "      <th>0</th>\n",
       "      <td>0.00</td>\n",
       "      <td>211</td>\n",
       "      <td>53</td>\n",
       "      <td>0</td>\n",
       "      <td>0</td>\n",
       "      <td>0.799242</td>\n",
       "      <td>1.000000</td>\n",
       "    </tr>\n",
       "    <tr>\n",
       "      <th>1</th>\n",
       "      <td>0.01</td>\n",
       "      <td>211</td>\n",
       "      <td>34</td>\n",
       "      <td>0</td>\n",
       "      <td>19</td>\n",
       "      <td>0.861224</td>\n",
       "      <td>1.000000</td>\n",
       "    </tr>\n",
       "    <tr>\n",
       "      <th>2</th>\n",
       "      <td>0.02</td>\n",
       "      <td>211</td>\n",
       "      <td>31</td>\n",
       "      <td>0</td>\n",
       "      <td>22</td>\n",
       "      <td>0.871901</td>\n",
       "      <td>1.000000</td>\n",
       "    </tr>\n",
       "    <tr>\n",
       "      <th>3</th>\n",
       "      <td>0.03</td>\n",
       "      <td>211</td>\n",
       "      <td>24</td>\n",
       "      <td>0</td>\n",
       "      <td>29</td>\n",
       "      <td>0.897872</td>\n",
       "      <td>1.000000</td>\n",
       "    </tr>\n",
       "    <tr>\n",
       "      <th>4</th>\n",
       "      <td>0.04</td>\n",
       "      <td>211</td>\n",
       "      <td>22</td>\n",
       "      <td>0</td>\n",
       "      <td>31</td>\n",
       "      <td>0.905579</td>\n",
       "      <td>1.000000</td>\n",
       "    </tr>\n",
       "    <tr>\n",
       "      <th>...</th>\n",
       "      <td>...</td>\n",
       "      <td>...</td>\n",
       "      <td>...</td>\n",
       "      <td>...</td>\n",
       "      <td>...</td>\n",
       "      <td>...</td>\n",
       "      <td>...</td>\n",
       "    </tr>\n",
       "    <tr>\n",
       "      <th>96</th>\n",
       "      <td>0.96</td>\n",
       "      <td>204</td>\n",
       "      <td>0</td>\n",
       "      <td>7</td>\n",
       "      <td>53</td>\n",
       "      <td>1.000000</td>\n",
       "      <td>0.966825</td>\n",
       "    </tr>\n",
       "    <tr>\n",
       "      <th>97</th>\n",
       "      <td>0.97</td>\n",
       "      <td>203</td>\n",
       "      <td>0</td>\n",
       "      <td>8</td>\n",
       "      <td>53</td>\n",
       "      <td>1.000000</td>\n",
       "      <td>0.962085</td>\n",
       "    </tr>\n",
       "    <tr>\n",
       "      <th>98</th>\n",
       "      <td>0.98</td>\n",
       "      <td>203</td>\n",
       "      <td>0</td>\n",
       "      <td>8</td>\n",
       "      <td>53</td>\n",
       "      <td>1.000000</td>\n",
       "      <td>0.962085</td>\n",
       "    </tr>\n",
       "    <tr>\n",
       "      <th>99</th>\n",
       "      <td>0.99</td>\n",
       "      <td>202</td>\n",
       "      <td>0</td>\n",
       "      <td>9</td>\n",
       "      <td>53</td>\n",
       "      <td>1.000000</td>\n",
       "      <td>0.957346</td>\n",
       "    </tr>\n",
       "    <tr>\n",
       "      <th>100</th>\n",
       "      <td>1.00</td>\n",
       "      <td>179</td>\n",
       "      <td>0</td>\n",
       "      <td>32</td>\n",
       "      <td>53</td>\n",
       "      <td>1.000000</td>\n",
       "      <td>0.848341</td>\n",
       "    </tr>\n",
       "  </tbody>\n",
       "</table>\n",
       "<p>101 rows × 7 columns</p>\n",
       "</div>"
      ],
      "text/plain": [
       "     threshold   TP  FP  FN  TN  Precision    Recall\n",
       "0         0.00  211  53   0   0   0.799242  1.000000\n",
       "1         0.01  211  34   0  19   0.861224  1.000000\n",
       "2         0.02  211  31   0  22   0.871901  1.000000\n",
       "3         0.03  211  24   0  29   0.897872  1.000000\n",
       "4         0.04  211  22   0  31   0.905579  1.000000\n",
       "..         ...  ...  ..  ..  ..        ...       ...\n",
       "96        0.96  204   0   7  53   1.000000  0.966825\n",
       "97        0.97  203   0   8  53   1.000000  0.962085\n",
       "98        0.98  203   0   8  53   1.000000  0.962085\n",
       "99        0.99  202   0   9  53   1.000000  0.957346\n",
       "100       1.00  179   0  32  53   1.000000  0.848341\n",
       "\n",
       "[101 rows x 7 columns]"
      ]
     },
     "execution_count": 47,
     "metadata": {},
     "output_type": "execute_result"
    }
   ],
   "source": [
    "# Precision and REcall \n",
    "df_scores['Precision'] = df_scores.TP / (df_scores.FP + df_scores.TP)\n",
    "df_scores['Recall'] = df_scores.TP / (df_scores.FN + df_scores.TP)\n",
    "df_scores"
   ]
  },
  {
   "cell_type": "code",
   "execution_count": 51,
   "id": "0f4df653-a8ad-4752-a6d7-da3b3fb649fb",
   "metadata": {},
   "outputs": [
    {
     "data": {
      "text/plain": [
       "<matplotlib.legend.Legend at 0x7fadb2cfb700>"
      ]
     },
     "execution_count": 51,
     "metadata": {},
     "output_type": "execute_result"
    },
    {
     "data": {
      "image/png": "[encoded data removed]",
      "text/plain": [
       "<Figure size 640x480 with 1 Axes>"
      ]
     },
     "metadata": {},
     "output_type": "display_data"
    }
   ],
   "source": [
    "plt.plot(df_scores.threshold, df_scores['Precision'], label='Precision')\n",
    "plt.plot(df_scores.threshold, df_scores['Recall'], label='Recall')\n",
    "\n",
    "plt.vlines(0.3, 0.7, 1, color='grey', linestyle='--', alpha=0.5)\n",
    "\n",
    "plt.legend()"
   ]
  },
  {
   "cell_type": "markdown",
   "id": "a36ae8f0-c10a-4fa9-8c53-61484e3fad83",
   "metadata": {},
   "source": [
    "***"
   ]
  },
  {
   "cell_type": "markdown",
   "id": "9c221790-82dc-4ba3-bf63-dbfcb062fae7",
   "metadata": {},
   "source": [
    "# Question 4\n",
    "- F1 score"
   ]
  },
  {
   "cell_type": "code",
   "execution_count": 53,
   "id": "1a0196bc-9cbe-47a8-b8b1-b9a79a6ea529",
   "metadata": {},
   "outputs": [
    {
     "data": {
      "text/html": [
       "<div>\n",
       "<style scoped>\n",
       "    .dataframe tbody tr th:only-of-type {\n",
       "        vertical-align: middle;\n",
       "    }\n",
       "\n",
       "    .dataframe tbody tr th {\n",
       "        vertical-align: top;\n",
       "    }\n",
       "\n",
       "    .dataframe thead th {\n",
       "        text-align: right;\n",
       "    }\n",
       "</style>\n",
       "<table border=\"1\" class=\"dataframe\">\n",
       "  <thead>\n",
       "    <tr style=\"text-align: right;\">\n",
       "      <th></th>\n",
       "      <th>threshold</th>\n",
       "      <th>TP</th>\n",
       "      <th>FP</th>\n",
       "      <th>FN</th>\n",
       "      <th>TN</th>\n",
       "      <th>Precision</th>\n",
       "      <th>Recall</th>\n",
       "      <th>F1_score</th>\n",
       "    </tr>\n",
       "  </thead>\n",
       "  <tbody>\n",
       "    <tr>\n",
       "      <th>0</th>\n",
       "      <td>0.00</td>\n",
       "      <td>211</td>\n",
       "      <td>53</td>\n",
       "      <td>0</td>\n",
       "      <td>0</td>\n",
       "      <td>0.799242</td>\n",
       "      <td>1.000000</td>\n",
       "      <td>0.888421</td>\n",
       "    </tr>\n",
       "    <tr>\n",
       "      <th>1</th>\n",
       "      <td>0.01</td>\n",
       "      <td>211</td>\n",
       "      <td>34</td>\n",
       "      <td>0</td>\n",
       "      <td>19</td>\n",
       "      <td>0.861224</td>\n",
       "      <td>1.000000</td>\n",
       "      <td>0.925439</td>\n",
       "    </tr>\n",
       "    <tr>\n",
       "      <th>2</th>\n",
       "      <td>0.02</td>\n",
       "      <td>211</td>\n",
       "      <td>31</td>\n",
       "      <td>0</td>\n",
       "      <td>22</td>\n",
       "      <td>0.871901</td>\n",
       "      <td>1.000000</td>\n",
       "      <td>0.931567</td>\n",
       "    </tr>\n",
       "    <tr>\n",
       "      <th>3</th>\n",
       "      <td>0.03</td>\n",
       "      <td>211</td>\n",
       "      <td>24</td>\n",
       "      <td>0</td>\n",
       "      <td>29</td>\n",
       "      <td>0.897872</td>\n",
       "      <td>1.000000</td>\n",
       "      <td>0.946188</td>\n",
       "    </tr>\n",
       "    <tr>\n",
       "      <th>4</th>\n",
       "      <td>0.04</td>\n",
       "      <td>211</td>\n",
       "      <td>22</td>\n",
       "      <td>0</td>\n",
       "      <td>31</td>\n",
       "      <td>0.905579</td>\n",
       "      <td>1.000000</td>\n",
       "      <td>0.950450</td>\n",
       "    </tr>\n",
       "    <tr>\n",
       "      <th>...</th>\n",
       "      <td>...</td>\n",
       "      <td>...</td>\n",
       "      <td>...</td>\n",
       "      <td>...</td>\n",
       "      <td>...</td>\n",
       "      <td>...</td>\n",
       "      <td>...</td>\n",
       "      <td>...</td>\n",
       "    </tr>\n",
       "    <tr>\n",
       "      <th>96</th>\n",
       "      <td>0.96</td>\n",
       "      <td>204</td>\n",
       "      <td>0</td>\n",
       "      <td>7</td>\n",
       "      <td>53</td>\n",
       "      <td>1.000000</td>\n",
       "      <td>0.966825</td>\n",
       "      <td>0.983133</td>\n",
       "    </tr>\n",
       "    <tr>\n",
       "      <th>97</th>\n",
       "      <td>0.97</td>\n",
       "      <td>203</td>\n",
       "      <td>0</td>\n",
       "      <td>8</td>\n",
       "      <td>53</td>\n",
       "      <td>1.000000</td>\n",
       "      <td>0.962085</td>\n",
       "      <td>0.980676</td>\n",
       "    </tr>\n",
       "    <tr>\n",
       "      <th>98</th>\n",
       "      <td>0.98</td>\n",
       "      <td>203</td>\n",
       "      <td>0</td>\n",
       "      <td>8</td>\n",
       "      <td>53</td>\n",
       "      <td>1.000000</td>\n",
       "      <td>0.962085</td>\n",
       "      <td>0.980676</td>\n",
       "    </tr>\n",
       "    <tr>\n",
       "      <th>99</th>\n",
       "      <td>0.99</td>\n",
       "      <td>202</td>\n",
       "      <td>0</td>\n",
       "      <td>9</td>\n",
       "      <td>53</td>\n",
       "      <td>1.000000</td>\n",
       "      <td>0.957346</td>\n",
       "      <td>0.978208</td>\n",
       "    </tr>\n",
       "    <tr>\n",
       "      <th>100</th>\n",
       "      <td>1.00</td>\n",
       "      <td>179</td>\n",
       "      <td>0</td>\n",
       "      <td>32</td>\n",
       "      <td>53</td>\n",
       "      <td>1.000000</td>\n",
       "      <td>0.848341</td>\n",
       "      <td>0.917949</td>\n",
       "    </tr>\n",
       "  </tbody>\n",
       "</table>\n",
       "<p>101 rows × 8 columns</p>\n",
       "</div>"
      ],
      "text/plain": [
       "     threshold   TP  FP  FN  TN  Precision    Recall  F1_score\n",
       "0         0.00  211  53   0   0   0.799242  1.000000  0.888421\n",
       "1         0.01  211  34   0  19   0.861224  1.000000  0.925439\n",
       "2         0.02  211  31   0  22   0.871901  1.000000  0.931567\n",
       "3         0.03  211  24   0  29   0.897872  1.000000  0.946188\n",
       "4         0.04  211  22   0  31   0.905579  1.000000  0.950450\n",
       "..         ...  ...  ..  ..  ..        ...       ...       ...\n",
       "96        0.96  204   0   7  53   1.000000  0.966825  0.983133\n",
       "97        0.97  203   0   8  53   1.000000  0.962085  0.980676\n",
       "98        0.98  203   0   8  53   1.000000  0.962085  0.980676\n",
       "99        0.99  202   0   9  53   1.000000  0.957346  0.978208\n",
       "100       1.00  179   0  32  53   1.000000  0.848341  0.917949\n",
       "\n",
       "[101 rows x 8 columns]"
      ]
     },
     "execution_count": 53,
     "metadata": {},
     "output_type": "execute_result"
    }
   ],
   "source": [
    "# F1 score\n",
    "df_scores['F1_score'] = 2. * (df_scores.Precision * df_scores.Recall / (df_scores.Precision + df_scores.Recall))\n",
    "df_scores"
   ]
  },
  {
   "cell_type": "code",
   "execution_count": 58,
   "id": "63887e23-c40e-4087-87f8-8b91d8e64d88",
   "metadata": {},
   "outputs": [
    {
     "data": {
      "text/plain": [
       "array([0.35, 0.36, 0.37, 0.38, 0.39, 0.4 , 0.41])"
      ]
     },
     "execution_count": 58,
     "metadata": {},
     "output_type": "execute_result"
    }
   ],
   "source": [
    "# Max F1 scores for thresholds\n",
    "df_scores[df_scores['F1_score'] == df_scores['F1_score'].max()].threshold.values"
   ]
  },
  {
   "cell_type": "markdown",
   "id": "aa96a911-d6ca-45d2-85a3-9602666b318c",
   "metadata": {},
   "source": [
    "***"
   ]
  },
  {
   "cell_type": "markdown",
   "id": "9d60a48e-0bcc-4728-ac9c-53b6a0f8f96a",
   "metadata": {},
   "source": [
    "# Question 5\n",
    "- Kfold CV "
   ]
  },
  {
   "cell_type": "code",
   "execution_count": 65,
   "id": "5b028c22-ae79-475f-a26b-49b6f3324c60",
   "metadata": {},
   "outputs": [],
   "source": [
    "df_train_full, df_test = train_test_split(df, test_size=0.2, random_state=1)"
   ]
  },
  {
   "cell_type": "code",
   "execution_count": 62,
   "id": "b11f8a0f-7f6d-4159-9cbc-d7eccbf84c7c",
   "metadata": {},
   "outputs": [],
   "source": [
    "from tqdm.auto import tqdm"
   ]
  },
  {
   "cell_type": "code",
   "execution_count": 71,
   "id": "0e2f2e86-2f85-45a3-bc6a-0ad8a341fa61",
   "metadata": {},
   "outputs": [
    {
     "data": {
      "application/vnd.jupyter.widget-view+json": {
       "model_id": "c0be2a946c9f44ffaf4e7a20f4fc0c2d",
       "version_major": 2,
       "version_minor": 0
      },
      "text/plain": [
       "  0%|          | 0/1 [00:00<?, ?it/s]"
      ]
     },
     "metadata": {},
     "output_type": "display_data"
    },
    {
     "name": "stdout",
     "output_type": "stream",
     "text": [
      "C =1.0 score_mean=99.645, score_std=0.003\n"
     ]
    }
   ],
   "source": [
    "nsplits = 5\n",
    "target = 'card'\n",
    "kfold = KFold(n_splits=nsplits, random_state=1, shuffle=True)\n",
    "\n",
    "#for C in tqdm([0.001, 0.01, 0.1, 1.0, 10.], total=nsplits):\n",
    "for C in tqdm([1.0], total=1):\n",
    "\n",
    "    scores = [] \n",
    "\n",
    "    for train_idx, val_idx in kfold.split(df_train_full):\n",
    "\n",
    "        df_train = df_train_full.iloc[train_idx]\n",
    "        df_val = df_train_full.iloc[val_idx]\n",
    "\n",
    "        y_train = df_train[target].values\n",
    "        y_val = df_val[target].values\n",
    "\n",
    "        dv, model = train(df_train, y_train, C=C)\n",
    "        y_pred = predict(df_val, dv, model)\n",
    "\n",
    "        auc = roc_auc_score(y_val, y_pred)\n",
    "        scores.append(auc)\n",
    "    \n",
    "    print(f'C ={C} score_mean={np.mean(scores)*100:.3f}, score_std={np.std(scores):.3f}')\n"
   ]
  },
  {
   "cell_type": "markdown",
   "id": "3c096e6f-bba2-4e3b-b8cc-876ad99f9579",
   "metadata": {},
   "source": [
    "***"
   ]
  },
  {
   "cell_type": "markdown",
   "id": "bb29c4b1-ae81-4a27-9da5-d3c3f1480a32",
   "metadata": {},
   "source": [
    "# Question 6\n",
    "- Iterate over C values"
   ]
  },
  {
   "cell_type": "code",
   "execution_count": 72,
   "id": "7678deb1-ec31-4ec9-9420-75ad53c3d2d3",
   "metadata": {},
   "outputs": [
    {
     "data": {
      "application/vnd.jupyter.widget-view+json": {
       "model_id": "d039a855e4ef4b41acaa08b285fa8a7c",
       "version_major": 2,
       "version_minor": 0
      },
      "text/plain": [
       "  0%|          | 0/4 [00:00<?, ?it/s]"
      ]
     },
     "metadata": {},
     "output_type": "display_data"
    },
    {
     "name": "stdout",
     "output_type": "stream",
     "text": [
      "C =0.01 score_mean=99.188, score_std=0.006\n",
      "C =0.1 score_mean=99.506, score_std=0.004\n",
      "C =1.0 score_mean=99.645, score_std=0.003\n",
      "C =10.0 score_mean=99.639, score_std=0.003\n"
     ]
    }
   ],
   "source": [
    "nsplits = 5\n",
    "target = 'card'\n",
    "kfold = KFold(n_splits=nsplits, random_state=1, shuffle=True)\n",
    "list_C = [0.01, 0.1, 1.0, 10.]\n",
    "\n",
    "\n",
    "for C in tqdm(list_C, total=len(list_C)):\n",
    "\n",
    "    scores = [] \n",
    "\n",
    "    for train_idx, val_idx in kfold.split(df_train_full):\n",
    "\n",
    "        df_train = df_train_full.iloc[train_idx]\n",
    "        df_val = df_train_full.iloc[val_idx]\n",
    "\n",
    "        y_train = df_train[target].values\n",
    "        y_val = df_val[target].values\n",
    "\n",
    "        dv, model = train(df_train, y_train, C=C)\n",
    "        y_pred = predict(df_val, dv, model)\n",
    "\n",
    "        auc = roc_auc_score(y_val, y_pred)\n",
    "        scores.append(auc)\n",
    "    \n",
    "    print(f'C ={C} score_mean={np.mean(scores)*100:.3f}, score_std={np.std(scores):.3f}')\n"
   ]
  },
  {
   "cell_type": "code",
   "execution_count": null,
   "id": "f775ffaf-3fe6-48e5-94e2-f4bc42e5dac9",
   "metadata": {},
   "outputs": [],
   "source": []
  },
  {
   "cell_type": "code",
   "execution_count": null,
   "id": "0a8585a0-8e39-495b-be76-57c18be14dec",
   "metadata": {},
   "outputs": [],
   "source": []
  },
  {
   "cell_type": "code",
   "execution_count": null,
   "id": "d8d9c4a2-b577-4b47-8e37-33653c1b55ce",
   "metadata": {},
   "outputs": [],
   "source": []
  },
  {
   "cell_type": "code",
   "execution_count": null,
   "id": "1bf78ce2-dcb4-4a7d-a935-fb0b12d9fd95",
   "metadata": {},
   "outputs": [],
   "source": []
  }
 ],
 "metadata": {
  "kernelspec": {
   "display_name": "Python 3 (ipykernel)",
   "language": "python",
   "name": "python3"
  },
  "language_info": {
   "codemirror_mode": {
    "name": "ipython",
    "version": 3
   },
   "file_extension": ".py",
   "mimetype": "text/x-python",
   "name": "python",
   "nbconvert_exporter": "python",
   "pygments_lexer": "ipython3",
   "version": "3.10.6"
  }
 },
 "nbformat": 4,
 "nbformat_minor": 5
}
