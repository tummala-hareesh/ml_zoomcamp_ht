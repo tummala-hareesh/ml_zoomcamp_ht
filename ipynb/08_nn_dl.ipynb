{
 "cells": [
  {
   "cell_type": "markdown",
   "id": "10efa685-97cc-4bad-b396-ec50211e7a06",
   "metadata": {},
   "source": [
    "# Week-8 \n",
    "This notebook is created during week-8 of ML zoomcamp."
   ]
  },
  {
   "cell_type": "markdown",
   "id": "75e27f1c-9bbd-4892-9b31-84d7726a673d",
   "metadata": {},
   "source": [
    "***"
   ]
  },
  {
   "cell_type": "markdown",
   "id": "49db48e6-6d67-4fac-bc10-823fac6d34a3",
   "metadata": {},
   "source": [
    "# Clone dataset"
   ]
  },
  {
   "cell_type": "code",
   "execution_count": 1,
   "id": "bfc76a12-5a88-433e-b6e3-29e973ed6cc1",
   "metadata": {},
   "outputs": [
    {
     "name": "stdout",
     "output_type": "stream",
     "text": [
      "Cloning into 'clothing-dataset-small'...\n",
      "remote: Enumerating objects: 3839, done.\u001b[K\n",
      "remote: Counting objects: 100% (400/400), done.\u001b[K\n",
      "remote: Compressing objects: 100% (400/400), done.\u001b[K\n",
      "remote: Total 3839 (delta 9), reused 385 (delta 0), pack-reused 3439\u001b[K\n",
      "Receiving objects: 100% (3839/3839), 100.58 MiB | 37.75 MiB/s, done.\n",
      "Resolving deltas: 100% (10/10), done.\n"
     ]
    }
   ],
   "source": [
    "!git clone https://github.com/alexeygrigorev/clothing-dataset-small.git"
   ]
  },
  {
   "cell_type": "markdown",
   "id": "a3d62fd5-3db4-4201-985b-2c25c29ce5f2",
   "metadata": {},
   "source": [
    "## Move to data folder"
   ]
  },
  {
   "cell_type": "code",
   "execution_count": 2,
   "id": "75e4d296-104b-4bb6-a03c-c6decf45329e",
   "metadata": {},
   "outputs": [],
   "source": [
    "!mv clothing-dataset-small/ ../data/"
   ]
  },
  {
   "cell_type": "markdown",
   "id": "fe8de9e6-7644-41b2-88d2-e84f6ad41ae2",
   "metadata": {},
   "source": [
    "***"
   ]
  },
  {
   "cell_type": "code",
   "execution_count": null,
   "id": "2ac1e7a8-5b6b-42e3-a392-1590c5515aa0",
   "metadata": {},
   "outputs": [],
   "source": [
    "# "
   ]
  },
  {
   "cell_type": "code",
   "execution_count": null,
   "id": "988175d6-487f-4d1e-b0ba-3eea9f006e11",
   "metadata": {},
   "outputs": [],
   "source": []
  },
  {
   "cell_type": "code",
   "execution_count": null,
   "id": "5dbf5c35-9f18-4dcf-8962-b12052a3bc20",
   "metadata": {},
   "outputs": [],
   "source": []
  },
  {
   "cell_type": "code",
   "execution_count": null,
   "id": "a575b51d-07e7-4ec2-968c-361cdb73a3b7",
   "metadata": {},
   "outputs": [],
   "source": []
  },
  {
   "cell_type": "code",
   "execution_count": null,
   "id": "a4247dff-043a-410c-8297-39d5cfd73882",
   "metadata": {},
   "outputs": [],
   "source": []
  },
  {
   "cell_type": "code",
   "execution_count": null,
   "id": "67bc4534-00e4-4e2f-84fa-bedcd0853c2f",
   "metadata": {},
   "outputs": [],
   "source": []
  },
  {
   "cell_type": "code",
   "execution_count": null,
   "id": "c87ca051-252b-4870-87f8-813f791bb3ef",
   "metadata": {},
   "outputs": [],
   "source": []
  },
  {
   "cell_type": "code",
   "execution_count": null,
   "id": "90294bd2-b015-4814-a63a-58ef36a83859",
   "metadata": {},
   "outputs": [],
   "source": []
  },
  {
   "cell_type": "code",
   "execution_count": null,
   "id": "8cd192de-05f2-4d21-9fe9-0aff7f1bfebe",
   "metadata": {},
   "outputs": [],
   "source": []
  },
  {
   "cell_type": "code",
   "execution_count": null,
   "id": "070e4dbb-3b16-45b5-9edc-debabac719f2",
   "metadata": {},
   "outputs": [],
   "source": []
  },
  {
   "cell_type": "code",
   "execution_count": null,
   "id": "b24dc216-c46e-4a75-a5d4-5dfaa48031c0",
   "metadata": {},
   "outputs": [],
   "source": []
  },
  {
   "cell_type": "code",
   "execution_count": null,
   "id": "f0ce0507-ad7d-43c7-857a-e32359c3a666",
   "metadata": {},
   "outputs": [],
   "source": []
  }
 ],
 "metadata": {
  "kernelspec": {
   "display_name": "Python 3 (ipykernel)",
   "language": "python",
   "name": "python3"
  },
  "language_info": {
   "codemirror_mode": {
    "name": "ipython",
    "version": 3
   },
   "file_extension": ".py",
   "mimetype": "text/x-python",
   "name": "python",
   "nbconvert_exporter": "python",
   "pygments_lexer": "ipython3",
   "version": "3.10.6"
  }
 },
 "nbformat": 4,
 "nbformat_minor": 5
}
