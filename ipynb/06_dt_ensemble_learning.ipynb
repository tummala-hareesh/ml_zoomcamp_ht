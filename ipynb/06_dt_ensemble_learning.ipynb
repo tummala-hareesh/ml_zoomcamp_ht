{
 "cells": [
  {
   "cell_type": "markdown",
   "id": "df03a6ee-5efe-45c1-be6c-7f3110f7efa4",
   "metadata": {},
   "source": [
    "# Week 6 \n",
    "This is a practise notebook created during Week-6 of ML Zoomcamp."
   ]
  },
  {
   "cell_type": "markdown",
   "id": "9e388e7d-144f-4f61-8d33-e4d5efdda5f1",
   "metadata": {},
   "source": [
    "***"
   ]
  },
  {
   "cell_type": "code",
   "execution_count": null,
   "id": "5fae2199-8a17-484b-bc2f-802d295c1048",
   "metadata": {},
   "outputs": [],
   "source": []
  },
  {
   "cell_type": "code",
   "execution_count": null,
   "id": "02c19672-3161-4a4b-9882-8d64cbaf676a",
   "metadata": {},
   "outputs": [],
   "source": []
  },
  {
   "cell_type": "code",
   "execution_count": null,
   "id": "9e54f77a-8e5a-44b2-bee5-becc184c0c2e",
   "metadata": {},
   "outputs": [],
   "source": []
  },
  {
   "cell_type": "code",
   "execution_count": null,
   "id": "67dc24c7-b1ce-4067-9979-1bd42759fb23",
   "metadata": {},
   "outputs": [],
   "source": []
  },
  {
   "cell_type": "code",
   "execution_count": null,
   "id": "95d568b7-6c6c-404b-98f0-9ab59de06498",
   "metadata": {},
   "outputs": [],
   "source": []
  },
  {
   "cell_type": "code",
   "execution_count": null,
   "id": "6bd52f01-5f97-4927-a453-11f7f49569af",
   "metadata": {},
   "outputs": [],
   "source": []
  },
  {
   "cell_type": "code",
   "execution_count": null,
   "id": "9340a438-fed4-4977-9a1e-5e54d1680fac",
   "metadata": {},
   "outputs": [],
   "source": []
  },
  {
   "cell_type": "code",
   "execution_count": null,
   "id": "8b79136c-db3c-44c2-b84c-38a8a5987966",
   "metadata": {},
   "outputs": [],
   "source": []
  },
  {
   "cell_type": "code",
   "execution_count": null,
   "id": "9e9a12b8-2b7a-4e9a-9a55-2893f742443e",
   "metadata": {},
   "outputs": [],
   "source": []
  },
  {
   "cell_type": "code",
   "execution_count": null,
   "id": "fb6dbe62-49ba-474d-a0a2-9b250fb8c12a",
   "metadata": {},
   "outputs": [],
   "source": []
  },
  {
   "cell_type": "code",
   "execution_count": null,
   "id": "4ba5ec57-6e2f-4a48-accc-2f124434aaf2",
   "metadata": {},
   "outputs": [],
   "source": []
  },
  {
   "cell_type": "code",
   "execution_count": null,
   "id": "882519e1-c985-43cc-be52-29f02c1ede60",
   "metadata": {},
   "outputs": [],
   "source": []
  },
  {
   "cell_type": "code",
   "execution_count": null,
   "id": "657212af-64e4-451f-b0e1-276671bb546a",
   "metadata": {},
   "outputs": [],
   "source": []
  },
  {
   "cell_type": "code",
   "execution_count": null,
   "id": "42dddddc-cd31-4bb1-a550-5dfa972e3119",
   "metadata": {},
   "outputs": [],
   "source": []
  },
  {
   "cell_type": "code",
   "execution_count": null,
   "id": "2bb022a6-0c34-4711-bc8e-67fd2be9eaac",
   "metadata": {},
   "outputs": [],
   "source": []
  },
  {
   "cell_type": "code",
   "execution_count": null,
   "id": "7c4682af-abe4-4a5f-b401-fe1aed020015",
   "metadata": {},
   "outputs": [],
   "source": []
  },
  {
   "cell_type": "code",
   "execution_count": null,
   "id": "a3814166-be48-4ad9-bd85-9daea061498b",
   "metadata": {},
   "outputs": [],
   "source": []
  },
  {
   "cell_type": "code",
   "execution_count": null,
   "id": "5e8ff225-10ca-48da-8b35-74e79495138c",
   "metadata": {},
   "outputs": [],
   "source": []
  }
 ],
 "metadata": {
  "kernelspec": {
   "display_name": "Python 3 (ipykernel)",
   "language": "python",
   "name": "python3"
  },
  "language_info": {
   "codemirror_mode": {
    "name": "ipython",
    "version": 3
   },
   "file_extension": ".py",
   "mimetype": "text/x-python",
   "name": "python",
   "nbconvert_exporter": "python",
   "pygments_lexer": "ipython3",
   "version": "3.10.6"
  }
 },
 "nbformat": 4,
 "nbformat_minor": 5
}
