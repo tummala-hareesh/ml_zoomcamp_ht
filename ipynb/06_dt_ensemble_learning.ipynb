{
 "cells": [
  {
   "cell_type": "markdown",
   "id": "df03a6ee-5efe-45c1-be6c-7f3110f7efa4",
   "metadata": {},
   "source": [
    "# Week 6 \n",
    "This is a practise notebook created during Week-6 of ML Zoomcamp."
   ]
  },
  {
   "cell_type": "markdown",
   "id": "9e388e7d-144f-4f61-8d33-e4d5efdda5f1",
   "metadata": {},
   "source": [
    "***"
   ]
  },
  {
   "cell_type": "markdown",
   "id": "42ac833d-f0cb-4c4a-a267-58e12ec921dd",
   "metadata": {},
   "source": [
    "# Download dataset"
   ]
  },
  {
   "cell_type": "code",
   "execution_count": 1,
   "id": "5fae2199-8a17-484b-bc2f-802d295c1048",
   "metadata": {},
   "outputs": [],
   "source": [
    "PATH_DATASET=\"https://github.com/gastonstat/CreditScoring/raw/master/CreditScoring.csv\""
   ]
  },
  {
   "cell_type": "code",
   "execution_count": 2,
   "id": "02c19672-3161-4a4b-9882-8d64cbaf676a",
   "metadata": {},
   "outputs": [
    {
     "name": "stdout",
     "output_type": "stream",
     "text": [
      "--2022-10-24 14:57:34--  https://github.com/gastonstat/CreditScoring/raw/master/CreditScoring.csv\n",
      "Resolving github.com (github.com)... 140.82.114.4\n",
      "Connecting to github.com (github.com)|140.82.114.4|:443... connected.\n",
      "HTTP request sent, awaiting response... 302 Found\n",
      "Location: https://raw.githubusercontent.com/gastonstat/CreditScoring/master/CreditScoring.csv [following]\n",
      "--2022-10-24 14:57:34--  https://raw.githubusercontent.com/gastonstat/CreditScoring/master/CreditScoring.csv\n",
      "Resolving raw.githubusercontent.com (raw.githubusercontent.com)... 185.199.111.133, 185.199.110.133, 185.199.108.133, ...\n",
      "Connecting to raw.githubusercontent.com (raw.githubusercontent.com)|185.199.111.133|:443... connected.\n",
      "HTTP request sent, awaiting response... 200 OK\n",
      "Length: 182489 (178K) [text/plain]\n",
      "Saving to: ‘../data/06_data_creditscoring.csv’\n",
      "\n",
      "../data/06_data_cre 100%[===================>] 178.21K  --.-KB/s    in 0.03s   \n",
      "\n",
      "2022-10-24 14:57:35 (5.78 MB/s) - ‘../data/06_data_creditscoring.csv’ saved [182489/182489]\n",
      "\n"
     ]
    }
   ],
   "source": [
    "!wget $PATH_DATASET -O ../data/06_data_creditscoring.csv"
   ]
  },
  {
   "cell_type": "code",
   "execution_count": 3,
   "id": "4abecae9-3881-4213-8b3f-70d8124e9634",
   "metadata": {},
   "outputs": [
    {
     "name": "stdout",
     "output_type": "stream",
     "text": [
      "\"Status\",\"Seniority\",\"Home\",\"Time\",\"Age\",\"Marital\",\"Records\",\"Job\",\"Expenses\",\"Income\",\"Assets\",\"Debt\",\"Amount\",\"Price\"\n",
      "1,9,1,60,30,2,1,3,73,129,0,0,800,846\n",
      "1,17,1,60,58,3,1,1,48,131,0,0,1000,1658\n",
      "2,10,2,36,46,2,2,3,90,200,3000,0,2000,2985\n",
      "1,0,1,60,24,1,1,1,63,182,2500,0,900,1325\n",
      "1,0,1,36,26,1,1,1,46,107,0,0,310,910\n",
      "1,1,2,60,36,2,1,1,75,214,3500,0,650,1645\n",
      "1,29,2,60,44,2,1,1,75,125,10000,0,1600,1800\n",
      "1,9,5,12,27,1,1,1,35,80,0,0,200,1093\n",
      "1,0,2,60,32,2,1,3,90,107,15000,0,1200,1957\n"
     ]
    }
   ],
   "source": [
    "!head ../data/06_data_creditscoring.csv"
   ]
  },
  {
   "cell_type": "markdown",
   "id": "b8587c03-1bf1-431f-b7d5-03613be33222",
   "metadata": {},
   "source": [
    "***"
   ]
  },
  {
   "cell_type": "markdown",
   "id": "f2dfc394-ba47-4058-9264-a34dae98c3c3",
   "metadata": {},
   "source": [
    "# Import modules"
   ]
  },
  {
   "cell_type": "code",
   "execution_count": 4,
   "id": "95d568b7-6c6c-404b-98f0-9ab59de06498",
   "metadata": {},
   "outputs": [],
   "source": [
    "import pandas as pd\n",
    "import numpy as np \n",
    "\n",
    "import matplotlib.pyplot as plt\n",
    "import seaborn as sns\n",
    "\n",
    "%matplotlib inline"
   ]
  },
  {
   "cell_type": "code",
   "execution_count": 17,
   "id": "6bd52f01-5f97-4927-a453-11f7f49569af",
   "metadata": {},
   "outputs": [],
   "source": [
    "import sys \n",
    "sys.path.append('../src/')\n",
    "\n",
    "import utilities as utils"
   ]
  },
  {
   "cell_type": "code",
   "execution_count": 6,
   "id": "e14611cc-f53c-43e2-8515-9fc0218961b1",
   "metadata": {},
   "outputs": [],
   "source": [
    "from sklearn.tree import DecisionTreeClassifier\n",
    "from sklearn.feature_extraction import DictVectorizer\n",
    "from sklearn.metrics import roc_auc_score\n",
    "from sklearn.tree import export_text, export_graphviz\n",
    "from sklearn.ensemble import RandomForestClassifier\n",
    "\n",
    "\n",
    "from IPython.display import display, Image\n",
    "import graphviz"
   ]
  },
  {
   "cell_type": "markdown",
   "id": "337148e5-83a3-46f7-a486-651f850ce9f9",
   "metadata": {},
   "source": [
    "***"
   ]
  },
  {
   "cell_type": "markdown",
   "id": "9ea3a42a-e27e-4af1-83e5-a87651e2b031",
   "metadata": {},
   "source": [
    "# Read using Pandas"
   ]
  },
  {
   "cell_type": "code",
   "execution_count": 7,
   "id": "9e9a12b8-2b7a-4e9a-9a55-2893f742443e",
   "metadata": {},
   "outputs": [
    {
     "data": {
      "text/html": [
       "<div>\n",
       "<style scoped>\n",
       "    .dataframe tbody tr th:only-of-type {\n",
       "        vertical-align: middle;\n",
       "    }\n",
       "\n",
       "    .dataframe tbody tr th {\n",
       "        vertical-align: top;\n",
       "    }\n",
       "\n",
       "    .dataframe thead th {\n",
       "        text-align: right;\n",
       "    }\n",
       "</style>\n",
       "<table border=\"1\" class=\"dataframe\">\n",
       "  <thead>\n",
       "    <tr style=\"text-align: right;\">\n",
       "      <th></th>\n",
       "      <th>Status</th>\n",
       "      <th>Seniority</th>\n",
       "      <th>Home</th>\n",
       "      <th>Time</th>\n",
       "      <th>Age</th>\n",
       "      <th>Marital</th>\n",
       "      <th>Records</th>\n",
       "      <th>Job</th>\n",
       "      <th>Expenses</th>\n",
       "      <th>Income</th>\n",
       "      <th>Assets</th>\n",
       "      <th>Debt</th>\n",
       "      <th>Amount</th>\n",
       "      <th>Price</th>\n",
       "    </tr>\n",
       "  </thead>\n",
       "  <tbody>\n",
       "    <tr>\n",
       "      <th>0</th>\n",
       "      <td>1</td>\n",
       "      <td>9</td>\n",
       "      <td>1</td>\n",
       "      <td>60</td>\n",
       "      <td>30</td>\n",
       "      <td>2</td>\n",
       "      <td>1</td>\n",
       "      <td>3</td>\n",
       "      <td>73</td>\n",
       "      <td>129</td>\n",
       "      <td>0</td>\n",
       "      <td>0</td>\n",
       "      <td>800</td>\n",
       "      <td>846</td>\n",
       "    </tr>\n",
       "    <tr>\n",
       "      <th>1</th>\n",
       "      <td>1</td>\n",
       "      <td>17</td>\n",
       "      <td>1</td>\n",
       "      <td>60</td>\n",
       "      <td>58</td>\n",
       "      <td>3</td>\n",
       "      <td>1</td>\n",
       "      <td>1</td>\n",
       "      <td>48</td>\n",
       "      <td>131</td>\n",
       "      <td>0</td>\n",
       "      <td>0</td>\n",
       "      <td>1000</td>\n",
       "      <td>1658</td>\n",
       "    </tr>\n",
       "    <tr>\n",
       "      <th>2</th>\n",
       "      <td>2</td>\n",
       "      <td>10</td>\n",
       "      <td>2</td>\n",
       "      <td>36</td>\n",
       "      <td>46</td>\n",
       "      <td>2</td>\n",
       "      <td>2</td>\n",
       "      <td>3</td>\n",
       "      <td>90</td>\n",
       "      <td>200</td>\n",
       "      <td>3000</td>\n",
       "      <td>0</td>\n",
       "      <td>2000</td>\n",
       "      <td>2985</td>\n",
       "    </tr>\n",
       "    <tr>\n",
       "      <th>3</th>\n",
       "      <td>1</td>\n",
       "      <td>0</td>\n",
       "      <td>1</td>\n",
       "      <td>60</td>\n",
       "      <td>24</td>\n",
       "      <td>1</td>\n",
       "      <td>1</td>\n",
       "      <td>1</td>\n",
       "      <td>63</td>\n",
       "      <td>182</td>\n",
       "      <td>2500</td>\n",
       "      <td>0</td>\n",
       "      <td>900</td>\n",
       "      <td>1325</td>\n",
       "    </tr>\n",
       "    <tr>\n",
       "      <th>4</th>\n",
       "      <td>1</td>\n",
       "      <td>0</td>\n",
       "      <td>1</td>\n",
       "      <td>36</td>\n",
       "      <td>26</td>\n",
       "      <td>1</td>\n",
       "      <td>1</td>\n",
       "      <td>1</td>\n",
       "      <td>46</td>\n",
       "      <td>107</td>\n",
       "      <td>0</td>\n",
       "      <td>0</td>\n",
       "      <td>310</td>\n",
       "      <td>910</td>\n",
       "    </tr>\n",
       "  </tbody>\n",
       "</table>\n",
       "</div>"
      ],
      "text/plain": [
       "   Status  Seniority  Home  Time  Age  Marital  Records  Job  Expenses  \\\n",
       "0       1          9     1    60   30        2        1    3        73   \n",
       "1       1         17     1    60   58        3        1    1        48   \n",
       "2       2         10     2    36   46        2        2    3        90   \n",
       "3       1          0     1    60   24        1        1    1        63   \n",
       "4       1          0     1    36   26        1        1    1        46   \n",
       "\n",
       "   Income  Assets  Debt  Amount  Price  \n",
       "0     129       0     0     800    846  \n",
       "1     131       0     0    1000   1658  \n",
       "2     200    3000     0    2000   2985  \n",
       "3     182    2500     0     900   1325  \n",
       "4     107       0     0     310    910  "
      ]
     },
     "execution_count": 7,
     "metadata": {},
     "output_type": "execute_result"
    }
   ],
   "source": [
    "df = pd.read_csv('../data/06_data_creditscoring.csv')\n",
    "df.head()"
   ]
  },
  {
   "cell_type": "markdown",
   "id": "d156d8fa-5bfa-4bd2-99e7-f1970ffd33f5",
   "metadata": {},
   "source": [
    "***"
   ]
  },
  {
   "cell_type": "markdown",
   "id": "cf044d65-acd1-4f4d-b3e2-3f2cef84e483",
   "metadata": {},
   "source": [
    "# Data Prep and Cleaning"
   ]
  },
  {
   "cell_type": "markdown",
   "id": "2c77488c-ca4c-4c1b-989f-77a357f18b61",
   "metadata": {},
   "source": [
    "## Standardize column names"
   ]
  },
  {
   "cell_type": "code",
   "execution_count": 8,
   "id": "70823196-f3ee-4287-8118-75355d4e6533",
   "metadata": {},
   "outputs": [
    {
     "data": {
      "text/plain": [
       "Index(['status', 'seniority', 'home', 'time', 'age', 'marital', 'records',\n",
       "       'job', 'expenses', 'income', 'assets', 'debt', 'amount', 'price'],\n",
       "      dtype='object')"
      ]
     },
     "execution_count": 8,
     "metadata": {},
     "output_type": "execute_result"
    }
   ],
   "source": [
    "df.columns = df.columns.str.lower()\n",
    "df.columns"
   ]
  },
  {
   "cell_type": "markdown",
   "id": "9b2cb1aa-95f8-455a-a34b-8cbe49fa03e8",
   "metadata": {},
   "source": [
    "## Map column data "
   ]
  },
  {
   "cell_type": "code",
   "execution_count": 9,
   "id": "da6c554f-0b3a-46ab-80e4-e2dabdd191b7",
   "metadata": {},
   "outputs": [],
   "source": [
    "status_values = {\n",
    "    1: 'ok',\n",
    "    2: 'default',\n",
    "    0: 'unk'\n",
    "}\n",
    "\n",
    "df.status = df.status.map(status_values)"
   ]
  },
  {
   "cell_type": "code",
   "execution_count": 10,
   "id": "9a84d916-bb51-4c3f-bc28-cd8fc63609bf",
   "metadata": {},
   "outputs": [],
   "source": [
    "home_values = {\n",
    "    1: 'rent',\n",
    "    2: 'owner',\n",
    "    3: 'private',\n",
    "    4: 'ignore',\n",
    "    5: 'parents',\n",
    "    6: 'other',\n",
    "    0: 'unk'\n",
    "}\n",
    "\n",
    "df.home = df.home.map(home_values)\n",
    "\n",
    "marital_values = {\n",
    "    1: 'single',\n",
    "    2: 'married',\n",
    "    3: 'widow',\n",
    "    4: 'separated',\n",
    "    5: 'divorced',\n",
    "    0: 'unk'\n",
    "}\n",
    "\n",
    "df.marital = df.marital.map(marital_values)\n",
    "\n",
    "records_values = {\n",
    "    1: 'no',\n",
    "    2: 'yes',\n",
    "    0: 'unk'\n",
    "}\n",
    "\n",
    "df.records = df.records.map(records_values)\n",
    "\n",
    "job_values = {\n",
    "    1: 'fixed',\n",
    "    2: 'partime',\n",
    "    3: 'freelance',\n",
    "    4: 'others',\n",
    "    0: 'unk'\n",
    "}\n",
    "\n",
    "df.job = df.job.map(job_values)"
   ]
  },
  {
   "cell_type": "code",
   "execution_count": 11,
   "id": "c484b32a-bc8d-417a-9e04-128f63e454c0",
   "metadata": {},
   "outputs": [
    {
     "data": {
      "text/html": [
       "<div>\n",
       "<style scoped>\n",
       "    .dataframe tbody tr th:only-of-type {\n",
       "        vertical-align: middle;\n",
       "    }\n",
       "\n",
       "    .dataframe tbody tr th {\n",
       "        vertical-align: top;\n",
       "    }\n",
       "\n",
       "    .dataframe thead th {\n",
       "        text-align: right;\n",
       "    }\n",
       "</style>\n",
       "<table border=\"1\" class=\"dataframe\">\n",
       "  <thead>\n",
       "    <tr style=\"text-align: right;\">\n",
       "      <th></th>\n",
       "      <th>status</th>\n",
       "      <th>seniority</th>\n",
       "      <th>home</th>\n",
       "      <th>time</th>\n",
       "      <th>age</th>\n",
       "      <th>marital</th>\n",
       "      <th>records</th>\n",
       "      <th>job</th>\n",
       "      <th>expenses</th>\n",
       "      <th>income</th>\n",
       "      <th>assets</th>\n",
       "      <th>debt</th>\n",
       "      <th>amount</th>\n",
       "      <th>price</th>\n",
       "    </tr>\n",
       "  </thead>\n",
       "  <tbody>\n",
       "    <tr>\n",
       "      <th>0</th>\n",
       "      <td>ok</td>\n",
       "      <td>9</td>\n",
       "      <td>rent</td>\n",
       "      <td>60</td>\n",
       "      <td>30</td>\n",
       "      <td>married</td>\n",
       "      <td>no</td>\n",
       "      <td>freelance</td>\n",
       "      <td>73</td>\n",
       "      <td>129</td>\n",
       "      <td>0</td>\n",
       "      <td>0</td>\n",
       "      <td>800</td>\n",
       "      <td>846</td>\n",
       "    </tr>\n",
       "    <tr>\n",
       "      <th>1</th>\n",
       "      <td>ok</td>\n",
       "      <td>17</td>\n",
       "      <td>rent</td>\n",
       "      <td>60</td>\n",
       "      <td>58</td>\n",
       "      <td>widow</td>\n",
       "      <td>no</td>\n",
       "      <td>fixed</td>\n",
       "      <td>48</td>\n",
       "      <td>131</td>\n",
       "      <td>0</td>\n",
       "      <td>0</td>\n",
       "      <td>1000</td>\n",
       "      <td>1658</td>\n",
       "    </tr>\n",
       "    <tr>\n",
       "      <th>2</th>\n",
       "      <td>default</td>\n",
       "      <td>10</td>\n",
       "      <td>owner</td>\n",
       "      <td>36</td>\n",
       "      <td>46</td>\n",
       "      <td>married</td>\n",
       "      <td>yes</td>\n",
       "      <td>freelance</td>\n",
       "      <td>90</td>\n",
       "      <td>200</td>\n",
       "      <td>3000</td>\n",
       "      <td>0</td>\n",
       "      <td>2000</td>\n",
       "      <td>2985</td>\n",
       "    </tr>\n",
       "    <tr>\n",
       "      <th>3</th>\n",
       "      <td>ok</td>\n",
       "      <td>0</td>\n",
       "      <td>rent</td>\n",
       "      <td>60</td>\n",
       "      <td>24</td>\n",
       "      <td>single</td>\n",
       "      <td>no</td>\n",
       "      <td>fixed</td>\n",
       "      <td>63</td>\n",
       "      <td>182</td>\n",
       "      <td>2500</td>\n",
       "      <td>0</td>\n",
       "      <td>900</td>\n",
       "      <td>1325</td>\n",
       "    </tr>\n",
       "    <tr>\n",
       "      <th>4</th>\n",
       "      <td>ok</td>\n",
       "      <td>0</td>\n",
       "      <td>rent</td>\n",
       "      <td>36</td>\n",
       "      <td>26</td>\n",
       "      <td>single</td>\n",
       "      <td>no</td>\n",
       "      <td>fixed</td>\n",
       "      <td>46</td>\n",
       "      <td>107</td>\n",
       "      <td>0</td>\n",
       "      <td>0</td>\n",
       "      <td>310</td>\n",
       "      <td>910</td>\n",
       "    </tr>\n",
       "  </tbody>\n",
       "</table>\n",
       "</div>"
      ],
      "text/plain": [
       "    status  seniority   home  time  age  marital records        job  expenses  \\\n",
       "0       ok          9   rent    60   30  married      no  freelance        73   \n",
       "1       ok         17   rent    60   58    widow      no      fixed        48   \n",
       "2  default         10  owner    36   46  married     yes  freelance        90   \n",
       "3       ok          0   rent    60   24   single      no      fixed        63   \n",
       "4       ok          0   rent    36   26   single      no      fixed        46   \n",
       "\n",
       "   income  assets  debt  amount  price  \n",
       "0     129       0     0     800    846  \n",
       "1     131       0     0    1000   1658  \n",
       "2     200    3000     0    2000   2985  \n",
       "3     182    2500     0     900   1325  \n",
       "4     107       0     0     310    910  "
      ]
     },
     "execution_count": 11,
     "metadata": {},
     "output_type": "execute_result"
    }
   ],
   "source": [
    "df.head()"
   ]
  },
  {
   "cell_type": "code",
   "execution_count": 12,
   "id": "4ba5ec57-6e2f-4a48-accc-2f124434aaf2",
   "metadata": {},
   "outputs": [
    {
     "data": {
      "text/html": [
       "<div>\n",
       "<style scoped>\n",
       "    .dataframe tbody tr th:only-of-type {\n",
       "        vertical-align: middle;\n",
       "    }\n",
       "\n",
       "    .dataframe tbody tr th {\n",
       "        vertical-align: top;\n",
       "    }\n",
       "\n",
       "    .dataframe thead th {\n",
       "        text-align: right;\n",
       "    }\n",
       "</style>\n",
       "<table border=\"1\" class=\"dataframe\">\n",
       "  <thead>\n",
       "    <tr style=\"text-align: right;\">\n",
       "      <th></th>\n",
       "      <th>seniority</th>\n",
       "      <th>time</th>\n",
       "      <th>age</th>\n",
       "      <th>expenses</th>\n",
       "      <th>income</th>\n",
       "      <th>assets</th>\n",
       "      <th>debt</th>\n",
       "      <th>amount</th>\n",
       "      <th>price</th>\n",
       "    </tr>\n",
       "  </thead>\n",
       "  <tbody>\n",
       "    <tr>\n",
       "      <th>count</th>\n",
       "      <td>4455.0</td>\n",
       "      <td>4455.0</td>\n",
       "      <td>4455.0</td>\n",
       "      <td>4455.0</td>\n",
       "      <td>4455.0</td>\n",
       "      <td>4455.0</td>\n",
       "      <td>4455.0</td>\n",
       "      <td>4455.0</td>\n",
       "      <td>4455.0</td>\n",
       "    </tr>\n",
       "    <tr>\n",
       "      <th>mean</th>\n",
       "      <td>8.0</td>\n",
       "      <td>46.0</td>\n",
       "      <td>37.0</td>\n",
       "      <td>56.0</td>\n",
       "      <td>763317.0</td>\n",
       "      <td>1060341.0</td>\n",
       "      <td>404382.0</td>\n",
       "      <td>1039.0</td>\n",
       "      <td>1463.0</td>\n",
       "    </tr>\n",
       "    <tr>\n",
       "      <th>std</th>\n",
       "      <td>8.0</td>\n",
       "      <td>15.0</td>\n",
       "      <td>11.0</td>\n",
       "      <td>20.0</td>\n",
       "      <td>8703625.0</td>\n",
       "      <td>10217569.0</td>\n",
       "      <td>6344253.0</td>\n",
       "      <td>475.0</td>\n",
       "      <td>628.0</td>\n",
       "    </tr>\n",
       "    <tr>\n",
       "      <th>min</th>\n",
       "      <td>0.0</td>\n",
       "      <td>6.0</td>\n",
       "      <td>18.0</td>\n",
       "      <td>35.0</td>\n",
       "      <td>0.0</td>\n",
       "      <td>0.0</td>\n",
       "      <td>0.0</td>\n",
       "      <td>100.0</td>\n",
       "      <td>105.0</td>\n",
       "    </tr>\n",
       "    <tr>\n",
       "      <th>25%</th>\n",
       "      <td>2.0</td>\n",
       "      <td>36.0</td>\n",
       "      <td>28.0</td>\n",
       "      <td>35.0</td>\n",
       "      <td>80.0</td>\n",
       "      <td>0.0</td>\n",
       "      <td>0.0</td>\n",
       "      <td>700.0</td>\n",
       "      <td>1118.0</td>\n",
       "    </tr>\n",
       "    <tr>\n",
       "      <th>50%</th>\n",
       "      <td>5.0</td>\n",
       "      <td>48.0</td>\n",
       "      <td>36.0</td>\n",
       "      <td>51.0</td>\n",
       "      <td>120.0</td>\n",
       "      <td>3500.0</td>\n",
       "      <td>0.0</td>\n",
       "      <td>1000.0</td>\n",
       "      <td>1400.0</td>\n",
       "    </tr>\n",
       "    <tr>\n",
       "      <th>75%</th>\n",
       "      <td>12.0</td>\n",
       "      <td>60.0</td>\n",
       "      <td>45.0</td>\n",
       "      <td>72.0</td>\n",
       "      <td>166.0</td>\n",
       "      <td>6000.0</td>\n",
       "      <td>0.0</td>\n",
       "      <td>1300.0</td>\n",
       "      <td>1692.0</td>\n",
       "    </tr>\n",
       "    <tr>\n",
       "      <th>max</th>\n",
       "      <td>48.0</td>\n",
       "      <td>72.0</td>\n",
       "      <td>68.0</td>\n",
       "      <td>180.0</td>\n",
       "      <td>99999999.0</td>\n",
       "      <td>99999999.0</td>\n",
       "      <td>99999999.0</td>\n",
       "      <td>5000.0</td>\n",
       "      <td>11140.0</td>\n",
       "    </tr>\n",
       "  </tbody>\n",
       "</table>\n",
       "</div>"
      ],
      "text/plain": [
       "       seniority    time     age  expenses      income      assets  \\\n",
       "count     4455.0  4455.0  4455.0    4455.0      4455.0      4455.0   \n",
       "mean         8.0    46.0    37.0      56.0    763317.0   1060341.0   \n",
       "std          8.0    15.0    11.0      20.0   8703625.0  10217569.0   \n",
       "min          0.0     6.0    18.0      35.0         0.0         0.0   \n",
       "25%          2.0    36.0    28.0      35.0        80.0         0.0   \n",
       "50%          5.0    48.0    36.0      51.0       120.0      3500.0   \n",
       "75%         12.0    60.0    45.0      72.0       166.0      6000.0   \n",
       "max         48.0    72.0    68.0     180.0  99999999.0  99999999.0   \n",
       "\n",
       "             debt  amount    price  \n",
       "count      4455.0  4455.0   4455.0  \n",
       "mean     404382.0  1039.0   1463.0  \n",
       "std     6344253.0   475.0    628.0  \n",
       "min           0.0   100.0    105.0  \n",
       "25%           0.0   700.0   1118.0  \n",
       "50%           0.0  1000.0   1400.0  \n",
       "75%           0.0  1300.0   1692.0  \n",
       "max    99999999.0  5000.0  11140.0  "
      ]
     },
     "execution_count": 12,
     "metadata": {},
     "output_type": "execute_result"
    }
   ],
   "source": [
    "df.describe().round()"
   ]
  },
  {
   "cell_type": "markdown",
   "id": "6987d883-8235-4948-bd77-046e5e00f781",
   "metadata": {},
   "source": [
    "## Replace 99999999 with NaNs"
   ]
  },
  {
   "cell_type": "code",
   "execution_count": 13,
   "id": "882519e1-c985-43cc-be52-29f02c1ede60",
   "metadata": {},
   "outputs": [],
   "source": [
    "# Replace 99999999.0 as NaNs\n",
    "for c in ['income', 'assets', 'debt']:\n",
    "    df[c] = df[c].replace(to_replace=99999999, value=np.nan)"
   ]
  },
  {
   "cell_type": "code",
   "execution_count": 14,
   "id": "657212af-64e4-451f-b0e1-276671bb546a",
   "metadata": {},
   "outputs": [
    {
     "data": {
      "text/html": [
       "<div>\n",
       "<style scoped>\n",
       "    .dataframe tbody tr th:only-of-type {\n",
       "        vertical-align: middle;\n",
       "    }\n",
       "\n",
       "    .dataframe tbody tr th {\n",
       "        vertical-align: top;\n",
       "    }\n",
       "\n",
       "    .dataframe thead th {\n",
       "        text-align: right;\n",
       "    }\n",
       "</style>\n",
       "<table border=\"1\" class=\"dataframe\">\n",
       "  <thead>\n",
       "    <tr style=\"text-align: right;\">\n",
       "      <th></th>\n",
       "      <th>seniority</th>\n",
       "      <th>time</th>\n",
       "      <th>age</th>\n",
       "      <th>expenses</th>\n",
       "      <th>income</th>\n",
       "      <th>assets</th>\n",
       "      <th>debt</th>\n",
       "      <th>amount</th>\n",
       "      <th>price</th>\n",
       "    </tr>\n",
       "  </thead>\n",
       "  <tbody>\n",
       "    <tr>\n",
       "      <th>count</th>\n",
       "      <td>4455.0</td>\n",
       "      <td>4455.0</td>\n",
       "      <td>4455.0</td>\n",
       "      <td>4455.0</td>\n",
       "      <td>4421.0</td>\n",
       "      <td>4408.0</td>\n",
       "      <td>4437.0</td>\n",
       "      <td>4455.0</td>\n",
       "      <td>4455.0</td>\n",
       "    </tr>\n",
       "    <tr>\n",
       "      <th>mean</th>\n",
       "      <td>8.0</td>\n",
       "      <td>46.0</td>\n",
       "      <td>37.0</td>\n",
       "      <td>56.0</td>\n",
       "      <td>131.0</td>\n",
       "      <td>5403.0</td>\n",
       "      <td>343.0</td>\n",
       "      <td>1039.0</td>\n",
       "      <td>1463.0</td>\n",
       "    </tr>\n",
       "    <tr>\n",
       "      <th>std</th>\n",
       "      <td>8.0</td>\n",
       "      <td>15.0</td>\n",
       "      <td>11.0</td>\n",
       "      <td>20.0</td>\n",
       "      <td>86.0</td>\n",
       "      <td>11573.0</td>\n",
       "      <td>1246.0</td>\n",
       "      <td>475.0</td>\n",
       "      <td>628.0</td>\n",
       "    </tr>\n",
       "    <tr>\n",
       "      <th>min</th>\n",
       "      <td>0.0</td>\n",
       "      <td>6.0</td>\n",
       "      <td>18.0</td>\n",
       "      <td>35.0</td>\n",
       "      <td>0.0</td>\n",
       "      <td>0.0</td>\n",
       "      <td>0.0</td>\n",
       "      <td>100.0</td>\n",
       "      <td>105.0</td>\n",
       "    </tr>\n",
       "    <tr>\n",
       "      <th>25%</th>\n",
       "      <td>2.0</td>\n",
       "      <td>36.0</td>\n",
       "      <td>28.0</td>\n",
       "      <td>35.0</td>\n",
       "      <td>80.0</td>\n",
       "      <td>0.0</td>\n",
       "      <td>0.0</td>\n",
       "      <td>700.0</td>\n",
       "      <td>1118.0</td>\n",
       "    </tr>\n",
       "    <tr>\n",
       "      <th>50%</th>\n",
       "      <td>5.0</td>\n",
       "      <td>48.0</td>\n",
       "      <td>36.0</td>\n",
       "      <td>51.0</td>\n",
       "      <td>120.0</td>\n",
       "      <td>3000.0</td>\n",
       "      <td>0.0</td>\n",
       "      <td>1000.0</td>\n",
       "      <td>1400.0</td>\n",
       "    </tr>\n",
       "    <tr>\n",
       "      <th>75%</th>\n",
       "      <td>12.0</td>\n",
       "      <td>60.0</td>\n",
       "      <td>45.0</td>\n",
       "      <td>72.0</td>\n",
       "      <td>165.0</td>\n",
       "      <td>6000.0</td>\n",
       "      <td>0.0</td>\n",
       "      <td>1300.0</td>\n",
       "      <td>1692.0</td>\n",
       "    </tr>\n",
       "    <tr>\n",
       "      <th>max</th>\n",
       "      <td>48.0</td>\n",
       "      <td>72.0</td>\n",
       "      <td>68.0</td>\n",
       "      <td>180.0</td>\n",
       "      <td>959.0</td>\n",
       "      <td>300000.0</td>\n",
       "      <td>30000.0</td>\n",
       "      <td>5000.0</td>\n",
       "      <td>11140.0</td>\n",
       "    </tr>\n",
       "  </tbody>\n",
       "</table>\n",
       "</div>"
      ],
      "text/plain": [
       "       seniority    time     age  expenses  income    assets     debt  amount  \\\n",
       "count     4455.0  4455.0  4455.0    4455.0  4421.0    4408.0   4437.0  4455.0   \n",
       "mean         8.0    46.0    37.0      56.0   131.0    5403.0    343.0  1039.0   \n",
       "std          8.0    15.0    11.0      20.0    86.0   11573.0   1246.0   475.0   \n",
       "min          0.0     6.0    18.0      35.0     0.0       0.0      0.0   100.0   \n",
       "25%          2.0    36.0    28.0      35.0    80.0       0.0      0.0   700.0   \n",
       "50%          5.0    48.0    36.0      51.0   120.0    3000.0      0.0  1000.0   \n",
       "75%         12.0    60.0    45.0      72.0   165.0    6000.0      0.0  1300.0   \n",
       "max         48.0    72.0    68.0     180.0   959.0  300000.0  30000.0  5000.0   \n",
       "\n",
       "         price  \n",
       "count   4455.0  \n",
       "mean    1463.0  \n",
       "std      628.0  \n",
       "min      105.0  \n",
       "25%     1118.0  \n",
       "50%     1400.0  \n",
       "75%     1692.0  \n",
       "max    11140.0  "
      ]
     },
     "execution_count": 14,
     "metadata": {},
     "output_type": "execute_result"
    }
   ],
   "source": [
    "df.describe().round()"
   ]
  },
  {
   "cell_type": "markdown",
   "id": "205c39dd-08a8-4755-9229-f3fa0d23ce05",
   "metadata": {},
   "source": [
    "## Drop Status='Unk' rows"
   ]
  },
  {
   "cell_type": "code",
   "execution_count": 15,
   "id": "42dddddc-cd31-4bb1-a550-5dfa972e3119",
   "metadata": {},
   "outputs": [
    {
     "data": {
      "text/html": [
       "<div>\n",
       "<style scoped>\n",
       "    .dataframe tbody tr th:only-of-type {\n",
       "        vertical-align: middle;\n",
       "    }\n",
       "\n",
       "    .dataframe tbody tr th {\n",
       "        vertical-align: top;\n",
       "    }\n",
       "\n",
       "    .dataframe thead th {\n",
       "        text-align: right;\n",
       "    }\n",
       "</style>\n",
       "<table border=\"1\" class=\"dataframe\">\n",
       "  <thead>\n",
       "    <tr style=\"text-align: right;\">\n",
       "      <th></th>\n",
       "      <th>seniority</th>\n",
       "      <th>time</th>\n",
       "      <th>age</th>\n",
       "      <th>expenses</th>\n",
       "      <th>income</th>\n",
       "      <th>assets</th>\n",
       "      <th>debt</th>\n",
       "      <th>amount</th>\n",
       "      <th>price</th>\n",
       "    </tr>\n",
       "  </thead>\n",
       "  <tbody>\n",
       "    <tr>\n",
       "      <th>count</th>\n",
       "      <td>4454.0</td>\n",
       "      <td>4454.0</td>\n",
       "      <td>4454.0</td>\n",
       "      <td>4454.0</td>\n",
       "      <td>4420.0</td>\n",
       "      <td>4407.0</td>\n",
       "      <td>4436.0</td>\n",
       "      <td>4454.0</td>\n",
       "      <td>4454.0</td>\n",
       "    </tr>\n",
       "    <tr>\n",
       "      <th>mean</th>\n",
       "      <td>8.0</td>\n",
       "      <td>46.0</td>\n",
       "      <td>37.0</td>\n",
       "      <td>56.0</td>\n",
       "      <td>131.0</td>\n",
       "      <td>5404.0</td>\n",
       "      <td>343.0</td>\n",
       "      <td>1039.0</td>\n",
       "      <td>1463.0</td>\n",
       "    </tr>\n",
       "    <tr>\n",
       "      <th>std</th>\n",
       "      <td>8.0</td>\n",
       "      <td>15.0</td>\n",
       "      <td>11.0</td>\n",
       "      <td>20.0</td>\n",
       "      <td>86.0</td>\n",
       "      <td>11574.0</td>\n",
       "      <td>1246.0</td>\n",
       "      <td>475.0</td>\n",
       "      <td>628.0</td>\n",
       "    </tr>\n",
       "    <tr>\n",
       "      <th>min</th>\n",
       "      <td>0.0</td>\n",
       "      <td>6.0</td>\n",
       "      <td>18.0</td>\n",
       "      <td>35.0</td>\n",
       "      <td>0.0</td>\n",
       "      <td>0.0</td>\n",
       "      <td>0.0</td>\n",
       "      <td>100.0</td>\n",
       "      <td>105.0</td>\n",
       "    </tr>\n",
       "    <tr>\n",
       "      <th>25%</th>\n",
       "      <td>2.0</td>\n",
       "      <td>36.0</td>\n",
       "      <td>28.0</td>\n",
       "      <td>35.0</td>\n",
       "      <td>80.0</td>\n",
       "      <td>0.0</td>\n",
       "      <td>0.0</td>\n",
       "      <td>700.0</td>\n",
       "      <td>1117.0</td>\n",
       "    </tr>\n",
       "    <tr>\n",
       "      <th>50%</th>\n",
       "      <td>5.0</td>\n",
       "      <td>48.0</td>\n",
       "      <td>36.0</td>\n",
       "      <td>51.0</td>\n",
       "      <td>120.0</td>\n",
       "      <td>3000.0</td>\n",
       "      <td>0.0</td>\n",
       "      <td>1000.0</td>\n",
       "      <td>1400.0</td>\n",
       "    </tr>\n",
       "    <tr>\n",
       "      <th>75%</th>\n",
       "      <td>12.0</td>\n",
       "      <td>60.0</td>\n",
       "      <td>45.0</td>\n",
       "      <td>72.0</td>\n",
       "      <td>165.0</td>\n",
       "      <td>6000.0</td>\n",
       "      <td>0.0</td>\n",
       "      <td>1300.0</td>\n",
       "      <td>1692.0</td>\n",
       "    </tr>\n",
       "    <tr>\n",
       "      <th>max</th>\n",
       "      <td>48.0</td>\n",
       "      <td>72.0</td>\n",
       "      <td>68.0</td>\n",
       "      <td>180.0</td>\n",
       "      <td>959.0</td>\n",
       "      <td>300000.0</td>\n",
       "      <td>30000.0</td>\n",
       "      <td>5000.0</td>\n",
       "      <td>11140.0</td>\n",
       "    </tr>\n",
       "  </tbody>\n",
       "</table>\n",
       "</div>"
      ],
      "text/plain": [
       "       seniority    time     age  expenses  income    assets     debt  amount  \\\n",
       "count     4454.0  4454.0  4454.0    4454.0  4420.0    4407.0   4436.0  4454.0   \n",
       "mean         8.0    46.0    37.0      56.0   131.0    5404.0    343.0  1039.0   \n",
       "std          8.0    15.0    11.0      20.0    86.0   11574.0   1246.0   475.0   \n",
       "min          0.0     6.0    18.0      35.0     0.0       0.0      0.0   100.0   \n",
       "25%          2.0    36.0    28.0      35.0    80.0       0.0      0.0   700.0   \n",
       "50%          5.0    48.0    36.0      51.0   120.0    3000.0      0.0  1000.0   \n",
       "75%         12.0    60.0    45.0      72.0   165.0    6000.0      0.0  1300.0   \n",
       "max         48.0    72.0    68.0     180.0   959.0  300000.0  30000.0  5000.0   \n",
       "\n",
       "         price  \n",
       "count   4454.0  \n",
       "mean    1463.0  \n",
       "std      628.0  \n",
       "min      105.0  \n",
       "25%     1117.0  \n",
       "50%     1400.0  \n",
       "75%     1692.0  \n",
       "max    11140.0  "
      ]
     },
     "execution_count": 15,
     "metadata": {},
     "output_type": "execute_result"
    }
   ],
   "source": [
    "# Drop 'Unk' status rows\n",
    "df = df[df['status'] != 'unk'].reset_index(drop=True)\n",
    "df.describe().round()"
   ]
  },
  {
   "cell_type": "markdown",
   "id": "9abb6459-abd0-4cc1-a0fd-71e68557d3fd",
   "metadata": {},
   "source": [
    "***"
   ]
  },
  {
   "cell_type": "markdown",
   "id": "5e9c8bf4-125f-4c65-940f-260dae3d3b18",
   "metadata": {},
   "source": [
    "## Prepare dataset"
   ]
  },
  {
   "cell_type": "code",
   "execution_count": 16,
   "id": "8e44ee90-7bbf-479d-9b02-61eabd3c9cf2",
   "metadata": {},
   "outputs": [
    {
     "ename": "NameError",
     "evalue": "name 'uitls' is not defined",
     "output_type": "error",
     "traceback": [
      "\u001b[0;31m---------------------------------------------------------------------------\u001b[0m",
      "\u001b[0;31mNameError\u001b[0m                                 Traceback (most recent call last)",
      "Cell \u001b[0;32mIn [16], line 2\u001b[0m\n\u001b[1;32m      1\u001b[0m \u001b[38;5;66;03m# Test-Train split\u001b[39;00m\n\u001b[0;32m----> 2\u001b[0m df_train_full, df_test \u001b[38;5;241m=\u001b[39m \u001b[43muitls\u001b[49m\u001b[38;5;241m.\u001b[39mtrain_test_split(df, test_size\u001b[38;5;241m=\u001b[39m\u001b[38;5;241m0.2\u001b[39m, random_state\u001b[38;5;241m=\u001b[39m\u001b[38;5;241m11\u001b[39m)\n\u001b[1;32m      3\u001b[0m df_train, df_val \u001b[38;5;241m=\u001b[39m utils\u001b[38;5;241m.\u001b[39mtrain_test_split(df_train_full, test_size\u001b[38;5;241m=\u001b[39m\u001b[38;5;241m0.25\u001b[39m, random_state\u001b[38;5;241m=\u001b[39m\u001b[38;5;241m11\u001b[39m)\n",
      "\u001b[0;31mNameError\u001b[0m: name 'uitls' is not defined"
     ]
    }
   ],
   "source": [
    "# Test-Train split\n",
    "df_train_full, df_test = uitls.train_test_split(df, test_size=0.2, random_state=11)\n",
    "df_train, df_val = utils.train_test_split(df_train_full, test_size=0.25, random_state=11)"
   ]
  },
  {
   "cell_type": "code",
   "execution_count": null,
   "id": "c3fca8e3-f01f-4123-86fc-19b477b49ddd",
   "metadata": {},
   "outputs": [],
   "source": [
    "# Convert status - categorical into numerical\n",
    "df_train_full.status = (df_train_full.status == 'default').astype('int').values\n",
    "df_train.status = (df_train.status == 'default').astype('int').values\n",
    "df_val.status   = (df_val.status == 'default').astype('int').values\n",
    "df_test.status  = (df_test.status == 'default').astype('int').values"
   ]
  },
  {
   "cell_type": "code",
   "execution_count": null,
   "id": "91d6b31b-cb97-422a-b748-294a7e4c3855",
   "metadata": {},
   "outputs": [],
   "source": [
    "# Prepare dataset for modeling- features and target\n",
    "df_train_full, y_train_full = utils.dataset_into_features_and_target(df_train_full, 'status')\n",
    "df_train, y_train = utils.dataset_into_features_and_target(df_train, 'status')\n",
    "df_val, y_val     = utils.dataset_into_features_and_target(df_val, 'status')\n",
    "df_test, y_test   = utils.dataset_into_features_and_target(df_test, 'status')"
   ]
  },
  {
   "cell_type": "code",
   "execution_count": null,
   "id": "eb984278-09a9-48be-af29-e9963d416f3e",
   "metadata": {},
   "outputs": [],
   "source": [
    "df_train"
   ]
  },
  {
   "cell_type": "markdown",
   "id": "24f3d044-2e84-49fd-85dc-cdd28148fea5",
   "metadata": {},
   "source": [
    "***"
   ]
  },
  {
   "cell_type": "markdown",
   "id": "a48c7b8e-ec27-4e9b-934e-9cecbf118d2d",
   "metadata": {},
   "source": [
    "# Decision trees"
   ]
  },
  {
   "cell_type": "code",
   "execution_count": null,
   "id": "487cb1e2-384d-415f-9b2c-41707fc3f195",
   "metadata": {},
   "outputs": [],
   "source": [
    "train_dicts = df_train.fillna(0.0).to_dict(orient='records')\n",
    "val_dicts   = df_val.fillna(0.0).to_dict(orient='records')"
   ]
  },
  {
   "cell_type": "markdown",
   "id": "ceed7a97-42e5-4c1d-b4b7-64dd47877ff9",
   "metadata": {},
   "source": [
    "## Dict Vectorizer"
   ]
  },
  {
   "cell_type": "code",
   "execution_count": null,
   "id": "5eac95a0-291a-42fc-914f-0e6ff28badcf",
   "metadata": {},
   "outputs": [],
   "source": [
    "dv = DictVectorizer(sparse=False)"
   ]
  },
  {
   "cell_type": "code",
   "execution_count": null,
   "id": "c227123a-c4ec-48fb-b075-5fef7062b3d9",
   "metadata": {},
   "outputs": [],
   "source": [
    "# Apply dv on train dataset\n",
    "X_train = dv.fit_transform(train_dicts)\n",
    "X_val = dv.transform(val_dicts)"
   ]
  },
  {
   "cell_type": "markdown",
   "id": "1abe4247-4e01-4eae-9bbc-a3abf22ae36d",
   "metadata": {},
   "source": [
    "## Train Decision Tree"
   ]
  },
  {
   "cell_type": "code",
   "execution_count": null,
   "id": "a0c9b3e3-c355-4bdb-a5ce-dca71570dec5",
   "metadata": {},
   "outputs": [],
   "source": [
    "# Train DT\n",
    "dt = DecisionTreeClassifier(max_depth=3)\n",
    "dt.fit(X_train, y_train)"
   ]
  },
  {
   "cell_type": "markdown",
   "id": "b6dad759-4632-4b70-963a-31e5378e4211",
   "metadata": {},
   "source": [
    "## On Validation Dataset"
   ]
  },
  {
   "cell_type": "code",
   "execution_count": null,
   "id": "a3814166-be48-4ad9-bd85-9daea061498b",
   "metadata": {
    "tags": []
   },
   "outputs": [],
   "source": [
    "y_pred = dt.predict_proba(X_train)[:,1]\n",
    "auc = roc_auc_score(y_train, y_pred)\n",
    "print(f'Test={auc}')\n",
    "\n",
    "y_pred = dt.predict_proba(X_val)[:,1]\n",
    "auc = roc_auc_score(y_val, y_pred)\n",
    "print(f'Val={auc}')"
   ]
  },
  {
   "cell_type": "markdown",
   "id": "fe2ec5b3-23ac-490b-99c5-40f97cee2e06",
   "metadata": {},
   "source": [
    "## View Dt trained"
   ]
  },
  {
   "cell_type": "code",
   "execution_count": null,
   "id": "910ad18c-4eec-4be8-81dd-6df5be563bb5",
   "metadata": {},
   "outputs": [],
   "source": [
    "print(export_text(dt, feature_names=dv.get_feature_names()))"
   ]
  },
  {
   "cell_type": "code",
   "execution_count": null,
   "id": "67b1aa54-08e2-4772-bdf1-d42d0a574b14",
   "metadata": {},
   "outputs": [],
   "source": [
    "export_graphviz(dt, out_file='dt.txt', feature_names=dv.get_feature_names())"
   ]
  },
  {
   "cell_type": "markdown",
   "id": "dd336271-c383-4bb7-8db5-a0ea7271bbd6",
   "metadata": {},
   "source": [
    "***"
   ]
  },
  {
   "cell_type": "markdown",
   "id": "ca9f4cc3-2771-49e6-bbc0-c995d94e6a77",
   "metadata": {},
   "source": [
    "# Decision tree learning algorithm"
   ]
  },
  {
   "cell_type": "code",
   "execution_count": null,
   "id": "418823b1-0146-4ba0-82c8-421d34e50139",
   "metadata": {},
   "outputs": [],
   "source": [
    "depths = [1, 2, 3, 4, 5, 6, 10, 15, 20, 50]\n",
    "\n",
    "for depth in depths:\n",
    "    dt = DecisionTreeClassifier(max_depth=depth)\n",
    "    dt.fit(X_train, y_train)\n",
    "    \n",
    "    y_pred = dt.predict_proba(X_val)[:,1]\n",
    "    auc = utils.roc_auc_score(y_val, y_pred)\n",
    "    \n",
    "    print(f\"Depth={depth:.1f} AUC={auc:.4f}\")\n"
   ]
  },
  {
   "cell_type": "code",
   "execution_count": null,
   "id": "a861f26e-bd66-4cf6-8b9b-40ceacf12540",
   "metadata": {},
   "outputs": [],
   "source": [
    "\n",
    "list_auc = []\n",
    "scores = [1, 5, 10, 15, 20, 100, 200, 500]\n",
    "depths = [4, 5, 6]\n",
    "\n",
    "for score in scores:\n",
    "    for depth in depths:\n",
    "        dt = DecisionTreeClassifier(max_depth=depth, min_samples_leaf=score)\n",
    "        dt.fit(X_train, y_train)\n",
    "\n",
    "        y_pred = dt.predict_proba(X_val)[:,1]\n",
    "        auc = utils.roc_auc_score(y_val, y_pred)\n",
    "        \n",
    "        list_auc.append((depth, score, auc))\n",
    "\n",
    "        print(f\"Depth={depth:.1f} Score={score:.1f} AUC={auc:.4f}\")\n"
   ]
  },
  {
   "cell_type": "code",
   "execution_count": null,
   "id": "c20449e4-4f3c-4f7e-98a0-f2252c0b1585",
   "metadata": {},
   "outputs": [],
   "source": [
    "columns = ['max_depth','min_samples_leaf','auc']\n",
    "\n",
    "df_aucs = pd.DataFrame(list_auc, columns=columns)\n",
    "df_aucs"
   ]
  },
  {
   "cell_type": "code",
   "execution_count": null,
   "id": "52ab6184-90d7-4e1e-8269-ba88ed47b002",
   "metadata": {},
   "outputs": [],
   "source": [
    "# Pivot \n",
    "df_aucs_pivot = df_aucs.pivot(index='min_samples_leaf',\n",
    "                              columns=['max_depth'],\n",
    "                              values=['auc'])\n",
    "\n",
    "df_aucs_pivot"
   ]
  },
  {
   "cell_type": "markdown",
   "id": "63d2602b-66f0-4751-a722-379f237a83f5",
   "metadata": {},
   "source": [
    "## Heatmap of paramters-auc of DT"
   ]
  },
  {
   "cell_type": "code",
   "execution_count": null,
   "id": "1737cae9-63fc-43f1-9473-79ba68a6de7a",
   "metadata": {},
   "outputs": [],
   "source": [
    "# Heatmap \n",
    "sns_plot = sns.heatmap(df_aucs_pivot, annot=True, fmt='.3f')\n",
    "plt.savefig('../images/6_dt_heatmap.png')"
   ]
  },
  {
   "cell_type": "code",
   "execution_count": null,
   "id": "7a8805e0-831f-44a4-8395-ba0fee08010d",
   "metadata": {},
   "outputs": [],
   "source": [
    "# Training DT with selected parametsr\n",
    "dt = DecisionTreeClassifier(max_depth=6,\n",
    "                            min_samples_leaf=15)\n",
    "\n",
    "dt.fit(X_train, y_train)"
   ]
  },
  {
   "cell_type": "markdown",
   "id": "7ef84d36-6b12-4a15-8ce2-be35ed6e8e0f",
   "metadata": {},
   "source": [
    "## Export DT as text "
   ]
  },
  {
   "cell_type": "code",
   "execution_count": null,
   "id": "57b3dbdb-7dcb-4b35-8930-e8261a617b6b",
   "metadata": {
    "tags": []
   },
   "outputs": [],
   "source": [
    "print(export_text(dt, feature_names=dv.get_feature_names()))"
   ]
  },
  {
   "cell_type": "markdown",
   "id": "77bc8553-ceb0-4931-b1e8-40268237497a",
   "metadata": {},
   "source": [
    "## Export DT as graphviz"
   ]
  },
  {
   "cell_type": "code",
   "execution_count": null,
   "id": "d991b2fa-a834-4892-aca9-c0d27df3055e",
   "metadata": {},
   "outputs": [],
   "source": [
    "# Visualize using GraphViz for dT\n",
    "export_graphviz(dt, out_file=\"6_dt.dot\",\n",
    "                    feature_names=dv.get_feature_names(),\n",
    "                    class_names='status',\n",
    "                    filled=True, rounded=True, \n",
    "                    special_characters=True)\n"
   ]
  },
  {
   "cell_type": "code",
   "execution_count": null,
   "id": "eccb593a-3314-4f5e-996e-9fb821fc3077",
   "metadata": {},
   "outputs": [],
   "source": [
    "Image(\"../images/6_dt.png\", width=400, height=800)"
   ]
  },
  {
   "cell_type": "markdown",
   "id": "40d100d3-624c-42d9-bc64-d419aa7f10d7",
   "metadata": {},
   "source": [
    "***"
   ]
  },
  {
   "cell_type": "markdown",
   "id": "2e7ddffc-330b-4ea4-b2d2-ca1084efd52c",
   "metadata": {},
   "source": [
    "# Random Forest"
   ]
  },
  {
   "cell_type": "code",
   "execution_count": null,
   "id": "6ca4fb9f-1367-452d-8583-7e9c24cab5cf",
   "metadata": {},
   "outputs": [],
   "source": [
    "scores = []\n",
    "\n",
    "for n in range(10, 201,10):\n",
    "\n",
    "    rf = RandomForestClassifier(n_estimators=n, random_state=1)\n",
    "    rf.fit(X_train, y_train)\n",
    "    \n",
    "    y_pred = rf.predict_proba(X_val)[:,1]\n",
    "    \n",
    "    auc = roc_auc_score(y_val, y_pred)\n",
    "\n",
    "    scores.append((n, auc))\n",
    "    \n",
    "    print(f\"n_estimators={n} auc={auc}\")"
   ]
  },
  {
   "cell_type": "code",
   "execution_count": null,
   "id": "647a56cb-b8fe-401b-94be-7c8af5c2d710",
   "metadata": {
    "tags": []
   },
   "outputs": [],
   "source": [
    "df_scores = pd.DataFrame(scores, columns=['n_estimators', 'auc'])\n",
    "df_scores.head()"
   ]
  },
  {
   "cell_type": "code",
   "execution_count": null,
   "id": "66abce51-8d01-4055-bff8-743de9ff3b73",
   "metadata": {},
   "outputs": [],
   "source": [
    "sns.lineplot(df_scores, x='n_estimators',\n",
    "                        y='auc')"
   ]
  },
  {
   "cell_type": "markdown",
   "id": "3d6904cc-bae5-4acb-b85d-170f763f07d4",
   "metadata": {},
   "source": [
    "## Other parameters"
   ]
  },
  {
   "cell_type": "code",
   "execution_count": null,
   "id": "c0877312-ed20-443a-9e70-a07f08ae6bb1",
   "metadata": {
    "tags": []
   },
   "outputs": [],
   "source": [
    "scores = []\n",
    "\n",
    "for n1 in [5, 10, 15]: \n",
    "    for n in range(10, 201,10):\n",
    "\n",
    "        rf = RandomForestClassifier(n_estimators=n, max_depth=n1, random_state=1)\n",
    "        rf.fit(X_train, y_train)\n",
    "\n",
    "        y_pred = rf.predict_proba(X_val)[:,1]\n",
    "\n",
    "        auc = roc_auc_score(y_val, y_pred)\n",
    "\n",
    "        scores.append((n1, n, auc))\n",
    "\n",
    "        print(f\"n_estimators={n} auc={auc}\")"
   ]
  },
  {
   "cell_type": "code",
   "execution_count": null,
   "id": "450e8815-ade7-407e-a5e6-ca9e6004b25e",
   "metadata": {},
   "outputs": [],
   "source": [
    "df_scores = pd.DataFrame(scores, columns=['max_depth', 'n_estimators', 'auc'])\n",
    "df_scores.head()"
   ]
  },
  {
   "cell_type": "code",
   "execution_count": null,
   "id": "781f8be0-c949-4074-ae39-869cd6882cd5",
   "metadata": {},
   "outputs": [],
   "source": [
    "for d in [5,10,15]:\n",
    "    \n",
    "    df_subset = df_scores[df_scores.max_depth == d]\n",
    "    \n",
    "    plt.plot(df_subset.n_estimators,\n",
    "             df_subset.auc,\n",
    "             label=f'max_depth={d}')\n",
    "    \n",
    "plt.legend()"
   ]
  },
  {
   "cell_type": "code",
   "execution_count": null,
   "id": "a0c29a20-ec30-44aa-b57b-381bb917e3c2",
   "metadata": {},
   "outputs": [],
   "source": [
    "max_depth = 10"
   ]
  },
  {
   "cell_type": "code",
   "execution_count": null,
   "id": "7f63f04a-e482-466b-b43d-54b69f9ed65a",
   "metadata": {
    "tags": []
   },
   "outputs": [],
   "source": [
    "scores = []\n",
    "\n",
    "for d in [1, 3, 5, 10, 15, 50]: \n",
    "    for n in range(10, 201,10):\n",
    "\n",
    "        rf = RandomForestClassifier(n_estimators=n, \n",
    "                                    max_depth=max_depth,\n",
    "                                    min_samples_leaf=d,\n",
    "                                    random_state=1)\n",
    "        rf.fit(X_train, y_train)\n",
    "\n",
    "        y_pred = rf.predict_proba(X_val)[:,1]\n",
    "\n",
    "        auc = roc_auc_score(y_val, y_pred)\n",
    "\n",
    "        scores.append((d, n, auc))\n",
    "\n",
    "        print(f\"n_estimators={n} auc={auc}\")"
   ]
  },
  {
   "cell_type": "code",
   "execution_count": null,
   "id": "8c4893ea-1139-4611-a0ef-2dd55a89706a",
   "metadata": {},
   "outputs": [],
   "source": [
    "df_scores = pd.DataFrame(scores, columns=['min_samples_leaf', 'n_estimators', 'auc'])\n",
    "df_scores.head()"
   ]
  },
  {
   "cell_type": "code",
   "execution_count": null,
   "id": "0c85dd79-7f1c-47b9-8f52-bcec5f2f0af8",
   "metadata": {},
   "outputs": [],
   "source": [
    "for d in [1, 3, 5, 10, 15, 50]:\n",
    "    \n",
    "    df_subset = df_scores[df_scores.min_samples_leaf == d]\n",
    "    \n",
    "    plt.plot(df_subset.n_estimators,\n",
    "             df_subset.auc,\n",
    "             label=f'min_samples_leaf={d}')\n",
    "    \n",
    "plt.legend()"
   ]
  },
  {
   "cell_type": "markdown",
   "id": "d616e3c9-bf3f-4d29-ad2e-08a305543b01",
   "metadata": {},
   "source": [
    "## Final RF model"
   ]
  },
  {
   "cell_type": "code",
   "execution_count": null,
   "id": "82e8a392-bb4d-42d8-91c6-1fc43f8d244c",
   "metadata": {},
   "outputs": [],
   "source": [
    "rf = RandomForestClassifier(n_estimators=n,\n",
    "                           max_depth=max_depth,\n",
    "                           min_samples_leaf=3)\n",
    "\n",
    "rf.fit(X_train, y_train)\n",
    "\n",
    "y_pred = rf.predict_proba(X_val)[:,1]\n",
    "\n",
    "auc = roc_auc_score(y_val, y_pred)\n",
    "\n",
    "auc"
   ]
  },
  {
   "cell_type": "markdown",
   "id": "ccf90e19-b53c-4235-bc67-6788d47312b1",
   "metadata": {},
   "source": [
    "***"
   ]
  },
  {
   "cell_type": "markdown",
   "id": "96c9120a-d01e-43af-9b1e-e3ea68103d62",
   "metadata": {},
   "source": [
    "# XGBoost"
   ]
  },
  {
   "cell_type": "code",
   "execution_count": null,
   "id": "985c510d-15c2-471d-884b-1439296e28e5",
   "metadata": {},
   "outputs": [],
   "source": [
    "!pip install xgboost"
   ]
  },
  {
   "cell_type": "code",
   "execution_count": null,
   "id": "888b1c20-dabb-4789-8613-f1aa446f56ed",
   "metadata": {},
   "outputs": [],
   "source": [
    "import xgboost as xgb"
   ]
  },
  {
   "cell_type": "code",
   "execution_count": null,
   "id": "b50e7b0d-aeb8-4576-becf-6857197f8c91",
   "metadata": {},
   "outputs": [],
   "source": [
    "features = dv.get_feature_names()\n",
    "dtrain = xgb.DMatrix(X_train, label=y_train, feature_names=features)\n",
    "dval = xgb.DMatrix(X_val, label=y_val, feature_names=features)"
   ]
  },
  {
   "cell_type": "code",
   "execution_count": null,
   "id": "ef537cd1-5d24-4c6e-8282-1b49c5a53815",
   "metadata": {},
   "outputs": [],
   "source": [
    "xgb_params = {\n",
    "    'eta': 0.3,\n",
    "    'max_depth': 6,\n",
    "    'min_child_weight': 1,\n",
    "    \n",
    "    'objective': 'binary:logistic',\n",
    "    'nthread': 8,\n",
    "    \n",
    "    'seed': 1,\n",
    "    'verbosity': 1,\n",
    "}\n",
    "\n",
    "\n",
    "model = xgb.train(xgb_params, dtrain, num_boost_round=10)"
   ]
  },
  {
   "cell_type": "code",
   "execution_count": null,
   "id": "73302851-87a2-41fd-a62e-9b14c1930ab8",
   "metadata": {
    "tags": []
   },
   "outputs": [],
   "source": [
    "y_pred = model.predict(dval)"
   ]
  },
  {
   "cell_type": "code",
   "execution_count": null,
   "id": "1016a477-55f5-47d8-b8dc-4907adc68f78",
   "metadata": {},
   "outputs": [],
   "source": [
    "auc = roc_auc_score(y_val, y_pred)\n",
    "auc"
   ]
  },
  {
   "cell_type": "code",
   "execution_count": null,
   "id": "6ee5d232-df28-4447-b2f2-aaa80518c403",
   "metadata": {},
   "outputs": [],
   "source": [
    "watchlist = [(dtrain, 'train'),(dval, 'val')]"
   ]
  },
  {
   "cell_type": "code",
   "execution_count": null,
   "id": "537d690c-8b66-494b-acf6-3036d4da8d2e",
   "metadata": {},
   "outputs": [],
   "source": [
    "def parse_xgb_ouput(output):\n",
    "    \n",
    "    results = []\n",
    "\n",
    "    for line in output.stdout.strip().split('\\n'):\n",
    "\n",
    "        # split tabs\n",
    "        num_iter, train_auc, val_auc = line.split('\\t')\n",
    "\n",
    "        # Format 3 values\n",
    "        num_iter = int(num_iter.strip('[]'))\n",
    "        train_auc = float(train_auc.strip('train-auc:'))\n",
    "        val_auc = float(val_auc.strip('val-auc:'))\n",
    "\n",
    "        results.append((num_iter, train_auc, val_auc))\n",
    "\n",
    "    df_results = pd.DataFrame(results, columns=['n_iter','train_auc', 'val_auc'])\n",
    "\n",
    "    return df_results"
   ]
  },
  {
   "cell_type": "markdown",
   "id": "72658a00-3ba4-4c9a-aa9b-16635947e13b",
   "metadata": {},
   "source": [
    "## For Plotting XGB"
   ]
  },
  {
   "cell_type": "code",
   "execution_count": null,
   "id": "340a03ca-026f-4a40-938c-12a73349045d",
   "metadata": {},
   "outputs": [],
   "source": [
    "scores = {}"
   ]
  },
  {
   "cell_type": "code",
   "execution_count": null,
   "id": "071a45ea-0626-4e1d-a57a-86c4e91a51c2",
   "metadata": {
    "tags": []
   },
   "outputs": [],
   "source": [
    "%%capture output\n",
    "xgb_params = {\n",
    "    'eta': 0.1,\n",
    "    'max_depth': 3,\n",
    "    'min_child_weight': 0.75,\n",
    "    \n",
    "    'objective': 'binary:logistic',\n",
    "    'nthread': 8,\n",
    "    'eval_metric': 'auc',\n",
    "    \n",
    "    'seed': 1,\n",
    "    'verbosity': 1,\n",
    "}\n",
    "\n",
    "\n",
    "model = xgb.train(xgb_params, dtrain, num_boost_round=175,\n",
    "                  verbose_eval=5,\n",
    "                  evals=watchlist)"
   ]
  },
  {
   "cell_type": "code",
   "execution_count": null,
   "id": "47867b08-cfa6-47e1-a996-cc5e292a1b44",
   "metadata": {},
   "outputs": [],
   "source": [
    "# df_output = parse_xgb_ouput(output)\n",
    "# df_output.head()"
   ]
  },
  {
   "cell_type": "code",
   "execution_count": null,
   "id": "23f23b72-0321-44c6-adb3-adf26a0d03d7",
   "metadata": {},
   "outputs": [],
   "source": [
    "#sns.lineplot(df_output, x='n_iter', y='train_auc', label='train')\n",
    "#sns.lineplot(df_output, x='n_iter', y='val_auc', label='val')"
   ]
  },
  {
   "cell_type": "markdown",
   "id": "230434e1-5c4d-43f1-a37d-d940825bb77c",
   "metadata": {},
   "source": [
    "# Runing XGBoost parametes"
   ]
  },
  {
   "cell_type": "markdown",
   "id": "b6d076ce-2605-433b-a752-4fd931fc6f0a",
   "metadata": {},
   "source": [
    "Tuning parameters:  \n",
    "- `eta` = Learning Rate = Size of Step\n",
    "- `max_depth` = Depth of tree\n",
    "- `min_child_weight` = How much weight 2nd model has when correcting 1st model"
   ]
  },
  {
   "cell_type": "code",
   "execution_count": null,
   "id": "cd85599b-1831-4774-b02c-b31a3f2b3d10",
   "metadata": {},
   "outputs": [],
   "source": [
    "#key = f\"eta:{xgb_params['eta']}\"\n",
    "#key = f\"max_depth:{xgb_params['max_depth']}\"\n",
    "key = f\"min_child_weight:{xgb_params['min_child_weight']}\"\n",
    "scores[key] = parse_xgb_ouput(output)\n",
    "\n",
    "for key, df_scores in scores.items():\n",
    "    plt.plot(df_scores.n_iter, df_scores.val_auc, label=f'auc-{key}')\n",
    "    \n",
    "plt.legend()\n",
    "plt.ylim([0.8, 0.85])"
   ]
  },
  {
   "cell_type": "markdown",
   "id": "41928607-1d41-4cc8-ac95-1e079cfcd29b",
   "metadata": {},
   "source": [
    "***"
   ]
  },
  {
   "cell_type": "markdown",
   "id": "5a50fd82-ad68-4cf7-b8f6-77ff8918faf7",
   "metadata": {},
   "source": [
    "# Selecting the final model "
   ]
  },
  {
   "cell_type": "code",
   "execution_count": null,
   "id": "36203d7f-9631-4eb5-855a-0d7c657db35b",
   "metadata": {},
   "outputs": [],
   "source": [
    "# Best DT model\n",
    "dt = DecisionTreeClassifier(max_depth=6,\n",
    "                            min_samples_leaf=15)\n",
    "\n",
    "dt.fit(X_train, y_train)"
   ]
  },
  {
   "cell_type": "code",
   "execution_count": null,
   "id": "ad3197d8-fd2a-4f61-ac6a-d087d4b460cf",
   "metadata": {},
   "outputs": [],
   "source": [
    "# BEst RF model\n",
    "rf = RandomForestClassifier(n_estimators=200,\n",
    "                           max_depth=10,\n",
    "                           min_samples_leaf=3,\n",
    "                           random_state=1)\n",
    "\n",
    "rf.fit(X_train, y_train)"
   ]
  },
  {
   "cell_type": "code",
   "execution_count": null,
   "id": "64911741-40ac-4681-a898-17ec088159c7",
   "metadata": {
    "tags": []
   },
   "outputs": [],
   "source": [
    "# Best XGBoost model\n",
    "xgb_params = {\n",
    "    'eta': 0.1,\n",
    "    'max_depth': 3,\n",
    "    'min_child_weight': 0.75,\n",
    "    \n",
    "    'objective': 'binary:logistic',\n",
    "    'nthread': 8,\n",
    "    'eval_metric': 'auc',\n",
    "    \n",
    "    'seed': 1,\n",
    "    'verbosity': 1,\n",
    "}\n",
    "\n",
    "\n",
    "model = xgb.train(xgb_params, dtrain, num_boost_round=175,\n",
    "                  verbose_eval=5,\n",
    "                  evals=watchlist)"
   ]
  },
  {
   "cell_type": "code",
   "execution_count": null,
   "id": "2a6f34a6-53d3-44d0-b393-2c7529a7160e",
   "metadata": {},
   "outputs": [],
   "source": [
    "y_pred = dt.predict_proba(X_val)[:,1]\n",
    "auc_dt = utils.roc_auc_score(y_val, y_pred)\n",
    "\n",
    "y_pred = rf.predict_proba(X_val)[:,1]\n",
    "auc_rf = utils.roc_auc_score(y_val, y_pred)\n",
    "\n",
    "y_pred = model.predict(dval)\n",
    "auc_xgb = utils.roc_auc_score(y_val, y_pred)\n",
    "\n",
    "auc_dt, auc_rf, auc_xgb"
   ]
  },
  {
   "cell_type": "markdown",
   "id": "04cd2f3f-16a3-4c70-8e8e-6bd9eab89fbe",
   "metadata": {},
   "source": [
    "## Full Train using XGBoost"
   ]
  },
  {
   "cell_type": "code",
   "execution_count": null,
   "id": "c3f9fb6c-4f82-4b87-b6dd-f50320466dab",
   "metadata": {},
   "outputs": [],
   "source": [
    "train_full_dicts = df_train_full.fillna(0.0).to_dict(orient='records')\n",
    "test_dicts = df_test.fillna(0.0).to_dict(orient='records')\n",
    "\n",
    "# Apply dv on train dataset\n",
    "X_train_full = dv.fit_transform(train_full_dicts)\n",
    "X_test = dv.transform(test_dicts)\n",
    "\n",
    "features = dv.get_feature_names()\n",
    "dtrain_full = xgb.DMatrix(X_train_full, label=y_train_full, feature_names=features)\n",
    "dtest = xgb.DMatrix(X_test, label=y_test, feature_names=features)"
   ]
  },
  {
   "cell_type": "code",
   "execution_count": null,
   "id": "376c2667-87f1-430c-8fb5-44e8b261bde5",
   "metadata": {},
   "outputs": [],
   "source": [
    "xgb_params = {\n",
    "    'eta': 0.1,\n",
    "    'max_depth': 3,\n",
    "    'min_child_weight': 0.75,\n",
    "    \n",
    "    'objective': 'binary:logistic',\n",
    "    'nthread': 8,\n",
    "    'eval_metric': 'auc',\n",
    "    \n",
    "    'seed': 1,\n",
    "    'verbosity': 1,\n",
    "}\n",
    "\n",
    "\n",
    "model_final = xgb.train(xgb_params, dtrain, num_boost_round=175,\n",
    "                  verbose_eval=5,\n",
    "                  evals=watchlist)"
   ]
  },
  {
   "cell_type": "code",
   "execution_count": null,
   "id": "8b5372c0-b297-41c9-b02b-74ac1d9dd71b",
   "metadata": {},
   "outputs": [],
   "source": [
    "y_pred = model.predict(dtest)\n",
    "auc_gb_final = utils.roc_auc_score(y_test, y_pred)\n",
    "auc_gb_final"
   ]
  },
  {
   "cell_type": "code",
   "execution_count": null,
   "id": "cd851e8d-8453-4dce-8e44-d5585b76aef2",
   "metadata": {},
   "outputs": [],
   "source": []
  },
  {
   "cell_type": "code",
   "execution_count": null,
   "id": "bc897012-3ed2-46a9-875e-c6c9c009a390",
   "metadata": {},
   "outputs": [],
   "source": []
  },
  {
   "cell_type": "code",
   "execution_count": null,
   "id": "273ebef8-8d4a-4f87-bb32-6313dc5c3bf0",
   "metadata": {},
   "outputs": [],
   "source": []
  },
  {
   "cell_type": "code",
   "execution_count": null,
   "id": "19bdf0b7-8a47-4d98-bc9e-17f3257715d6",
   "metadata": {},
   "outputs": [],
   "source": []
  },
  {
   "cell_type": "code",
   "execution_count": null,
   "id": "3a524392-a08d-4663-bc93-6001b5b4cb80",
   "metadata": {},
   "outputs": [],
   "source": []
  }
 ],
 "metadata": {
  "kernelspec": {
   "display_name": "Python 3 (ipykernel)",
   "language": "python",
   "name": "python3"
  },
  "language_info": {
   "codemirror_mode": {
    "name": "ipython",
    "version": 3
   },
   "file_extension": ".py",
   "mimetype": "text/x-python",
   "name": "python",
   "nbconvert_exporter": "python",
   "pygments_lexer": "ipython3",
   "version": "3.10.6"
  },
  "toc-autonumbering": false,
  "toc-showtags": false
 },
 "nbformat": 4,
 "nbformat_minor": 5
}
