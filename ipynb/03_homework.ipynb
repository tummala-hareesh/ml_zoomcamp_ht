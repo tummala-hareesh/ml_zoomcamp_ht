{
 "cells": [
  {
   "cell_type": "markdown",
   "id": "a938e054-e296-493a-b754-f382a294b57f",
   "metadata": {},
   "source": [
    "# Week-3 Homework \n",
    "This notebook has been created to answer homework questions during week-3 of ML zoomcamp."
   ]
  },
  {
   "cell_type": "markdown",
   "id": "311f489b-557f-4ce7-a702-08778845480e",
   "metadata": {},
   "source": [
    "# Dataset\n",
    "California housing Price data from Kaggle"
   ]
  },
  {
   "cell_type": "code",
   "execution_count": 1,
   "id": "52c8646f-f809-4146-b8e4-9b5728af3c66",
   "metadata": {},
   "outputs": [
    {
     "name": "stdout",
     "output_type": "stream",
     "text": [
      "--2022-09-26 14:02:18--  https://raw.githubusercontent.com/alexeygrigorev/datasets/master/housing.csv\n",
      "Resolving raw.githubusercontent.com (raw.githubusercontent.com)... 185.199.110.133, 185.199.111.133, 185.199.109.133, ...\n",
      "Connecting to raw.githubusercontent.com (raw.githubusercontent.com)|185.199.110.133|:443... connected.\n",
      "HTTP request sent, awaiting response... 200 OK\n",
      "Length: 1423529 (1.4M) [text/plain]\n",
      "Saving to: ‘03_data_housing.csv’\n",
      "\n",
      "03_data_housing.csv 100%[===================>]   1.36M  --.-KB/s    in 0.08s   \n",
      "\n",
      "2022-09-26 14:02:18 (16.8 MB/s) - ‘03_data_housing.csv’ saved [1423529/1423529]\n",
      "\n"
     ]
    }
   ],
   "source": [
    "!wget https://raw.githubusercontent.com/alexeygrigorev/datasets/master/housing.csv -O 03_data_housing.csv"
   ]
  },
  {
   "cell_type": "markdown",
   "id": "6ff297cb-b77f-454e-85af-d840eaac29bc",
   "metadata": {},
   "source": [
    "***"
   ]
  },
  {
   "cell_type": "markdown",
   "id": "57fef760-8c6f-46de-868f-ab99d66b7146",
   "metadata": {},
   "source": [
    "# Import Modules"
   ]
  },
  {
   "cell_type": "code",
   "execution_count": 366,
   "id": "bb1ab6f5-4e59-438d-ad1c-c563466e34fc",
   "metadata": {},
   "outputs": [],
   "source": [
    "import pandas as pd \n",
    "import numpy as np \n",
    "\n",
    "from sklearn.model_selection import train_test_split\n",
    "from sklearn.feature_extraction import DictVectorizer\n",
    "from sklearn.linear_model import LogisticRegression, Ridge\n",
    "from sklearn.metrics import accuracy_score, mutual_info_score, mean_squared_error \n",
    "from sklearn.preprocessing import OneHotEncoder, StandardScaler\n",
    "\n",
    "import matplotlib.pyplot as plt\n",
    "import seaborn as sns \n",
    "\n",
    "%matplotlib inline"
   ]
  },
  {
   "cell_type": "markdown",
   "id": "38753c7e-8f6a-4737-98d8-1169555aeb10",
   "metadata": {},
   "source": [
    "***"
   ]
  },
  {
   "cell_type": "markdown",
   "id": "73895953-e980-4d1d-9318-248ea23b28e4",
   "metadata": {},
   "source": [
    "# Features"
   ]
  },
  {
   "cell_type": "code",
   "execution_count": 17,
   "id": "e6f162f1-b1b0-49c5-a3ee-871fdff13527",
   "metadata": {},
   "outputs": [
    {
     "data": {
      "text/html": [
       "<div>\n",
       "<style scoped>\n",
       "    .dataframe tbody tr th:only-of-type {\n",
       "        vertical-align: middle;\n",
       "    }\n",
       "\n",
       "    .dataframe tbody tr th {\n",
       "        vertical-align: top;\n",
       "    }\n",
       "\n",
       "    .dataframe thead th {\n",
       "        text-align: right;\n",
       "    }\n",
       "</style>\n",
       "<table border=\"1\" class=\"dataframe\">\n",
       "  <thead>\n",
       "    <tr style=\"text-align: right;\">\n",
       "      <th></th>\n",
       "      <th>longitude</th>\n",
       "      <th>latitude</th>\n",
       "      <th>housing_median_age</th>\n",
       "      <th>total_rooms</th>\n",
       "      <th>total_bedrooms</th>\n",
       "      <th>population</th>\n",
       "      <th>households</th>\n",
       "      <th>median_income</th>\n",
       "      <th>median_house_value</th>\n",
       "      <th>ocean_proximity</th>\n",
       "    </tr>\n",
       "  </thead>\n",
       "  <tbody>\n",
       "    <tr>\n",
       "      <th>0</th>\n",
       "      <td>-122.23</td>\n",
       "      <td>37.88</td>\n",
       "      <td>41.0</td>\n",
       "      <td>880.0</td>\n",
       "      <td>129.0</td>\n",
       "      <td>322.0</td>\n",
       "      <td>126.0</td>\n",
       "      <td>8.3252</td>\n",
       "      <td>452600.0</td>\n",
       "      <td>NEAR BAY</td>\n",
       "    </tr>\n",
       "    <tr>\n",
       "      <th>1</th>\n",
       "      <td>-122.22</td>\n",
       "      <td>37.86</td>\n",
       "      <td>21.0</td>\n",
       "      <td>7099.0</td>\n",
       "      <td>1106.0</td>\n",
       "      <td>2401.0</td>\n",
       "      <td>1138.0</td>\n",
       "      <td>8.3014</td>\n",
       "      <td>358500.0</td>\n",
       "      <td>NEAR BAY</td>\n",
       "    </tr>\n",
       "    <tr>\n",
       "      <th>2</th>\n",
       "      <td>-122.24</td>\n",
       "      <td>37.85</td>\n",
       "      <td>52.0</td>\n",
       "      <td>1467.0</td>\n",
       "      <td>190.0</td>\n",
       "      <td>496.0</td>\n",
       "      <td>177.0</td>\n",
       "      <td>7.2574</td>\n",
       "      <td>352100.0</td>\n",
       "      <td>NEAR BAY</td>\n",
       "    </tr>\n",
       "    <tr>\n",
       "      <th>3</th>\n",
       "      <td>-122.25</td>\n",
       "      <td>37.85</td>\n",
       "      <td>52.0</td>\n",
       "      <td>1274.0</td>\n",
       "      <td>235.0</td>\n",
       "      <td>558.0</td>\n",
       "      <td>219.0</td>\n",
       "      <td>5.6431</td>\n",
       "      <td>341300.0</td>\n",
       "      <td>NEAR BAY</td>\n",
       "    </tr>\n",
       "    <tr>\n",
       "      <th>4</th>\n",
       "      <td>-122.25</td>\n",
       "      <td>37.85</td>\n",
       "      <td>52.0</td>\n",
       "      <td>1627.0</td>\n",
       "      <td>280.0</td>\n",
       "      <td>565.0</td>\n",
       "      <td>259.0</td>\n",
       "      <td>3.8462</td>\n",
       "      <td>342200.0</td>\n",
       "      <td>NEAR BAY</td>\n",
       "    </tr>\n",
       "  </tbody>\n",
       "</table>\n",
       "</div>"
      ],
      "text/plain": [
       "   longitude  latitude  housing_median_age  total_rooms  total_bedrooms  \\\n",
       "0    -122.23     37.88                41.0        880.0           129.0   \n",
       "1    -122.22     37.86                21.0       7099.0          1106.0   \n",
       "2    -122.24     37.85                52.0       1467.0           190.0   \n",
       "3    -122.25     37.85                52.0       1274.0           235.0   \n",
       "4    -122.25     37.85                52.0       1627.0           280.0   \n",
       "\n",
       "   population  households  median_income  median_house_value ocean_proximity  \n",
       "0       322.0       126.0         8.3252            452600.0        NEAR BAY  \n",
       "1      2401.0      1138.0         8.3014            358500.0        NEAR BAY  \n",
       "2       496.0       177.0         7.2574            352100.0        NEAR BAY  \n",
       "3       558.0       219.0         5.6431            341300.0        NEAR BAY  \n",
       "4       565.0       259.0         3.8462            342200.0        NEAR BAY  "
      ]
     },
     "execution_count": 17,
     "metadata": {},
     "output_type": "execute_result"
    }
   ],
   "source": [
    "df = pd.read_csv('03_data_homework.csv')\n",
    "df.head()"
   ]
  },
  {
   "cell_type": "code",
   "execution_count": 18,
   "id": "d50c499c-c1fb-4870-b62a-fa6a6fe45207",
   "metadata": {},
   "outputs": [
    {
     "data": {
      "text/plain": [
       "['longitude',\n",
       " 'latitude',\n",
       " 'housing_median_age',\n",
       " 'total_rooms',\n",
       " 'total_bedrooms',\n",
       " 'population',\n",
       " 'households',\n",
       " 'median_income',\n",
       " 'median_house_value',\n",
       " 'ocean_proximity']"
      ]
     },
     "execution_count": 18,
     "metadata": {},
     "output_type": "execute_result"
    }
   ],
   "source": [
    "df.columns.to_list()"
   ]
  },
  {
   "cell_type": "code",
   "execution_count": 19,
   "id": "03ea7d4d-423d-4642-a0e5-4c33d933ce18",
   "metadata": {},
   "outputs": [
    {
     "data": {
      "text/html": [
       "<div>\n",
       "<style scoped>\n",
       "    .dataframe tbody tr th:only-of-type {\n",
       "        vertical-align: middle;\n",
       "    }\n",
       "\n",
       "    .dataframe tbody tr th {\n",
       "        vertical-align: top;\n",
       "    }\n",
       "\n",
       "    .dataframe thead th {\n",
       "        text-align: right;\n",
       "    }\n",
       "</style>\n",
       "<table border=\"1\" class=\"dataframe\">\n",
       "  <thead>\n",
       "    <tr style=\"text-align: right;\">\n",
       "      <th></th>\n",
       "      <th>0</th>\n",
       "      <th>1</th>\n",
       "      <th>2</th>\n",
       "    </tr>\n",
       "  </thead>\n",
       "  <tbody>\n",
       "    <tr>\n",
       "      <th>longitude</th>\n",
       "      <td>-122.23</td>\n",
       "      <td>-122.22</td>\n",
       "      <td>-122.24</td>\n",
       "    </tr>\n",
       "    <tr>\n",
       "      <th>latitude</th>\n",
       "      <td>37.88</td>\n",
       "      <td>37.86</td>\n",
       "      <td>37.85</td>\n",
       "    </tr>\n",
       "    <tr>\n",
       "      <th>housing_median_age</th>\n",
       "      <td>41.0</td>\n",
       "      <td>21.0</td>\n",
       "      <td>52.0</td>\n",
       "    </tr>\n",
       "    <tr>\n",
       "      <th>total_rooms</th>\n",
       "      <td>880.0</td>\n",
       "      <td>7099.0</td>\n",
       "      <td>1467.0</td>\n",
       "    </tr>\n",
       "    <tr>\n",
       "      <th>total_bedrooms</th>\n",
       "      <td>129.0</td>\n",
       "      <td>1106.0</td>\n",
       "      <td>190.0</td>\n",
       "    </tr>\n",
       "    <tr>\n",
       "      <th>population</th>\n",
       "      <td>322.0</td>\n",
       "      <td>2401.0</td>\n",
       "      <td>496.0</td>\n",
       "    </tr>\n",
       "    <tr>\n",
       "      <th>households</th>\n",
       "      <td>126.0</td>\n",
       "      <td>1138.0</td>\n",
       "      <td>177.0</td>\n",
       "    </tr>\n",
       "    <tr>\n",
       "      <th>median_income</th>\n",
       "      <td>8.3252</td>\n",
       "      <td>8.3014</td>\n",
       "      <td>7.2574</td>\n",
       "    </tr>\n",
       "    <tr>\n",
       "      <th>median_house_value</th>\n",
       "      <td>452600.0</td>\n",
       "      <td>358500.0</td>\n",
       "      <td>352100.0</td>\n",
       "    </tr>\n",
       "    <tr>\n",
       "      <th>ocean_proximity</th>\n",
       "      <td>NEAR BAY</td>\n",
       "      <td>NEAR BAY</td>\n",
       "      <td>NEAR BAY</td>\n",
       "    </tr>\n",
       "  </tbody>\n",
       "</table>\n",
       "</div>"
      ],
      "text/plain": [
       "                           0         1         2\n",
       "longitude            -122.23   -122.22   -122.24\n",
       "latitude               37.88     37.86     37.85\n",
       "housing_median_age      41.0      21.0      52.0\n",
       "total_rooms            880.0    7099.0    1467.0\n",
       "total_bedrooms         129.0    1106.0     190.0\n",
       "population             322.0    2401.0     496.0\n",
       "households             126.0    1138.0     177.0\n",
       "median_income         8.3252    8.3014    7.2574\n",
       "median_house_value  452600.0  358500.0  352100.0\n",
       "ocean_proximity     NEAR BAY  NEAR BAY  NEAR BAY"
      ]
     },
     "execution_count": 19,
     "metadata": {},
     "output_type": "execute_result"
    }
   ],
   "source": [
    "df.head(3).T"
   ]
  },
  {
   "cell_type": "code",
   "execution_count": 20,
   "id": "b8daa518-b26c-45f4-833d-aa98a2afdd5a",
   "metadata": {},
   "outputs": [
    {
     "data": {
      "text/plain": [
       "longitude             float64\n",
       "latitude              float64\n",
       "housing_median_age    float64\n",
       "total_rooms           float64\n",
       "total_bedrooms        float64\n",
       "population            float64\n",
       "households            float64\n",
       "median_income         float64\n",
       "median_house_value    float64\n",
       "ocean_proximity        object\n",
       "dtype: object"
      ]
     },
     "execution_count": 20,
     "metadata": {},
     "output_type": "execute_result"
    }
   ],
   "source": [
    "df.dtypes"
   ]
  },
  {
   "cell_type": "markdown",
   "id": "ef8f19d1-4d61-4bc1-b3f3-db71ab968603",
   "metadata": {},
   "source": [
    "***"
   ]
  },
  {
   "cell_type": "markdown",
   "id": "86688bcf-e80a-4005-b24c-629868390619",
   "metadata": {},
   "source": [
    "# Data Prep"
   ]
  },
  {
   "cell_type": "markdown",
   "id": "d22ed915-ccf3-46db-a903-788c2e42b7c3",
   "metadata": {},
   "source": [
    "## Missing values"
   ]
  },
  {
   "cell_type": "code",
   "execution_count": 185,
   "id": "61f81a94-493c-4d33-ad05-d1a54168fada",
   "metadata": {},
   "outputs": [],
   "source": [
    "df_copy = df.copy()"
   ]
  },
  {
   "cell_type": "code",
   "execution_count": 186,
   "id": "3e03ac38-26f4-44b3-b6c7-fe525a31c97b",
   "metadata": {},
   "outputs": [
    {
     "data": {
      "text/plain": [
       "longitude               0\n",
       "latitude                0\n",
       "housing_median_age      0\n",
       "total_rooms             0\n",
       "total_bedrooms        207\n",
       "population              0\n",
       "households              0\n",
       "median_income           0\n",
       "median_house_value      0\n",
       "ocean_proximity         0\n",
       "dtype: int64"
      ]
     },
     "execution_count": 186,
     "metadata": {},
     "output_type": "execute_result"
    }
   ],
   "source": [
    "# missing vlaues \n",
    "df_copy.isnull().sum()"
   ]
  },
  {
   "cell_type": "code",
   "execution_count": 187,
   "id": "165ee9fc-aff8-455b-b3db-6c83116f65c8",
   "metadata": {},
   "outputs": [],
   "source": [
    "df_copy.total_bedrooms = df_copy.total_bedrooms.fillna(0.0)"
   ]
  },
  {
   "cell_type": "code",
   "execution_count": 188,
   "id": "964843b0-53bf-4b56-a814-0046aee3b7bf",
   "metadata": {},
   "outputs": [
    {
     "data": {
      "text/plain": [
       "longitude             0\n",
       "latitude              0\n",
       "housing_median_age    0\n",
       "total_rooms           0\n",
       "total_bedrooms        0\n",
       "population            0\n",
       "households            0\n",
       "median_income         0\n",
       "median_house_value    0\n",
       "ocean_proximity       0\n",
       "dtype: int64"
      ]
     },
     "execution_count": 188,
     "metadata": {},
     "output_type": "execute_result"
    }
   ],
   "source": [
    "df_copy.isnull().sum()"
   ]
  },
  {
   "cell_type": "markdown",
   "id": "ae2ac440-44a1-4b6a-a6ad-4c162bdd7ce8",
   "metadata": {},
   "source": [
    "## New columns: \n",
    "- rooms_per_household\n",
    "- bedrooms_per_room\n",
    "- population_per_household"
   ]
  },
  {
   "cell_type": "code",
   "execution_count": 189,
   "id": "8e6ff3ce-9b05-4de2-abf5-c82b941e1440",
   "metadata": {},
   "outputs": [],
   "source": [
    "df_copy['rooms_per_household'] = df_copy['total_rooms'] / df_copy['households']\n",
    "df_copy['bedrooms_per_room'] = df_copy['total_bedrooms'] / df_copy['total_rooms']\n",
    "df_copy['population_per_household'] = df_copy['population'] / df_copy['households']"
   ]
  },
  {
   "cell_type": "code",
   "execution_count": 190,
   "id": "55bea044-9624-4aa9-80cf-cb073c7cc60d",
   "metadata": {},
   "outputs": [
    {
     "data": {
      "text/html": [
       "<div>\n",
       "<style scoped>\n",
       "    .dataframe tbody tr th:only-of-type {\n",
       "        vertical-align: middle;\n",
       "    }\n",
       "\n",
       "    .dataframe tbody tr th {\n",
       "        vertical-align: top;\n",
       "    }\n",
       "\n",
       "    .dataframe thead th {\n",
       "        text-align: right;\n",
       "    }\n",
       "</style>\n",
       "<table border=\"1\" class=\"dataframe\">\n",
       "  <thead>\n",
       "    <tr style=\"text-align: right;\">\n",
       "      <th></th>\n",
       "      <th>0</th>\n",
       "      <th>1</th>\n",
       "      <th>2</th>\n",
       "      <th>3</th>\n",
       "      <th>4</th>\n",
       "    </tr>\n",
       "  </thead>\n",
       "  <tbody>\n",
       "    <tr>\n",
       "      <th>longitude</th>\n",
       "      <td>-122.23</td>\n",
       "      <td>-122.22</td>\n",
       "      <td>-122.24</td>\n",
       "      <td>-122.25</td>\n",
       "      <td>-122.25</td>\n",
       "    </tr>\n",
       "    <tr>\n",
       "      <th>latitude</th>\n",
       "      <td>37.88</td>\n",
       "      <td>37.86</td>\n",
       "      <td>37.85</td>\n",
       "      <td>37.85</td>\n",
       "      <td>37.85</td>\n",
       "    </tr>\n",
       "    <tr>\n",
       "      <th>housing_median_age</th>\n",
       "      <td>41.0</td>\n",
       "      <td>21.0</td>\n",
       "      <td>52.0</td>\n",
       "      <td>52.0</td>\n",
       "      <td>52.0</td>\n",
       "    </tr>\n",
       "    <tr>\n",
       "      <th>total_rooms</th>\n",
       "      <td>880.0</td>\n",
       "      <td>7099.0</td>\n",
       "      <td>1467.0</td>\n",
       "      <td>1274.0</td>\n",
       "      <td>1627.0</td>\n",
       "    </tr>\n",
       "    <tr>\n",
       "      <th>total_bedrooms</th>\n",
       "      <td>129.0</td>\n",
       "      <td>1106.0</td>\n",
       "      <td>190.0</td>\n",
       "      <td>235.0</td>\n",
       "      <td>280.0</td>\n",
       "    </tr>\n",
       "    <tr>\n",
       "      <th>population</th>\n",
       "      <td>322.0</td>\n",
       "      <td>2401.0</td>\n",
       "      <td>496.0</td>\n",
       "      <td>558.0</td>\n",
       "      <td>565.0</td>\n",
       "    </tr>\n",
       "    <tr>\n",
       "      <th>households</th>\n",
       "      <td>126.0</td>\n",
       "      <td>1138.0</td>\n",
       "      <td>177.0</td>\n",
       "      <td>219.0</td>\n",
       "      <td>259.0</td>\n",
       "    </tr>\n",
       "    <tr>\n",
       "      <th>median_income</th>\n",
       "      <td>8.3252</td>\n",
       "      <td>8.3014</td>\n",
       "      <td>7.2574</td>\n",
       "      <td>5.6431</td>\n",
       "      <td>3.8462</td>\n",
       "    </tr>\n",
       "    <tr>\n",
       "      <th>median_house_value</th>\n",
       "      <td>452600.0</td>\n",
       "      <td>358500.0</td>\n",
       "      <td>352100.0</td>\n",
       "      <td>341300.0</td>\n",
       "      <td>342200.0</td>\n",
       "    </tr>\n",
       "    <tr>\n",
       "      <th>ocean_proximity</th>\n",
       "      <td>NEAR BAY</td>\n",
       "      <td>NEAR BAY</td>\n",
       "      <td>NEAR BAY</td>\n",
       "      <td>NEAR BAY</td>\n",
       "      <td>NEAR BAY</td>\n",
       "    </tr>\n",
       "    <tr>\n",
       "      <th>rooms_per_household</th>\n",
       "      <td>6.984127</td>\n",
       "      <td>6.238137</td>\n",
       "      <td>8.288136</td>\n",
       "      <td>5.817352</td>\n",
       "      <td>6.281853</td>\n",
       "    </tr>\n",
       "    <tr>\n",
       "      <th>bedrooms_per_room</th>\n",
       "      <td>0.146591</td>\n",
       "      <td>0.155797</td>\n",
       "      <td>0.129516</td>\n",
       "      <td>0.184458</td>\n",
       "      <td>0.172096</td>\n",
       "    </tr>\n",
       "    <tr>\n",
       "      <th>population_per_household</th>\n",
       "      <td>2.555556</td>\n",
       "      <td>2.109842</td>\n",
       "      <td>2.80226</td>\n",
       "      <td>2.547945</td>\n",
       "      <td>2.181467</td>\n",
       "    </tr>\n",
       "  </tbody>\n",
       "</table>\n",
       "</div>"
      ],
      "text/plain": [
       "                                 0         1         2         3         4\n",
       "longitude                  -122.23   -122.22   -122.24   -122.25   -122.25\n",
       "latitude                     37.88     37.86     37.85     37.85     37.85\n",
       "housing_median_age            41.0      21.0      52.0      52.0      52.0\n",
       "total_rooms                  880.0    7099.0    1467.0    1274.0    1627.0\n",
       "total_bedrooms               129.0    1106.0     190.0     235.0     280.0\n",
       "population                   322.0    2401.0     496.0     558.0     565.0\n",
       "households                   126.0    1138.0     177.0     219.0     259.0\n",
       "median_income               8.3252    8.3014    7.2574    5.6431    3.8462\n",
       "median_house_value        452600.0  358500.0  352100.0  341300.0  342200.0\n",
       "ocean_proximity           NEAR BAY  NEAR BAY  NEAR BAY  NEAR BAY  NEAR BAY\n",
       "rooms_per_household       6.984127  6.238137  8.288136  5.817352  6.281853\n",
       "bedrooms_per_room         0.146591  0.155797  0.129516  0.184458  0.172096\n",
       "population_per_household  2.555556  2.109842   2.80226  2.547945  2.181467"
      ]
     },
     "execution_count": 190,
     "metadata": {},
     "output_type": "execute_result"
    }
   ],
   "source": [
    "df_copy.head().T"
   ]
  },
  {
   "cell_type": "markdown",
   "id": "fce08233-3828-47a2-87aa-bc0f6652f972",
   "metadata": {},
   "source": [
    "***"
   ]
  },
  {
   "cell_type": "markdown",
   "id": "761d0928-ca13-497a-bbb4-e2f708487021",
   "metadata": {},
   "source": [
    "# Question 1\n",
    "\n",
    "What is the most frequent observation (mode) for the column ocean_proximity?"
   ]
  },
  {
   "cell_type": "code",
   "execution_count": 191,
   "id": "35892e72-22b3-4b12-839c-1bfa8256ade9",
   "metadata": {},
   "outputs": [
    {
     "data": {
      "text/plain": [
       "<1H OCEAN     9136\n",
       "INLAND        6551\n",
       "NEAR OCEAN    2658\n",
       "NEAR BAY      2290\n",
       "ISLAND           5\n",
       "Name: ocean_proximity, dtype: int64"
      ]
     },
     "execution_count": 191,
     "metadata": {},
     "output_type": "execute_result"
    }
   ],
   "source": [
    "df_copy['ocean_proximity'].value_counts().sort_values(ascending=False)"
   ]
  },
  {
   "cell_type": "markdown",
   "id": "b7c86a8b-97e2-4a60-a31c-7c74f64b5f8a",
   "metadata": {},
   "source": [
    "***"
   ]
  },
  {
   "cell_type": "markdown",
   "id": "7e26b6b5-0e95-4b7b-8ec2-eee90f294a46",
   "metadata": {},
   "source": [
    "# Question 2\n",
    "\n",
    "- Create the correlation matrix for the numerical features of your train dataset.\n",
    "    - In a correlation matrix, you compute the correlation coefficient between every pair of features in the dataset.\n",
    "- What are the two features that have the biggest correlation in this dataset?"
   ]
  },
  {
   "cell_type": "code",
   "execution_count": 192,
   "id": "82bbd9ae-ff51-43d7-90be-6002b828e63c",
   "metadata": {},
   "outputs": [
    {
     "data": {
      "text/plain": [
       "Index(['longitude', 'latitude', 'housing_median_age', 'total_rooms',\n",
       "       'total_bedrooms', 'population', 'households', 'median_income',\n",
       "       'median_house_value', 'ocean_proximity', 'rooms_per_household',\n",
       "       'bedrooms_per_room', 'population_per_household'],\n",
       "      dtype='object')"
      ]
     },
     "execution_count": 192,
     "metadata": {},
     "output_type": "execute_result"
    }
   ],
   "source": [
    "df_copy.columns"
   ]
  },
  {
   "cell_type": "code",
   "execution_count": 193,
   "id": "aba8d5ad-eaab-4c94-876f-a82a341955ca",
   "metadata": {},
   "outputs": [],
   "source": [
    "features_num = ['longitude', 'latitude', 'housing_median_age', 'total_rooms',\n",
    "       'total_bedrooms', 'population', 'households', 'median_income','rooms_per_household',\n",
    "       'bedrooms_per_room', 'population_per_household']"
   ]
  },
  {
   "cell_type": "code",
   "execution_count": 194,
   "id": "a34b9283-a140-453e-905e-368981d8cabc",
   "metadata": {},
   "outputs": [],
   "source": [
    "features_cat = ['ocean_proximity']"
   ]
  },
  {
   "cell_type": "code",
   "execution_count": 195,
   "id": "d4d8fabb-51dd-43d1-ba10-05d55859807b",
   "metadata": {},
   "outputs": [
    {
     "data": {
      "text/plain": [
       "longitude                  -0.045967\n",
       "latitude                   -0.144160\n",
       "housing_median_age          0.105623\n",
       "total_rooms                 0.134153\n",
       "total_bedrooms              0.049148\n",
       "population                 -0.024650\n",
       "households                  0.065843\n",
       "median_income               0.688075\n",
       "rooms_per_household         0.151948\n",
       "bedrooms_per_room          -0.238759\n",
       "population_per_household   -0.023737\n",
       "dtype: float64"
      ]
     },
     "execution_count": 195,
     "metadata": {},
     "output_type": "execute_result"
    }
   ],
   "source": [
    "df_copy[features_num].corrwith(df_copy.median_house_value)"
   ]
  },
  {
   "cell_type": "code",
   "execution_count": 196,
   "id": "80e69a41-ba78-409b-91c2-377d71c1e4ab",
   "metadata": {},
   "outputs": [
    {
     "data": {
      "text/html": [
       "<div>\n",
       "<style scoped>\n",
       "    .dataframe tbody tr th:only-of-type {\n",
       "        vertical-align: middle;\n",
       "    }\n",
       "\n",
       "    .dataframe tbody tr th {\n",
       "        vertical-align: top;\n",
       "    }\n",
       "\n",
       "    .dataframe thead th {\n",
       "        text-align: right;\n",
       "    }\n",
       "</style>\n",
       "<table border=\"1\" class=\"dataframe\">\n",
       "  <thead>\n",
       "    <tr style=\"text-align: right;\">\n",
       "      <th></th>\n",
       "      <th>longitude</th>\n",
       "      <th>latitude</th>\n",
       "      <th>housing_median_age</th>\n",
       "      <th>total_rooms</th>\n",
       "      <th>total_bedrooms</th>\n",
       "      <th>population</th>\n",
       "      <th>households</th>\n",
       "      <th>median_income</th>\n",
       "      <th>rooms_per_household</th>\n",
       "      <th>bedrooms_per_room</th>\n",
       "      <th>population_per_household</th>\n",
       "    </tr>\n",
       "  </thead>\n",
       "  <tbody>\n",
       "    <tr>\n",
       "      <th>longitude</th>\n",
       "      <td>1.000000</td>\n",
       "      <td>-0.924664</td>\n",
       "      <td>-0.108197</td>\n",
       "      <td>0.044568</td>\n",
       "      <td>0.068082</td>\n",
       "      <td>0.099773</td>\n",
       "      <td>0.055310</td>\n",
       "      <td>-0.015176</td>\n",
       "      <td>-0.027540</td>\n",
       "      <td>0.084836</td>\n",
       "      <td>0.002476</td>\n",
       "    </tr>\n",
       "    <tr>\n",
       "      <th>latitude</th>\n",
       "      <td>-0.924664</td>\n",
       "      <td>1.000000</td>\n",
       "      <td>0.011173</td>\n",
       "      <td>-0.036100</td>\n",
       "      <td>-0.065318</td>\n",
       "      <td>-0.108785</td>\n",
       "      <td>-0.071035</td>\n",
       "      <td>-0.079809</td>\n",
       "      <td>0.106389</td>\n",
       "      <td>-0.104112</td>\n",
       "      <td>0.002366</td>\n",
       "    </tr>\n",
       "    <tr>\n",
       "      <th>housing_median_age</th>\n",
       "      <td>-0.108197</td>\n",
       "      <td>0.011173</td>\n",
       "      <td>1.000000</td>\n",
       "      <td>-0.361262</td>\n",
       "      <td>-0.317063</td>\n",
       "      <td>-0.296244</td>\n",
       "      <td>-0.302916</td>\n",
       "      <td>-0.119034</td>\n",
       "      <td>-0.153277</td>\n",
       "      <td>0.125396</td>\n",
       "      <td>0.013191</td>\n",
       "    </tr>\n",
       "    <tr>\n",
       "      <th>total_rooms</th>\n",
       "      <td>0.044568</td>\n",
       "      <td>-0.036100</td>\n",
       "      <td>-0.361262</td>\n",
       "      <td>1.000000</td>\n",
       "      <td>0.920196</td>\n",
       "      <td>0.857126</td>\n",
       "      <td>0.918484</td>\n",
       "      <td>0.198050</td>\n",
       "      <td>0.133798</td>\n",
       "      <td>-0.174583</td>\n",
       "      <td>-0.024581</td>\n",
       "    </tr>\n",
       "    <tr>\n",
       "      <th>total_bedrooms</th>\n",
       "      <td>0.068082</td>\n",
       "      <td>-0.065318</td>\n",
       "      <td>-0.317063</td>\n",
       "      <td>0.920196</td>\n",
       "      <td>1.000000</td>\n",
       "      <td>0.866266</td>\n",
       "      <td>0.966507</td>\n",
       "      <td>-0.007295</td>\n",
       "      <td>0.002717</td>\n",
       "      <td>0.122205</td>\n",
       "      <td>-0.028019</td>\n",
       "    </tr>\n",
       "    <tr>\n",
       "      <th>population</th>\n",
       "      <td>0.099773</td>\n",
       "      <td>-0.108785</td>\n",
       "      <td>-0.296244</td>\n",
       "      <td>0.857126</td>\n",
       "      <td>0.866266</td>\n",
       "      <td>1.000000</td>\n",
       "      <td>0.907222</td>\n",
       "      <td>0.004834</td>\n",
       "      <td>-0.072213</td>\n",
       "      <td>0.031397</td>\n",
       "      <td>0.069863</td>\n",
       "    </tr>\n",
       "    <tr>\n",
       "      <th>households</th>\n",
       "      <td>0.055310</td>\n",
       "      <td>-0.071035</td>\n",
       "      <td>-0.302916</td>\n",
       "      <td>0.918484</td>\n",
       "      <td>0.966507</td>\n",
       "      <td>0.907222</td>\n",
       "      <td>1.000000</td>\n",
       "      <td>0.013033</td>\n",
       "      <td>-0.080598</td>\n",
       "      <td>0.059818</td>\n",
       "      <td>-0.027309</td>\n",
       "    </tr>\n",
       "    <tr>\n",
       "      <th>median_income</th>\n",
       "      <td>-0.015176</td>\n",
       "      <td>-0.079809</td>\n",
       "      <td>-0.119034</td>\n",
       "      <td>0.198050</td>\n",
       "      <td>-0.007295</td>\n",
       "      <td>0.004834</td>\n",
       "      <td>0.013033</td>\n",
       "      <td>1.000000</td>\n",
       "      <td>0.326895</td>\n",
       "      <td>-0.573836</td>\n",
       "      <td>0.018766</td>\n",
       "    </tr>\n",
       "    <tr>\n",
       "      <th>rooms_per_household</th>\n",
       "      <td>-0.027540</td>\n",
       "      <td>0.106389</td>\n",
       "      <td>-0.153277</td>\n",
       "      <td>0.133798</td>\n",
       "      <td>0.002717</td>\n",
       "      <td>-0.072213</td>\n",
       "      <td>-0.080598</td>\n",
       "      <td>0.326895</td>\n",
       "      <td>1.000000</td>\n",
       "      <td>-0.387465</td>\n",
       "      <td>-0.004852</td>\n",
       "    </tr>\n",
       "    <tr>\n",
       "      <th>bedrooms_per_room</th>\n",
       "      <td>0.084836</td>\n",
       "      <td>-0.104112</td>\n",
       "      <td>0.125396</td>\n",
       "      <td>-0.174583</td>\n",
       "      <td>0.122205</td>\n",
       "      <td>0.031397</td>\n",
       "      <td>0.059818</td>\n",
       "      <td>-0.573836</td>\n",
       "      <td>-0.387465</td>\n",
       "      <td>1.000000</td>\n",
       "      <td>0.003047</td>\n",
       "    </tr>\n",
       "    <tr>\n",
       "      <th>population_per_household</th>\n",
       "      <td>0.002476</td>\n",
       "      <td>0.002366</td>\n",
       "      <td>0.013191</td>\n",
       "      <td>-0.024581</td>\n",
       "      <td>-0.028019</td>\n",
       "      <td>0.069863</td>\n",
       "      <td>-0.027309</td>\n",
       "      <td>0.018766</td>\n",
       "      <td>-0.004852</td>\n",
       "      <td>0.003047</td>\n",
       "      <td>1.000000</td>\n",
       "    </tr>\n",
       "  </tbody>\n",
       "</table>\n",
       "</div>"
      ],
      "text/plain": [
       "                          longitude  latitude  housing_median_age  \\\n",
       "longitude                  1.000000 -0.924664           -0.108197   \n",
       "latitude                  -0.924664  1.000000            0.011173   \n",
       "housing_median_age        -0.108197  0.011173            1.000000   \n",
       "total_rooms                0.044568 -0.036100           -0.361262   \n",
       "total_bedrooms             0.068082 -0.065318           -0.317063   \n",
       "population                 0.099773 -0.108785           -0.296244   \n",
       "households                 0.055310 -0.071035           -0.302916   \n",
       "median_income             -0.015176 -0.079809           -0.119034   \n",
       "rooms_per_household       -0.027540  0.106389           -0.153277   \n",
       "bedrooms_per_room          0.084836 -0.104112            0.125396   \n",
       "population_per_household   0.002476  0.002366            0.013191   \n",
       "\n",
       "                          total_rooms  total_bedrooms  population  households  \\\n",
       "longitude                    0.044568        0.068082    0.099773    0.055310   \n",
       "latitude                    -0.036100       -0.065318   -0.108785   -0.071035   \n",
       "housing_median_age          -0.361262       -0.317063   -0.296244   -0.302916   \n",
       "total_rooms                  1.000000        0.920196    0.857126    0.918484   \n",
       "total_bedrooms               0.920196        1.000000    0.866266    0.966507   \n",
       "population                   0.857126        0.866266    1.000000    0.907222   \n",
       "households                   0.918484        0.966507    0.907222    1.000000   \n",
       "median_income                0.198050       -0.007295    0.004834    0.013033   \n",
       "rooms_per_household          0.133798        0.002717   -0.072213   -0.080598   \n",
       "bedrooms_per_room           -0.174583        0.122205    0.031397    0.059818   \n",
       "population_per_household    -0.024581       -0.028019    0.069863   -0.027309   \n",
       "\n",
       "                          median_income  rooms_per_household  \\\n",
       "longitude                     -0.015176            -0.027540   \n",
       "latitude                      -0.079809             0.106389   \n",
       "housing_median_age            -0.119034            -0.153277   \n",
       "total_rooms                    0.198050             0.133798   \n",
       "total_bedrooms                -0.007295             0.002717   \n",
       "population                     0.004834            -0.072213   \n",
       "households                     0.013033            -0.080598   \n",
       "median_income                  1.000000             0.326895   \n",
       "rooms_per_household            0.326895             1.000000   \n",
       "bedrooms_per_room             -0.573836            -0.387465   \n",
       "population_per_household       0.018766            -0.004852   \n",
       "\n",
       "                          bedrooms_per_room  population_per_household  \n",
       "longitude                          0.084836                  0.002476  \n",
       "latitude                          -0.104112                  0.002366  \n",
       "housing_median_age                 0.125396                  0.013191  \n",
       "total_rooms                       -0.174583                 -0.024581  \n",
       "total_bedrooms                     0.122205                 -0.028019  \n",
       "population                         0.031397                  0.069863  \n",
       "households                         0.059818                 -0.027309  \n",
       "median_income                     -0.573836                  0.018766  \n",
       "rooms_per_household               -0.387465                 -0.004852  \n",
       "bedrooms_per_room                  1.000000                  0.003047  \n",
       "population_per_household           0.003047                  1.000000  "
      ]
     },
     "execution_count": 196,
     "metadata": {},
     "output_type": "execute_result"
    }
   ],
   "source": [
    "corr_matrix = df_copy[features_num].corr() \n",
    "corr_matrix"
   ]
  },
  {
   "cell_type": "code",
   "execution_count": 197,
   "id": "00436a97-c977-4397-a270-49b7a81abbd7",
   "metadata": {},
   "outputs": [
    {
     "data": {
      "text/html": [
       "<div>\n",
       "<style scoped>\n",
       "    .dataframe tbody tr th:only-of-type {\n",
       "        vertical-align: middle;\n",
       "    }\n",
       "\n",
       "    .dataframe tbody tr th {\n",
       "        vertical-align: top;\n",
       "    }\n",
       "\n",
       "    .dataframe thead th {\n",
       "        text-align: right;\n",
       "    }\n",
       "</style>\n",
       "<table border=\"1\" class=\"dataframe\">\n",
       "  <thead>\n",
       "    <tr style=\"text-align: right;\">\n",
       "      <th></th>\n",
       "      <th>longitude</th>\n",
       "      <th>latitude</th>\n",
       "      <th>housing_median_age</th>\n",
       "      <th>total_rooms</th>\n",
       "      <th>total_bedrooms</th>\n",
       "      <th>population</th>\n",
       "      <th>households</th>\n",
       "      <th>median_income</th>\n",
       "      <th>rooms_per_household</th>\n",
       "      <th>bedrooms_per_room</th>\n",
       "      <th>population_per_household</th>\n",
       "    </tr>\n",
       "  </thead>\n",
       "  <tbody>\n",
       "    <tr>\n",
       "      <th>longitude</th>\n",
       "      <td>1.0</td>\n",
       "      <td>NaN</td>\n",
       "      <td>NaN</td>\n",
       "      <td>NaN</td>\n",
       "      <td>NaN</td>\n",
       "      <td>NaN</td>\n",
       "      <td>NaN</td>\n",
       "      <td>NaN</td>\n",
       "      <td>NaN</td>\n",
       "      <td>NaN</td>\n",
       "      <td>NaN</td>\n",
       "    </tr>\n",
       "    <tr>\n",
       "      <th>latitude</th>\n",
       "      <td>NaN</td>\n",
       "      <td>1.0</td>\n",
       "      <td>NaN</td>\n",
       "      <td>NaN</td>\n",
       "      <td>NaN</td>\n",
       "      <td>NaN</td>\n",
       "      <td>NaN</td>\n",
       "      <td>NaN</td>\n",
       "      <td>NaN</td>\n",
       "      <td>NaN</td>\n",
       "      <td>NaN</td>\n",
       "    </tr>\n",
       "    <tr>\n",
       "      <th>housing_median_age</th>\n",
       "      <td>NaN</td>\n",
       "      <td>NaN</td>\n",
       "      <td>1.0</td>\n",
       "      <td>NaN</td>\n",
       "      <td>NaN</td>\n",
       "      <td>NaN</td>\n",
       "      <td>NaN</td>\n",
       "      <td>NaN</td>\n",
       "      <td>NaN</td>\n",
       "      <td>NaN</td>\n",
       "      <td>NaN</td>\n",
       "    </tr>\n",
       "    <tr>\n",
       "      <th>total_rooms</th>\n",
       "      <td>NaN</td>\n",
       "      <td>NaN</td>\n",
       "      <td>NaN</td>\n",
       "      <td>1.0</td>\n",
       "      <td>NaN</td>\n",
       "      <td>NaN</td>\n",
       "      <td>NaN</td>\n",
       "      <td>NaN</td>\n",
       "      <td>NaN</td>\n",
       "      <td>NaN</td>\n",
       "      <td>NaN</td>\n",
       "    </tr>\n",
       "    <tr>\n",
       "      <th>total_bedrooms</th>\n",
       "      <td>NaN</td>\n",
       "      <td>NaN</td>\n",
       "      <td>NaN</td>\n",
       "      <td>NaN</td>\n",
       "      <td>1.000000</td>\n",
       "      <td>NaN</td>\n",
       "      <td>0.966507</td>\n",
       "      <td>NaN</td>\n",
       "      <td>NaN</td>\n",
       "      <td>NaN</td>\n",
       "      <td>NaN</td>\n",
       "    </tr>\n",
       "    <tr>\n",
       "      <th>population</th>\n",
       "      <td>NaN</td>\n",
       "      <td>NaN</td>\n",
       "      <td>NaN</td>\n",
       "      <td>NaN</td>\n",
       "      <td>NaN</td>\n",
       "      <td>1.0</td>\n",
       "      <td>NaN</td>\n",
       "      <td>NaN</td>\n",
       "      <td>NaN</td>\n",
       "      <td>NaN</td>\n",
       "      <td>NaN</td>\n",
       "    </tr>\n",
       "    <tr>\n",
       "      <th>households</th>\n",
       "      <td>NaN</td>\n",
       "      <td>NaN</td>\n",
       "      <td>NaN</td>\n",
       "      <td>NaN</td>\n",
       "      <td>0.966507</td>\n",
       "      <td>NaN</td>\n",
       "      <td>1.000000</td>\n",
       "      <td>NaN</td>\n",
       "      <td>NaN</td>\n",
       "      <td>NaN</td>\n",
       "      <td>NaN</td>\n",
       "    </tr>\n",
       "    <tr>\n",
       "      <th>median_income</th>\n",
       "      <td>NaN</td>\n",
       "      <td>NaN</td>\n",
       "      <td>NaN</td>\n",
       "      <td>NaN</td>\n",
       "      <td>NaN</td>\n",
       "      <td>NaN</td>\n",
       "      <td>NaN</td>\n",
       "      <td>1.0</td>\n",
       "      <td>NaN</td>\n",
       "      <td>NaN</td>\n",
       "      <td>NaN</td>\n",
       "    </tr>\n",
       "    <tr>\n",
       "      <th>rooms_per_household</th>\n",
       "      <td>NaN</td>\n",
       "      <td>NaN</td>\n",
       "      <td>NaN</td>\n",
       "      <td>NaN</td>\n",
       "      <td>NaN</td>\n",
       "      <td>NaN</td>\n",
       "      <td>NaN</td>\n",
       "      <td>NaN</td>\n",
       "      <td>1.0</td>\n",
       "      <td>NaN</td>\n",
       "      <td>NaN</td>\n",
       "    </tr>\n",
       "    <tr>\n",
       "      <th>bedrooms_per_room</th>\n",
       "      <td>NaN</td>\n",
       "      <td>NaN</td>\n",
       "      <td>NaN</td>\n",
       "      <td>NaN</td>\n",
       "      <td>NaN</td>\n",
       "      <td>NaN</td>\n",
       "      <td>NaN</td>\n",
       "      <td>NaN</td>\n",
       "      <td>NaN</td>\n",
       "      <td>1.0</td>\n",
       "      <td>NaN</td>\n",
       "    </tr>\n",
       "    <tr>\n",
       "      <th>population_per_household</th>\n",
       "      <td>NaN</td>\n",
       "      <td>NaN</td>\n",
       "      <td>NaN</td>\n",
       "      <td>NaN</td>\n",
       "      <td>NaN</td>\n",
       "      <td>NaN</td>\n",
       "      <td>NaN</td>\n",
       "      <td>NaN</td>\n",
       "      <td>NaN</td>\n",
       "      <td>NaN</td>\n",
       "      <td>1.0</td>\n",
       "    </tr>\n",
       "  </tbody>\n",
       "</table>\n",
       "</div>"
      ],
      "text/plain": [
       "                          longitude  latitude  housing_median_age  \\\n",
       "longitude                       1.0       NaN                 NaN   \n",
       "latitude                        NaN       1.0                 NaN   \n",
       "housing_median_age              NaN       NaN                 1.0   \n",
       "total_rooms                     NaN       NaN                 NaN   \n",
       "total_bedrooms                  NaN       NaN                 NaN   \n",
       "population                      NaN       NaN                 NaN   \n",
       "households                      NaN       NaN                 NaN   \n",
       "median_income                   NaN       NaN                 NaN   \n",
       "rooms_per_household             NaN       NaN                 NaN   \n",
       "bedrooms_per_room               NaN       NaN                 NaN   \n",
       "population_per_household        NaN       NaN                 NaN   \n",
       "\n",
       "                          total_rooms  total_bedrooms  population  households  \\\n",
       "longitude                         NaN             NaN         NaN         NaN   \n",
       "latitude                          NaN             NaN         NaN         NaN   \n",
       "housing_median_age                NaN             NaN         NaN         NaN   \n",
       "total_rooms                       1.0             NaN         NaN         NaN   \n",
       "total_bedrooms                    NaN        1.000000         NaN    0.966507   \n",
       "population                        NaN             NaN         1.0         NaN   \n",
       "households                        NaN        0.966507         NaN    1.000000   \n",
       "median_income                     NaN             NaN         NaN         NaN   \n",
       "rooms_per_household               NaN             NaN         NaN         NaN   \n",
       "bedrooms_per_room                 NaN             NaN         NaN         NaN   \n",
       "population_per_household          NaN             NaN         NaN         NaN   \n",
       "\n",
       "                          median_income  rooms_per_household  \\\n",
       "longitude                           NaN                  NaN   \n",
       "latitude                            NaN                  NaN   \n",
       "housing_median_age                  NaN                  NaN   \n",
       "total_rooms                         NaN                  NaN   \n",
       "total_bedrooms                      NaN                  NaN   \n",
       "population                          NaN                  NaN   \n",
       "households                          NaN                  NaN   \n",
       "median_income                       1.0                  NaN   \n",
       "rooms_per_household                 NaN                  1.0   \n",
       "bedrooms_per_room                   NaN                  NaN   \n",
       "population_per_household            NaN                  NaN   \n",
       "\n",
       "                          bedrooms_per_room  population_per_household  \n",
       "longitude                               NaN                       NaN  \n",
       "latitude                                NaN                       NaN  \n",
       "housing_median_age                      NaN                       NaN  \n",
       "total_rooms                             NaN                       NaN  \n",
       "total_bedrooms                          NaN                       NaN  \n",
       "population                              NaN                       NaN  \n",
       "households                              NaN                       NaN  \n",
       "median_income                           NaN                       NaN  \n",
       "rooms_per_household                     NaN                       NaN  \n",
       "bedrooms_per_room                       1.0                       NaN  \n",
       "population_per_household                NaN                       1.0  "
      ]
     },
     "execution_count": 197,
     "metadata": {},
     "output_type": "execute_result"
    }
   ],
   "source": [
    "corr_matrix[corr_matrix.abs() > 0.95]"
   ]
  },
  {
   "cell_type": "markdown",
   "id": "8375d322-c0ae-4543-b666-0d98b2cbced3",
   "metadata": {},
   "source": [
    "## Make median_house_value binary"
   ]
  },
  {
   "cell_type": "code",
   "execution_count": 198,
   "id": "4752d57f-c51e-4075-afdd-3c2f6ece42c2",
   "metadata": {},
   "outputs": [
    {
     "data": {
      "text/plain": [
       "206855.81690891474"
      ]
     },
     "execution_count": 198,
     "metadata": {},
     "output_type": "execute_result"
    }
   ],
   "source": [
    "mean_house_price =  df_copy['median_house_value'].mean()\n",
    "mean_house_price"
   ]
  },
  {
   "cell_type": "code",
   "execution_count": 199,
   "id": "2c955925-4efc-4005-8562-33038825402a",
   "metadata": {},
   "outputs": [],
   "source": [
    "def convert_house_price_to_binary(x):\n",
    "    return 1 if x > mean_house_price else 0"
   ]
  },
  {
   "cell_type": "code",
   "execution_count": 200,
   "id": "6d0e5202-a15c-4e96-96e2-46d17e644d69",
   "metadata": {},
   "outputs": [],
   "source": [
    "df_copy['median_house_value_binary'] = df_copy['median_house_value'].apply(convert_house_price_to_binary)"
   ]
  },
  {
   "cell_type": "markdown",
   "id": "e5df45cd-02fa-4dbc-bea1-31106bff0d51",
   "metadata": {},
   "source": [
    "## Split the data "
   ]
  },
  {
   "cell_type": "code",
   "execution_count": 201,
   "id": "a1ca777a-8a0e-4e63-ad66-a536d7ae6948",
   "metadata": {},
   "outputs": [
    {
     "data": {
      "text/plain": [
       "((12384, 14), (4128, 14), (4128, 14))"
      ]
     },
     "execution_count": 201,
     "metadata": {},
     "output_type": "execute_result"
    }
   ],
   "source": [
    "df_train_full, df_test = train_test_split(df_copy, test_size=0.2, random_state=1)\n",
    "df_train, df_val = train_test_split(df_train_full, test_size=0.25, random_state=1)\n",
    "\n",
    "df_train.shape, df_val.shape, df_test.shape"
   ]
  },
  {
   "cell_type": "code",
   "execution_count": 202,
   "id": "1725e95f-c2bf-4efc-8e90-c3842b4f0f68",
   "metadata": {},
   "outputs": [],
   "source": [
    "# Get y variables \n",
    "y_train = df_train.median_house_value_binary.values\n",
    "y_val   = df_val.median_house_value_binary.values\n",
    "y_test  = df_test.median_house_value_binary.values"
   ]
  },
  {
   "cell_type": "code",
   "execution_count": 203,
   "id": "e9a3585c-dc44-447b-b727-bbb50eb1f0d9",
   "metadata": {},
   "outputs": [],
   "source": [
    "# Drop the churn feature from df_train, df_val and df_test\n",
    "del df_train['median_house_value']\n",
    "del df_train['median_house_value_binary']\n",
    "del df_val['median_house_value']\n",
    "del df_val['median_house_value_binary']\n",
    "del df_test['median_house_value']\n",
    "del df_test['median_house_value_binary']"
   ]
  },
  {
   "cell_type": "code",
   "execution_count": 204,
   "id": "ebe3fcfe-c9c5-4f88-a684-7823baacfea3",
   "metadata": {},
   "outputs": [
    {
     "data": {
      "text/plain": [
       "((12384, 12), (4128, 12), (4128, 12))"
      ]
     },
     "execution_count": 204,
     "metadata": {},
     "output_type": "execute_result"
    }
   ],
   "source": [
    "df_train.shape, df_val.shape, df_test.shape"
   ]
  },
  {
   "cell_type": "markdown",
   "id": "e400f194-89b6-4375-b69a-d793a3fbc90e",
   "metadata": {},
   "source": [
    "***"
   ]
  },
  {
   "cell_type": "markdown",
   "id": "51740c9b-7bbd-48ab-af58-83d020175ea8",
   "metadata": {},
   "source": [
    "# Question 3\n",
    "\n",
    "- Calculate the mutual information score with the (binarized) price for the categorical variable that we have. Use the training set only.\n",
    "- What is the value of mutual information?\n",
    "- Round it to 2 decimal digits using round(score, 2)"
   ]
  },
  {
   "cell_type": "code",
   "execution_count": 205,
   "id": "87451285-dec5-4922-8ac0-84edd95c1826",
   "metadata": {},
   "outputs": [
    {
     "data": {
      "text/plain": [
       "longitude                   float64\n",
       "latitude                    float64\n",
       "housing_median_age          float64\n",
       "total_rooms                 float64\n",
       "total_bedrooms              float64\n",
       "population                  float64\n",
       "households                  float64\n",
       "median_income               float64\n",
       "ocean_proximity              object\n",
       "rooms_per_household         float64\n",
       "bedrooms_per_room           float64\n",
       "population_per_household    float64\n",
       "dtype: object"
      ]
     },
     "execution_count": 205,
     "metadata": {},
     "output_type": "execute_result"
    }
   ],
   "source": [
    "df_train.dtypes"
   ]
  },
  {
   "cell_type": "code",
   "execution_count": 206,
   "id": "58bb81ce-a909-4393-b856-549f6410867d",
   "metadata": {},
   "outputs": [
    {
     "data": {
      "text/plain": [
       "0.1"
      ]
     },
     "execution_count": 206,
     "metadata": {},
     "output_type": "execute_result"
    }
   ],
   "source": [
    "round(mutual_info_score(df_train.ocean_proximity, y_train), 2)"
   ]
  },
  {
   "cell_type": "markdown",
   "id": "aac0080c-7655-47c4-a30d-2d158d6967c8",
   "metadata": {},
   "source": [
    "***"
   ]
  },
  {
   "cell_type": "markdown",
   "id": "075fdb8e-de5d-4be7-bd9e-8977ab125164",
   "metadata": {},
   "source": [
    "# Question 4\n",
    "\n",
    "- Now let's train a logistic regression\n",
    "- Remember that we have one categorical variable ocean_proximity in the data. Include it using one-hot encoding.\n",
    "- Fit the model on the training dataset.\n",
    "    - To make sure the results are reproducible across different versions of Scikit-Learn, fit the model with these parameters:\n",
    "    - model = LogisticRegression(solver=\"liblinear\", C=1.0, max_iter=1000, random_state=42)\n",
    "- Calculate the accuracy on the validation dataset and round it to 2 decimal digits."
   ]
  },
  {
   "cell_type": "code",
   "execution_count": 120,
   "id": "2d62370d-0559-456c-981d-4a1a3280415a",
   "metadata": {},
   "outputs": [],
   "source": [
    "# Numericals \n",
    "X_train_num = df_train[features_num].values\n",
    "\n",
    "scaler = StandardScaler()\n",
    "\n",
    "X_train_num = scaler.fit_transform(X_train_num)"
   ]
  },
  {
   "cell_type": "code",
   "execution_count": 121,
   "id": "e1270f22-fe94-4a79-a075-1c45b22fdce8",
   "metadata": {},
   "outputs": [
    {
     "data": {
      "text/plain": [
       "array([34.63, 34.69, 33.78, ..., 33.9 , 36.78, 34.02])"
      ]
     },
     "execution_count": 121,
     "metadata": {},
     "output_type": "execute_result"
    }
   ],
   "source": [
    "df_train.latitude.values"
   ]
  },
  {
   "cell_type": "code",
   "execution_count": 122,
   "id": "98ed2410-15a7-4b79-a054-3d816a9c030a",
   "metadata": {},
   "outputs": [
    {
     "data": {
      "text/plain": [
       "array([ 0.69282843,  1.33076719,  0.65295726, ...,  0.60311829,\n",
       "       -0.10957892,  0.97192664])"
      ]
     },
     "execution_count": 122,
     "metadata": {},
     "output_type": "execute_result"
    }
   ],
   "source": [
    "X_train_num[:, 0]"
   ]
  },
  {
   "cell_type": "code",
   "execution_count": 125,
   "id": "0573a255-a394-474f-af6a-439d532417bf",
   "metadata": {},
   "outputs": [],
   "source": [
    "# Categoircals\n",
    "\n",
    "X_train_cat = df_train[features_cat].values\n",
    "\n",
    "ohe = OneHotEncoder(sparse=False, handle_unknown='ignore')\n",
    "\n",
    "X_train_cat = ohe.fit_transform(X_train_cat)"
   ]
  },
  {
   "cell_type": "code",
   "execution_count": 126,
   "id": "ce30c880-daee-4b62-add0-67421a734452",
   "metadata": {},
   "outputs": [
    {
     "data": {
      "text/plain": [
       "array(['INLAND', 'INLAND', 'NEAR OCEAN', ..., '<1H OCEAN', 'INLAND',\n",
       "       'INLAND'], dtype=object)"
      ]
     },
     "execution_count": 126,
     "metadata": {},
     "output_type": "execute_result"
    }
   ],
   "source": [
    "df_train.ocean_proximity.values"
   ]
  },
  {
   "cell_type": "code",
   "execution_count": 128,
   "id": "c0fd9df1-fda0-4bf0-a0de-ff929adcdc73",
   "metadata": {},
   "outputs": [
    {
     "data": {
      "text/plain": [
       "array([[0., 1., 0., 0., 0.],\n",
       "       [0., 1., 0., 0., 0.],\n",
       "       [0., 0., 0., 0., 1.],\n",
       "       ...,\n",
       "       [1., 0., 0., 0., 0.],\n",
       "       [0., 1., 0., 0., 0.],\n",
       "       [0., 1., 0., 0., 0.]])"
      ]
     },
     "execution_count": 128,
     "metadata": {},
     "output_type": "execute_result"
    }
   ],
   "source": [
    "X_train_cat"
   ]
  },
  {
   "cell_type": "code",
   "execution_count": 129,
   "id": "19d755b7-8340-4944-bc5b-2a5369f99cb7",
   "metadata": {},
   "outputs": [
    {
     "name": "stderr",
     "output_type": "stream",
     "text": [
      "/opt/conda/lib/python3.10/site-packages/sklearn/utils/deprecation.py:87: FutureWarning: Function get_feature_names is deprecated; get_feature_names is deprecated in 1.0 and will be removed in 1.2. Please use get_feature_names_out instead.\n",
      "  warnings.warn(msg, category=FutureWarning)\n"
     ]
    },
    {
     "data": {
      "text/plain": [
       "array(['x0_<1H OCEAN', 'x0_INLAND', 'x0_ISLAND', 'x0_NEAR BAY',\n",
       "       'x0_NEAR OCEAN'], dtype=object)"
      ]
     },
     "execution_count": 129,
     "metadata": {},
     "output_type": "execute_result"
    }
   ],
   "source": [
    "ohe.get_feature_names()"
   ]
  },
  {
   "cell_type": "markdown",
   "id": "a4bf435d-83af-41a7-a61f-b67cffa54eba",
   "metadata": {},
   "source": [
    "## Combine two matrices into one - X_train "
   ]
  },
  {
   "cell_type": "code",
   "execution_count": 130,
   "id": "50a12df7-4de5-4232-aeaa-c03c5a21f3dc",
   "metadata": {},
   "outputs": [],
   "source": [
    "# X_train = np.column_stack([X_train_num, X_train_cat])"
   ]
  },
  {
   "cell_type": "code",
   "execution_count": 131,
   "id": "f6c0f581-316e-4388-970d-a9efa640300b",
   "metadata": {},
   "outputs": [],
   "source": [
    "# model = LogisticRegression(solver=\"liblinear\", C=1.0, max_iter=1000, random_state=42)"
   ]
  },
  {
   "cell_type": "code",
   "execution_count": 132,
   "id": "fdf773d6-b856-4a35-b1b9-1c52631a50bd",
   "metadata": {},
   "outputs": [
    {
     "data": {
      "text/html": [
       "<style>#sk-container-id-1 {color: black;background-color: white;}#sk-container-id-1 pre{padding: 0;}#sk-container-id-1 div.sk-toggleable {background-color: white;}#sk-container-id-1 label.sk-toggleable__label {cursor: pointer;display: block;width: 100%;margin-bottom: 0;padding: 0.3em;box-sizing: border-box;text-align: center;}#sk-container-id-1 label.sk-toggleable__label-arrow:before {content: \"▸\";float: left;margin-right: 0.25em;color: #696969;}#sk-container-id-1 label.sk-toggleable__label-arrow:hover:before {color: black;}#sk-container-id-1 div.sk-estimator:hover label.sk-toggleable__label-arrow:before {color: black;}#sk-container-id-1 div.sk-toggleable__content {max-height: 0;max-width: 0;overflow: hidden;text-align: left;background-color: #f0f8ff;}#sk-container-id-1 div.sk-toggleable__content pre {margin: 0.2em;color: black;border-radius: 0.25em;background-color: #f0f8ff;}#sk-container-id-1 input.sk-toggleable__control:checked~div.sk-toggleable__content {max-height: 200px;max-width: 100%;overflow: auto;}#sk-container-id-1 input.sk-toggleable__control:checked~label.sk-toggleable__label-arrow:before {content: \"▾\";}#sk-container-id-1 div.sk-estimator input.sk-toggleable__control:checked~label.sk-toggleable__label {background-color: #d4ebff;}#sk-container-id-1 div.sk-label input.sk-toggleable__control:checked~label.sk-toggleable__label {background-color: #d4ebff;}#sk-container-id-1 input.sk-hidden--visually {border: 0;clip: rect(1px 1px 1px 1px);clip: rect(1px, 1px, 1px, 1px);height: 1px;margin: -1px;overflow: hidden;padding: 0;position: absolute;width: 1px;}#sk-container-id-1 div.sk-estimator {font-family: monospace;background-color: #f0f8ff;border: 1px dotted black;border-radius: 0.25em;box-sizing: border-box;margin-bottom: 0.5em;}#sk-container-id-1 div.sk-estimator:hover {background-color: #d4ebff;}#sk-container-id-1 div.sk-parallel-item::after {content: \"\";width: 100%;border-bottom: 1px solid gray;flex-grow: 1;}#sk-container-id-1 div.sk-label:hover label.sk-toggleable__label {background-color: #d4ebff;}#sk-container-id-1 div.sk-serial::before {content: \"\";position: absolute;border-left: 1px solid gray;box-sizing: border-box;top: 0;bottom: 0;left: 50%;z-index: 0;}#sk-container-id-1 div.sk-serial {display: flex;flex-direction: column;align-items: center;background-color: white;padding-right: 0.2em;padding-left: 0.2em;position: relative;}#sk-container-id-1 div.sk-item {position: relative;z-index: 1;}#sk-container-id-1 div.sk-parallel {display: flex;align-items: stretch;justify-content: center;background-color: white;position: relative;}#sk-container-id-1 div.sk-item::before, #sk-container-id-1 div.sk-parallel-item::before {content: \"\";position: absolute;border-left: 1px solid gray;box-sizing: border-box;top: 0;bottom: 0;left: 50%;z-index: -1;}#sk-container-id-1 div.sk-parallel-item {display: flex;flex-direction: column;z-index: 1;position: relative;background-color: white;}#sk-container-id-1 div.sk-parallel-item:first-child::after {align-self: flex-end;width: 50%;}#sk-container-id-1 div.sk-parallel-item:last-child::after {align-self: flex-start;width: 50%;}#sk-container-id-1 div.sk-parallel-item:only-child::after {width: 0;}#sk-container-id-1 div.sk-dashed-wrapped {border: 1px dashed gray;margin: 0 0.4em 0.5em 0.4em;box-sizing: border-box;padding-bottom: 0.4em;background-color: white;}#sk-container-id-1 div.sk-label label {font-family: monospace;font-weight: bold;display: inline-block;line-height: 1.2em;}#sk-container-id-1 div.sk-label-container {text-align: center;}#sk-container-id-1 div.sk-container {/* jupyter's `normalize.less` sets `[hidden] { display: none; }` but bootstrap.min.css set `[hidden] { display: none !important; }` so we also need the `!important` here to be able to override the default hidden behavior on the sphinx rendered scikit-learn.org. See: https://github.com/scikit-learn/scikit-learn/issues/21755 */display: inline-block !important;position: relative;}#sk-container-id-1 div.sk-text-repr-fallback {display: none;}</style><div id=\"sk-container-id-1\" class=\"sk-top-container\"><div class=\"sk-text-repr-fallback\"><pre>LogisticRegression(max_iter=1000, random_state=42, solver=&#x27;liblinear&#x27;)</pre><b>In a Jupyter environment, please rerun this cell to show the HTML representation or trust the notebook. <br />On GitHub, the HTML representation is unable to render, please try loading this page with nbviewer.org.</b></div><div class=\"sk-container\" hidden><div class=\"sk-item\"><div class=\"sk-estimator sk-toggleable\"><input class=\"sk-toggleable__control sk-hidden--visually\" id=\"sk-estimator-id-1\" type=\"checkbox\" checked><label for=\"sk-estimator-id-1\" class=\"sk-toggleable__label sk-toggleable__label-arrow\">LogisticRegression</label><div class=\"sk-toggleable__content\"><pre>LogisticRegression(max_iter=1000, random_state=42, solver=&#x27;liblinear&#x27;)</pre></div></div></div></div></div>"
      ],
      "text/plain": [
       "LogisticRegression(max_iter=1000, random_state=42, solver='liblinear')"
      ]
     },
     "execution_count": 132,
     "metadata": {},
     "output_type": "execute_result"
    }
   ],
   "source": [
    "# model.fit(X_train, y_train)"
   ]
  },
  {
   "cell_type": "markdown",
   "id": "4f9b2799-9357-4485-91d1-509f5da5be31",
   "metadata": {},
   "source": [
    "## Check accuracy "
   ]
  },
  {
   "cell_type": "code",
   "execution_count": 133,
   "id": "f1f97e62-511d-4540-abec-807fe9934d74",
   "metadata": {},
   "outputs": [],
   "source": [
    "# X_val_num = df_val[features_num].values\n",
    "# X_val_num = scaler.transform(X_val_num)\n",
    "\n",
    "# X_val_cat = ohe.transform(df_val[features_cat].values)\n",
    "\n",
    "# X_val = np.column_stack([X_val_num, X_val_cat])"
   ]
  },
  {
   "cell_type": "code",
   "execution_count": 136,
   "id": "7430de48-67af-4a61-a987-877cd18ef381",
   "metadata": {},
   "outputs": [
    {
     "data": {
      "text/plain": [
       "0.84"
      ]
     },
     "execution_count": 136,
     "metadata": {},
     "output_type": "execute_result"
    }
   ],
   "source": [
    "# y_pred = model.predict_proba(X_val)[:, 1]\n",
    "# round(accuracy_score(y_val, y_pred >= 0.5), 2)"
   ]
  },
  {
   "cell_type": "markdown",
   "id": "57222924-3b1b-4adc-99f8-ec84cdf67795",
   "metadata": {},
   "source": [
    "# Functions User-Defined"
   ]
  },
  {
   "cell_type": "code",
   "execution_count": 243,
   "id": "b10c4f7e-8e27-44ad-a1b3-8d71b8bcf7a8",
   "metadata": {},
   "outputs": [],
   "source": [
    "def split_datasets(df):\n",
    "    df_train_full, df_test = train_test_split(df, test_size=0.2, random_state=1)\n",
    "    df_train, df_val = train_test_split(df_train_full, test_size=0.25, random_state=1)\n",
    "    return df_train, df_val, df_test"
   ]
  },
  {
   "cell_type": "code",
   "execution_count": 244,
   "id": "c635135f-0afb-459d-8c07-925c059db33c",
   "metadata": {},
   "outputs": [],
   "source": [
    "def dataset_into_features_target(df, feature_target):\n",
    "    y = df[feature_target].values\n",
    "    del df[feature_target]\n",
    "    return df, y "
   ]
  },
  {
   "cell_type": "code",
   "execution_count": 207,
   "id": "029eb27b-75e1-4e41-a2db-e2571943867c",
   "metadata": {},
   "outputs": [],
   "source": [
    "def remove_from_list(list_features, val):\n",
    "    if val in list_features:\n",
    "        list_features.remove(val)\n",
    "    return list_features"
   ]
  },
  {
   "cell_type": "code",
   "execution_count": 208,
   "id": "7575ee40-b34a-4f6f-9b27-35aeebdfa611",
   "metadata": {},
   "outputs": [],
   "source": [
    "def prepare_X_train(df, drop_feature=''):\n",
    "    \n",
    "    # Locals\n",
    "    df_local = df.copy()\n",
    "    features_num_local = features_num.copy()\n",
    "    features_cat_local = features_cat.copy()\n",
    "    \n",
    "    # Drop feature if present in list\n",
    "    remove_from_list(features_num_local, drop_feature)\n",
    "    \n",
    "    # Numericals \n",
    "    X_num = df_local[features_num_local].values\n",
    "    scaler = StandardScaler()\n",
    "    X_num = scaler.fit_transform(X_num)\n",
    "    \n",
    "    \n",
    "    # Categoircals\n",
    "    X_cat = df_local[features_cat_local].values\n",
    "    ohe = OneHotEncoder(sparse=False, handle_unknown='ignore')\n",
    "    X_cat = ohe.fit_transform(X_cat)\n",
    "    \n",
    "    # Combine num, cat\n",
    "    X_train = np.column_stack([X_num, X_cat])\n",
    "    \n",
    "    return X_train"
   ]
  },
  {
   "cell_type": "code",
   "execution_count": 222,
   "id": "3be8b1b4-620e-4ae7-8a2d-4743d56babd7",
   "metadata": {
    "tags": []
   },
   "outputs": [
    {
     "data": {
      "text/plain": [
       "0.839874"
      ]
     },
     "execution_count": 222,
     "metadata": {},
     "output_type": "execute_result"
    }
   ],
   "source": [
    "X_train = prepare_X(df_train, drop_feature='')\n",
    "\n",
    "model = LogisticRegression(solver=\"liblinear\", \n",
    "                           C=1.0, \n",
    "                           max_iter=1000, \n",
    "                           random_state=42)\n",
    "model.fit(X_train, y_train)\n",
    "\n",
    "X_val = prepare_X(df_val, drop_feature='')\n",
    "\n",
    "y_pred = model.predict_proba(X_val)[:, 1]\n",
    "round(accuracy_score(y_val, y_pred >= 0.5), 6)"
   ]
  },
  {
   "cell_type": "markdown",
   "id": "20b23d96-f935-4e7f-a9f2-559f3d62a838",
   "metadata": {},
   "source": [
    "***"
   ]
  },
  {
   "cell_type": "markdown",
   "id": "f4dfb25d-a7f6-456e-9066-dc181ea1445a",
   "metadata": {},
   "source": [
    "# Question 5\n",
    "\n",
    "- Let's find the least useful feature using the feature elimination technique.\n",
    "- Train a model with all these features (using the same parameters as in Q4).\n",
    "- Now exclude each feature from this set and train a model without it. Record the accuracy for each model.\n",
    "- For each feature, calculate the difference between the original accuracy and the accuracy without the feature.\n",
    "- Which of following feature has the smallest difference? "
   ]
  },
  {
   "cell_type": "code",
   "execution_count": 139,
   "id": "75cb77d4-4c68-4cf3-8143-01a62209f4fd",
   "metadata": {},
   "outputs": [
    {
     "data": {
      "text/plain": [
       "0.2249744677564978"
      ]
     },
     "execution_count": 139,
     "metadata": {},
     "output_type": "execute_result"
    }
   ],
   "source": [
    "# total_roooms\n",
    "mutual_info_score(df_train_full.median_house_value_binary, df_train_full.total_rooms)"
   ]
  },
  {
   "cell_type": "code",
   "execution_count": 220,
   "id": "760df63e-443c-4412-aa44-f296d6263b30",
   "metadata": {},
   "outputs": [
    {
     "data": {
      "text/plain": [
       "0.84157"
      ]
     },
     "execution_count": 220,
     "metadata": {},
     "output_type": "execute_result"
    }
   ],
   "source": [
    "X_train = prepare_X(df_train, drop_feature='total_rooms')\n",
    "\n",
    "model_1 = LogisticRegression(solver=\"liblinear\", \n",
    "                           C=1.0, \n",
    "                           max_iter=1000, \n",
    "                           random_state=42)\n",
    "model_1.fit(X_train, y_train)\n",
    "\n",
    "X_val = prepare_X(df_val, drop_feature='total_rooms')\n",
    "\n",
    "y_pred = model_1.predict_proba(X_val)[:, 1]\n",
    "round(accuracy_score(y_val, y_pred >= 0.5), 6)"
   ]
  },
  {
   "cell_type": "markdown",
   "id": "e59aed81-837c-4366-8f40-2a24ac5cd1fd",
   "metadata": {},
   "source": [
    "***"
   ]
  },
  {
   "cell_type": "code",
   "execution_count": 143,
   "id": "87941236-7cef-4098-acb8-421d5f2b0ce6",
   "metadata": {},
   "outputs": [
    {
     "data": {
      "text/plain": [
       "0.07142400788410448"
      ]
     },
     "execution_count": 143,
     "metadata": {},
     "output_type": "execute_result"
    }
   ],
   "source": [
    "# total_bedrooms\n",
    "mutual_info_score(df_train_full.median_house_value_binary, df_train_full.total_bedrooms)"
   ]
  },
  {
   "cell_type": "code",
   "execution_count": 219,
   "id": "f35f2e45-5efd-4906-96fe-28d8e0dfdece",
   "metadata": {},
   "outputs": [
    {
     "data": {
      "text/plain": [
       "0.841328"
      ]
     },
     "execution_count": 219,
     "metadata": {},
     "output_type": "execute_result"
    }
   ],
   "source": [
    "X_train = prepare_X(df_train, drop_feature='total_bedrooms')\n",
    "\n",
    "model_2 = LogisticRegression(solver=\"liblinear\", \n",
    "                           C=1.0, \n",
    "                           max_iter=1000, \n",
    "                           random_state=42)\n",
    "model_2.fit(X_train, y_train)\n",
    "\n",
    "X_val = prepare_X(df_val, drop_feature='total_bedrooms')\n",
    "\n",
    "y_pred = model_2.predict_proba(X_val)[:, 1]\n",
    "round(accuracy_score(y_val, y_pred >= 0.5), 6)"
   ]
  },
  {
   "cell_type": "code",
   "execution_count": 142,
   "id": "63573717-6c31-4e95-b7d4-90169eb04dcc",
   "metadata": {},
   "outputs": [
    {
     "data": {
      "text/plain": [
       "0.13689524003374332"
      ]
     },
     "execution_count": 142,
     "metadata": {},
     "output_type": "execute_result"
    }
   ],
   "source": [
    "# population\n",
    "mutual_info_score(df_train_full.median_house_value_binary, df_train_full.population)"
   ]
  },
  {
   "cell_type": "code",
   "execution_count": 223,
   "id": "9e769977-4f9b-4b32-bf3a-e23bb608821e",
   "metadata": {},
   "outputs": [
    {
     "data": {
      "text/plain": [
       "0.837452"
      ]
     },
     "execution_count": 223,
     "metadata": {},
     "output_type": "execute_result"
    }
   ],
   "source": [
    "X_train = prepare_X(df_train, drop_feature='population')\n",
    "\n",
    "model_3 = LogisticRegression(solver=\"liblinear\", \n",
    "                           C=1.0, \n",
    "                           max_iter=1000, \n",
    "                           random_state=42)\n",
    "model_3.fit(X_train, y_train)\n",
    "\n",
    "X_val = prepare_X(df_val, drop_feature='population')\n",
    "\n",
    "y_pred = model_3.predict_proba(X_val)[:, 1]\n",
    "round(accuracy_score(y_val, y_pred >= 0.5), 6)"
   ]
  },
  {
   "cell_type": "code",
   "execution_count": 141,
   "id": "82e79f2f-c097-4420-a16a-64487489ebb9",
   "metadata": {},
   "outputs": [
    {
     "data": {
      "text/plain": [
       "0.06615187233399311"
      ]
     },
     "execution_count": 141,
     "metadata": {},
     "output_type": "execute_result"
    }
   ],
   "source": [
    "# hosueholds\n",
    "mutual_info_score(df_train_full.median_house_value_binary, df_train_full.households)"
   ]
  },
  {
   "cell_type": "code",
   "execution_count": 224,
   "id": "e3b638bc-fd2e-4e60-ab68-eaeabaf19737",
   "metadata": {},
   "outputs": [
    {
     "data": {
      "text/plain": [
       "0.836483"
      ]
     },
     "execution_count": 224,
     "metadata": {},
     "output_type": "execute_result"
    }
   ],
   "source": [
    "X_train = prepare_X(df_train, drop_feature='households')\n",
    "\n",
    "model_4 = LogisticRegression(solver=\"liblinear\", \n",
    "                           C=1.0, \n",
    "                           max_iter=1000, \n",
    "                           random_state=42)\n",
    "model_4.fit(X_train, y_train)\n",
    "\n",
    "X_val = prepare_X(df_val, drop_feature='households')\n",
    "\n",
    "y_pred = model_4.predict_proba(X_val)[:, 1]\n",
    "round(accuracy_score(y_val, y_pred >= 0.5), 6)"
   ]
  },
  {
   "cell_type": "code",
   "execution_count": 230,
   "id": "300defac-0587-43b3-8000-8afe9f226159",
   "metadata": {},
   "outputs": [
    {
     "data": {
      "text/html": [
       "<div>\n",
       "<style scoped>\n",
       "    .dataframe tbody tr th:only-of-type {\n",
       "        vertical-align: middle;\n",
       "    }\n",
       "\n",
       "    .dataframe tbody tr th {\n",
       "        vertical-align: top;\n",
       "    }\n",
       "\n",
       "    .dataframe thead th {\n",
       "        text-align: right;\n",
       "    }\n",
       "</style>\n",
       "<table border=\"1\" class=\"dataframe\">\n",
       "  <thead>\n",
       "    <tr style=\"text-align: right;\">\n",
       "      <th></th>\n",
       "      <th>models</th>\n",
       "      <th>accuracy</th>\n",
       "      <th>base_accuracy</th>\n",
       "    </tr>\n",
       "  </thead>\n",
       "  <tbody>\n",
       "    <tr>\n",
       "      <th>0</th>\n",
       "      <td>model_total_rooms</td>\n",
       "      <td>0.841570</td>\n",
       "      <td>0.839874</td>\n",
       "    </tr>\n",
       "    <tr>\n",
       "      <th>1</th>\n",
       "      <td>model_total_bedrooms</td>\n",
       "      <td>0.841328</td>\n",
       "      <td>0.839874</td>\n",
       "    </tr>\n",
       "    <tr>\n",
       "      <th>2</th>\n",
       "      <td>model_population</td>\n",
       "      <td>0.837452</td>\n",
       "      <td>0.839874</td>\n",
       "    </tr>\n",
       "    <tr>\n",
       "      <th>3</th>\n",
       "      <td>model_households</td>\n",
       "      <td>0.836483</td>\n",
       "      <td>0.839874</td>\n",
       "    </tr>\n",
       "  </tbody>\n",
       "</table>\n",
       "</div>"
      ],
      "text/plain": [
       "                 models  accuracy  base_accuracy\n",
       "0     model_total_rooms  0.841570       0.839874\n",
       "1  model_total_bedrooms  0.841328       0.839874\n",
       "2      model_population  0.837452       0.839874\n",
       "3      model_households  0.836483       0.839874"
      ]
     },
     "execution_count": 230,
     "metadata": {},
     "output_type": "execute_result"
    }
   ],
   "source": [
    "df_accuracy = pd.DataFrame()\n",
    "\n",
    "df_accuracy['models'] = ['model_total_rooms', \n",
    "                         'model_total_bedrooms', \n",
    "                         'model_population', \n",
    "                         'model_households']\n",
    "\n",
    "df_accuracy['accuracy'] = [0.84157, \n",
    "                           0.841328,\n",
    "                           0.837452,\n",
    "                           0.836483                          \n",
    "                          ]\n",
    "\n",
    "df_accuracy['base_accuracy'] = 4*[0.839874]\n",
    "\n",
    "df_accuracy"
   ]
  },
  {
   "cell_type": "code",
   "execution_count": 231,
   "id": "7603ecde-ed67-44f7-a5eb-040fe3c5c0f7",
   "metadata": {},
   "outputs": [
    {
     "data": {
      "text/html": [
       "<div>\n",
       "<style scoped>\n",
       "    .dataframe tbody tr th:only-of-type {\n",
       "        vertical-align: middle;\n",
       "    }\n",
       "\n",
       "    .dataframe tbody tr th {\n",
       "        vertical-align: top;\n",
       "    }\n",
       "\n",
       "    .dataframe thead th {\n",
       "        text-align: right;\n",
       "    }\n",
       "</style>\n",
       "<table border=\"1\" class=\"dataframe\">\n",
       "  <thead>\n",
       "    <tr style=\"text-align: right;\">\n",
       "      <th></th>\n",
       "      <th>models</th>\n",
       "      <th>accuracy</th>\n",
       "      <th>base_accuracy</th>\n",
       "      <th>diff</th>\n",
       "    </tr>\n",
       "  </thead>\n",
       "  <tbody>\n",
       "    <tr>\n",
       "      <th>0</th>\n",
       "      <td>model_total_rooms</td>\n",
       "      <td>0.841570</td>\n",
       "      <td>0.839874</td>\n",
       "      <td>0.001696</td>\n",
       "    </tr>\n",
       "    <tr>\n",
       "      <th>1</th>\n",
       "      <td>model_total_bedrooms</td>\n",
       "      <td>0.841328</td>\n",
       "      <td>0.839874</td>\n",
       "      <td>0.001454</td>\n",
       "    </tr>\n",
       "    <tr>\n",
       "      <th>2</th>\n",
       "      <td>model_population</td>\n",
       "      <td>0.837452</td>\n",
       "      <td>0.839874</td>\n",
       "      <td>-0.002422</td>\n",
       "    </tr>\n",
       "    <tr>\n",
       "      <th>3</th>\n",
       "      <td>model_households</td>\n",
       "      <td>0.836483</td>\n",
       "      <td>0.839874</td>\n",
       "      <td>-0.003391</td>\n",
       "    </tr>\n",
       "  </tbody>\n",
       "</table>\n",
       "</div>"
      ],
      "text/plain": [
       "                 models  accuracy  base_accuracy      diff\n",
       "0     model_total_rooms  0.841570       0.839874  0.001696\n",
       "1  model_total_bedrooms  0.841328       0.839874  0.001454\n",
       "2      model_population  0.837452       0.839874 -0.002422\n",
       "3      model_households  0.836483       0.839874 -0.003391"
      ]
     },
     "execution_count": 231,
     "metadata": {},
     "output_type": "execute_result"
    }
   ],
   "source": [
    "df_accuracy['diff'] = df_accuracy['accuracy'] - df_accuracy['base_accuracy']\n",
    "df_accuracy"
   ]
  },
  {
   "cell_type": "code",
   "execution_count": 235,
   "id": "78b2a0eb-09ed-4aec-87d3-8dc7fad60902",
   "metadata": {},
   "outputs": [
    {
     "data": {
      "text/plain": [
       "0.0014539999999999553"
      ]
     },
     "execution_count": 235,
     "metadata": {},
     "output_type": "execute_result"
    }
   ],
   "source": [
    "df_accuracy['diff'].abs().min()"
   ]
  },
  {
   "cell_type": "markdown",
   "id": "b4c92d30-c3ff-4cdf-83ef-08045f08d8b2",
   "metadata": {},
   "source": [
    "***"
   ]
  },
  {
   "cell_type": "markdown",
   "id": "799209a0-0207-4d59-be72-be7a4c02f580",
   "metadata": {},
   "source": [
    "# Question 6\n",
    "\n",
    "- For this question, we'll see how to use a linear regression model from Scikit-Learn\n",
    "- We'll need to use the original column 'median_house_value'. Apply the logarithmic transformation to this column.\n",
    "- Fit the Ridge regression model (model = Ridge(alpha=a, solver=\"sag\", random_state=42)) on the training data.\n",
    "- This model has a parameter alpha. Let's try the following values: [0, 0.01, 0.1, 1, 10]\n",
    "- Which of these alphas leads to the best RMSE on the validation set? Round your RMSE scores to 3 decimal digits."
   ]
  },
  {
   "cell_type": "code",
   "execution_count": 348,
   "id": "a471f6ea-37e0-476c-af6c-5ea1ce02f1d1",
   "metadata": {},
   "outputs": [],
   "source": [
    "df_copy2 = df.copy()\n",
    "df_copy2 = df_copy2.fillna(0.0)"
   ]
  },
  {
   "cell_type": "code",
   "execution_count": 349,
   "id": "e0b455e1-40b0-4942-9170-05d797435d16",
   "metadata": {},
   "outputs": [
    {
     "data": {
      "text/html": [
       "<div>\n",
       "<style scoped>\n",
       "    .dataframe tbody tr th:only-of-type {\n",
       "        vertical-align: middle;\n",
       "    }\n",
       "\n",
       "    .dataframe tbody tr th {\n",
       "        vertical-align: top;\n",
       "    }\n",
       "\n",
       "    .dataframe thead th {\n",
       "        text-align: right;\n",
       "    }\n",
       "</style>\n",
       "<table border=\"1\" class=\"dataframe\">\n",
       "  <thead>\n",
       "    <tr style=\"text-align: right;\">\n",
       "      <th></th>\n",
       "      <th>0</th>\n",
       "      <th>1</th>\n",
       "      <th>2</th>\n",
       "      <th>3</th>\n",
       "      <th>4</th>\n",
       "    </tr>\n",
       "  </thead>\n",
       "  <tbody>\n",
       "    <tr>\n",
       "      <th>longitude</th>\n",
       "      <td>-122.23</td>\n",
       "      <td>-122.22</td>\n",
       "      <td>-122.24</td>\n",
       "      <td>-122.25</td>\n",
       "      <td>-122.25</td>\n",
       "    </tr>\n",
       "    <tr>\n",
       "      <th>latitude</th>\n",
       "      <td>37.88</td>\n",
       "      <td>37.86</td>\n",
       "      <td>37.85</td>\n",
       "      <td>37.85</td>\n",
       "      <td>37.85</td>\n",
       "    </tr>\n",
       "    <tr>\n",
       "      <th>housing_median_age</th>\n",
       "      <td>41.0</td>\n",
       "      <td>21.0</td>\n",
       "      <td>52.0</td>\n",
       "      <td>52.0</td>\n",
       "      <td>52.0</td>\n",
       "    </tr>\n",
       "    <tr>\n",
       "      <th>total_rooms</th>\n",
       "      <td>880.0</td>\n",
       "      <td>7099.0</td>\n",
       "      <td>1467.0</td>\n",
       "      <td>1274.0</td>\n",
       "      <td>1627.0</td>\n",
       "    </tr>\n",
       "    <tr>\n",
       "      <th>total_bedrooms</th>\n",
       "      <td>129.0</td>\n",
       "      <td>1106.0</td>\n",
       "      <td>190.0</td>\n",
       "      <td>235.0</td>\n",
       "      <td>280.0</td>\n",
       "    </tr>\n",
       "    <tr>\n",
       "      <th>population</th>\n",
       "      <td>322.0</td>\n",
       "      <td>2401.0</td>\n",
       "      <td>496.0</td>\n",
       "      <td>558.0</td>\n",
       "      <td>565.0</td>\n",
       "    </tr>\n",
       "    <tr>\n",
       "      <th>households</th>\n",
       "      <td>126.0</td>\n",
       "      <td>1138.0</td>\n",
       "      <td>177.0</td>\n",
       "      <td>219.0</td>\n",
       "      <td>259.0</td>\n",
       "    </tr>\n",
       "    <tr>\n",
       "      <th>median_income</th>\n",
       "      <td>8.3252</td>\n",
       "      <td>8.3014</td>\n",
       "      <td>7.2574</td>\n",
       "      <td>5.6431</td>\n",
       "      <td>3.8462</td>\n",
       "    </tr>\n",
       "    <tr>\n",
       "      <th>median_house_value</th>\n",
       "      <td>452600.0</td>\n",
       "      <td>358500.0</td>\n",
       "      <td>352100.0</td>\n",
       "      <td>341300.0</td>\n",
       "      <td>342200.0</td>\n",
       "    </tr>\n",
       "    <tr>\n",
       "      <th>ocean_proximity</th>\n",
       "      <td>NEAR BAY</td>\n",
       "      <td>NEAR BAY</td>\n",
       "      <td>NEAR BAY</td>\n",
       "      <td>NEAR BAY</td>\n",
       "      <td>NEAR BAY</td>\n",
       "    </tr>\n",
       "  </tbody>\n",
       "</table>\n",
       "</div>"
      ],
      "text/plain": [
       "                           0         1         2         3         4\n",
       "longitude            -122.23   -122.22   -122.24   -122.25   -122.25\n",
       "latitude               37.88     37.86     37.85     37.85     37.85\n",
       "housing_median_age      41.0      21.0      52.0      52.0      52.0\n",
       "total_rooms            880.0    7099.0    1467.0    1274.0    1627.0\n",
       "total_bedrooms         129.0    1106.0     190.0     235.0     280.0\n",
       "population             322.0    2401.0     496.0     558.0     565.0\n",
       "households             126.0    1138.0     177.0     219.0     259.0\n",
       "median_income         8.3252    8.3014    7.2574    5.6431    3.8462\n",
       "median_house_value  452600.0  358500.0  352100.0  341300.0  342200.0\n",
       "ocean_proximity     NEAR BAY  NEAR BAY  NEAR BAY  NEAR BAY  NEAR BAY"
      ]
     },
     "execution_count": 349,
     "metadata": {},
     "output_type": "execute_result"
    }
   ],
   "source": [
    "df_copy2.head().T"
   ]
  },
  {
   "cell_type": "code",
   "execution_count": 350,
   "id": "3b1d7965-8683-4303-99bc-62224fecd534",
   "metadata": {},
   "outputs": [
    {
     "data": {
      "text/plain": [
       "<AxesSubplot:xlabel='median_house_value', ylabel='Count'>"
      ]
     },
     "execution_count": 350,
     "metadata": {},
     "output_type": "execute_result"
    },
    {
     "data": {
      "image/png": "[encoded data removed]",
      "text/plain": [
       "<Figure size 640x480 with 1 Axes>"
      ]
     },
     "metadata": {},
     "output_type": "display_data"
    }
   ],
   "source": [
    "sns.histplot(df_copy2.median_house_value, bins=50)"
   ]
  },
  {
   "cell_type": "code",
   "execution_count": 351,
   "id": "1049d1f3-fa11-42f2-88a1-d467d44833a9",
   "metadata": {},
   "outputs": [],
   "source": [
    "df_copy2['median_house_value_log'] = df_copy2['median_house_value'].apply(np.log)"
   ]
  },
  {
   "cell_type": "code",
   "execution_count": 352,
   "id": "6f0090c6-517f-4836-955a-afd373a339c6",
   "metadata": {},
   "outputs": [
    {
     "data": {
      "text/plain": [
       "<AxesSubplot:xlabel='median_house_value_log', ylabel='Count'>"
      ]
     },
     "execution_count": 352,
     "metadata": {},
     "output_type": "execute_result"
    },
    {
     "data": {
      "image/png": "[encoded data removed]",
      "text/plain": [
       "<Figure size 640x480 with 1 Axes>"
      ]
     },
     "metadata": {},
     "output_type": "display_data"
    }
   ],
   "source": [
    "sns.histplot(df_copy2.median_house_value_log, bins=50)"
   ]
  },
  {
   "cell_type": "code",
   "execution_count": 353,
   "id": "3b96ef5e-8036-4fc6-adcd-7e8ecfe2fc63",
   "metadata": {},
   "outputs": [],
   "source": [
    "del df_copy2['median_house_value']"
   ]
  },
  {
   "cell_type": "code",
   "execution_count": 354,
   "id": "fca475e9-65f0-4578-b05b-3d0749f4189a",
   "metadata": {},
   "outputs": [],
   "source": [
    "# convert cat to num\n",
    "df_temp  = pd.get_dummies(df_copy2.ocean_proximity)\n",
    "df_copy22 = pd.concat([df_copy2, df_temp], axis=1)\n",
    "del df_copy22['ocean_proximity']"
   ]
  },
  {
   "cell_type": "code",
   "execution_count": 355,
   "id": "71a2f564-a80c-4804-ac8e-6ca2310c565b",
   "metadata": {},
   "outputs": [],
   "source": [
    "df_train2, df_val2, df_test2 = split_datasets(df_copy22)"
   ]
  },
  {
   "cell_type": "code",
   "execution_count": 356,
   "id": "0e8e9507-8a91-4c50-9afe-f34a7bf14c07",
   "metadata": {},
   "outputs": [
    {
     "data": {
      "text/plain": [
       "(12384, 4128, 4128)"
      ]
     },
     "execution_count": 356,
     "metadata": {},
     "output_type": "execute_result"
    }
   ],
   "source": [
    "len(df_train2), len(df_val2), len(df_test2)"
   ]
  },
  {
   "cell_type": "code",
   "execution_count": 357,
   "id": "f0816076-9f3b-444e-a5ef-8cb5478ef17e",
   "metadata": {},
   "outputs": [],
   "source": [
    "df_train3, y_train3 = dataset_into_features_target(df_train2, \n",
    "                                                 feature_target='median_house_value_log')\n",
    "\n",
    "df_val3, y_val3 = dataset_into_features_target(df_val2, \n",
    "                                                 feature_target='median_house_value_log')\n",
    "\n",
    "\n",
    "df_test3, y_test3 = dataset_into_features_target(df_test2, \n",
    "                                                 feature_target='median_house_value_log')"
   ]
  },
  {
   "cell_type": "code",
   "execution_count": 358,
   "id": "9db90eba-4c25-44dd-9fec-4965ba264555",
   "metadata": {},
   "outputs": [
    {
     "data": {
      "text/plain": [
       "longitude             float64\n",
       "latitude              float64\n",
       "housing_median_age    float64\n",
       "total_rooms           float64\n",
       "total_bedrooms        float64\n",
       "population            float64\n",
       "households            float64\n",
       "median_income         float64\n",
       "<1H OCEAN               uint8\n",
       "INLAND                  uint8\n",
       "ISLAND                  uint8\n",
       "NEAR BAY                uint8\n",
       "NEAR OCEAN              uint8\n",
       "dtype: object"
      ]
     },
     "execution_count": 358,
     "metadata": {},
     "output_type": "execute_result"
    }
   ],
   "source": [
    "df_test3.dtypes"
   ]
  },
  {
   "cell_type": "code",
   "execution_count": 359,
   "id": "5e057804-0762-433d-adf3-56f37f332212",
   "metadata": {},
   "outputs": [
    {
     "data": {
      "text/plain": [
       "longitude                 0\n",
       "latitude                  0\n",
       "housing_median_age        0\n",
       "total_rooms               0\n",
       "total_bedrooms            0\n",
       "population                0\n",
       "households                0\n",
       "median_income             0\n",
       "median_house_value_log    0\n",
       "<1H OCEAN                 0\n",
       "INLAND                    0\n",
       "ISLAND                    0\n",
       "NEAR BAY                  0\n",
       "NEAR OCEAN                0\n",
       "dtype: int64"
      ]
     },
     "execution_count": 359,
     "metadata": {},
     "output_type": "execute_result"
    }
   ],
   "source": [
    "df_copy22.isnull().sum()"
   ]
  },
  {
   "cell_type": "code",
   "execution_count": 360,
   "id": "d1d0d45f-32b8-4a3e-8044-14647f45399d",
   "metadata": {},
   "outputs": [],
   "source": [
    "X_train3 = df_train3.values\n",
    "X_val3   = df_val3.values\n",
    "X_test3  = df_test3.values"
   ]
  },
  {
   "cell_type": "code",
   "execution_count": 374,
   "id": "5a30d98d-d16a-4b84-9df3-4f9e2621da6a",
   "metadata": {},
   "outputs": [
    {
     "name": "stdout",
     "output_type": "stream",
     "text": [
      "0 0.28207543797717466\n",
      "0.01 0.2820754379981901\n",
      "0.1 0.28207543819784825\n",
      "1 0.28207544020492864\n",
      "10 0.28207546024419167\n"
     ]
    }
   ],
   "source": [
    "list_a = [0, 0.01, 0.1, 1, 10]\n",
    "list_rsme = []\n",
    "\n",
    "for a in list_a:\n",
    "    model_ridge = Ridge(alpha=a, solver=\"sag\", random_state=42)\n",
    "    \n",
    "    model_ridge.fit(X_train3, y_train3)\n",
    "    \n",
    "    y_pred = model_ridge.predict(X_val3)\n",
    "    \n",
    "    rsme = mean_squared_error(y_val3, y_pred, squared=True)\n",
    "    list_rsme.append(rsme)\n",
    "    \n",
    "    print(a, rsme)"
   ]
  },
  {
   "cell_type": "code",
   "execution_count": 377,
   "id": "fc47c8fb-b35a-490c-994e-9f63fd124dd5",
   "metadata": {},
   "outputs": [],
   "source": [
    "df_a = pd.DataFrame({'a':list_a, 'rsme':list_rsme})"
   ]
  },
  {
   "cell_type": "code",
   "execution_count": 380,
   "id": "587dacbe-f81a-4b3d-936b-f7e2fe9f02a3",
   "metadata": {},
   "outputs": [
    {
     "data": {
      "text/html": [
       "<div>\n",
       "<style scoped>\n",
       "    .dataframe tbody tr th:only-of-type {\n",
       "        vertical-align: middle;\n",
       "    }\n",
       "\n",
       "    .dataframe tbody tr th {\n",
       "        vertical-align: top;\n",
       "    }\n",
       "\n",
       "    .dataframe thead th {\n",
       "        text-align: right;\n",
       "    }\n",
       "</style>\n",
       "<table border=\"1\" class=\"dataframe\">\n",
       "  <thead>\n",
       "    <tr style=\"text-align: right;\">\n",
       "      <th></th>\n",
       "      <th>a</th>\n",
       "      <th>rsme</th>\n",
       "    </tr>\n",
       "  </thead>\n",
       "  <tbody>\n",
       "    <tr>\n",
       "      <th>0</th>\n",
       "      <td>0.0</td>\n",
       "      <td>0.282075</td>\n",
       "    </tr>\n",
       "  </tbody>\n",
       "</table>\n",
       "</div>"
      ],
      "text/plain": [
       "     a      rsme\n",
       "0  0.0  0.282075"
      ]
     },
     "execution_count": 380,
     "metadata": {},
     "output_type": "execute_result"
    }
   ],
   "source": [
    "df_a[df_a.rsme == df_a.rsme.min()]"
   ]
  },
  {
   "cell_type": "markdown",
   "id": "890ac53b-fefc-4afc-8fa6-3ad735c61e10",
   "metadata": {},
   "source": [
    "***"
   ]
  },
  {
   "cell_type": "code",
   "execution_count": null,
   "id": "2b249dde-b28e-41a3-80ab-c62c0205d3e1",
   "metadata": {},
   "outputs": [],
   "source": []
  },
  {
   "cell_type": "code",
   "execution_count": null,
   "id": "b67ce67b-2734-4590-8965-1395e5b8b48d",
   "metadata": {},
   "outputs": [],
   "source": []
  },
  {
   "cell_type": "code",
   "execution_count": null,
   "id": "aa5b9fc8-8ac3-45e1-a1b9-1a9a94c5cb26",
   "metadata": {},
   "outputs": [],
   "source": []
  },
  {
   "cell_type": "code",
   "execution_count": null,
   "id": "4760daa7-6f9a-45dc-a9e9-f4875be2e862",
   "metadata": {},
   "outputs": [],
   "source": []
  }
 ],
 "metadata": {
  "kernelspec": {
   "display_name": "Python 3 (ipykernel)",
   "language": "python",
   "name": "python3"
  },
  "language_info": {
   "codemirror_mode": {
    "name": "ipython",
    "version": 3
   },
   "file_extension": ".py",
   "mimetype": "text/x-python",
   "name": "python",
   "nbconvert_exporter": "python",
   "pygments_lexer": "ipython3",
   "version": "3.10.6"
  }
 },
 "nbformat": 4,
 "nbformat_minor": 5
}
