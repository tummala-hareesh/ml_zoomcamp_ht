{
 "cells": [
  {
   "cell_type": "markdown",
   "id": "03e549da-9083-4d5e-a50d-df63b9998913",
   "metadata": {},
   "source": [
    "# Week-4\n",
    "Evalution metrics for classification problems. "
   ]
  },
  {
   "cell_type": "markdown",
   "id": "fa5e4013-f729-4ace-ad5d-5fae31fc845d",
   "metadata": {},
   "source": [
    "# Import modules"
   ]
  },
  {
   "cell_type": "code",
   "execution_count": 3,
   "id": "1918773a-b5cd-46ee-8945-88cfbd78bd75",
   "metadata": {},
   "outputs": [],
   "source": [
    "import pandas as pd\n",
    "import numpy as np \n",
    "\n",
    "import matplotlib.pyplot as plt\n",
    "import seaborn as sns\n",
    "\n",
    "%matplotlib inline"
   ]
  },
  {
   "cell_type": "code",
   "execution_count": 4,
   "id": "000f9647-4888-4666-bda1-e0cafc0c3cf5",
   "metadata": {},
   "outputs": [],
   "source": [
    "from sklearn.model_selection import train_test_split\n",
    "from sklearn.feature_extraction import DictVectorizer\n",
    "from sklearn.linear_model import LogisticRegression"
   ]
  },
  {
   "cell_type": "markdown",
   "id": "a20cae47-6b6c-4036-9158-bea53e0d9a6a",
   "metadata": {},
   "source": [
    "# Load and pre-process Data - Model "
   ]
  },
  {
   "cell_type": "code",
   "execution_count": 21,
   "id": "53faa4ea-d6e1-41b3-b5b6-9664b5539da4",
   "metadata": {},
   "outputs": [],
   "source": [
    "df = pd.read_csv('03_data-Telco-Customer-Churn.csv')\n",
    "\n",
    "# Standardize column names \n",
    "df.columns = df.columns.str.lower().str.replace(' ','_')\n",
    "\n",
    "# get list of categorical features\n",
    "features_cat = list(df.dtypes[df.dtypes == 'object'].index)\n",
    "\n",
    "# standardize categorical features data\n",
    "for f in features_cat:\n",
    "    df[f] = df[f].str.lower().str.replace(' ','_')\n",
    "    \n",
    "df.totalcharges = pd.to_numeric(df.totalcharges, errors='coerce')\n",
    "df.totalcharges = df.totalcharges.fillna(0)\n",
    "\n",
    "\n",
    "df.churn = (df.churn == 'yes').astype('int')"
   ]
  },
  {
   "cell_type": "code",
   "execution_count": 22,
   "id": "bca25935-d440-4845-9baf-d2ce8d6c9c36",
   "metadata": {},
   "outputs": [],
   "source": [
    "# Train-Test-Split = 60-20-20\n",
    "df_train_full, df_test = train_test_split(df, test_size=0.2, random_state=1)\n",
    "df_train, df_val = train_test_split(df_train_full, test_size=0.25, random_state=1)"
   ]
  },
  {
   "cell_type": "code",
   "execution_count": 23,
   "id": "948d12eb-b8be-484b-b7fd-cdc080e1dd0d",
   "metadata": {},
   "outputs": [],
   "source": [
    "# Get y variables \n",
    "y_train = df_train.churn.values\n",
    "y_val   = df_val.churn.values\n",
    "y_test  = df_test.churn.values\n",
    "\n",
    "# delete target from DF\n",
    "del df_train['churn']\n",
    "del df_val['churn']\n",
    "del df_test['churn']"
   ]
  },
  {
   "cell_type": "code",
   "execution_count": 24,
   "id": "d7efe7ea-699e-465e-be3b-6766ba955614",
   "metadata": {},
   "outputs": [
    {
     "data": {
      "text/plain": [
       "(['tenure', 'monthlycharges', 'totalcharges'],\n",
       " ['onlinesecurity',\n",
       "  'dependents',\n",
       "  'paymentmethod',\n",
       "  'phoneservice',\n",
       "  'multiplelines',\n",
       "  'techsupport',\n",
       "  'gender',\n",
       "  'seniorcitizen',\n",
       "  'paperlessbilling',\n",
       "  'deviceprotection',\n",
       "  'streamingtv',\n",
       "  'partner',\n",
       "  'streamingmovies',\n",
       "  'internetservice',\n",
       "  'contract',\n",
       "  'onlinebackup'])"
      ]
     },
     "execution_count": 24,
     "metadata": {},
     "output_type": "execute_result"
    }
   ],
   "source": [
    "# Numericals \n",
    "list_features_num = ['tenure', 'monthlycharges', 'totalcharges']\n",
    "\n",
    "# Categoical \n",
    "list_features_cat = list(set(df_train_full.columns) - set(list_features_num) - set(['churn','customerid']))\n",
    "\n",
    "list_features_num, list_features_cat"
   ]
  },
  {
   "cell_type": "code",
   "execution_count": 25,
   "id": "b97f1a18-1b37-4541-a49e-a9b1473c0eae",
   "metadata": {},
   "outputs": [
    {
     "data": {
      "text/html": [
       "<style>#sk-container-id-2 {color: black;background-color: white;}#sk-container-id-2 pre{padding: 0;}#sk-container-id-2 div.sk-toggleable {background-color: white;}#sk-container-id-2 label.sk-toggleable__label {cursor: pointer;display: block;width: 100%;margin-bottom: 0;padding: 0.3em;box-sizing: border-box;text-align: center;}#sk-container-id-2 label.sk-toggleable__label-arrow:before {content: \"▸\";float: left;margin-right: 0.25em;color: #696969;}#sk-container-id-2 label.sk-toggleable__label-arrow:hover:before {color: black;}#sk-container-id-2 div.sk-estimator:hover label.sk-toggleable__label-arrow:before {color: black;}#sk-container-id-2 div.sk-toggleable__content {max-height: 0;max-width: 0;overflow: hidden;text-align: left;background-color: #f0f8ff;}#sk-container-id-2 div.sk-toggleable__content pre {margin: 0.2em;color: black;border-radius: 0.25em;background-color: #f0f8ff;}#sk-container-id-2 input.sk-toggleable__control:checked~div.sk-toggleable__content {max-height: 200px;max-width: 100%;overflow: auto;}#sk-container-id-2 input.sk-toggleable__control:checked~label.sk-toggleable__label-arrow:before {content: \"▾\";}#sk-container-id-2 div.sk-estimator input.sk-toggleable__control:checked~label.sk-toggleable__label {background-color: #d4ebff;}#sk-container-id-2 div.sk-label input.sk-toggleable__control:checked~label.sk-toggleable__label {background-color: #d4ebff;}#sk-container-id-2 input.sk-hidden--visually {border: 0;clip: rect(1px 1px 1px 1px);clip: rect(1px, 1px, 1px, 1px);height: 1px;margin: -1px;overflow: hidden;padding: 0;position: absolute;width: 1px;}#sk-container-id-2 div.sk-estimator {font-family: monospace;background-color: #f0f8ff;border: 1px dotted black;border-radius: 0.25em;box-sizing: border-box;margin-bottom: 0.5em;}#sk-container-id-2 div.sk-estimator:hover {background-color: #d4ebff;}#sk-container-id-2 div.sk-parallel-item::after {content: \"\";width: 100%;border-bottom: 1px solid gray;flex-grow: 1;}#sk-container-id-2 div.sk-label:hover label.sk-toggleable__label {background-color: #d4ebff;}#sk-container-id-2 div.sk-serial::before {content: \"\";position: absolute;border-left: 1px solid gray;box-sizing: border-box;top: 0;bottom: 0;left: 50%;z-index: 0;}#sk-container-id-2 div.sk-serial {display: flex;flex-direction: column;align-items: center;background-color: white;padding-right: 0.2em;padding-left: 0.2em;position: relative;}#sk-container-id-2 div.sk-item {position: relative;z-index: 1;}#sk-container-id-2 div.sk-parallel {display: flex;align-items: stretch;justify-content: center;background-color: white;position: relative;}#sk-container-id-2 div.sk-item::before, #sk-container-id-2 div.sk-parallel-item::before {content: \"\";position: absolute;border-left: 1px solid gray;box-sizing: border-box;top: 0;bottom: 0;left: 50%;z-index: -1;}#sk-container-id-2 div.sk-parallel-item {display: flex;flex-direction: column;z-index: 1;position: relative;background-color: white;}#sk-container-id-2 div.sk-parallel-item:first-child::after {align-self: flex-end;width: 50%;}#sk-container-id-2 div.sk-parallel-item:last-child::after {align-self: flex-start;width: 50%;}#sk-container-id-2 div.sk-parallel-item:only-child::after {width: 0;}#sk-container-id-2 div.sk-dashed-wrapped {border: 1px dashed gray;margin: 0 0.4em 0.5em 0.4em;box-sizing: border-box;padding-bottom: 0.4em;background-color: white;}#sk-container-id-2 div.sk-label label {font-family: monospace;font-weight: bold;display: inline-block;line-height: 1.2em;}#sk-container-id-2 div.sk-label-container {text-align: center;}#sk-container-id-2 div.sk-container {/* jupyter's `normalize.less` sets `[hidden] { display: none; }` but bootstrap.min.css set `[hidden] { display: none !important; }` so we also need the `!important` here to be able to override the default hidden behavior on the sphinx rendered scikit-learn.org. See: https://github.com/scikit-learn/scikit-learn/issues/21755 */display: inline-block !important;position: relative;}#sk-container-id-2 div.sk-text-repr-fallback {display: none;}</style><div id=\"sk-container-id-2\" class=\"sk-top-container\"><div class=\"sk-text-repr-fallback\"><pre>LogisticRegression()</pre><b>In a Jupyter environment, please rerun this cell to show the HTML representation or trust the notebook. <br />On GitHub, the HTML representation is unable to render, please try loading this page with nbviewer.org.</b></div><div class=\"sk-container\" hidden><div class=\"sk-item\"><div class=\"sk-estimator sk-toggleable\"><input class=\"sk-toggleable__control sk-hidden--visually\" id=\"sk-estimator-id-2\" type=\"checkbox\" checked><label for=\"sk-estimator-id-2\" class=\"sk-toggleable__label sk-toggleable__label-arrow\">LogisticRegression</label><div class=\"sk-toggleable__content\"><pre>LogisticRegression()</pre></div></div></div></div></div>"
      ],
      "text/plain": [
       "LogisticRegression()"
      ]
     },
     "execution_count": 25,
     "metadata": {},
     "output_type": "execute_result"
    }
   ],
   "source": [
    "dv = DictVectorizer(sparse=False)\n",
    "\n",
    "train_dict = df_train[list_features_cat + list_features_num].to_dict(orient='records')\n",
    "X_train = dv.fit_transform(train_dict)\n",
    "\n",
    "\n",
    "model = LogisticRegression()\n",
    "model.fit(X_train, y_train)"
   ]
  },
  {
   "cell_type": "code",
   "execution_count": 26,
   "id": "385b018e-d379-4bb0-b248-41fc1190bac1",
   "metadata": {},
   "outputs": [
    {
     "data": {
      "text/plain": [
       "0.8034066713981547"
      ]
     },
     "execution_count": 26,
     "metadata": {},
     "output_type": "execute_result"
    }
   ],
   "source": [
    "# validation \n",
    "val_dict = df_val[list_features_cat + list_features_num].to_dict(orient='records')\n",
    "X_val = dv.transform(val_dict) \n",
    "\n",
    "y_pred = model.predict_proba(X_val)[:,1]\n",
    "\n",
    "# Accuracy\n",
    "churn_decision = (y_pred > 0.5)\n",
    "(y_val == churn_decision).mean()"
   ]
  },
  {
   "cell_type": "markdown",
   "id": "4e9db417-20b3-4a82-abd9-aaf47c3d92b7",
   "metadata": {},
   "source": [
    "****"
   ]
  },
  {
   "cell_type": "markdown",
   "id": "e82f211c-86ae-404f-bbe8-6649f722a3e1",
   "metadata": {},
   "source": [
    "# Accuracy and dummy model \n",
    "- Evalute the model on different thresholds\n",
    "- check the accuracy of dummy baselines"
   ]
  },
  {
   "cell_type": "code",
   "execution_count": null,
   "id": "4bd012f4-1b31-4fc2-8478-906a8f554857",
   "metadata": {},
   "outputs": [],
   "source": []
  },
  {
   "cell_type": "code",
   "execution_count": null,
   "id": "6a9c400e-ac55-4c70-b4da-04242c0dc4f9",
   "metadata": {},
   "outputs": [],
   "source": []
  },
  {
   "cell_type": "code",
   "execution_count": null,
   "id": "1c10de66-6547-4eb1-9277-59a65a0c1fea",
   "metadata": {},
   "outputs": [],
   "source": []
  },
  {
   "cell_type": "markdown",
   "id": "142ff6f1-cec1-4188-be79-f0fcc6d1c5c2",
   "metadata": {},
   "source": [
    "# Confusion table\n",
    "- Different tyeps of errors and correct decisions\n",
    "- Arranign them into a table"
   ]
  },
  {
   "cell_type": "code",
   "execution_count": null,
   "id": "6d2024f7-04d3-4167-8d52-c20ce9fb2ab2",
   "metadata": {},
   "outputs": [],
   "source": []
  },
  {
   "cell_type": "code",
   "execution_count": null,
   "id": "6abca623-2a8d-48a0-b103-72cb15c33899",
   "metadata": {},
   "outputs": [],
   "source": []
  },
  {
   "cell_type": "code",
   "execution_count": null,
   "id": "2bc44289-87b2-4312-9dcb-51349663d034",
   "metadata": {},
   "outputs": [],
   "source": []
  },
  {
   "cell_type": "code",
   "execution_count": null,
   "id": "b0d076f8-341d-464f-a357-52c198fc966e",
   "metadata": {},
   "outputs": [],
   "source": []
  },
  {
   "cell_type": "markdown",
   "id": "128ade85-2bf2-46f9-a855-68b54836a097",
   "metadata": {},
   "source": [
    "# Precision and Recall "
   ]
  },
  {
   "cell_type": "code",
   "execution_count": null,
   "id": "1343df52-fdc3-41a0-887d-bfc05c10c71c",
   "metadata": {},
   "outputs": [],
   "source": []
  },
  {
   "cell_type": "code",
   "execution_count": null,
   "id": "5c5476d6-159f-4de4-8d8b-8b448e8955a0",
   "metadata": {},
   "outputs": [],
   "source": []
  },
  {
   "cell_type": "code",
   "execution_count": null,
   "id": "3d60702b-8b96-4517-80c4-792cba2ea988",
   "metadata": {},
   "outputs": [],
   "source": []
  },
  {
   "cell_type": "code",
   "execution_count": null,
   "id": "64971627-8afe-46e3-88f2-73a0606f346a",
   "metadata": {},
   "outputs": [],
   "source": []
  },
  {
   "cell_type": "markdown",
   "id": "6986ff5d-047f-4434-88ea-d0d182594443",
   "metadata": {},
   "source": [
    "# ROC Curces "
   ]
  },
  {
   "cell_type": "markdown",
   "id": "2dab4435-f2e1-46b1-8d8a-d99147e14fad",
   "metadata": {},
   "source": [
    "## TPR and FRP "
   ]
  },
  {
   "cell_type": "code",
   "execution_count": null,
   "id": "aac7303c-3d0e-4167-beeb-d94091716886",
   "metadata": {},
   "outputs": [],
   "source": []
  },
  {
   "cell_type": "code",
   "execution_count": null,
   "id": "9d8e290c-62f9-4576-a7eb-80703e5ff430",
   "metadata": {},
   "outputs": [],
   "source": []
  },
  {
   "cell_type": "markdown",
   "id": "d9ab3f4e-3b1e-4cbc-bf7f-9fe117e90a03",
   "metadata": {},
   "source": [
    "## Random model "
   ]
  },
  {
   "cell_type": "code",
   "execution_count": null,
   "id": "7bd722fd-895c-47a6-8021-145853a295c5",
   "metadata": {},
   "outputs": [],
   "source": []
  },
  {
   "cell_type": "code",
   "execution_count": null,
   "id": "473d1bdf-00b4-43c8-8979-78208340dfca",
   "metadata": {},
   "outputs": [],
   "source": []
  },
  {
   "cell_type": "code",
   "execution_count": null,
   "id": "0443053f-f6b9-4d73-9e67-2873897abe58",
   "metadata": {},
   "outputs": [],
   "source": []
  },
  {
   "cell_type": "markdown",
   "id": "a223ba84-0d86-4fab-819c-dee3cdc487e5",
   "metadata": {},
   "source": [
    "## Ideal model "
   ]
  },
  {
   "cell_type": "code",
   "execution_count": null,
   "id": "0ef7451e-5fbc-4371-90d6-838dc2ee141b",
   "metadata": {},
   "outputs": [],
   "source": []
  },
  {
   "cell_type": "code",
   "execution_count": null,
   "id": "19e097d1-b723-4efd-a439-49436cda2a61",
   "metadata": {},
   "outputs": [],
   "source": []
  },
  {
   "cell_type": "code",
   "execution_count": null,
   "id": "74385380-b91a-47ef-816d-84083744def5",
   "metadata": {},
   "outputs": [],
   "source": []
  },
  {
   "cell_type": "code",
   "execution_count": null,
   "id": "ebe02da0-ef8f-47ae-9ec2-eaf54054f70d",
   "metadata": {},
   "outputs": [],
   "source": []
  },
  {
   "cell_type": "markdown",
   "id": "b6a64d4b-e374-430d-a170-a8f62a48ac33",
   "metadata": {},
   "source": [
    "# ROC-AUC"
   ]
  },
  {
   "cell_type": "code",
   "execution_count": null,
   "id": "22e93e4c-68b8-49d9-bea4-b6d77837840a",
   "metadata": {},
   "outputs": [],
   "source": []
  },
  {
   "cell_type": "code",
   "execution_count": null,
   "id": "a3375580-5d82-44d8-a842-e7af897f4bea",
   "metadata": {},
   "outputs": [],
   "source": []
  },
  {
   "cell_type": "code",
   "execution_count": null,
   "id": "3a26ee7f-e5a7-48c0-b3cd-567c7aee015f",
   "metadata": {},
   "outputs": [],
   "source": []
  },
  {
   "cell_type": "markdown",
   "id": "123a144d-9d97-46ba-8cab-cc0a6cd0bac5",
   "metadata": {},
   "source": [
    "# Cross-Validation\n",
    "- Evaluting same model on different subsets of data \n",
    "- Getting the average prediction and the spread within predictions. "
   ]
  },
  {
   "cell_type": "code",
   "execution_count": null,
   "id": "6b77f756-9c74-4452-a2d6-c579bda0b250",
   "metadata": {},
   "outputs": [],
   "source": []
  },
  {
   "cell_type": "code",
   "execution_count": null,
   "id": "94fe47e0-6e20-45c5-ad40-291be1e0b1eb",
   "metadata": {},
   "outputs": [],
   "source": []
  },
  {
   "cell_type": "code",
   "execution_count": null,
   "id": "b354e752-bfc5-449d-86c0-a8d849b8069e",
   "metadata": {},
   "outputs": [],
   "source": []
  },
  {
   "cell_type": "code",
   "execution_count": null,
   "id": "1c3567ed-80c8-4013-8006-0ad8d1356bc0",
   "metadata": {},
   "outputs": [],
   "source": []
  },
  {
   "cell_type": "code",
   "execution_count": null,
   "id": "7199b5a7-8748-41d5-b42c-8fdecf0de22c",
   "metadata": {},
   "outputs": [],
   "source": []
  }
 ],
 "metadata": {
  "kernelspec": {
   "display_name": "Python 3 (ipykernel)",
   "language": "python",
   "name": "python3"
  },
  "language_info": {
   "codemirror_mode": {
    "name": "ipython",
    "version": 3
   },
   "file_extension": ".py",
   "mimetype": "text/x-python",
   "name": "python",
   "nbconvert_exporter": "python",
   "pygments_lexer": "ipython3",
   "version": "3.10.6"
  }
 },
 "nbformat": 4,
 "nbformat_minor": 5
}
