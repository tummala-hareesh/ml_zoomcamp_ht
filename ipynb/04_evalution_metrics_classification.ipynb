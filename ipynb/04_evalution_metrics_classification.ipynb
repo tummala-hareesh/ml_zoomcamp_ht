{
 "cells": [
  {
   "cell_type": "markdown",
   "id": "03e549da-9083-4d5e-a50d-df63b9998913",
   "metadata": {},
   "source": [
    "# Week-4\n",
    "Evalution metrics for classification problems. "
   ]
  },
  {
   "cell_type": "markdown",
   "id": "fa5e4013-f729-4ace-ad5d-5fae31fc845d",
   "metadata": {},
   "source": [
    "# Import modules"
   ]
  },
  {
   "cell_type": "code",
   "execution_count": 3,
   "id": "1918773a-b5cd-46ee-8945-88cfbd78bd75",
   "metadata": {},
   "outputs": [],
   "source": [
    "import pandas as pd\n",
    "import numpy as np \n",
    "\n",
    "import matplotlib.pyplot as plt\n",
    "import seaborn as sns\n",
    "\n",
    "%matplotlib inline"
   ]
  },
  {
   "cell_type": "code",
   "execution_count": 151,
   "id": "000f9647-4888-4666-bda1-e0cafc0c3cf5",
   "metadata": {},
   "outputs": [],
   "source": [
    "from sklearn.model_selection import train_test_split\n",
    "from sklearn.feature_extraction import DictVectorizer\n",
    "from sklearn.linear_model import LogisticRegression\n",
    "from sklearn.metrics import accuracy_score\n",
    "from sklearn.metrics import roc_curve, roc_auc_score, auc\n",
    "from sklearn.model_selection import KFold"
   ]
  },
  {
   "cell_type": "markdown",
   "id": "a20cae47-6b6c-4036-9158-bea53e0d9a6a",
   "metadata": {},
   "source": [
    "# Load and pre-process Data - Model "
   ]
  },
  {
   "cell_type": "code",
   "execution_count": 167,
   "id": "53faa4ea-d6e1-41b3-b5b6-9664b5539da4",
   "metadata": {},
   "outputs": [],
   "source": [
    "df = pd.read_csv('03_data-Telco-Customer-Churn.csv')\n",
    "\n",
    "# Standardize column names \n",
    "df.columns = df.columns.str.lower().str.replace(' ','_')\n",
    "\n",
    "# get list of categorical features\n",
    "features_cat = list(df.dtypes[df.dtypes == 'object'].index)\n",
    "\n",
    "# standardize categorical features data\n",
    "for f in features_cat:\n",
    "    df[f] = df[f].str.lower().str.replace(' ','_')\n",
    "    \n",
    "df.totalcharges = pd.to_numeric(df.totalcharges, errors='coerce')\n",
    "df.totalcharges = df.totalcharges.fillna(0)\n",
    "\n",
    "\n",
    "df.churn = (df.churn == 'yes').astype('int')"
   ]
  },
  {
   "cell_type": "code",
   "execution_count": 168,
   "id": "bca25935-d440-4845-9baf-d2ce8d6c9c36",
   "metadata": {},
   "outputs": [],
   "source": [
    "# Train-Test-Split = 60-20-20\n",
    "df_train_full, df_test = train_test_split(df, test_size=0.2, random_state=1)\n",
    "df_train, df_val = train_test_split(df_train_full, test_size=0.25, random_state=1)"
   ]
  },
  {
   "cell_type": "code",
   "execution_count": 169,
   "id": "948d12eb-b8be-484b-b7fd-cdc080e1dd0d",
   "metadata": {},
   "outputs": [],
   "source": [
    "# Get y variables \n",
    "y_train = df_train.churn.values\n",
    "y_val   = df_val.churn.values\n",
    "y_test  = df_test.churn.values\n",
    "\n",
    "# delete target from DF\n",
    "del df_train['churn']\n",
    "del df_val['churn']\n",
    "del df_test['churn']"
   ]
  },
  {
   "cell_type": "code",
   "execution_count": 170,
   "id": "d7efe7ea-699e-465e-be3b-6766ba955614",
   "metadata": {},
   "outputs": [
    {
     "data": {
      "text/plain": [
       "(['tenure', 'monthlycharges', 'totalcharges'],\n",
       " ['onlinesecurity',\n",
       "  'dependents',\n",
       "  'paymentmethod',\n",
       "  'phoneservice',\n",
       "  'multiplelines',\n",
       "  'techsupport',\n",
       "  'gender',\n",
       "  'seniorcitizen',\n",
       "  'paperlessbilling',\n",
       "  'deviceprotection',\n",
       "  'streamingtv',\n",
       "  'partner',\n",
       "  'streamingmovies',\n",
       "  'internetservice',\n",
       "  'contract',\n",
       "  'onlinebackup'])"
      ]
     },
     "execution_count": 170,
     "metadata": {},
     "output_type": "execute_result"
    }
   ],
   "source": [
    "# Numericals \n",
    "list_features_num = ['tenure', 'monthlycharges', 'totalcharges']\n",
    "\n",
    "# Categoical \n",
    "list_features_cat = list(set(df_train_full.columns) - set(list_features_num) - set(['churn','customerid']))\n",
    "\n",
    "list_features_num, list_features_cat"
   ]
  },
  {
   "cell_type": "code",
   "execution_count": 171,
   "id": "b97f1a18-1b37-4541-a49e-a9b1473c0eae",
   "metadata": {},
   "outputs": [
    {
     "data": {
      "text/html": [
       "<style>#sk-container-id-3 {color: black;background-color: white;}#sk-container-id-3 pre{padding: 0;}#sk-container-id-3 div.sk-toggleable {background-color: white;}#sk-container-id-3 label.sk-toggleable__label {cursor: pointer;display: block;width: 100%;margin-bottom: 0;padding: 0.3em;box-sizing: border-box;text-align: center;}#sk-container-id-3 label.sk-toggleable__label-arrow:before {content: \"▸\";float: left;margin-right: 0.25em;color: #696969;}#sk-container-id-3 label.sk-toggleable__label-arrow:hover:before {color: black;}#sk-container-id-3 div.sk-estimator:hover label.sk-toggleable__label-arrow:before {color: black;}#sk-container-id-3 div.sk-toggleable__content {max-height: 0;max-width: 0;overflow: hidden;text-align: left;background-color: #f0f8ff;}#sk-container-id-3 div.sk-toggleable__content pre {margin: 0.2em;color: black;border-radius: 0.25em;background-color: #f0f8ff;}#sk-container-id-3 input.sk-toggleable__control:checked~div.sk-toggleable__content {max-height: 200px;max-width: 100%;overflow: auto;}#sk-container-id-3 input.sk-toggleable__control:checked~label.sk-toggleable__label-arrow:before {content: \"▾\";}#sk-container-id-3 div.sk-estimator input.sk-toggleable__control:checked~label.sk-toggleable__label {background-color: #d4ebff;}#sk-container-id-3 div.sk-label input.sk-toggleable__control:checked~label.sk-toggleable__label {background-color: #d4ebff;}#sk-container-id-3 input.sk-hidden--visually {border: 0;clip: rect(1px 1px 1px 1px);clip: rect(1px, 1px, 1px, 1px);height: 1px;margin: -1px;overflow: hidden;padding: 0;position: absolute;width: 1px;}#sk-container-id-3 div.sk-estimator {font-family: monospace;background-color: #f0f8ff;border: 1px dotted black;border-radius: 0.25em;box-sizing: border-box;margin-bottom: 0.5em;}#sk-container-id-3 div.sk-estimator:hover {background-color: #d4ebff;}#sk-container-id-3 div.sk-parallel-item::after {content: \"\";width: 100%;border-bottom: 1px solid gray;flex-grow: 1;}#sk-container-id-3 div.sk-label:hover label.sk-toggleable__label {background-color: #d4ebff;}#sk-container-id-3 div.sk-serial::before {content: \"\";position: absolute;border-left: 1px solid gray;box-sizing: border-box;top: 0;bottom: 0;left: 50%;z-index: 0;}#sk-container-id-3 div.sk-serial {display: flex;flex-direction: column;align-items: center;background-color: white;padding-right: 0.2em;padding-left: 0.2em;position: relative;}#sk-container-id-3 div.sk-item {position: relative;z-index: 1;}#sk-container-id-3 div.sk-parallel {display: flex;align-items: stretch;justify-content: center;background-color: white;position: relative;}#sk-container-id-3 div.sk-item::before, #sk-container-id-3 div.sk-parallel-item::before {content: \"\";position: absolute;border-left: 1px solid gray;box-sizing: border-box;top: 0;bottom: 0;left: 50%;z-index: -1;}#sk-container-id-3 div.sk-parallel-item {display: flex;flex-direction: column;z-index: 1;position: relative;background-color: white;}#sk-container-id-3 div.sk-parallel-item:first-child::after {align-self: flex-end;width: 50%;}#sk-container-id-3 div.sk-parallel-item:last-child::after {align-self: flex-start;width: 50%;}#sk-container-id-3 div.sk-parallel-item:only-child::after {width: 0;}#sk-container-id-3 div.sk-dashed-wrapped {border: 1px dashed gray;margin: 0 0.4em 0.5em 0.4em;box-sizing: border-box;padding-bottom: 0.4em;background-color: white;}#sk-container-id-3 div.sk-label label {font-family: monospace;font-weight: bold;display: inline-block;line-height: 1.2em;}#sk-container-id-3 div.sk-label-container {text-align: center;}#sk-container-id-3 div.sk-container {/* jupyter's `normalize.less` sets `[hidden] { display: none; }` but bootstrap.min.css set `[hidden] { display: none !important; }` so we also need the `!important` here to be able to override the default hidden behavior on the sphinx rendered scikit-learn.org. See: https://github.com/scikit-learn/scikit-learn/issues/21755 */display: inline-block !important;position: relative;}#sk-container-id-3 div.sk-text-repr-fallback {display: none;}</style><div id=\"sk-container-id-3\" class=\"sk-top-container\"><div class=\"sk-text-repr-fallback\"><pre>LogisticRegression()</pre><b>In a Jupyter environment, please rerun this cell to show the HTML representation or trust the notebook. <br />On GitHub, the HTML representation is unable to render, please try loading this page with nbviewer.org.</b></div><div class=\"sk-container\" hidden><div class=\"sk-item\"><div class=\"sk-estimator sk-toggleable\"><input class=\"sk-toggleable__control sk-hidden--visually\" id=\"sk-estimator-id-3\" type=\"checkbox\" checked><label for=\"sk-estimator-id-3\" class=\"sk-toggleable__label sk-toggleable__label-arrow\">LogisticRegression</label><div class=\"sk-toggleable__content\"><pre>LogisticRegression()</pre></div></div></div></div></div>"
      ],
      "text/plain": [
       "LogisticRegression()"
      ]
     },
     "execution_count": 171,
     "metadata": {},
     "output_type": "execute_result"
    }
   ],
   "source": [
    "dv = DictVectorizer(sparse=False)\n",
    "\n",
    "train_dict = df_train[list_features_cat + list_features_num].to_dict(orient='records')\n",
    "X_train = dv.fit_transform(train_dict)\n",
    "\n",
    "\n",
    "model = LogisticRegression()\n",
    "model.fit(X_train, y_train)"
   ]
  },
  {
   "cell_type": "code",
   "execution_count": 172,
   "id": "385b018e-d379-4bb0-b248-41fc1190bac1",
   "metadata": {},
   "outputs": [
    {
     "data": {
      "text/plain": [
       "0.8034066713981547"
      ]
     },
     "execution_count": 172,
     "metadata": {},
     "output_type": "execute_result"
    }
   ],
   "source": [
    "# validation \n",
    "val_dict = df_val[list_features_cat + list_features_num].to_dict(orient='records')\n",
    "X_val = dv.transform(val_dict) \n",
    "\n",
    "y_pred = model.predict_proba(X_val)[:,1]\n",
    "\n",
    "# Accuracy\n",
    "churn_decision = (y_pred > 0.5)\n",
    "(y_val == churn_decision).mean()"
   ]
  },
  {
   "cell_type": "markdown",
   "id": "4e9db417-20b3-4a82-abd9-aaf47c3d92b7",
   "metadata": {},
   "source": [
    "****"
   ]
  },
  {
   "cell_type": "markdown",
   "id": "e82f211c-86ae-404f-bbe8-6649f722a3e1",
   "metadata": {},
   "source": [
    "# Accuracy and dummy model \n",
    "- Evalute the model on different thresholds\n",
    "- check the accuracy of dummy baselines"
   ]
  },
  {
   "cell_type": "code",
   "execution_count": 28,
   "id": "4bd012f4-1b31-4fc2-8478-906a8f554857",
   "metadata": {},
   "outputs": [
    {
     "data": {
      "text/plain": [
       "1409"
      ]
     },
     "execution_count": 28,
     "metadata": {},
     "output_type": "execute_result"
    }
   ],
   "source": [
    "len(df_val)"
   ]
  },
  {
   "cell_type": "code",
   "execution_count": 31,
   "id": "6a9c400e-ac55-4c70-b4da-04242c0dc4f9",
   "metadata": {},
   "outputs": [
    {
     "data": {
      "text/plain": [
       "(1132, 1409)"
      ]
     },
     "execution_count": 31,
     "metadata": {},
     "output_type": "execute_result"
    }
   ],
   "source": [
    "# sum to see no. of correct decisions\n",
    "(y_val == churn_decision).sum(), len(y_val)"
   ]
  },
  {
   "cell_type": "code",
   "execution_count": 30,
   "id": "a69886c4-6fc3-4564-890e-ff63e810b190",
   "metadata": {},
   "outputs": [
    {
     "data": {
      "text/plain": [
       "0.8034066713981547"
      ]
     },
     "execution_count": 30,
     "metadata": {},
     "output_type": "execute_result"
    }
   ],
   "source": [
    "# Accuracy\n",
    "(y_val == churn_decision).sum() / len(y_val)"
   ]
  },
  {
   "cell_type": "markdown",
   "id": "1ef9f5c5-2c62-45af-991a-c78d8a46d6d5",
   "metadata": {},
   "source": [
    "Why use the churn threshold? \n",
    "- Change the threshold and test "
   ]
  },
  {
   "cell_type": "code",
   "execution_count": 37,
   "id": "b05267e7-2baf-4e8b-afe6-732e4ebcd6b3",
   "metadata": {},
   "outputs": [
    {
     "name": "stdout",
     "output_type": "stream",
     "text": [
      "t=0.00 s=0.274\n",
      "t=0.05 s=0.509\n",
      "t=0.10 s=0.591\n",
      "t=0.15 s=0.666\n",
      "t=0.20 s=0.710\n",
      "t=0.25 s=0.739\n",
      "t=0.30 s=0.760\n",
      "t=0.35 s=0.772\n",
      "t=0.40 s=0.785\n",
      "t=0.45 s=0.793\n",
      "t=0.50 s=0.803\n",
      "t=0.55 s=0.801\n",
      "t=0.60 s=0.795\n",
      "t=0.65 s=0.786\n",
      "t=0.70 s=0.765\n",
      "t=0.75 s=0.744\n",
      "t=0.80 s=0.735\n",
      "t=0.85 s=0.726\n",
      "t=0.90 s=0.726\n",
      "t=0.95 s=0.726\n",
      "t=1.00 s=0.726\n"
     ]
    }
   ],
   "source": [
    "# testing different thresholds\n",
    "thresholds = np.linspace(0, 1, 21)\n",
    "scores = [] \n",
    "\n",
    "for t in thresholds:\n",
    "    churn_decision = (y_pred >= t)\n",
    "    score = (y_val == churn_decision).mean()\n",
    "    scores.append(score)\n",
    "    print(f't={t:.2f} s={score:.3f}')"
   ]
  },
  {
   "cell_type": "code",
   "execution_count": 38,
   "id": "be6a78a4-5339-4698-84cc-e632c32184fe",
   "metadata": {},
   "outputs": [
    {
     "data": {
      "text/plain": [
       "[<matplotlib.lines.Line2D at 0x7f9ccf1ab010>]"
      ]
     },
     "execution_count": 38,
     "metadata": {},
     "output_type": "execute_result"
    },
    {
     "data": {
      "image/png": "[encoded data removed]",
      "text/plain": [
       "<Figure size 640x480 with 1 Axes>"
      ]
     },
     "metadata": {},
     "output_type": "display_data"
    }
   ],
   "source": [
    "# Plot thresholds and plot s\n",
    "plt.plot(thresholds, scores)"
   ]
  },
  {
   "cell_type": "markdown",
   "id": "8c7d6c3d-6bbc-4862-bd76-b2032eb94c45",
   "metadata": {},
   "source": [
    "`Logistic Regression` tries to optimize in such a way that 0.5 is the best thresholds"
   ]
  },
  {
   "cell_type": "code",
   "execution_count": 44,
   "id": "e0ec5bc5-ee42-4c92-bd8a-f8762a21cf4d",
   "metadata": {},
   "outputs": [
    {
     "data": {
      "text/plain": [
       "0.8034066713981547"
      ]
     },
     "execution_count": 44,
     "metadata": {},
     "output_type": "execute_result"
    }
   ],
   "source": [
    "# Scikit learn function for accuracy \n",
    "accuracy_score(y_val, y_pred > 0.5)"
   ]
  },
  {
   "cell_type": "markdown",
   "id": "e6a08169-70bf-4934-b8be-86904ca8f559",
   "metadata": {},
   "source": [
    "- Customers are churning if the score is >1.0. Accuracy for this threshols is `73%`, which is less than `80% threshold=@0.5`."
   ]
  },
  {
   "cell_type": "markdown",
   "id": "da96bdfa-1f88-4659-a978-d7b29d8a43a0",
   "metadata": {},
   "source": [
    "- Our model = 80%\n",
    "- Dummy model = 73%\n",
    "- Why bother? \n",
    "    - 7% increase \n",
    "    - Accuracy doesn't completely tell everything about churning and non-churning\n",
    "    - `Class Imbalances` will impact model performance,"
   ]
  },
  {
   "cell_type": "markdown",
   "id": "2ba5f8db-ea0c-442d-bfc7-63874020f280",
   "metadata": {},
   "source": [
    "***"
   ]
  },
  {
   "cell_type": "markdown",
   "id": "142ff6f1-cec1-4188-be79-f0fcc6d1c5c2",
   "metadata": {},
   "source": [
    "# Confusion table\n",
    "- Different tyeps of errors and correct decisions\n",
    "- Arranign them into a table"
   ]
  },
  {
   "cell_type": "code",
   "execution_count": 47,
   "id": "6d2024f7-04d3-4167-8d52-c20ce9fb2ab2",
   "metadata": {},
   "outputs": [],
   "source": [
    "# Actuals\n",
    "actual_positive = (y_val == 1)\n",
    "actual_negative = (y_val == 0)"
   ]
  },
  {
   "cell_type": "code",
   "execution_count": 50,
   "id": "6abca623-2a8d-48a0-b103-72cb15c33899",
   "metadata": {},
   "outputs": [],
   "source": [
    "# precitions\n",
    "t = 0.5\n",
    "pred_positive = (y_pred >= t)\n",
    "pred_negative = (y_pred < t)"
   ]
  },
  {
   "cell_type": "code",
   "execution_count": 78,
   "id": "3070b0d4-3640-4d8f-8b7d-a713a8cbdae3",
   "metadata": {},
   "outputs": [
    {
     "data": {
      "text/plain": [
       "(210, 922)"
      ]
     },
     "execution_count": 78,
     "metadata": {},
     "output_type": "execute_result"
    }
   ],
   "source": [
    "# combine above both - TP, TN\n",
    "TP = (pred_positive & actual_positive).sum()\n",
    "TN = (pred_negative & actual_negative).sum()\n",
    "\n",
    "TP, TN"
   ]
  },
  {
   "cell_type": "code",
   "execution_count": 79,
   "id": "694a7556-f9af-4897-858f-aeca8a96ea97",
   "metadata": {},
   "outputs": [
    {
     "data": {
      "text/plain": [
       "(101, 176)"
      ]
     },
     "execution_count": 79,
     "metadata": {},
     "output_type": "execute_result"
    }
   ],
   "source": [
    "# FP, FN \n",
    "FP = (pred_positive & actual_negative).sum()\n",
    "FN = (pred_negative & actual_positive).sum()\n",
    "\n",
    "FP, FN "
   ]
  },
  {
   "cell_type": "code",
   "execution_count": 60,
   "id": "98241e17-e323-42b7-ab1c-b2f5c27f4e20",
   "metadata": {},
   "outputs": [
    {
     "data": {
      "text/plain": [
       "array([[922, 176],\n",
       "       [101, 210]])"
      ]
     },
     "execution_count": 60,
     "metadata": {},
     "output_type": "execute_result"
    }
   ],
   "source": [
    "# numpy confusion matrix\n",
    "confusion_matrix = np.array([[TN,FN],[FP,TP]])\n",
    "confusion_matrix"
   ]
  },
  {
   "cell_type": "code",
   "execution_count": 61,
   "id": "4ec43b2c-2d06-4859-8878-ba1782e8fe55",
   "metadata": {},
   "outputs": [
    {
     "data": {
      "text/html": [
       "<div>\n",
       "<style scoped>\n",
       "    .dataframe tbody tr th:only-of-type {\n",
       "        vertical-align: middle;\n",
       "    }\n",
       "\n",
       "    .dataframe tbody tr th {\n",
       "        vertical-align: top;\n",
       "    }\n",
       "\n",
       "    .dataframe thead th {\n",
       "        text-align: right;\n",
       "    }\n",
       "</style>\n",
       "<table border=\"1\" class=\"dataframe\">\n",
       "  <thead>\n",
       "    <tr style=\"text-align: right;\">\n",
       "      <th></th>\n",
       "      <th>0</th>\n",
       "      <th>1</th>\n",
       "    </tr>\n",
       "  </thead>\n",
       "  <tbody>\n",
       "    <tr>\n",
       "      <th>0</th>\n",
       "      <td>922</td>\n",
       "      <td>176</td>\n",
       "    </tr>\n",
       "    <tr>\n",
       "      <th>1</th>\n",
       "      <td>101</td>\n",
       "      <td>210</td>\n",
       "    </tr>\n",
       "  </tbody>\n",
       "</table>\n",
       "</div>"
      ],
      "text/plain": [
       "     0    1\n",
       "0  922  176\n",
       "1  101  210"
      ]
     },
     "execution_count": 61,
     "metadata": {},
     "output_type": "execute_result"
    }
   ],
   "source": [
    "# Confusion matrix\n",
    "df_confusion = pd.DataFrame(data=confusion_matrix)\n",
    "\n",
    "df_confusion"
   ]
  },
  {
   "cell_type": "markdown",
   "id": "f3d2cce3-0ec7-4996-973f-9b6065e1fb4c",
   "metadata": {},
   "source": [
    "- We have more FN=176 than FP=101\n",
    "- FP = we lose money as they use promo and leave \n",
    "- FN = we don't send them promo emails. They leave. So, lose customer and profit here!"
   ]
  },
  {
   "cell_type": "code",
   "execution_count": 64,
   "id": "9dc6317e-739e-4984-81ca-f29697458028",
   "metadata": {},
   "outputs": [
    {
     "data": {
      "text/html": [
       "<div>\n",
       "<style scoped>\n",
       "    .dataframe tbody tr th:only-of-type {\n",
       "        vertical-align: middle;\n",
       "    }\n",
       "\n",
       "    .dataframe tbody tr th {\n",
       "        vertical-align: top;\n",
       "    }\n",
       "\n",
       "    .dataframe thead th {\n",
       "        text-align: right;\n",
       "    }\n",
       "</style>\n",
       "<table border=\"1\" class=\"dataframe\">\n",
       "  <thead>\n",
       "    <tr style=\"text-align: right;\">\n",
       "      <th></th>\n",
       "      <th>0</th>\n",
       "      <th>1</th>\n",
       "    </tr>\n",
       "  </thead>\n",
       "  <tbody>\n",
       "    <tr>\n",
       "      <th>0</th>\n",
       "      <td>65.436480</td>\n",
       "      <td>12.491128</td>\n",
       "    </tr>\n",
       "    <tr>\n",
       "      <th>1</th>\n",
       "      <td>7.168204</td>\n",
       "      <td>14.904187</td>\n",
       "    </tr>\n",
       "  </tbody>\n",
       "</table>\n",
       "</div>"
      ],
      "text/plain": [
       "           0          1\n",
       "0  65.436480  12.491128\n",
       "1   7.168204  14.904187"
      ]
     },
     "execution_count": 64,
     "metadata": {},
     "output_type": "execute_result"
    }
   ],
   "source": [
    "# normalized confutions mtraix \n",
    "df_confusion_norm = df_confusion / df_confusion.sum().sum() * 100\n",
    "\n",
    "df_confusion_norm"
   ]
  },
  {
   "cell_type": "code",
   "execution_count": 72,
   "id": "031ceb2b-0fd3-4caa-86dc-662f8c97bdec",
   "metadata": {},
   "outputs": [
    {
     "data": {
      "text/plain": [
       "True"
      ]
     },
     "execution_count": 72,
     "metadata": {},
     "output_type": "execute_result"
    }
   ],
   "source": [
    "# Accuracy vs TP + TN - %\n",
    "accuracy = 80\n",
    "\n",
    "TP = 65\n",
    "TN = 15\n",
    "\n",
    "accuracy == (TP+TN)"
   ]
  },
  {
   "cell_type": "markdown",
   "id": "343c44b3-dd16-4b1c-9efb-821a9b1186fc",
   "metadata": {},
   "source": [
    "***"
   ]
  },
  {
   "cell_type": "markdown",
   "id": "128ade85-2bf2-46f9-a855-68b54836a097",
   "metadata": {},
   "source": [
    "# Precision and Recall "
   ]
  },
  {
   "cell_type": "markdown",
   "id": "4be1062e-b8c5-4f8e-9609-3f4e977f9ada",
   "metadata": {},
   "source": [
    "precision = Fraction of positive predictions that are correct"
   ]
  },
  {
   "cell_type": "code",
   "execution_count": 80,
   "id": "5c5476d6-159f-4de4-8d8b-8b448e8955a0",
   "metadata": {},
   "outputs": [
    {
     "data": {
      "text/plain": [
       "0.6752411575562701"
      ]
     },
     "execution_count": 80,
     "metadata": {},
     "output_type": "execute_result"
    }
   ],
   "source": [
    "Precision = TP / (FP + TP)\n",
    "Precision"
   ]
  },
  {
   "cell_type": "code",
   "execution_count": 81,
   "id": "3d60702b-8b96-4517-80c4-792cba2ea988",
   "metadata": {},
   "outputs": [
    {
     "data": {
      "text/plain": [
       "0.5440414507772021"
      ]
     },
     "execution_count": 81,
     "metadata": {},
     "output_type": "execute_result"
    }
   ],
   "source": [
    "Recall = TP / (FN + TP)\n",
    "Recall"
   ]
  },
  {
   "cell_type": "markdown",
   "id": "2856341a-832f-4571-b55b-dd51f03e7d28",
   "metadata": {},
   "source": [
    "***"
   ]
  },
  {
   "cell_type": "markdown",
   "id": "6986ff5d-047f-4434-88ea-d0d182594443",
   "metadata": {},
   "source": [
    "# ROC Curces "
   ]
  },
  {
   "cell_type": "markdown",
   "id": "2dab4435-f2e1-46b1-8d8a-d99147e14fad",
   "metadata": {},
   "source": [
    "## TPR and FRP "
   ]
  },
  {
   "cell_type": "markdown",
   "id": "f5438127-ac70-4471-a490-3f4daac51b00",
   "metadata": {},
   "source": []
  },
  {
   "cell_type": "code",
   "execution_count": 86,
   "id": "a27be37c-33b7-46ca-a1d2-eb2e076168d9",
   "metadata": {},
   "outputs": [
    {
     "data": {
      "text/plain": [
       "0.09872922776148582"
      ]
     },
     "execution_count": 86,
     "metadata": {},
     "output_type": "execute_result"
    }
   ],
   "source": [
    "FPR = FP / (TN + FP)\n",
    "FPR "
   ]
  },
  {
   "cell_type": "code",
   "execution_count": 87,
   "id": "12db3f30-d8a9-44c5-8d71-1a7d2b68fe10",
   "metadata": {},
   "outputs": [
    {
     "data": {
      "text/plain": [
       "0.5440414507772021"
      ]
     },
     "execution_count": 87,
     "metadata": {},
     "output_type": "execute_result"
    }
   ],
   "source": [
    "TPR = TP / (TP + FN)\n",
    "TPR "
   ]
  },
  {
   "cell_type": "code",
   "execution_count": null,
   "id": "5f2b08a1-c7b8-498c-958e-cdecca4e5eac",
   "metadata": {},
   "outputs": [],
   "source": []
  },
  {
   "cell_type": "code",
   "execution_count": 94,
   "id": "9d8e290c-62f9-4576-a7eb-80703e5ff430",
   "metadata": {},
   "outputs": [],
   "source": [
    "thresholds = np.linspace(0, 1, 101)\n",
    "\n",
    "scores = []\n",
    "\n",
    "\n",
    "for t in thresholds:\n",
    "    actual_positive = (y_val == 1)\n",
    "    actual_negative = (y_val == 0)\n",
    "    \n",
    "    pred_positive = (y_pred >= t)\n",
    "    pred_negative = (y_pred < t)\n",
    "    \n",
    "    TP = (pred_positive & actual_positive).sum()\n",
    "    TN = (pred_negative & actual_negative).sum()\n",
    "\n",
    "    FP = (pred_positive & actual_negative).sum()\n",
    "    FN = (pred_negative & actual_positive).sum()\n",
    "\n",
    "    scores.append((t, TP, FP, FN, TN))"
   ]
  },
  {
   "cell_type": "code",
   "execution_count": 97,
   "id": "1d1db439-7c9f-489a-b4e9-f650cd4d6c09",
   "metadata": {},
   "outputs": [
    {
     "data": {
      "text/html": [
       "<div>\n",
       "<style scoped>\n",
       "    .dataframe tbody tr th:only-of-type {\n",
       "        vertical-align: middle;\n",
       "    }\n",
       "\n",
       "    .dataframe tbody tr th {\n",
       "        vertical-align: top;\n",
       "    }\n",
       "\n",
       "    .dataframe thead th {\n",
       "        text-align: right;\n",
       "    }\n",
       "</style>\n",
       "<table border=\"1\" class=\"dataframe\">\n",
       "  <thead>\n",
       "    <tr style=\"text-align: right;\">\n",
       "      <th></th>\n",
       "      <th>threshold</th>\n",
       "      <th>TP</th>\n",
       "      <th>FP</th>\n",
       "      <th>FN</th>\n",
       "      <th>TN</th>\n",
       "    </tr>\n",
       "  </thead>\n",
       "  <tbody>\n",
       "    <tr>\n",
       "      <th>0</th>\n",
       "      <td>0.00</td>\n",
       "      <td>386</td>\n",
       "      <td>1023</td>\n",
       "      <td>0</td>\n",
       "      <td>0</td>\n",
       "    </tr>\n",
       "    <tr>\n",
       "      <th>1</th>\n",
       "      <td>0.01</td>\n",
       "      <td>385</td>\n",
       "      <td>912</td>\n",
       "      <td>1</td>\n",
       "      <td>111</td>\n",
       "    </tr>\n",
       "    <tr>\n",
       "      <th>2</th>\n",
       "      <td>0.02</td>\n",
       "      <td>384</td>\n",
       "      <td>830</td>\n",
       "      <td>2</td>\n",
       "      <td>193</td>\n",
       "    </tr>\n",
       "    <tr>\n",
       "      <th>3</th>\n",
       "      <td>0.03</td>\n",
       "      <td>383</td>\n",
       "      <td>766</td>\n",
       "      <td>3</td>\n",
       "      <td>257</td>\n",
       "    </tr>\n",
       "    <tr>\n",
       "      <th>4</th>\n",
       "      <td>0.04</td>\n",
       "      <td>381</td>\n",
       "      <td>715</td>\n",
       "      <td>5</td>\n",
       "      <td>308</td>\n",
       "    </tr>\n",
       "    <tr>\n",
       "      <th>...</th>\n",
       "      <td>...</td>\n",
       "      <td>...</td>\n",
       "      <td>...</td>\n",
       "      <td>...</td>\n",
       "      <td>...</td>\n",
       "    </tr>\n",
       "    <tr>\n",
       "      <th>96</th>\n",
       "      <td>0.96</td>\n",
       "      <td>0</td>\n",
       "      <td>0</td>\n",
       "      <td>386</td>\n",
       "      <td>1023</td>\n",
       "    </tr>\n",
       "    <tr>\n",
       "      <th>97</th>\n",
       "      <td>0.97</td>\n",
       "      <td>0</td>\n",
       "      <td>0</td>\n",
       "      <td>386</td>\n",
       "      <td>1023</td>\n",
       "    </tr>\n",
       "    <tr>\n",
       "      <th>98</th>\n",
       "      <td>0.98</td>\n",
       "      <td>0</td>\n",
       "      <td>0</td>\n",
       "      <td>386</td>\n",
       "      <td>1023</td>\n",
       "    </tr>\n",
       "    <tr>\n",
       "      <th>99</th>\n",
       "      <td>0.99</td>\n",
       "      <td>0</td>\n",
       "      <td>0</td>\n",
       "      <td>386</td>\n",
       "      <td>1023</td>\n",
       "    </tr>\n",
       "    <tr>\n",
       "      <th>100</th>\n",
       "      <td>1.00</td>\n",
       "      <td>0</td>\n",
       "      <td>0</td>\n",
       "      <td>386</td>\n",
       "      <td>1023</td>\n",
       "    </tr>\n",
       "  </tbody>\n",
       "</table>\n",
       "<p>101 rows × 5 columns</p>\n",
       "</div>"
      ],
      "text/plain": [
       "     threshold   TP    FP   FN    TN\n",
       "0         0.00  386  1023    0     0\n",
       "1         0.01  385   912    1   111\n",
       "2         0.02  384   830    2   193\n",
       "3         0.03  383   766    3   257\n",
       "4         0.04  381   715    5   308\n",
       "..         ...  ...   ...  ...   ...\n",
       "96        0.96    0     0  386  1023\n",
       "97        0.97    0     0  386  1023\n",
       "98        0.98    0     0  386  1023\n",
       "99        0.99    0     0  386  1023\n",
       "100       1.00    0     0  386  1023\n",
       "\n",
       "[101 rows x 5 columns]"
      ]
     },
     "execution_count": 97,
     "metadata": {},
     "output_type": "execute_result"
    }
   ],
   "source": [
    "columns = ['threshold', 'TP', 'FP', 'FN', 'TN']\n",
    "\n",
    "df_scores = pd.DataFrame(scores, columns=columns)\n",
    "df_scores"
   ]
  },
  {
   "cell_type": "code",
   "execution_count": 98,
   "id": "aab4e896-64bb-4ccb-bb2d-d7a5e2a638cc",
   "metadata": {},
   "outputs": [],
   "source": [
    "df_scores['TPR'] =  df_scores.TP / (df_scores.TP + df_scores.FN)\n",
    "df_scores['FPR'] =  df_scores.FP / (df_scores.FP + df_scores.TN)"
   ]
  },
  {
   "cell_type": "code",
   "execution_count": 103,
   "id": "fc587e0b-1dd2-46b3-8f23-2df8763bff51",
   "metadata": {},
   "outputs": [
    {
     "data": {
      "text/plain": [
       "<matplotlib.legend.Legend at 0x7f9cc151f760>"
      ]
     },
     "execution_count": 103,
     "metadata": {},
     "output_type": "execute_result"
    },
    {
     "data": {
      "image/png": "[encoded data removed]",
      "text/plain": [
       "<Figure size 640x480 with 1 Axes>"
      ]
     },
     "metadata": {},
     "output_type": "display_data"
    }
   ],
   "source": [
    "# plotting TPR-FPR \n",
    "\n",
    "plt.plot(df_scores.threshold, df_scores['TPR'], label='TPR')\n",
    "plt.plot(df_scores.threshold, df_scores['FPR'], label='FPR')\n",
    "plt.legend()"
   ]
  },
  {
   "cell_type": "markdown",
   "id": "d9ab3f4e-3b1e-4cbc-bf7f-9fe117e90a03",
   "metadata": {},
   "source": [
    "## Random model "
   ]
  },
  {
   "cell_type": "code",
   "execution_count": 104,
   "id": "7bd722fd-895c-47a6-8021-145853a295c5",
   "metadata": {},
   "outputs": [],
   "source": [
    "np.random.seed(1)\n",
    "y_rand = np.random.uniform(0, 1, size=len(y_val))"
   ]
  },
  {
   "cell_type": "code",
   "execution_count": 107,
   "id": "473d1bdf-00b4-43c8-8979-78208340dfca",
   "metadata": {},
   "outputs": [
    {
     "data": {
      "text/plain": [
       "0.5017743080198722"
      ]
     },
     "execution_count": 107,
     "metadata": {},
     "output_type": "execute_result"
    }
   ],
   "source": [
    "((y_rand > 0.5) == y_val).mean()"
   ]
  },
  {
   "cell_type": "code",
   "execution_count": 108,
   "id": "0443053f-f6b9-4d73-9e67-2873897abe58",
   "metadata": {},
   "outputs": [],
   "source": [
    "def tpr_fpr_dataframe(y_val, y_pred):\n",
    "\n",
    "    thresholds = np.linspace(0, 1, 101)\n",
    "\n",
    "    scores = []\n",
    "\n",
    "\n",
    "    for t in thresholds:\n",
    "        actual_positive = (y_val == 1)\n",
    "        actual_negative = (y_val == 0)\n",
    "\n",
    "        pred_positive = (y_pred >= t)\n",
    "        pred_negative = (y_pred < t)\n",
    "\n",
    "        TP = (pred_positive & actual_positive).sum()\n",
    "        TN = (pred_negative & actual_negative).sum()\n",
    "\n",
    "        FP = (pred_positive & actual_negative).sum()\n",
    "        FN = (pred_negative & actual_positive).sum()\n",
    "\n",
    "        scores.append((t, TP, FP, FN, TN))\n",
    "        \n",
    "        \n",
    "    columns = ['threshold', 'TP', 'FP', 'FN', 'TN']\n",
    "\n",
    "    df_scores = pd.DataFrame(scores, columns=columns)\n",
    "    df_scores['TPR'] =  df_scores.TP / (df_scores.TP + df_scores.FN)\n",
    "    df_scores['FPR'] =  df_scores.FP / (df_scores.FP + df_scores.TN)\n",
    "    \n",
    "    return df_scores"
   ]
  },
  {
   "cell_type": "code",
   "execution_count": 109,
   "id": "1ee86431-0257-48d1-ba34-3a23e856b927",
   "metadata": {},
   "outputs": [
    {
     "data": {
      "text/html": [
       "<div>\n",
       "<style scoped>\n",
       "    .dataframe tbody tr th:only-of-type {\n",
       "        vertical-align: middle;\n",
       "    }\n",
       "\n",
       "    .dataframe tbody tr th {\n",
       "        vertical-align: top;\n",
       "    }\n",
       "\n",
       "    .dataframe thead th {\n",
       "        text-align: right;\n",
       "    }\n",
       "</style>\n",
       "<table border=\"1\" class=\"dataframe\">\n",
       "  <thead>\n",
       "    <tr style=\"text-align: right;\">\n",
       "      <th></th>\n",
       "      <th>threshold</th>\n",
       "      <th>TP</th>\n",
       "      <th>FP</th>\n",
       "      <th>FN</th>\n",
       "      <th>TN</th>\n",
       "      <th>TPR</th>\n",
       "      <th>FPR</th>\n",
       "    </tr>\n",
       "  </thead>\n",
       "  <tbody>\n",
       "    <tr>\n",
       "      <th>0</th>\n",
       "      <td>0.00</td>\n",
       "      <td>386</td>\n",
       "      <td>1023</td>\n",
       "      <td>0</td>\n",
       "      <td>0</td>\n",
       "      <td>1.000000</td>\n",
       "      <td>1.000000</td>\n",
       "    </tr>\n",
       "    <tr>\n",
       "      <th>1</th>\n",
       "      <td>0.01</td>\n",
       "      <td>382</td>\n",
       "      <td>1013</td>\n",
       "      <td>4</td>\n",
       "      <td>10</td>\n",
       "      <td>0.989637</td>\n",
       "      <td>0.990225</td>\n",
       "    </tr>\n",
       "    <tr>\n",
       "      <th>2</th>\n",
       "      <td>0.02</td>\n",
       "      <td>379</td>\n",
       "      <td>993</td>\n",
       "      <td>7</td>\n",
       "      <td>30</td>\n",
       "      <td>0.981865</td>\n",
       "      <td>0.970674</td>\n",
       "    </tr>\n",
       "    <tr>\n",
       "      <th>3</th>\n",
       "      <td>0.03</td>\n",
       "      <td>375</td>\n",
       "      <td>979</td>\n",
       "      <td>11</td>\n",
       "      <td>44</td>\n",
       "      <td>0.971503</td>\n",
       "      <td>0.956989</td>\n",
       "    </tr>\n",
       "    <tr>\n",
       "      <th>4</th>\n",
       "      <td>0.04</td>\n",
       "      <td>372</td>\n",
       "      <td>969</td>\n",
       "      <td>14</td>\n",
       "      <td>54</td>\n",
       "      <td>0.963731</td>\n",
       "      <td>0.947214</td>\n",
       "    </tr>\n",
       "    <tr>\n",
       "      <th>...</th>\n",
       "      <td>...</td>\n",
       "      <td>...</td>\n",
       "      <td>...</td>\n",
       "      <td>...</td>\n",
       "      <td>...</td>\n",
       "      <td>...</td>\n",
       "      <td>...</td>\n",
       "    </tr>\n",
       "    <tr>\n",
       "      <th>96</th>\n",
       "      <td>0.96</td>\n",
       "      <td>14</td>\n",
       "      <td>41</td>\n",
       "      <td>372</td>\n",
       "      <td>982</td>\n",
       "      <td>0.036269</td>\n",
       "      <td>0.040078</td>\n",
       "    </tr>\n",
       "    <tr>\n",
       "      <th>97</th>\n",
       "      <td>0.97</td>\n",
       "      <td>11</td>\n",
       "      <td>36</td>\n",
       "      <td>375</td>\n",
       "      <td>987</td>\n",
       "      <td>0.028497</td>\n",
       "      <td>0.035191</td>\n",
       "    </tr>\n",
       "    <tr>\n",
       "      <th>98</th>\n",
       "      <td>0.98</td>\n",
       "      <td>8</td>\n",
       "      <td>19</td>\n",
       "      <td>378</td>\n",
       "      <td>1004</td>\n",
       "      <td>0.020725</td>\n",
       "      <td>0.018573</td>\n",
       "    </tr>\n",
       "    <tr>\n",
       "      <th>99</th>\n",
       "      <td>0.99</td>\n",
       "      <td>6</td>\n",
       "      <td>7</td>\n",
       "      <td>380</td>\n",
       "      <td>1016</td>\n",
       "      <td>0.015544</td>\n",
       "      <td>0.006843</td>\n",
       "    </tr>\n",
       "    <tr>\n",
       "      <th>100</th>\n",
       "      <td>1.00</td>\n",
       "      <td>0</td>\n",
       "      <td>0</td>\n",
       "      <td>386</td>\n",
       "      <td>1023</td>\n",
       "      <td>0.000000</td>\n",
       "      <td>0.000000</td>\n",
       "    </tr>\n",
       "  </tbody>\n",
       "</table>\n",
       "<p>101 rows × 7 columns</p>\n",
       "</div>"
      ],
      "text/plain": [
       "     threshold   TP    FP   FN    TN       TPR       FPR\n",
       "0         0.00  386  1023    0     0  1.000000  1.000000\n",
       "1         0.01  382  1013    4    10  0.989637  0.990225\n",
       "2         0.02  379   993    7    30  0.981865  0.970674\n",
       "3         0.03  375   979   11    44  0.971503  0.956989\n",
       "4         0.04  372   969   14    54  0.963731  0.947214\n",
       "..         ...  ...   ...  ...   ...       ...       ...\n",
       "96        0.96   14    41  372   982  0.036269  0.040078\n",
       "97        0.97   11    36  375   987  0.028497  0.035191\n",
       "98        0.98    8    19  378  1004  0.020725  0.018573\n",
       "99        0.99    6     7  380  1016  0.015544  0.006843\n",
       "100       1.00    0     0  386  1023  0.000000  0.000000\n",
       "\n",
       "[101 rows x 7 columns]"
      ]
     },
     "execution_count": 109,
     "metadata": {},
     "output_type": "execute_result"
    }
   ],
   "source": [
    "df_rand = tpr_fpr_dataframe(y_val, y_rand)\n",
    "df_rand"
   ]
  },
  {
   "cell_type": "code",
   "execution_count": 110,
   "id": "ddd0fac1-a2f0-46ff-8ed5-b1c5b6244b36",
   "metadata": {},
   "outputs": [
    {
     "data": {
      "text/plain": [
       "<matplotlib.legend.Legend at 0x7f9cc15b3010>"
      ]
     },
     "execution_count": 110,
     "metadata": {},
     "output_type": "execute_result"
    },
    {
     "data": {
      "image/png": "[encoded data removed]",
      "text/plain": [
       "<Figure size 640x480 with 1 Axes>"
      ]
     },
     "metadata": {},
     "output_type": "display_data"
    }
   ],
   "source": [
    "# plotting TPR-FPR \n",
    "\n",
    "plt.plot(df_rand.threshold, df_rand['TPR'], label='TPR')\n",
    "plt.plot(df_rand.threshold, df_rand['FPR'], label='FPR')\n",
    "plt.legend()"
   ]
  },
  {
   "cell_type": "markdown",
   "id": "a223ba84-0d86-4fab-819c-dee3cdc487e5",
   "metadata": {},
   "source": [
    "## Ideal model "
   ]
  },
  {
   "cell_type": "code",
   "execution_count": 111,
   "id": "0ef7451e-5fbc-4371-90d6-838dc2ee141b",
   "metadata": {},
   "outputs": [
    {
     "data": {
      "text/plain": [
       "(1023, 386)"
      ]
     },
     "execution_count": 111,
     "metadata": {},
     "output_type": "execute_result"
    }
   ],
   "source": [
    "num_neg = (y_val == 0).sum()\n",
    "num_pos = (y_val == 1).sum()\n",
    "\n",
    "num_neg, num_pos"
   ]
  },
  {
   "cell_type": "code",
   "execution_count": 112,
   "id": "19e097d1-b723-4efd-a439-49436cda2a61",
   "metadata": {},
   "outputs": [
    {
     "data": {
      "text/plain": [
       "array([0, 0, 0, ..., 1, 1, 1])"
      ]
     },
     "execution_count": 112,
     "metadata": {},
     "output_type": "execute_result"
    }
   ],
   "source": [
    "y_ideal = np.repeat([0,1], [num_neg, num_pos])\n",
    "y_ideal"
   ]
  },
  {
   "cell_type": "code",
   "execution_count": 114,
   "id": "74385380-b91a-47ef-816d-84083744def5",
   "metadata": {},
   "outputs": [
    {
     "data": {
      "text/plain": [
       "array([0.00000000e+00, 7.10227273e-04, 1.42045455e-03, ...,\n",
       "       9.98579545e-01, 9.99289773e-01, 1.00000000e+00])"
      ]
     },
     "execution_count": 114,
     "metadata": {},
     "output_type": "execute_result"
    }
   ],
   "source": [
    "y_ideal_pred = np.linspace(0,1, len(y_val))\n",
    "y_ideal_pred"
   ]
  },
  {
   "cell_type": "code",
   "execution_count": 117,
   "id": "ebe02da0-ef8f-47ae-9ec2-eaf54054f70d",
   "metadata": {},
   "outputs": [
    {
     "data": {
      "text/plain": [
       "1.0"
      ]
     },
     "execution_count": 117,
     "metadata": {},
     "output_type": "execute_result"
    }
   ],
   "source": [
    "((y_ideal_pred >= 0.726) == y_ideal).mean()"
   ]
  },
  {
   "cell_type": "code",
   "execution_count": 118,
   "id": "d8c2830b-7cbc-4f5b-b6f4-84feb76dde6d",
   "metadata": {},
   "outputs": [
    {
     "data": {
      "text/html": [
       "<div>\n",
       "<style scoped>\n",
       "    .dataframe tbody tr th:only-of-type {\n",
       "        vertical-align: middle;\n",
       "    }\n",
       "\n",
       "    .dataframe tbody tr th {\n",
       "        vertical-align: top;\n",
       "    }\n",
       "\n",
       "    .dataframe thead th {\n",
       "        text-align: right;\n",
       "    }\n",
       "</style>\n",
       "<table border=\"1\" class=\"dataframe\">\n",
       "  <thead>\n",
       "    <tr style=\"text-align: right;\">\n",
       "      <th></th>\n",
       "      <th>threshold</th>\n",
       "      <th>TP</th>\n",
       "      <th>FP</th>\n",
       "      <th>FN</th>\n",
       "      <th>TN</th>\n",
       "      <th>TPR</th>\n",
       "      <th>FPR</th>\n",
       "    </tr>\n",
       "  </thead>\n",
       "  <tbody>\n",
       "    <tr>\n",
       "      <th>0</th>\n",
       "      <td>0.00</td>\n",
       "      <td>386</td>\n",
       "      <td>1023</td>\n",
       "      <td>0</td>\n",
       "      <td>0</td>\n",
       "      <td>1.000000</td>\n",
       "      <td>1.000000</td>\n",
       "    </tr>\n",
       "    <tr>\n",
       "      <th>1</th>\n",
       "      <td>0.01</td>\n",
       "      <td>386</td>\n",
       "      <td>1008</td>\n",
       "      <td>0</td>\n",
       "      <td>15</td>\n",
       "      <td>1.000000</td>\n",
       "      <td>0.985337</td>\n",
       "    </tr>\n",
       "    <tr>\n",
       "      <th>2</th>\n",
       "      <td>0.02</td>\n",
       "      <td>386</td>\n",
       "      <td>994</td>\n",
       "      <td>0</td>\n",
       "      <td>29</td>\n",
       "      <td>1.000000</td>\n",
       "      <td>0.971652</td>\n",
       "    </tr>\n",
       "    <tr>\n",
       "      <th>3</th>\n",
       "      <td>0.03</td>\n",
       "      <td>386</td>\n",
       "      <td>980</td>\n",
       "      <td>0</td>\n",
       "      <td>43</td>\n",
       "      <td>1.000000</td>\n",
       "      <td>0.957967</td>\n",
       "    </tr>\n",
       "    <tr>\n",
       "      <th>4</th>\n",
       "      <td>0.04</td>\n",
       "      <td>386</td>\n",
       "      <td>966</td>\n",
       "      <td>0</td>\n",
       "      <td>57</td>\n",
       "      <td>1.000000</td>\n",
       "      <td>0.944282</td>\n",
       "    </tr>\n",
       "    <tr>\n",
       "      <th>...</th>\n",
       "      <td>...</td>\n",
       "      <td>...</td>\n",
       "      <td>...</td>\n",
       "      <td>...</td>\n",
       "      <td>...</td>\n",
       "      <td>...</td>\n",
       "      <td>...</td>\n",
       "    </tr>\n",
       "    <tr>\n",
       "      <th>96</th>\n",
       "      <td>0.96</td>\n",
       "      <td>57</td>\n",
       "      <td>0</td>\n",
       "      <td>329</td>\n",
       "      <td>1023</td>\n",
       "      <td>0.147668</td>\n",
       "      <td>0.000000</td>\n",
       "    </tr>\n",
       "    <tr>\n",
       "      <th>97</th>\n",
       "      <td>0.97</td>\n",
       "      <td>43</td>\n",
       "      <td>0</td>\n",
       "      <td>343</td>\n",
       "      <td>1023</td>\n",
       "      <td>0.111399</td>\n",
       "      <td>0.000000</td>\n",
       "    </tr>\n",
       "    <tr>\n",
       "      <th>98</th>\n",
       "      <td>0.98</td>\n",
       "      <td>29</td>\n",
       "      <td>0</td>\n",
       "      <td>357</td>\n",
       "      <td>1023</td>\n",
       "      <td>0.075130</td>\n",
       "      <td>0.000000</td>\n",
       "    </tr>\n",
       "    <tr>\n",
       "      <th>99</th>\n",
       "      <td>0.99</td>\n",
       "      <td>15</td>\n",
       "      <td>0</td>\n",
       "      <td>371</td>\n",
       "      <td>1023</td>\n",
       "      <td>0.038860</td>\n",
       "      <td>0.000000</td>\n",
       "    </tr>\n",
       "    <tr>\n",
       "      <th>100</th>\n",
       "      <td>1.00</td>\n",
       "      <td>1</td>\n",
       "      <td>0</td>\n",
       "      <td>385</td>\n",
       "      <td>1023</td>\n",
       "      <td>0.002591</td>\n",
       "      <td>0.000000</td>\n",
       "    </tr>\n",
       "  </tbody>\n",
       "</table>\n",
       "<p>101 rows × 7 columns</p>\n",
       "</div>"
      ],
      "text/plain": [
       "     threshold   TP    FP   FN    TN       TPR       FPR\n",
       "0         0.00  386  1023    0     0  1.000000  1.000000\n",
       "1         0.01  386  1008    0    15  1.000000  0.985337\n",
       "2         0.02  386   994    0    29  1.000000  0.971652\n",
       "3         0.03  386   980    0    43  1.000000  0.957967\n",
       "4         0.04  386   966    0    57  1.000000  0.944282\n",
       "..         ...  ...   ...  ...   ...       ...       ...\n",
       "96        0.96   57     0  329  1023  0.147668  0.000000\n",
       "97        0.97   43     0  343  1023  0.111399  0.000000\n",
       "98        0.98   29     0  357  1023  0.075130  0.000000\n",
       "99        0.99   15     0  371  1023  0.038860  0.000000\n",
       "100       1.00    1     0  385  1023  0.002591  0.000000\n",
       "\n",
       "[101 rows x 7 columns]"
      ]
     },
     "execution_count": 118,
     "metadata": {},
     "output_type": "execute_result"
    }
   ],
   "source": [
    "df_ideal = tpr_fpr_dataframe(y_ideal, y_ideal_pred)\n",
    "df_ideal"
   ]
  },
  {
   "cell_type": "code",
   "execution_count": 119,
   "id": "b5ee93fb-c81d-4778-b1d8-548ec3e41730",
   "metadata": {},
   "outputs": [
    {
     "data": {
      "text/plain": [
       "<matplotlib.legend.Legend at 0x7f9cc15cc5e0>"
      ]
     },
     "execution_count": 119,
     "metadata": {},
     "output_type": "execute_result"
    },
    {
     "data": {
      "image/png": "[encoded data removed]",
      "text/plain": [
       "<Figure size 640x480 with 1 Axes>"
      ]
     },
     "metadata": {},
     "output_type": "display_data"
    }
   ],
   "source": [
    "# plotting TPR-FPR \n",
    "\n",
    "plt.plot(df_ideal.threshold, df_ideal['TPR'], label='TPR')\n",
    "plt.plot(df_ideal.threshold, df_ideal['FPR'], label='FPR')\n",
    "plt.legend()"
   ]
  },
  {
   "cell_type": "markdown",
   "id": "9203db76-5063-40a2-9265-61eda734dd76",
   "metadata": {},
   "source": [
    "## Plotting all together"
   ]
  },
  {
   "cell_type": "code",
   "execution_count": 123,
   "id": "2414dfb4-f60f-4641-9a89-20e30c67737b",
   "metadata": {},
   "outputs": [
    {
     "data": {
      "text/plain": [
       "<matplotlib.legend.Legend at 0x7f9cc122f7c0>"
      ]
     },
     "execution_count": 123,
     "metadata": {},
     "output_type": "execute_result"
    },
    {
     "data": {
      "image/png": "[encoded data removed]",
      "text/plain": [
       "<Figure size 640x480 with 1 Axes>"
      ]
     },
     "metadata": {},
     "output_type": "display_data"
    }
   ],
   "source": [
    "# plotting TPR-FPR \n",
    "\n",
    "plt.plot(df_scores.threshold, df_scores['TPR'], label='TPR',color='blue')\n",
    "plt.plot(df_scores.threshold, df_scores['FPR'], label='FPR',color='blue')\n",
    "\n",
    "plt.plot(df_rand.threshold, df_rand['TPR'], label='TPR-rand',color='green')\n",
    "plt.plot(df_rand.threshold, df_rand['FPR'], label='FPR-rand',color='green')\n",
    "\n",
    "plt.plot(df_ideal.threshold, df_ideal['TPR'], label='TPR-ideal',color='black')\n",
    "plt.plot(df_ideal.threshold, df_ideal['FPR'], label='FPR-ideal',color='black')\n",
    "\n",
    "plt.legend()"
   ]
  },
  {
   "cell_type": "code",
   "execution_count": 126,
   "id": "0138e30e-de46-429c-a599-7251debbcf7d",
   "metadata": {},
   "outputs": [
    {
     "data": {
      "text/plain": [
       "<matplotlib.legend.Legend at 0x7f9cc12d07c0>"
      ]
     },
     "execution_count": 126,
     "metadata": {},
     "output_type": "execute_result"
    },
    {
     "data": {
      "image/png": "[encoded data removed]",
      "text/plain": [
       "<Figure size 640x480 with 1 Axes>"
      ]
     },
     "metadata": {},
     "output_type": "display_data"
    }
   ],
   "source": [
    "plt.plot(df_scores.FPR, df_scores.TPR, label='model')\n",
    "plt.plot(df_rand.FPR, df_rand.TPR, label='rand')\n",
    "plt.plot(df_ideal.FPR, df_ideal.TPR, label='ideal')\n",
    "plt.xlabel('FPR')\n",
    "plt.ylabel('TPR')\n",
    "plt.legend()"
   ]
  },
  {
   "cell_type": "code",
   "execution_count": 128,
   "id": "4b94fd37-26ec-47cc-9f26-5c279462cf9d",
   "metadata": {},
   "outputs": [
    {
     "data": {
      "text/plain": [
       "<matplotlib.legend.Legend at 0x7f9cc00578e0>"
      ]
     },
     "execution_count": 128,
     "metadata": {},
     "output_type": "execute_result"
    },
    {
     "data": {
      "image/png": "[encoded data removed]",
      "text/plain": [
       "<Figure size 640x480 with 1 Axes>"
      ]
     },
     "metadata": {},
     "output_type": "display_data"
    }
   ],
   "source": [
    "plt.plot(df_scores.FPR, df_scores.TPR, label='model')\n",
    "plt.plot([0,1], [0,1], label='rand')\n",
    "plt.xlabel('FPR')\n",
    "plt.ylabel('TPR')\n",
    "plt.legend()"
   ]
  },
  {
   "cell_type": "markdown",
   "id": "a497fe43-a164-4d7c-b328-927338d056cc",
   "metadata": {},
   "source": [
    "## ROC curve using sklearn"
   ]
  },
  {
   "cell_type": "code",
   "execution_count": 130,
   "id": "3fee7893-2a8f-43cd-a6ab-464e7931dfbc",
   "metadata": {},
   "outputs": [],
   "source": [
    "fpr, tpr, thr = roc_curve(y_val, y_pred)\n"
   ]
  },
  {
   "cell_type": "code",
   "execution_count": 131,
   "id": "8c019c3a-e914-43fd-bfe4-2ebb3f7ebdd6",
   "metadata": {},
   "outputs": [
    {
     "data": {
      "text/plain": [
       "<matplotlib.legend.Legend at 0x7f9cbb6ae650>"
      ]
     },
     "execution_count": 131,
     "metadata": {},
     "output_type": "execute_result"
    },
    {
     "data": {
      "image/png": "[encoded data removed]",
      "text/plain": [
       "<Figure size 640x480 with 1 Axes>"
      ]
     },
     "metadata": {},
     "output_type": "display_data"
    }
   ],
   "source": [
    "plt.plot(fpr, tpr, label='model')\n",
    "plt.plot([0,1], [0,1], label='rand', ls='--')\n",
    "plt.xlabel('FPR')\n",
    "plt.ylabel('TPR')\n",
    "plt.legend()"
   ]
  },
  {
   "cell_type": "markdown",
   "id": "b6a64d4b-e374-430d-a170-a8f62a48ac33",
   "metadata": {},
   "source": [
    "# ROC-AUC"
   ]
  },
  {
   "cell_type": "code",
   "execution_count": 133,
   "id": "22e93e4c-68b8-49d9-bea4-b6d77837840a",
   "metadata": {},
   "outputs": [
    {
     "data": {
      "text/plain": [
       "0.8438454408703446"
      ]
     },
     "execution_count": 133,
     "metadata": {},
     "output_type": "execute_result"
    }
   ],
   "source": [
    "# auc = Area under any curve\n",
    "auc(fpr, tpr)"
   ]
  },
  {
   "cell_type": "code",
   "execution_count": 134,
   "id": "f193387d-a0f3-42a0-a40c-65011027fefe",
   "metadata": {},
   "outputs": [
    {
     "data": {
      "text/plain": [
       "0.8438403760148705"
      ]
     },
     "execution_count": 134,
     "metadata": {},
     "output_type": "execute_result"
    }
   ],
   "source": [
    "auc(df_scores.FPR, df_scores.TPR)"
   ]
  },
  {
   "cell_type": "code",
   "execution_count": 135,
   "id": "6dc3d8b0-d69c-4e27-b0d2-0ac9c4f065f8",
   "metadata": {},
   "outputs": [
    {
     "data": {
      "text/plain": [
       "0.9999430203759136"
      ]
     },
     "execution_count": 135,
     "metadata": {},
     "output_type": "execute_result"
    }
   ],
   "source": [
    "auc(df_ideal.FPR, df_ideal.TPR)"
   ]
  },
  {
   "cell_type": "code",
   "execution_count": 136,
   "id": "a3375580-5d82-44d8-a842-e7af897f4bea",
   "metadata": {},
   "outputs": [
    {
     "data": {
      "text/plain": [
       "0.8438454408703446"
      ]
     },
     "execution_count": 136,
     "metadata": {},
     "output_type": "execute_result"
    }
   ],
   "source": [
    "roc_auc_score(y_val, y_pred)"
   ]
  },
  {
   "cell_type": "markdown",
   "id": "123a144d-9d97-46ba-8cab-cc0a6cd0bac5",
   "metadata": {},
   "source": [
    "# Cross-Validation\n",
    "- Evaluting same model on different subsets of data \n",
    "- Getting the average prediction and the spread within predictions. "
   ]
  },
  {
   "cell_type": "code",
   "execution_count": 183,
   "id": "6b77f756-9c74-4452-a2d6-c579bda0b250",
   "metadata": {},
   "outputs": [],
   "source": [
    "def train(df_train, y_train, C=0.1):\n",
    "    \n",
    "    dicts = df_train[list_features_cat + list_features_num].to_dict(orient='records')\n",
    "    \n",
    "    dv = DictVectorizer(sparse=False)\n",
    "    X_train = dv.fit_transform(dicts)\n",
    "    \n",
    "    model = LogisticRegression(C=C, max_iter=1000)\n",
    "    model.fit(X_train, y_train)\n",
    "    \n",
    "    return dv, model"
   ]
  },
  {
   "cell_type": "code",
   "execution_count": 184,
   "id": "33e07934-0187-4cfc-ab3d-85d57cfbd134",
   "metadata": {},
   "outputs": [],
   "source": [
    "dv, model = train(df_train, y_train, C=10)"
   ]
  },
  {
   "cell_type": "code",
   "execution_count": 185,
   "id": "5251cdc1-5dc3-4706-a089-41a853e73a05",
   "metadata": {},
   "outputs": [],
   "source": [
    "def predict(df, dv, model):\n",
    "    dicts = df[list_features_cat + list_features_num].to_dict(orient='records')\n",
    "    \n",
    "    X = dv.transform(dicts)\n",
    "    \n",
    "    y_pred = model.predict_proba(X)[:,1]\n",
    "    \n",
    "    return y_pred"
   ]
  },
  {
   "cell_type": "code",
   "execution_count": 186,
   "id": "94fe47e0-6e20-45c5-ad40-291be1e0b1eb",
   "metadata": {},
   "outputs": [],
   "source": [
    "y_pred = predict(df_val, dv, model)"
   ]
  },
  {
   "cell_type": "code",
   "execution_count": 188,
   "id": "b354e752-bfc5-449d-86c0-a8d849b8069e",
   "metadata": {},
   "outputs": [],
   "source": [
    "kfold = KFold(n_splits=10, random_state=1, shuffle=True)"
   ]
  },
  {
   "cell_type": "code",
   "execution_count": 189,
   "id": "657a58bc-b13e-42d7-b834-e11c76a76911",
   "metadata": {},
   "outputs": [
    {
     "name": "stdout",
     "output_type": "stream",
     "text": [
      "Requirement already satisfied: tqdm in /opt/conda/lib/python3.10/site-packages (4.64.1)\n"
     ]
    }
   ],
   "source": [
    "!pip install tqdm "
   ]
  },
  {
   "cell_type": "code",
   "execution_count": 190,
   "id": "ab6c6b0a-474b-4aba-a499-79f9be0af1d3",
   "metadata": {},
   "outputs": [],
   "source": [
    "from tqdm.auto import tqdm"
   ]
  },
  {
   "cell_type": "code",
   "execution_count": 206,
   "id": "af7d0418-5264-480c-be83-4637e2eda435",
   "metadata": {},
   "outputs": [
    {
     "data": {
      "application/vnd.jupyter.widget-view+json": {
       "model_id": "463b23b206c8431986afc225636428a3",
       "version_major": 2,
       "version_minor": 0
      },
      "text/plain": [
       "  0%|          | 0/5 [00:00<?, ?it/s]"
      ]
     },
     "metadata": {},
     "output_type": "display_data"
    },
    {
     "name": "stdout",
     "output_type": "stream",
     "text": [
      "C =0.001 score_mean=82.474, score_std=0.904\n",
      "C =0.01 score_mean=83.984, score_std=0.882\n",
      "C =0.1 score_mean=84.126, score_std=0.844\n",
      "C =1.0 score_mean=84.041, score_std=0.854\n",
      "C =10.0 score_mean=84.117, score_std=0.751\n"
     ]
    }
   ],
   "source": [
    "nsplits = 5\n",
    "kfold = KFold(n_splits=nsplits, random_state=1, shuffle=True)\n",
    "\n",
    "for C in tqdm([0.001, 0.01, 0.1, 1.0, 10.], total=nsplits):\n",
    "\n",
    "    scores = [] \n",
    "\n",
    "    for train_idx, val_idx in kfold.split(df_train_full):\n",
    "\n",
    "        df_train = df_train_full.iloc[train_idx]\n",
    "        df_val = df_train_full.iloc[val_idx]\n",
    "\n",
    "        y_train = df_train.churn.values\n",
    "        y_val = df_val.churn.values\n",
    "\n",
    "        dv, model = train(df_train, y_train, C=C)\n",
    "        y_pred = predict(df_val, dv, model)\n",
    "\n",
    "        auc = roc_auc_score(y_val, y_pred)\n",
    "        scores.append(auc)\n",
    "    \n",
    "    print(f'C ={C} score_mean={np.mean(scores)*100:.3f}, score_std={np.std(scores)*100:.3f}')\n"
   ]
  },
  {
   "cell_type": "code",
   "execution_count": 208,
   "id": "30b89977-4915-49be-8eaf-bba41b0930d9",
   "metadata": {},
   "outputs": [
    {
     "data": {
      "text/plain": [
       "0.8569027809375237"
      ]
     },
     "execution_count": 208,
     "metadata": {},
     "output_type": "execute_result"
    }
   ],
   "source": [
    "# Train final model \n",
    "dv, model = train(df_train_full, df_train_full.churn.values, C=0.1)\n",
    "y_pred = predict(df_test, dv, model)\n",
    "\n",
    "\n",
    "# AUC final model\n",
    "auc = roc_auc_score(y_test, y_pred)\n",
    "\n",
    "auc"
   ]
  },
  {
   "cell_type": "markdown",
   "id": "ec90e687-0c0f-4ab7-8de8-110210565bea",
   "metadata": {},
   "source": [
    "***"
   ]
  },
  {
   "cell_type": "code",
   "execution_count": null,
   "id": "51f8e447-0a17-4a49-b0c8-f56a3d768bdb",
   "metadata": {},
   "outputs": [],
   "source": []
  },
  {
   "cell_type": "code",
   "execution_count": null,
   "id": "c4ac9667-8347-4118-937a-956a607da431",
   "metadata": {},
   "outputs": [],
   "source": []
  },
  {
   "cell_type": "code",
   "execution_count": null,
   "id": "1c3567ed-80c8-4013-8006-0ad8d1356bc0",
   "metadata": {},
   "outputs": [],
   "source": []
  },
  {
   "cell_type": "code",
   "execution_count": null,
   "id": "7199b5a7-8748-41d5-b42c-8fdecf0de22c",
   "metadata": {},
   "outputs": [],
   "source": []
  }
 ],
 "metadata": {
  "kernelspec": {
   "display_name": "Python 3 (ipykernel)",
   "language": "python",
   "name": "python3"
  },
  "language_info": {
   "codemirror_mode": {
    "name": "ipython",
    "version": 3
   },
   "file_extension": ".py",
   "mimetype": "text/x-python",
   "name": "python",
   "nbconvert_exporter": "python",
   "pygments_lexer": "ipython3",
   "version": "3.10.6"
  },
  "toc-autonumbering": true
 },
 "nbformat": 4,
 "nbformat_minor": 5
}
