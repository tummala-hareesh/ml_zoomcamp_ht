{
 "cells": [
  {
   "cell_type": "markdown",
   "id": "1b455938-f5e6-4e66-99be-327c7a498aa0",
   "metadata": {},
   "source": [
    "# Midterm Project - Predicting Total Crime Counts in Toronto\n",
    "This notebook has been created for completing the midterm project, which is part of ML Zoomcamp."
   ]
  },
  {
   "cell_type": "markdown",
   "id": "b895fec9-d69d-48ab-ad23-1b08c352d4ec",
   "metadata": {},
   "source": [
    "***"
   ]
  },
  {
   "cell_type": "markdown",
   "id": "383ac6d8-fa0b-4595-a253-001a06e729e5",
   "metadata": {},
   "source": [
    "## Download dataset \n",
    "Toronto reported crimes dataset is downloaded by running the below command. "
   ]
  },
  {
   "cell_type": "code",
   "execution_count": 11,
   "id": "3c90e3ab-8e1d-44b6-a23b-11a5c3cd9d8a",
   "metadata": {},
   "outputs": [
    {
     "name": "stdout",
     "output_type": "stream",
     "text": [
      "--2022-11-10 05:24:58--  https://ckan0.cf.opendata.inter.prod-toronto.ca/dataset/police-annual-statistical-report-reported-crimes/resource/900b1303-c7d1-43b8-99e4-d04c7dd4607f/download/Reported%20Crimes.csv\n",
      "Resolving ckan0.cf.opendata.inter.prod-toronto.ca (ckan0.cf.opendata.inter.prod-toronto.ca)... 99.86.63.15, 99.86.63.118, 99.86.63.35, ...\n",
      "Connecting to ckan0.cf.opendata.inter.prod-toronto.ca (ckan0.cf.opendata.inter.prod-toronto.ca)|99.86.63.15|:443... connected.\n",
      "HTTP request sent, awaiting response... 200 OK\n",
      "Length: 178874 (175K) [application/octet-stream]\n",
      "Saving to: ‘Reported Crimes.csv’\n",
      "\n",
      "Reported Crimes.csv 100%[===================>] 174.68K  --.-KB/s    in 0.05s   \n",
      "\n",
      "2022-11-10 05:24:58 (3.35 MB/s) - ‘Reported Crimes.csv’ saved [178874/178874]\n",
      "\n"
     ]
    }
   ],
   "source": [
    "!wget https://ckan0.cf.opendata.inter.prod-toronto.ca/dataset/police-annual-statistical-report-reported-crimes/resource/900b1303-c7d1-43b8-99e4-d04c7dd4607f/download/Reported%20Crimes.csv"
   ]
  },
  {
   "cell_type": "markdown",
   "id": "015d9209-7878-484d-8fce-a1af140c26c1",
   "metadata": {},
   "source": [
    "***"
   ]
  },
  {
   "cell_type": "markdown",
   "id": "631c8f4a-377a-41f4-a13e-2378a66d0aec",
   "metadata": {},
   "source": [
    "# Load Modules\n",
    "In this section, we load all the python modules using import statements."
   ]
  },
  {
   "cell_type": "code",
   "execution_count": 69,
   "id": "f12aef08-e454-4803-a4a7-4427d6c04be1",
   "metadata": {},
   "outputs": [],
   "source": [
    "import pandas as pd\n",
    "import numpy as np \n",
    "import matplotlib.pyplot as plt\n",
    "import seaborn as sns\n",
    "\n",
    "%matplotlib inline"
   ]
  },
  {
   "cell_type": "markdown",
   "id": "cfc48f20-46ad-4eda-b0c4-0ba27a4945f7",
   "metadata": {},
   "source": [
    "***"
   ]
  },
  {
   "cell_type": "markdown",
   "id": "bffcf5f0-9e23-453f-9905-4984486bdd95",
   "metadata": {},
   "source": [
    "# Data preparation\n",
    "In this section, we simply read the dataset using pandas into a Dataframe `df_trc`."
   ]
  },
  {
   "cell_type": "code",
   "execution_count": 9,
   "id": "4438b7c2-c18e-454a-a32a-cde39f520a03",
   "metadata": {},
   "outputs": [
    {
     "data": {
      "text/html": [
       "<div>\n",
       "<style scoped>\n",
       "    .dataframe tbody tr th:only-of-type {\n",
       "        vertical-align: middle;\n",
       "    }\n",
       "\n",
       "    .dataframe tbody tr th {\n",
       "        vertical-align: top;\n",
       "    }\n",
       "\n",
       "    .dataframe thead th {\n",
       "        text-align: right;\n",
       "    }\n",
       "</style>\n",
       "<table border=\"1\" class=\"dataframe\">\n",
       "  <thead>\n",
       "    <tr style=\"text-align: right;\">\n",
       "      <th></th>\n",
       "      <th>_id</th>\n",
       "      <th>ObjectId</th>\n",
       "      <th>ReportedYear</th>\n",
       "      <th>GeoDivision</th>\n",
       "      <th>Category</th>\n",
       "      <th>Subtype</th>\n",
       "      <th>Count_</th>\n",
       "      <th>CountCleared</th>\n",
       "    </tr>\n",
       "  </thead>\n",
       "  <tbody>\n",
       "    <tr>\n",
       "      <th>0</th>\n",
       "      <td>1</td>\n",
       "      <td>1</td>\n",
       "      <td>2014</td>\n",
       "      <td>D11</td>\n",
       "      <td>Controlled Drugs and Substances Act</td>\n",
       "      <td>Other</td>\n",
       "      <td>201</td>\n",
       "      <td>195</td>\n",
       "    </tr>\n",
       "    <tr>\n",
       "      <th>1</th>\n",
       "      <td>2</td>\n",
       "      <td>2</td>\n",
       "      <td>2014</td>\n",
       "      <td>D11</td>\n",
       "      <td>Crimes Against Property</td>\n",
       "      <td>Auto Theft</td>\n",
       "      <td>124</td>\n",
       "      <td>43</td>\n",
       "    </tr>\n",
       "    <tr>\n",
       "      <th>2</th>\n",
       "      <td>3</td>\n",
       "      <td>3</td>\n",
       "      <td>2014</td>\n",
       "      <td>D11</td>\n",
       "      <td>Crimes Against Property</td>\n",
       "      <td>Break &amp; Enter-Apartment</td>\n",
       "      <td>85</td>\n",
       "      <td>37</td>\n",
       "    </tr>\n",
       "    <tr>\n",
       "      <th>3</th>\n",
       "      <td>4</td>\n",
       "      <td>4</td>\n",
       "      <td>2014</td>\n",
       "      <td>D11</td>\n",
       "      <td>Crimes Against Property</td>\n",
       "      <td>Break &amp; Enter-Commercial</td>\n",
       "      <td>58</td>\n",
       "      <td>18</td>\n",
       "    </tr>\n",
       "    <tr>\n",
       "      <th>4</th>\n",
       "      <td>5</td>\n",
       "      <td>5</td>\n",
       "      <td>2014</td>\n",
       "      <td>D11</td>\n",
       "      <td>Crimes Against Property</td>\n",
       "      <td>Break &amp; Enter-House</td>\n",
       "      <td>89</td>\n",
       "      <td>34</td>\n",
       "    </tr>\n",
       "  </tbody>\n",
       "</table>\n",
       "</div>"
      ],
      "text/plain": [
       "   _id  ObjectId  ReportedYear GeoDivision  \\\n",
       "0    1         1          2014         D11   \n",
       "1    2         2          2014         D11   \n",
       "2    3         3          2014         D11   \n",
       "3    4         4          2014         D11   \n",
       "4    5         5          2014         D11   \n",
       "\n",
       "                              Category                   Subtype  Count_  \\\n",
       "0  Controlled Drugs and Substances Act                     Other     201   \n",
       "1              Crimes Against Property                Auto Theft     124   \n",
       "2              Crimes Against Property   Break & Enter-Apartment      85   \n",
       "3              Crimes Against Property  Break & Enter-Commercial      58   \n",
       "4              Crimes Against Property       Break & Enter-House      89   \n",
       "\n",
       "   CountCleared  \n",
       "0           195  \n",
       "1            43  \n",
       "2            37  \n",
       "3            18  \n",
       "4            34  "
      ]
     },
     "execution_count": 9,
     "metadata": {},
     "output_type": "execute_result"
    }
   ],
   "source": [
    "# Read reported crimes as dataframe\n",
    "df_trc = pd.read_csv('Reported Crimes.csv')\n",
    "df_trc.head()"
   ]
  },
  {
   "cell_type": "markdown",
   "id": "96dd3e97-07c2-48c6-925e-96e32b14a626",
   "metadata": {},
   "source": [
    "***"
   ]
  },
  {
   "cell_type": "markdown",
   "id": "1d4bae7e-938a-4f62-82f6-c90cf759ced3",
   "metadata": {},
   "source": [
    "# EDA\n",
    "In this section, we are going to perform exploratory data analysis on toronto reported crimes data. "
   ]
  },
  {
   "cell_type": "code",
   "execution_count": 13,
   "id": "08e54da2-6b35-403f-8a61-f73e566308d6",
   "metadata": {},
   "outputs": [
    {
     "data": {
      "text/plain": [
       "(2701, 8)"
      ]
     },
     "execution_count": 13,
     "metadata": {},
     "output_type": "execute_result"
    }
   ],
   "source": [
    "# Shape of the dataset\n",
    "df_trc.shape"
   ]
  },
  {
   "cell_type": "markdown",
   "id": "2cb0c71a-fc71-49a0-b53a-b7334fd7554b",
   "metadata": {},
   "source": [
    "There are 2701 rows and 8 columsn in the dataset. Let's see what different columns information details about and datatypes of each feature. "
   ]
  },
  {
   "cell_type": "code",
   "execution_count": 15,
   "id": "dd84e0f4-edf8-40cf-a4c1-423e77ead3a7",
   "metadata": {},
   "outputs": [
    {
     "data": {
      "text/plain": [
       "['_id',\n",
       " 'ObjectId',\n",
       " 'ReportedYear',\n",
       " 'GeoDivision',\n",
       " 'Category',\n",
       " 'Subtype',\n",
       " 'Count_',\n",
       " 'CountCleared']"
      ]
     },
     "execution_count": 15,
     "metadata": {},
     "output_type": "execute_result"
    }
   ],
   "source": [
    "# list of columns\n",
    "df_trc.columns.to_list()"
   ]
  },
  {
   "cell_type": "code",
   "execution_count": 16,
   "id": "3745353e-971b-49bd-a7a2-78f14c4bbad1",
   "metadata": {},
   "outputs": [
    {
     "data": {
      "text/plain": [
       "_id              int64\n",
       "ObjectId         int64\n",
       "ReportedYear     int64\n",
       "GeoDivision     object\n",
       "Category        object\n",
       "Subtype         object\n",
       "Count_           int64\n",
       "CountCleared     int64\n",
       "dtype: object"
      ]
     },
     "execution_count": 16,
     "metadata": {},
     "output_type": "execute_result"
    }
   ],
   "source": [
    "# datatype of features\n",
    "df_trc.dtypes"
   ]
  },
  {
   "cell_type": "markdown",
   "id": "33f851ee-07e9-4d97-9711-8835d1e9900f",
   "metadata": {},
   "source": [
    "There are 5 numerical and 3 categorical features in the dataset. To gain more insights into the dataset, let's get descrptive statistics on that dataset. "
   ]
  },
  {
   "cell_type": "code",
   "execution_count": 19,
   "id": "6ecbdd3a-2efd-4697-9b1e-2b508129810f",
   "metadata": {},
   "outputs": [
    {
     "data": {
      "text/html": [
       "<div>\n",
       "<style scoped>\n",
       "    .dataframe tbody tr th:only-of-type {\n",
       "        vertical-align: middle;\n",
       "    }\n",
       "\n",
       "    .dataframe tbody tr th {\n",
       "        vertical-align: top;\n",
       "    }\n",
       "\n",
       "    .dataframe thead th {\n",
       "        text-align: right;\n",
       "    }\n",
       "</style>\n",
       "<table border=\"1\" class=\"dataframe\">\n",
       "  <thead>\n",
       "    <tr style=\"text-align: right;\">\n",
       "      <th></th>\n",
       "      <th>_id</th>\n",
       "      <th>ObjectId</th>\n",
       "      <th>ReportedYear</th>\n",
       "      <th>Count_</th>\n",
       "      <th>CountCleared</th>\n",
       "    </tr>\n",
       "  </thead>\n",
       "  <tbody>\n",
       "    <tr>\n",
       "      <th>count</th>\n",
       "      <td>2701.000000</td>\n",
       "      <td>2701.000000</td>\n",
       "      <td>2701.000000</td>\n",
       "      <td>2701.000000</td>\n",
       "      <td>2701.000000</td>\n",
       "    </tr>\n",
       "    <tr>\n",
       "      <th>mean</th>\n",
       "      <td>1351.000000</td>\n",
       "      <td>1351.000000</td>\n",
       "      <td>2017.492410</td>\n",
       "      <td>373.982969</td>\n",
       "      <td>161.260274</td>\n",
       "    </tr>\n",
       "    <tr>\n",
       "      <th>std</th>\n",
       "      <td>779.855863</td>\n",
       "      <td>779.855863</td>\n",
       "      <td>2.287089</td>\n",
       "      <td>660.664930</td>\n",
       "      <td>267.483140</td>\n",
       "    </tr>\n",
       "    <tr>\n",
       "      <th>min</th>\n",
       "      <td>1.000000</td>\n",
       "      <td>1.000000</td>\n",
       "      <td>2014.000000</td>\n",
       "      <td>1.000000</td>\n",
       "      <td>0.000000</td>\n",
       "    </tr>\n",
       "    <tr>\n",
       "      <th>25%</th>\n",
       "      <td>676.000000</td>\n",
       "      <td>676.000000</td>\n",
       "      <td>2016.000000</td>\n",
       "      <td>53.000000</td>\n",
       "      <td>15.000000</td>\n",
       "    </tr>\n",
       "    <tr>\n",
       "      <th>50%</th>\n",
       "      <td>1351.000000</td>\n",
       "      <td>1351.000000</td>\n",
       "      <td>2017.000000</td>\n",
       "      <td>134.000000</td>\n",
       "      <td>56.000000</td>\n",
       "    </tr>\n",
       "    <tr>\n",
       "      <th>75%</th>\n",
       "      <td>2026.000000</td>\n",
       "      <td>2026.000000</td>\n",
       "      <td>2019.000000</td>\n",
       "      <td>380.000000</td>\n",
       "      <td>153.000000</td>\n",
       "    </tr>\n",
       "    <tr>\n",
       "      <th>max</th>\n",
       "      <td>2701.000000</td>\n",
       "      <td>2701.000000</td>\n",
       "      <td>2021.000000</td>\n",
       "      <td>7256.000000</td>\n",
       "      <td>2207.000000</td>\n",
       "    </tr>\n",
       "  </tbody>\n",
       "</table>\n",
       "</div>"
      ],
      "text/plain": [
       "               _id     ObjectId  ReportedYear       Count_  CountCleared\n",
       "count  2701.000000  2701.000000   2701.000000  2701.000000   2701.000000\n",
       "mean   1351.000000  1351.000000   2017.492410   373.982969    161.260274\n",
       "std     779.855863   779.855863      2.287089   660.664930    267.483140\n",
       "min       1.000000     1.000000   2014.000000     1.000000      0.000000\n",
       "25%     676.000000   676.000000   2016.000000    53.000000     15.000000\n",
       "50%    1351.000000  1351.000000   2017.000000   134.000000     56.000000\n",
       "75%    2026.000000  2026.000000   2019.000000   380.000000    153.000000\n",
       "max    2701.000000  2701.000000   2021.000000  7256.000000   2207.000000"
      ]
     },
     "execution_count": 19,
     "metadata": {},
     "output_type": "execute_result"
    }
   ],
   "source": [
    "# descriptive stats\n",
    "df_trc.describe()"
   ]
  },
  {
   "cell_type": "markdown",
   "id": "1f1fd656-365d-442c-a909-ee898e7c56cc",
   "metadata": {},
   "source": [
    "`_id` and `ObjectId` doesn't seem to add any additional value in understanding the relationship between total reported crime count in Toronto. So, we are going to drop these two columns/features. Futher, the `CountCleared` feature is not that useful for prediction. It's encapsulates information about the reponse that Toronto Police Services took. "
   ]
  },
  {
   "cell_type": "markdown",
   "id": "0b919f3d-a6a1-474e-9600-1c432de14a3d",
   "metadata": {},
   "source": [
    "## Drop irrelavant features"
   ]
  },
  {
   "cell_type": "code",
   "execution_count": 21,
   "id": "eeed6f07-da2b-4633-9413-9ac990b03a22",
   "metadata": {},
   "outputs": [
    {
     "data": {
      "text/html": [
       "<div>\n",
       "<style scoped>\n",
       "    .dataframe tbody tr th:only-of-type {\n",
       "        vertical-align: middle;\n",
       "    }\n",
       "\n",
       "    .dataframe tbody tr th {\n",
       "        vertical-align: top;\n",
       "    }\n",
       "\n",
       "    .dataframe thead th {\n",
       "        text-align: right;\n",
       "    }\n",
       "</style>\n",
       "<table border=\"1\" class=\"dataframe\">\n",
       "  <thead>\n",
       "    <tr style=\"text-align: right;\">\n",
       "      <th></th>\n",
       "      <th>ReportedYear</th>\n",
       "      <th>GeoDivision</th>\n",
       "      <th>Category</th>\n",
       "      <th>Subtype</th>\n",
       "      <th>Count_</th>\n",
       "    </tr>\n",
       "  </thead>\n",
       "  <tbody>\n",
       "    <tr>\n",
       "      <th>0</th>\n",
       "      <td>2014</td>\n",
       "      <td>D11</td>\n",
       "      <td>Controlled Drugs and Substances Act</td>\n",
       "      <td>Other</td>\n",
       "      <td>201</td>\n",
       "    </tr>\n",
       "    <tr>\n",
       "      <th>1</th>\n",
       "      <td>2014</td>\n",
       "      <td>D11</td>\n",
       "      <td>Crimes Against Property</td>\n",
       "      <td>Auto Theft</td>\n",
       "      <td>124</td>\n",
       "    </tr>\n",
       "    <tr>\n",
       "      <th>2</th>\n",
       "      <td>2014</td>\n",
       "      <td>D11</td>\n",
       "      <td>Crimes Against Property</td>\n",
       "      <td>Break &amp; Enter-Apartment</td>\n",
       "      <td>85</td>\n",
       "    </tr>\n",
       "    <tr>\n",
       "      <th>3</th>\n",
       "      <td>2014</td>\n",
       "      <td>D11</td>\n",
       "      <td>Crimes Against Property</td>\n",
       "      <td>Break &amp; Enter-Commercial</td>\n",
       "      <td>58</td>\n",
       "    </tr>\n",
       "    <tr>\n",
       "      <th>4</th>\n",
       "      <td>2014</td>\n",
       "      <td>D11</td>\n",
       "      <td>Crimes Against Property</td>\n",
       "      <td>Break &amp; Enter-House</td>\n",
       "      <td>89</td>\n",
       "    </tr>\n",
       "  </tbody>\n",
       "</table>\n",
       "</div>"
      ],
      "text/plain": [
       "   ReportedYear GeoDivision                             Category  \\\n",
       "0          2014         D11  Controlled Drugs and Substances Act   \n",
       "1          2014         D11              Crimes Against Property   \n",
       "2          2014         D11              Crimes Against Property   \n",
       "3          2014         D11              Crimes Against Property   \n",
       "4          2014         D11              Crimes Against Property   \n",
       "\n",
       "                    Subtype  Count_  \n",
       "0                     Other     201  \n",
       "1                Auto Theft     124  \n",
       "2   Break & Enter-Apartment      85  \n",
       "3  Break & Enter-Commercial      58  \n",
       "4       Break & Enter-House      89  "
      ]
     },
     "execution_count": 21,
     "metadata": {},
     "output_type": "execute_result"
    }
   ],
   "source": [
    "df_trc_drop = df_trc.drop(columns=['_id',\n",
    "                                   'ObjectId',\n",
    "                                   'CountCleared'])\n",
    "\n",
    "df_trc_drop.head()"
   ]
  },
  {
   "cell_type": "markdown",
   "id": "dd1adefc-1316-4113-b85d-4a5df9b0a23e",
   "metadata": {},
   "source": [
    "Now that we have a much smaller dataset, let's now concentrate on verifying quality fo the data."
   ]
  },
  {
   "cell_type": "code",
   "execution_count": 23,
   "id": "b739102c-2299-4fed-aadb-a771077778e5",
   "metadata": {},
   "outputs": [
    {
     "data": {
      "text/plain": [
       "ReportedYear    0\n",
       "GeoDivision     0\n",
       "Category        0\n",
       "Subtype         0\n",
       "Count_          0\n",
       "dtype: int64"
      ]
     },
     "execution_count": 23,
     "metadata": {},
     "output_type": "execute_result"
    }
   ],
   "source": [
    "# Check for null/missing values\n",
    "df_trc_drop.isnull().sum()"
   ]
  },
  {
   "cell_type": "markdown",
   "id": "7de55cbe-b88e-485a-9932-112d0907c36c",
   "metadata": {},
   "source": [
    "## Standardizing the column names\n",
    "In this section, we are going to standardize the column names. This is done by changing CamelCase to lower and removing special characters from columns names. "
   ]
  },
  {
   "cell_type": "code",
   "execution_count": 30,
   "id": "03146334-519a-4831-8df5-318eb70f1d28",
   "metadata": {},
   "outputs": [],
   "source": [
    "# Replace columns names \n",
    "df_trc_drop.columns = [colname.lower().replace('_','') if '_' in colname else colname.lower() for colname in df_trc_drop.columns.to_list()]"
   ]
  },
  {
   "cell_type": "code",
   "execution_count": 31,
   "id": "da56cfa2-4a8d-4b3f-b471-1dc1b8750d9d",
   "metadata": {},
   "outputs": [
    {
     "data": {
      "text/html": [
       "<div>\n",
       "<style scoped>\n",
       "    .dataframe tbody tr th:only-of-type {\n",
       "        vertical-align: middle;\n",
       "    }\n",
       "\n",
       "    .dataframe tbody tr th {\n",
       "        vertical-align: top;\n",
       "    }\n",
       "\n",
       "    .dataframe thead th {\n",
       "        text-align: right;\n",
       "    }\n",
       "</style>\n",
       "<table border=\"1\" class=\"dataframe\">\n",
       "  <thead>\n",
       "    <tr style=\"text-align: right;\">\n",
       "      <th></th>\n",
       "      <th>reportedyear</th>\n",
       "      <th>geodivision</th>\n",
       "      <th>category</th>\n",
       "      <th>subtype</th>\n",
       "      <th>count</th>\n",
       "    </tr>\n",
       "  </thead>\n",
       "  <tbody>\n",
       "    <tr>\n",
       "      <th>0</th>\n",
       "      <td>2014</td>\n",
       "      <td>D11</td>\n",
       "      <td>Controlled Drugs and Substances Act</td>\n",
       "      <td>Other</td>\n",
       "      <td>201</td>\n",
       "    </tr>\n",
       "    <tr>\n",
       "      <th>1</th>\n",
       "      <td>2014</td>\n",
       "      <td>D11</td>\n",
       "      <td>Crimes Against Property</td>\n",
       "      <td>Auto Theft</td>\n",
       "      <td>124</td>\n",
       "    </tr>\n",
       "    <tr>\n",
       "      <th>2</th>\n",
       "      <td>2014</td>\n",
       "      <td>D11</td>\n",
       "      <td>Crimes Against Property</td>\n",
       "      <td>Break &amp; Enter-Apartment</td>\n",
       "      <td>85</td>\n",
       "    </tr>\n",
       "    <tr>\n",
       "      <th>3</th>\n",
       "      <td>2014</td>\n",
       "      <td>D11</td>\n",
       "      <td>Crimes Against Property</td>\n",
       "      <td>Break &amp; Enter-Commercial</td>\n",
       "      <td>58</td>\n",
       "    </tr>\n",
       "    <tr>\n",
       "      <th>4</th>\n",
       "      <td>2014</td>\n",
       "      <td>D11</td>\n",
       "      <td>Crimes Against Property</td>\n",
       "      <td>Break &amp; Enter-House</td>\n",
       "      <td>89</td>\n",
       "    </tr>\n",
       "  </tbody>\n",
       "</table>\n",
       "</div>"
      ],
      "text/plain": [
       "   reportedyear geodivision                             category  \\\n",
       "0          2014         D11  Controlled Drugs and Substances Act   \n",
       "1          2014         D11              Crimes Against Property   \n",
       "2          2014         D11              Crimes Against Property   \n",
       "3          2014         D11              Crimes Against Property   \n",
       "4          2014         D11              Crimes Against Property   \n",
       "\n",
       "                    subtype  count  \n",
       "0                     Other    201  \n",
       "1                Auto Theft    124  \n",
       "2   Break & Enter-Apartment     85  \n",
       "3  Break & Enter-Commercial     58  \n",
       "4       Break & Enter-House     89  "
      ]
     },
     "execution_count": 31,
     "metadata": {},
     "output_type": "execute_result"
    }
   ],
   "source": [
    "df_trc_drop.head()"
   ]
  },
  {
   "cell_type": "markdown",
   "id": "2c824353-b7cc-432f-88fa-5a8ee967982c",
   "metadata": {},
   "source": [
    "## Univariate analysis\n",
    "### reportedyear"
   ]
  },
  {
   "cell_type": "code",
   "execution_count": 43,
   "id": "8674da9b-28c4-4103-9013-029153932530",
   "metadata": {},
   "outputs": [
    {
     "data": {
      "text/plain": [
       "2017    340\n",
       "2018    340\n",
       "2016    339\n",
       "2014    338\n",
       "2015    337\n",
       "2019    337\n",
       "2020    337\n",
       "2021    333\n",
       "Name: reportedyear, dtype: int64"
      ]
     },
     "execution_count": 43,
     "metadata": {},
     "output_type": "execute_result"
    }
   ],
   "source": [
    "# reportedyear\n",
    "df_trc_drop.reportedyear.value_counts()"
   ]
  },
  {
   "cell_type": "code",
   "execution_count": 74,
   "id": "a5524ec0-2961-4103-bf32-52d894b17481",
   "metadata": {},
   "outputs": [
    {
     "data": {
      "image/png": "[encoded data removed]",
      "text/plain": [
       "<Figure size 1000x500 with 1 Axes>"
      ]
     },
     "metadata": {},
     "output_type": "display_data"
    }
   ],
   "source": [
    "# Plot reportedyear counts\n",
    "plt.figure(figsize=(10,5));\n",
    "sns.histplot(df_trc_drop['reportedyear']);"
   ]
  },
  {
   "cell_type": "markdown",
   "id": "66308823-281f-42e7-abaa-5d607d5c90c4",
   "metadata": {},
   "source": [
    "### geodivision"
   ]
  },
  {
   "cell_type": "code",
   "execution_count": 57,
   "id": "e49fce7d-9012-42e2-b6a3-0181f6b62f1d",
   "metadata": {},
   "outputs": [
    {
     "data": {
      "text/plain": [
       "17"
      ]
     },
     "execution_count": 57,
     "metadata": {},
     "output_type": "execute_result"
    }
   ],
   "source": [
    "# No. of unique divisions\n",
    "df_trc_drop.geodivision.nunique()"
   ]
  },
  {
   "cell_type": "code",
   "execution_count": 58,
   "id": "d818e855-8f58-4f3a-87e5-0ff683ed42aa",
   "metadata": {},
   "outputs": [
    {
     "data": {
      "text/plain": [
       "D32        160\n",
       "D52        160\n",
       "D14        160\n",
       "D41        160\n",
       "D33        160\n",
       "D54/D55    160\n",
       "D22        160\n",
       "D42        160\n",
       "D12        159\n",
       "D23        159\n",
       "D51        159\n",
       "D43        159\n",
       "D11        159\n",
       "D31        158\n",
       "D13        158\n",
       "D53        155\n",
       "NSA        155\n",
       "Name: geodivision, dtype: int64"
      ]
     },
     "execution_count": 58,
     "metadata": {},
     "output_type": "execute_result"
    }
   ],
   "source": [
    "# No. of divisons count\n",
    "df_trc_drop.geodivision.value_counts()"
   ]
  },
  {
   "cell_type": "markdown",
   "id": "ecb2d407-90f0-48b2-a663-6243b261195c",
   "metadata": {},
   "source": [
    "### category"
   ]
  },
  {
   "cell_type": "code",
   "execution_count": 59,
   "id": "d88bb03d-a8fd-4fd8-b0ad-ed9dd1d34a8b",
   "metadata": {},
   "outputs": [
    {
     "data": {
      "text/plain": [
       "6"
      ]
     },
     "execution_count": 59,
     "metadata": {},
     "output_type": "execute_result"
    }
   ],
   "source": [
    "df_trc_drop.category.nunique()"
   ]
  },
  {
   "cell_type": "code",
   "execution_count": 60,
   "id": "753a5e68-bd8a-4fa0-bfe6-b522120bd983",
   "metadata": {},
   "outputs": [
    {
     "data": {
      "text/plain": [
       "Crimes Against Property                1222\n",
       "Crimes Against the Person               799\n",
       "Other Criminal Code Violations          272\n",
       "Controlled Drugs and Substances Act     136\n",
       "Criminal Code Traffic                   136\n",
       "Other Federal Statute Violations        136\n",
       "Name: category, dtype: int64"
      ]
     },
     "execution_count": 60,
     "metadata": {},
     "output_type": "execute_result"
    }
   ],
   "source": [
    "df_trc_drop.category.value_counts()"
   ]
  },
  {
   "cell_type": "code",
   "execution_count": 79,
   "id": "db4210ec-fc0f-48d9-b915-82e989a7209e",
   "metadata": {},
   "outputs": [
    {
     "data": {
      "image/png": "[encoded data removed]",
      "text/plain": [
       "<Figure size 1000x700 with 1 Axes>"
      ]
     },
     "metadata": {},
     "output_type": "display_data"
    }
   ],
   "source": [
    "# Plot category counts\n",
    "plt.figure(figsize=(10,7));\n",
    "sns.histplot(y=df_trc_drop['category']);"
   ]
  },
  {
   "cell_type": "markdown",
   "id": "70c2dad6-4140-4d4e-95ae-343644ca3099",
   "metadata": {},
   "source": [
    "### subtype"
   ]
  },
  {
   "cell_type": "code",
   "execution_count": 80,
   "id": "8c208456-87b6-4db3-b319-a8ecd43e8f97",
   "metadata": {},
   "outputs": [
    {
     "data": {
      "text/plain": [
       "15"
      ]
     },
     "execution_count": 80,
     "metadata": {},
     "output_type": "execute_result"
    }
   ],
   "source": [
    "# No. of unique subtypes\n",
    "df_trc_drop.subtype.nunique()"
   ]
  },
  {
   "cell_type": "code",
   "execution_count": 81,
   "id": "1728edb0-1a07-433a-80df-845b41b78efe",
   "metadata": {},
   "outputs": [
    {
     "data": {
      "text/plain": [
       "Other                                            816\n",
       "Auto Theft                                       136\n",
       "Break & Enter-Apartment                          136\n",
       "Break & Enter-Commercial                         136\n",
       "Break & Enter-House                              136\n",
       "Fraud                                            136\n",
       "Theft Over $5000                                 136\n",
       "Theft Under $5000                                136\n",
       "Assault                                          136\n",
       "Robbery-Other                                    136\n",
       "Sexual Violation                                 136\n",
       "Other Criminal Violations - Offensive Weapons    136\n",
       "Break & Enter-Other                              134\n",
       "Attempt Murder                                   128\n",
       "Robbery-Financial                                127\n",
       "Name: subtype, dtype: int64"
      ]
     },
     "execution_count": 81,
     "metadata": {},
     "output_type": "execute_result"
    }
   ],
   "source": [
    "# counto of each subtype\n",
    "df_trc_drop.subtype.value_counts()"
   ]
  },
  {
   "cell_type": "code",
   "execution_count": 82,
   "id": "edef7048-f0b8-4730-a6c3-2b7dc0bf2cb1",
   "metadata": {},
   "outputs": [
    {
     "data": {
      "image/png": "[encoded data removed]",
      "text/plain": [
       "<Figure size 1000x700 with 1 Axes>"
      ]
     },
     "metadata": {},
     "output_type": "display_data"
    }
   ],
   "source": [
    "# Plot category counts\n",
    "plt.figure(figsize=(10,7));\n",
    "sns.histplot(y=df_trc_drop['subtype']);"
   ]
  },
  {
   "cell_type": "markdown",
   "id": "d49361a4-00cc-4b7a-9770-1fa17957b585",
   "metadata": {},
   "source": [
    "### count"
   ]
  },
  {
   "cell_type": "code",
   "execution_count": 86,
   "id": "a3a826d1-3f92-40be-9e6b-a4f4d2b2764e",
   "metadata": {},
   "outputs": [
    {
     "data": {
      "text/plain": [
       "1010128"
      ]
     },
     "execution_count": 86,
     "metadata": {},
     "output_type": "execute_result"
    }
   ],
   "source": [
    "# Total reported crimes for all years\n",
    "df_trc_drop['count'].sum()"
   ]
  },
  {
   "cell_type": "markdown",
   "id": "aab8b055-f33d-4cc4-8f7d-dd6572e637cd",
   "metadata": {},
   "source": []
  },
  {
   "cell_type": "markdown",
   "id": "3dca253a-a1cd-43a3-9d6e-0a0d6de860be",
   "metadata": {},
   "source": [
    "## Bivariate analysis\n",
    "In this section, we want ot understand how each feature changes with `count` feature."
   ]
  },
  {
   "cell_type": "code",
   "execution_count": 89,
   "id": "6b19468f-2b43-4cd3-aeb4-7b7a427fee2d",
   "metadata": {},
   "outputs": [
    {
     "data": {
      "image/png": "[encoded data removed]",
      "text/plain": [
       "<Figure size 1000x500 with 1 Axes>"
      ]
     },
     "metadata": {},
     "output_type": "display_data"
    }
   ],
   "source": [
    "# plot reportedyear with count \n",
    "plt.figure(figsize=(10,5))\n",
    "sns.lineplot(data=df_trc_drop, \n",
    "             x='reportedyear',\n",
    "             y='count');"
   ]
  },
  {
   "cell_type": "markdown",
   "id": "33d6c0b2-e0dc-4be7-85a5-ee61836e1293",
   "metadata": {},
   "source": [
    "Above plot indicates that the total reported crimes increased from 2014 until 2019 and slowed down since then. "
   ]
  },
  {
   "cell_type": "code",
   "execution_count": 91,
   "id": "afcef480-66d3-4375-a76b-fa4e6371662d",
   "metadata": {},
   "outputs": [
    {
     "data": {
      "image/png": "[encoded data removed]",
      "text/plain": [
       "<Figure size 1000x500 with 1 Axes>"
      ]
     },
     "metadata": {},
     "output_type": "display_data"
    }
   ],
   "source": [
    "# plot geodivision with count \n",
    "plt.figure(figsize=(10,5))\n",
    "sns.barplot(data=df_trc_drop, \n",
    "             x='geodivision',\n",
    "             y='count');"
   ]
  },
  {
   "cell_type": "markdown",
   "id": "1cc8a378-6ff5-42f2-90bb-5d6f05137bff",
   "metadata": {},
   "source": [
    "It is clear from above plot that some division have more reported crimes than others. "
   ]
  },
  {
   "cell_type": "code",
   "execution_count": 94,
   "id": "e8c09aaf-2181-4000-98c6-f9da85f9e6a8",
   "metadata": {},
   "outputs": [
    {
     "data": {
      "image/png": "[encoded data removed]",
      "text/plain": [
       "<Figure size 1000x700 with 1 Axes>"
      ]
     },
     "metadata": {},
     "output_type": "display_data"
    }
   ],
   "source": [
    "# plot category with count \n",
    "plt.figure(figsize=(10,7))\n",
    "sns.barplot(data=df_trc_drop, \n",
    "             y='category',\n",
    "             x='count');"
   ]
  },
  {
   "cell_type": "markdown",
   "id": "87f16c61-8182-47c4-a90d-329b0a70b57c",
   "metadata": {},
   "source": [
    "Crime aginst property is the most reported crime across all years. "
   ]
  },
  {
   "cell_type": "markdown",
   "id": "0fca9128-f75c-45f0-b9ce-e353a4e51fcf",
   "metadata": {},
   "source": [
    "## Multivariate analysis\n",
    "In this section, we try to understand relationship between all features. "
   ]
  },
  {
   "cell_type": "code",
   "execution_count": 105,
   "id": "3b10f0ea-915e-4268-9dff-9a2b2d0c47ad",
   "metadata": {},
   "outputs": [
    {
     "data": {
      "text/html": [
       "<div>\n",
       "<style scoped>\n",
       "    .dataframe tbody tr th:only-of-type {\n",
       "        vertical-align: middle;\n",
       "    }\n",
       "\n",
       "    .dataframe tbody tr th {\n",
       "        vertical-align: top;\n",
       "    }\n",
       "\n",
       "    .dataframe thead th {\n",
       "        text-align: right;\n",
       "    }\n",
       "</style>\n",
       "<table border=\"1\" class=\"dataframe\">\n",
       "  <thead>\n",
       "    <tr style=\"text-align: right;\">\n",
       "      <th></th>\n",
       "      <th>reportedyear</th>\n",
       "      <th>count</th>\n",
       "    </tr>\n",
       "  </thead>\n",
       "  <tbody>\n",
       "    <tr>\n",
       "      <th>reportedyear</th>\n",
       "      <td>1.000000</td>\n",
       "      <td>0.017948</td>\n",
       "    </tr>\n",
       "    <tr>\n",
       "      <th>count</th>\n",
       "      <td>0.017948</td>\n",
       "      <td>1.000000</td>\n",
       "    </tr>\n",
       "  </tbody>\n",
       "</table>\n",
       "</div>"
      ],
      "text/plain": [
       "              reportedyear     count\n",
       "reportedyear      1.000000  0.017948\n",
       "count             0.017948  1.000000"
      ]
     },
     "execution_count": 105,
     "metadata": {},
     "output_type": "execute_result"
    }
   ],
   "source": [
    "df_trc_drop.corr()"
   ]
  },
  {
   "cell_type": "code",
   "execution_count": null,
   "id": "12bef8e1-0a2c-4d21-8f93-d09368ff5c5b",
   "metadata": {},
   "outputs": [],
   "source": []
  },
  {
   "cell_type": "code",
   "execution_count": null,
   "id": "a4c82c6f-9d68-4435-8e75-de7d2019b786",
   "metadata": {},
   "outputs": [],
   "source": []
  },
  {
   "cell_type": "code",
   "execution_count": null,
   "id": "8494cc09-0790-4e5b-8d49-344ecb650491",
   "metadata": {},
   "outputs": [],
   "source": []
  },
  {
   "cell_type": "code",
   "execution_count": null,
   "id": "710d47c6-26a8-4cda-8959-a59711819a2d",
   "metadata": {},
   "outputs": [],
   "source": []
  },
  {
   "cell_type": "markdown",
   "id": "e982c82a-0326-4827-8405-49b541e10991",
   "metadata": {},
   "source": [
    "***"
   ]
  },
  {
   "cell_type": "markdown",
   "id": "5821376c-3e50-4604-b71a-dba0740a2faf",
   "metadata": {},
   "source": [
    "# Feature Importance"
   ]
  },
  {
   "cell_type": "code",
   "execution_count": null,
   "id": "f8792567-54b2-4b09-9de0-9955160312b7",
   "metadata": {},
   "outputs": [],
   "source": []
  },
  {
   "cell_type": "code",
   "execution_count": null,
   "id": "7a465f60-d6dc-4dfa-bdf4-451990fb031d",
   "metadata": {},
   "outputs": [],
   "source": []
  },
  {
   "cell_type": "code",
   "execution_count": null,
   "id": "afd8fa19-9094-4619-aa59-ee06dd4d7821",
   "metadata": {},
   "outputs": [],
   "source": []
  },
  {
   "cell_type": "code",
   "execution_count": null,
   "id": "4b08880f-5631-4982-a07d-725f03cf587c",
   "metadata": {},
   "outputs": [],
   "source": []
  },
  {
   "cell_type": "code",
   "execution_count": null,
   "id": "802db8b6-eb45-48e3-b1c0-e710914e9e49",
   "metadata": {},
   "outputs": [],
   "source": []
  },
  {
   "cell_type": "code",
   "execution_count": null,
   "id": "7c44b5cd-4508-46fe-baf3-8a0f7caffb0e",
   "metadata": {},
   "outputs": [],
   "source": []
  },
  {
   "cell_type": "code",
   "execution_count": null,
   "id": "61bb17dd-9c46-4ce5-b721-4303f598ab42",
   "metadata": {},
   "outputs": [],
   "source": []
  },
  {
   "cell_type": "markdown",
   "id": "c3fb219c-2ce8-4a38-aecb-83110bb3c2bd",
   "metadata": {},
   "source": [
    "# Model training"
   ]
  },
  {
   "cell_type": "markdown",
   "id": "1f0b833e-9288-4f63-82fb-a4e596f4fd70",
   "metadata": {},
   "source": [
    "# Exporting notebook to script"
   ]
  },
  {
   "cell_type": "markdown",
   "id": "b624ad0b-0ba1-4432-8bcb-8faf2a0e6b8c",
   "metadata": {},
   "source": [
    "# Model deployment"
   ]
  },
  {
   "cell_type": "markdown",
   "id": "220505b5-0d6a-4258-8358-e73004a2a263",
   "metadata": {},
   "source": [
    "# Reproducibility"
   ]
  },
  {
   "cell_type": "markdown",
   "id": "8cd93b02-1fad-4fa2-860b-99b4a60763b5",
   "metadata": {},
   "source": [
    "# Dependency and environment management"
   ]
  },
  {
   "cell_type": "markdown",
   "id": "24f1f5b3-a586-4ffc-9331-7e1ca8be9455",
   "metadata": {},
   "source": [
    "# Containerization"
   ]
  },
  {
   "cell_type": "markdown",
   "id": "6a0e41a6-5c96-4f84-a00e-041132b7f9e4",
   "metadata": {},
   "source": [
    "# Cloud deployment"
   ]
  },
  {
   "cell_type": "code",
   "execution_count": null,
   "id": "306df383-d98e-4adc-bfb3-7998edccfce7",
   "metadata": {},
   "outputs": [],
   "source": []
  },
  {
   "cell_type": "code",
   "execution_count": null,
   "id": "d57211d4-b0cc-4e57-af36-507ebab5ebf1",
   "metadata": {},
   "outputs": [],
   "source": []
  },
  {
   "cell_type": "code",
   "execution_count": null,
   "id": "90f5137d-1ece-4b23-b40c-b21d2f403283",
   "metadata": {},
   "outputs": [],
   "source": []
  },
  {
   "cell_type": "code",
   "execution_count": null,
   "id": "1069ba26-50ea-40db-b1da-852e96e4ce27",
   "metadata": {},
   "outputs": [],
   "source": []
  },
  {
   "cell_type": "code",
   "execution_count": null,
   "id": "b04cb6d3-f56f-4cec-b941-1761838da268",
   "metadata": {},
   "outputs": [],
   "source": []
  },
  {
   "cell_type": "code",
   "execution_count": null,
   "id": "fdf2a618-73c7-474b-9104-650b01caba8f",
   "metadata": {},
   "outputs": [],
   "source": []
  }
 ],
 "metadata": {
  "kernelspec": {
   "display_name": "Python 3 (ipykernel)",
   "language": "python",
   "name": "python3"
  },
  "language_info": {
   "codemirror_mode": {
    "name": "ipython",
    "version": 3
   },
   "file_extension": ".py",
   "mimetype": "text/x-python",
   "name": "python",
   "nbconvert_exporter": "python",
   "pygments_lexer": "ipython3",
   "version": "3.10.6"
  }
 },
 "nbformat": 4,
 "nbformat_minor": 5
}
