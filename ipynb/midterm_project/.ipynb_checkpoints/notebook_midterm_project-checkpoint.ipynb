{
 "cells": [
  {
   "cell_type": "markdown",
   "id": "1b455938-f5e6-4e66-99be-327c7a498aa0",
   "metadata": {},
   "source": [
    "# Midterm Project - Predicting Total Crime Counts in Toronto\n",
    "This notebook has been created for completing the midterm project, which is part of ML Zoomcamp."
   ]
  },
  {
   "cell_type": "markdown",
   "id": "b895fec9-d69d-48ab-ad23-1b08c352d4ec",
   "metadata": {},
   "source": [
    "***"
   ]
  },
  {
   "cell_type": "markdown",
   "id": "383ac6d8-fa0b-4595-a253-001a06e729e5",
   "metadata": {},
   "source": [
    "# Download dataset \n",
    "Toronto reported crimes dataset is downloaded by running the below command. "
   ]
  },
  {
   "cell_type": "code",
   "execution_count": 11,
   "id": "3c90e3ab-8e1d-44b6-a23b-11a5c3cd9d8a",
   "metadata": {},
   "outputs": [
    {
     "name": "stdout",
     "output_type": "stream",
     "text": [
      "--2022-11-10 05:24:58--  https://ckan0.cf.opendata.inter.prod-toronto.ca/dataset/police-annual-statistical-report-reported-crimes/resource/900b1303-c7d1-43b8-99e4-d04c7dd4607f/download/Reported%20Crimes.csv\n",
      "Resolving ckan0.cf.opendata.inter.prod-toronto.ca (ckan0.cf.opendata.inter.prod-toronto.ca)... 99.86.63.15, 99.86.63.118, 99.86.63.35, ...\n",
      "Connecting to ckan0.cf.opendata.inter.prod-toronto.ca (ckan0.cf.opendata.inter.prod-toronto.ca)|99.86.63.15|:443... connected.\n",
      "HTTP request sent, awaiting response... 200 OK\n",
      "Length: 178874 (175K) [application/octet-stream]\n",
      "Saving to: ‘Reported Crimes.csv’\n",
      "\n",
      "Reported Crimes.csv 100%[===================>] 174.68K  --.-KB/s    in 0.05s   \n",
      "\n",
      "2022-11-10 05:24:58 (3.35 MB/s) - ‘Reported Crimes.csv’ saved [178874/178874]\n",
      "\n"
     ]
    }
   ],
   "source": [
    "!wget https://ckan0.cf.opendata.inter.prod-toronto.ca/dataset/police-annual-statistical-report-reported-crimes/resource/900b1303-c7d1-43b8-99e4-d04c7dd4607f/download/Reported%20Crimes.csv"
   ]
  },
  {
   "cell_type": "markdown",
   "id": "015d9209-7878-484d-8fce-a1af140c26c1",
   "metadata": {},
   "source": [
    "***"
   ]
  },
  {
   "cell_type": "markdown",
   "id": "631c8f4a-377a-41f4-a13e-2378a66d0aec",
   "metadata": {},
   "source": [
    "# Load Modules\n",
    "In this section, we load all the python modules using import statements."
   ]
  },
  {
   "cell_type": "code",
   "execution_count": 1,
   "id": "f12aef08-e454-4803-a4a7-4427d6c04be1",
   "metadata": {},
   "outputs": [],
   "source": [
    "import pandas as pd\n",
    "import numpy as np \n",
    "import matplotlib.pyplot as plt\n",
    "import seaborn as sns\n",
    "\n",
    "%matplotlib inline"
   ]
  },
  {
   "cell_type": "markdown",
   "id": "daa84f86-6b2e-4479-9d39-cd4261281c94",
   "metadata": {},
   "source": [
    "***"
   ]
  },
  {
   "cell_type": "markdown",
   "id": "d6b73fc2-cd94-47c8-a5f7-135f69b57119",
   "metadata": {},
   "source": [
    "# Load user-defined utilities"
   ]
  },
  {
   "cell_type": "code",
   "execution_count": 2,
   "id": "31d43de6-4142-4a62-bee1-89aa78694595",
   "metadata": {},
   "outputs": [],
   "source": [
    "import sys \n",
    "sys.path.append('../../src/')\n",
    "\n",
    "import utilities as utils"
   ]
  },
  {
   "cell_type": "markdown",
   "id": "cfc48f20-46ad-4eda-b0c4-0ba27a4945f7",
   "metadata": {},
   "source": [
    "***"
   ]
  },
  {
   "cell_type": "markdown",
   "id": "bffcf5f0-9e23-453f-9905-4984486bdd95",
   "metadata": {},
   "source": [
    "# Data preparation\n",
    "In this section, we simply read the dataset using pandas into a Dataframe `df_trc`."
   ]
  },
  {
   "cell_type": "code",
   "execution_count": 3,
   "id": "4438b7c2-c18e-454a-a32a-cde39f520a03",
   "metadata": {},
   "outputs": [
    {
     "data": {
      "text/html": [
       "<div>\n",
       "<style scoped>\n",
       "    .dataframe tbody tr th:only-of-type {\n",
       "        vertical-align: middle;\n",
       "    }\n",
       "\n",
       "    .dataframe tbody tr th {\n",
       "        vertical-align: top;\n",
       "    }\n",
       "\n",
       "    .dataframe thead th {\n",
       "        text-align: right;\n",
       "    }\n",
       "</style>\n",
       "<table border=\"1\" class=\"dataframe\">\n",
       "  <thead>\n",
       "    <tr style=\"text-align: right;\">\n",
       "      <th></th>\n",
       "      <th>_id</th>\n",
       "      <th>ObjectId</th>\n",
       "      <th>ReportedYear</th>\n",
       "      <th>GeoDivision</th>\n",
       "      <th>Category</th>\n",
       "      <th>Subtype</th>\n",
       "      <th>Count_</th>\n",
       "      <th>CountCleared</th>\n",
       "    </tr>\n",
       "  </thead>\n",
       "  <tbody>\n",
       "    <tr>\n",
       "      <th>0</th>\n",
       "      <td>1</td>\n",
       "      <td>1</td>\n",
       "      <td>2014</td>\n",
       "      <td>D11</td>\n",
       "      <td>Controlled Drugs and Substances Act</td>\n",
       "      <td>Other</td>\n",
       "      <td>201</td>\n",
       "      <td>195</td>\n",
       "    </tr>\n",
       "    <tr>\n",
       "      <th>1</th>\n",
       "      <td>2</td>\n",
       "      <td>2</td>\n",
       "      <td>2014</td>\n",
       "      <td>D11</td>\n",
       "      <td>Crimes Against Property</td>\n",
       "      <td>Auto Theft</td>\n",
       "      <td>124</td>\n",
       "      <td>43</td>\n",
       "    </tr>\n",
       "    <tr>\n",
       "      <th>2</th>\n",
       "      <td>3</td>\n",
       "      <td>3</td>\n",
       "      <td>2014</td>\n",
       "      <td>D11</td>\n",
       "      <td>Crimes Against Property</td>\n",
       "      <td>Break &amp; Enter-Apartment</td>\n",
       "      <td>85</td>\n",
       "      <td>37</td>\n",
       "    </tr>\n",
       "    <tr>\n",
       "      <th>3</th>\n",
       "      <td>4</td>\n",
       "      <td>4</td>\n",
       "      <td>2014</td>\n",
       "      <td>D11</td>\n",
       "      <td>Crimes Against Property</td>\n",
       "      <td>Break &amp; Enter-Commercial</td>\n",
       "      <td>58</td>\n",
       "      <td>18</td>\n",
       "    </tr>\n",
       "    <tr>\n",
       "      <th>4</th>\n",
       "      <td>5</td>\n",
       "      <td>5</td>\n",
       "      <td>2014</td>\n",
       "      <td>D11</td>\n",
       "      <td>Crimes Against Property</td>\n",
       "      <td>Break &amp; Enter-House</td>\n",
       "      <td>89</td>\n",
       "      <td>34</td>\n",
       "    </tr>\n",
       "  </tbody>\n",
       "</table>\n",
       "</div>"
      ],
      "text/plain": [
       "   _id  ObjectId  ReportedYear GeoDivision  \\\n",
       "0    1         1          2014         D11   \n",
       "1    2         2          2014         D11   \n",
       "2    3         3          2014         D11   \n",
       "3    4         4          2014         D11   \n",
       "4    5         5          2014         D11   \n",
       "\n",
       "                              Category                   Subtype  Count_  \\\n",
       "0  Controlled Drugs and Substances Act                     Other     201   \n",
       "1              Crimes Against Property                Auto Theft     124   \n",
       "2              Crimes Against Property   Break & Enter-Apartment      85   \n",
       "3              Crimes Against Property  Break & Enter-Commercial      58   \n",
       "4              Crimes Against Property       Break & Enter-House      89   \n",
       "\n",
       "   CountCleared  \n",
       "0           195  \n",
       "1            43  \n",
       "2            37  \n",
       "3            18  \n",
       "4            34  "
      ]
     },
     "execution_count": 3,
     "metadata": {},
     "output_type": "execute_result"
    }
   ],
   "source": [
    "# Read reported crimes as dataframe\n",
    "df_trc = pd.read_csv('Reported Crimes.csv')\n",
    "df_trc.head()"
   ]
  },
  {
   "cell_type": "markdown",
   "id": "96dd3e97-07c2-48c6-925e-96e32b14a626",
   "metadata": {},
   "source": [
    "***"
   ]
  },
  {
   "cell_type": "markdown",
   "id": "1d4bae7e-938a-4f62-82f6-c90cf759ced3",
   "metadata": {
    "tags": [],
    "toc-hr-collapsed": true
   },
   "source": [
    "# EDA\n",
    "In this section, we are going to perform exploratory data analysis on toronto reported crimes data. "
   ]
  },
  {
   "cell_type": "code",
   "execution_count": 4,
   "id": "08e54da2-6b35-403f-8a61-f73e566308d6",
   "metadata": {},
   "outputs": [
    {
     "data": {
      "text/plain": [
       "(2701, 8)"
      ]
     },
     "execution_count": 4,
     "metadata": {},
     "output_type": "execute_result"
    }
   ],
   "source": [
    "# Shape of the dataset\n",
    "df_trc.shape"
   ]
  },
  {
   "cell_type": "markdown",
   "id": "2cb0c71a-fc71-49a0-b53a-b7334fd7554b",
   "metadata": {},
   "source": [
    "There are 2701 rows and 8 columsn in the dataset. Let's see what different columns information details about and datatypes of each feature. "
   ]
  },
  {
   "cell_type": "code",
   "execution_count": 5,
   "id": "dd84e0f4-edf8-40cf-a4c1-423e77ead3a7",
   "metadata": {},
   "outputs": [
    {
     "data": {
      "text/plain": [
       "['_id',\n",
       " 'ObjectId',\n",
       " 'ReportedYear',\n",
       " 'GeoDivision',\n",
       " 'Category',\n",
       " 'Subtype',\n",
       " 'Count_',\n",
       " 'CountCleared']"
      ]
     },
     "execution_count": 5,
     "metadata": {},
     "output_type": "execute_result"
    }
   ],
   "source": [
    "# list of columns\n",
    "df_trc.columns.to_list()"
   ]
  },
  {
   "cell_type": "code",
   "execution_count": 6,
   "id": "3745353e-971b-49bd-a7a2-78f14c4bbad1",
   "metadata": {},
   "outputs": [
    {
     "data": {
      "text/plain": [
       "_id              int64\n",
       "ObjectId         int64\n",
       "ReportedYear     int64\n",
       "GeoDivision     object\n",
       "Category        object\n",
       "Subtype         object\n",
       "Count_           int64\n",
       "CountCleared     int64\n",
       "dtype: object"
      ]
     },
     "execution_count": 6,
     "metadata": {},
     "output_type": "execute_result"
    }
   ],
   "source": [
    "# datatype of features\n",
    "df_trc.dtypes"
   ]
  },
  {
   "cell_type": "markdown",
   "id": "33f851ee-07e9-4d97-9711-8835d1e9900f",
   "metadata": {},
   "source": [
    "There are 5 numerical and 3 categorical features in the dataset. To gain more insights into the dataset, let's get descrptive statistics on that dataset. "
   ]
  },
  {
   "cell_type": "code",
   "execution_count": 7,
   "id": "6ecbdd3a-2efd-4697-9b1e-2b508129810f",
   "metadata": {},
   "outputs": [
    {
     "data": {
      "text/html": [
       "<div>\n",
       "<style scoped>\n",
       "    .dataframe tbody tr th:only-of-type {\n",
       "        vertical-align: middle;\n",
       "    }\n",
       "\n",
       "    .dataframe tbody tr th {\n",
       "        vertical-align: top;\n",
       "    }\n",
       "\n",
       "    .dataframe thead th {\n",
       "        text-align: right;\n",
       "    }\n",
       "</style>\n",
       "<table border=\"1\" class=\"dataframe\">\n",
       "  <thead>\n",
       "    <tr style=\"text-align: right;\">\n",
       "      <th></th>\n",
       "      <th>_id</th>\n",
       "      <th>ObjectId</th>\n",
       "      <th>ReportedYear</th>\n",
       "      <th>Count_</th>\n",
       "      <th>CountCleared</th>\n",
       "    </tr>\n",
       "  </thead>\n",
       "  <tbody>\n",
       "    <tr>\n",
       "      <th>count</th>\n",
       "      <td>2701.000000</td>\n",
       "      <td>2701.000000</td>\n",
       "      <td>2701.000000</td>\n",
       "      <td>2701.000000</td>\n",
       "      <td>2701.000000</td>\n",
       "    </tr>\n",
       "    <tr>\n",
       "      <th>mean</th>\n",
       "      <td>1351.000000</td>\n",
       "      <td>1351.000000</td>\n",
       "      <td>2017.492410</td>\n",
       "      <td>373.982969</td>\n",
       "      <td>161.260274</td>\n",
       "    </tr>\n",
       "    <tr>\n",
       "      <th>std</th>\n",
       "      <td>779.855863</td>\n",
       "      <td>779.855863</td>\n",
       "      <td>2.287089</td>\n",
       "      <td>660.664930</td>\n",
       "      <td>267.483140</td>\n",
       "    </tr>\n",
       "    <tr>\n",
       "      <th>min</th>\n",
       "      <td>1.000000</td>\n",
       "      <td>1.000000</td>\n",
       "      <td>2014.000000</td>\n",
       "      <td>1.000000</td>\n",
       "      <td>0.000000</td>\n",
       "    </tr>\n",
       "    <tr>\n",
       "      <th>25%</th>\n",
       "      <td>676.000000</td>\n",
       "      <td>676.000000</td>\n",
       "      <td>2016.000000</td>\n",
       "      <td>53.000000</td>\n",
       "      <td>15.000000</td>\n",
       "    </tr>\n",
       "    <tr>\n",
       "      <th>50%</th>\n",
       "      <td>1351.000000</td>\n",
       "      <td>1351.000000</td>\n",
       "      <td>2017.000000</td>\n",
       "      <td>134.000000</td>\n",
       "      <td>56.000000</td>\n",
       "    </tr>\n",
       "    <tr>\n",
       "      <th>75%</th>\n",
       "      <td>2026.000000</td>\n",
       "      <td>2026.000000</td>\n",
       "      <td>2019.000000</td>\n",
       "      <td>380.000000</td>\n",
       "      <td>153.000000</td>\n",
       "    </tr>\n",
       "    <tr>\n",
       "      <th>max</th>\n",
       "      <td>2701.000000</td>\n",
       "      <td>2701.000000</td>\n",
       "      <td>2021.000000</td>\n",
       "      <td>7256.000000</td>\n",
       "      <td>2207.000000</td>\n",
       "    </tr>\n",
       "  </tbody>\n",
       "</table>\n",
       "</div>"
      ],
      "text/plain": [
       "               _id     ObjectId  ReportedYear       Count_  CountCleared\n",
       "count  2701.000000  2701.000000   2701.000000  2701.000000   2701.000000\n",
       "mean   1351.000000  1351.000000   2017.492410   373.982969    161.260274\n",
       "std     779.855863   779.855863      2.287089   660.664930    267.483140\n",
       "min       1.000000     1.000000   2014.000000     1.000000      0.000000\n",
       "25%     676.000000   676.000000   2016.000000    53.000000     15.000000\n",
       "50%    1351.000000  1351.000000   2017.000000   134.000000     56.000000\n",
       "75%    2026.000000  2026.000000   2019.000000   380.000000    153.000000\n",
       "max    2701.000000  2701.000000   2021.000000  7256.000000   2207.000000"
      ]
     },
     "execution_count": 7,
     "metadata": {},
     "output_type": "execute_result"
    }
   ],
   "source": [
    "# descriptive stats\n",
    "df_trc.describe()"
   ]
  },
  {
   "cell_type": "markdown",
   "id": "1f1fd656-365d-442c-a909-ee898e7c56cc",
   "metadata": {},
   "source": [
    "`_id` and `ObjectId` doesn't seem to add any additional value in understanding the relationship between total reported crime count in Toronto. So, we are going to drop these two columns/features. Futher, the `CountCleared` feature is not that useful for prediction. It's encapsulates information about the reponse that Toronto Police Services took. "
   ]
  },
  {
   "cell_type": "markdown",
   "id": "0b919f3d-a6a1-474e-9600-1c432de14a3d",
   "metadata": {},
   "source": [
    "## Drop irrelavant features"
   ]
  },
  {
   "cell_type": "code",
   "execution_count": 8,
   "id": "eeed6f07-da2b-4633-9413-9ac990b03a22",
   "metadata": {},
   "outputs": [
    {
     "data": {
      "text/html": [
       "<div>\n",
       "<style scoped>\n",
       "    .dataframe tbody tr th:only-of-type {\n",
       "        vertical-align: middle;\n",
       "    }\n",
       "\n",
       "    .dataframe tbody tr th {\n",
       "        vertical-align: top;\n",
       "    }\n",
       "\n",
       "    .dataframe thead th {\n",
       "        text-align: right;\n",
       "    }\n",
       "</style>\n",
       "<table border=\"1\" class=\"dataframe\">\n",
       "  <thead>\n",
       "    <tr style=\"text-align: right;\">\n",
       "      <th></th>\n",
       "      <th>ReportedYear</th>\n",
       "      <th>GeoDivision</th>\n",
       "      <th>Category</th>\n",
       "      <th>Subtype</th>\n",
       "      <th>Count_</th>\n",
       "    </tr>\n",
       "  </thead>\n",
       "  <tbody>\n",
       "    <tr>\n",
       "      <th>0</th>\n",
       "      <td>2014</td>\n",
       "      <td>D11</td>\n",
       "      <td>Controlled Drugs and Substances Act</td>\n",
       "      <td>Other</td>\n",
       "      <td>201</td>\n",
       "    </tr>\n",
       "    <tr>\n",
       "      <th>1</th>\n",
       "      <td>2014</td>\n",
       "      <td>D11</td>\n",
       "      <td>Crimes Against Property</td>\n",
       "      <td>Auto Theft</td>\n",
       "      <td>124</td>\n",
       "    </tr>\n",
       "    <tr>\n",
       "      <th>2</th>\n",
       "      <td>2014</td>\n",
       "      <td>D11</td>\n",
       "      <td>Crimes Against Property</td>\n",
       "      <td>Break &amp; Enter-Apartment</td>\n",
       "      <td>85</td>\n",
       "    </tr>\n",
       "    <tr>\n",
       "      <th>3</th>\n",
       "      <td>2014</td>\n",
       "      <td>D11</td>\n",
       "      <td>Crimes Against Property</td>\n",
       "      <td>Break &amp; Enter-Commercial</td>\n",
       "      <td>58</td>\n",
       "    </tr>\n",
       "    <tr>\n",
       "      <th>4</th>\n",
       "      <td>2014</td>\n",
       "      <td>D11</td>\n",
       "      <td>Crimes Against Property</td>\n",
       "      <td>Break &amp; Enter-House</td>\n",
       "      <td>89</td>\n",
       "    </tr>\n",
       "  </tbody>\n",
       "</table>\n",
       "</div>"
      ],
      "text/plain": [
       "   ReportedYear GeoDivision                             Category  \\\n",
       "0          2014         D11  Controlled Drugs and Substances Act   \n",
       "1          2014         D11              Crimes Against Property   \n",
       "2          2014         D11              Crimes Against Property   \n",
       "3          2014         D11              Crimes Against Property   \n",
       "4          2014         D11              Crimes Against Property   \n",
       "\n",
       "                    Subtype  Count_  \n",
       "0                     Other     201  \n",
       "1                Auto Theft     124  \n",
       "2   Break & Enter-Apartment      85  \n",
       "3  Break & Enter-Commercial      58  \n",
       "4       Break & Enter-House      89  "
      ]
     },
     "execution_count": 8,
     "metadata": {},
     "output_type": "execute_result"
    }
   ],
   "source": [
    "df_trc_drop = df_trc.drop(columns=['_id',\n",
    "                                   'ObjectId',\n",
    "                                   'CountCleared'])\n",
    "\n",
    "df_trc_drop.head()"
   ]
  },
  {
   "cell_type": "markdown",
   "id": "dd1adefc-1316-4113-b85d-4a5df9b0a23e",
   "metadata": {},
   "source": [
    "Now that we have a much smaller dataset, let's now concentrate on verifying quality fo the data."
   ]
  },
  {
   "cell_type": "code",
   "execution_count": 9,
   "id": "b739102c-2299-4fed-aadb-a771077778e5",
   "metadata": {},
   "outputs": [
    {
     "data": {
      "text/plain": [
       "ReportedYear    0\n",
       "GeoDivision     0\n",
       "Category        0\n",
       "Subtype         0\n",
       "Count_          0\n",
       "dtype: int64"
      ]
     },
     "execution_count": 9,
     "metadata": {},
     "output_type": "execute_result"
    }
   ],
   "source": [
    "# Check for null/missing values\n",
    "df_trc_drop.isnull().sum()"
   ]
  },
  {
   "cell_type": "markdown",
   "id": "7de55cbe-b88e-485a-9932-112d0907c36c",
   "metadata": {},
   "source": [
    "## Standardizing the column names\n",
    "In this section, we are going to standardize the column names. This is done by changing CamelCase to lower and removing special characters from columns names. "
   ]
  },
  {
   "cell_type": "code",
   "execution_count": 261,
   "id": "03146334-519a-4831-8df5-318eb70f1d28",
   "metadata": {},
   "outputs": [],
   "source": [
    "df_trc_drop.columns = [colname.lower().replace('_','') if '_' in colname else colname.lower() for colname in df_trc_drop.columns.to_list()]"
   ]
  },
  {
   "cell_type": "code",
   "execution_count": 262,
   "id": "da56cfa2-4a8d-4b3f-b471-1dc1b8750d9d",
   "metadata": {},
   "outputs": [
    {
     "data": {
      "text/html": [
       "<div>\n",
       "<style scoped>\n",
       "    .dataframe tbody tr th:only-of-type {\n",
       "        vertical-align: middle;\n",
       "    }\n",
       "\n",
       "    .dataframe tbody tr th {\n",
       "        vertical-align: top;\n",
       "    }\n",
       "\n",
       "    .dataframe thead th {\n",
       "        text-align: right;\n",
       "    }\n",
       "</style>\n",
       "<table border=\"1\" class=\"dataframe\">\n",
       "  <thead>\n",
       "    <tr style=\"text-align: right;\">\n",
       "      <th></th>\n",
       "      <th>reportedyear</th>\n",
       "      <th>geodivision</th>\n",
       "      <th>category</th>\n",
       "      <th>subtype</th>\n",
       "      <th>count</th>\n",
       "      <th>countlog</th>\n",
       "    </tr>\n",
       "  </thead>\n",
       "  <tbody>\n",
       "    <tr>\n",
       "      <th>0</th>\n",
       "      <td>2014</td>\n",
       "      <td>D11</td>\n",
       "      <td>Controlled Drugs and Substances Act</td>\n",
       "      <td>Other</td>\n",
       "      <td>201</td>\n",
       "      <td>5.308268</td>\n",
       "    </tr>\n",
       "    <tr>\n",
       "      <th>1</th>\n",
       "      <td>2014</td>\n",
       "      <td>D11</td>\n",
       "      <td>Crimes Against Property</td>\n",
       "      <td>Auto Theft</td>\n",
       "      <td>124</td>\n",
       "      <td>4.828314</td>\n",
       "    </tr>\n",
       "    <tr>\n",
       "      <th>2</th>\n",
       "      <td>2014</td>\n",
       "      <td>D11</td>\n",
       "      <td>Crimes Against Property</td>\n",
       "      <td>Break &amp; Enter-Apartment</td>\n",
       "      <td>85</td>\n",
       "      <td>4.454347</td>\n",
       "    </tr>\n",
       "    <tr>\n",
       "      <th>3</th>\n",
       "      <td>2014</td>\n",
       "      <td>D11</td>\n",
       "      <td>Crimes Against Property</td>\n",
       "      <td>Break &amp; Enter-Commercial</td>\n",
       "      <td>58</td>\n",
       "      <td>4.077537</td>\n",
       "    </tr>\n",
       "    <tr>\n",
       "      <th>4</th>\n",
       "      <td>2014</td>\n",
       "      <td>D11</td>\n",
       "      <td>Crimes Against Property</td>\n",
       "      <td>Break &amp; Enter-House</td>\n",
       "      <td>89</td>\n",
       "      <td>4.499810</td>\n",
       "    </tr>\n",
       "  </tbody>\n",
       "</table>\n",
       "</div>"
      ],
      "text/plain": [
       "   reportedyear geodivision                             category  \\\n",
       "0          2014         D11  Controlled Drugs and Substances Act   \n",
       "1          2014         D11              Crimes Against Property   \n",
       "2          2014         D11              Crimes Against Property   \n",
       "3          2014         D11              Crimes Against Property   \n",
       "4          2014         D11              Crimes Against Property   \n",
       "\n",
       "                    subtype  count  countlog  \n",
       "0                     Other    201  5.308268  \n",
       "1                Auto Theft    124  4.828314  \n",
       "2   Break & Enter-Apartment     85  4.454347  \n",
       "3  Break & Enter-Commercial     58  4.077537  \n",
       "4       Break & Enter-House     89  4.499810  "
      ]
     },
     "execution_count": 262,
     "metadata": {},
     "output_type": "execute_result"
    }
   ],
   "source": [
    "df_trc_drop.head()"
   ]
  },
  {
   "cell_type": "markdown",
   "id": "2c824353-b7cc-432f-88fa-5a8ee967982c",
   "metadata": {},
   "source": [
    "## Univariate analysis\n",
    "### reportedyear"
   ]
  },
  {
   "cell_type": "code",
   "execution_count": 12,
   "id": "8674da9b-28c4-4103-9013-029153932530",
   "metadata": {},
   "outputs": [
    {
     "data": {
      "text/plain": [
       "2017    340\n",
       "2018    340\n",
       "2016    339\n",
       "2014    338\n",
       "2015    337\n",
       "2019    337\n",
       "2020    337\n",
       "2021    333\n",
       "Name: reportedyear, dtype: int64"
      ]
     },
     "execution_count": 12,
     "metadata": {},
     "output_type": "execute_result"
    }
   ],
   "source": [
    "# reportedyear\n",
    "df_trc_drop.reportedyear.value_counts()"
   ]
  },
  {
   "cell_type": "code",
   "execution_count": 13,
   "id": "a5524ec0-2961-4103-bf32-52d894b17481",
   "metadata": {},
   "outputs": [
    {
     "data": {
      "image/png": "[encoded data removed]",
      "text/plain": [
       "<Figure size 1000x500 with 1 Axes>"
      ]
     },
     "metadata": {},
     "output_type": "display_data"
    }
   ],
   "source": [
    "# Plot reportedyear counts\n",
    "plt.figure(figsize=(10,5));\n",
    "sns.histplot(df_trc_drop['reportedyear']);"
   ]
  },
  {
   "cell_type": "markdown",
   "id": "66308823-281f-42e7-abaa-5d607d5c90c4",
   "metadata": {},
   "source": [
    "### geodivision"
   ]
  },
  {
   "cell_type": "code",
   "execution_count": 14,
   "id": "e49fce7d-9012-42e2-b6a3-0181f6b62f1d",
   "metadata": {},
   "outputs": [
    {
     "data": {
      "text/plain": [
       "17"
      ]
     },
     "execution_count": 14,
     "metadata": {},
     "output_type": "execute_result"
    }
   ],
   "source": [
    "# No. of unique divisions\n",
    "df_trc_drop.geodivision.nunique()"
   ]
  },
  {
   "cell_type": "code",
   "execution_count": 15,
   "id": "d818e855-8f58-4f3a-87e5-0ff683ed42aa",
   "metadata": {},
   "outputs": [
    {
     "data": {
      "text/plain": [
       "D32        160\n",
       "D52        160\n",
       "D14        160\n",
       "D41        160\n",
       "D33        160\n",
       "D54/D55    160\n",
       "D22        160\n",
       "D42        160\n",
       "D12        159\n",
       "D23        159\n",
       "D51        159\n",
       "D43        159\n",
       "D11        159\n",
       "D31        158\n",
       "D13        158\n",
       "D53        155\n",
       "NSA        155\n",
       "Name: geodivision, dtype: int64"
      ]
     },
     "execution_count": 15,
     "metadata": {},
     "output_type": "execute_result"
    }
   ],
   "source": [
    "# No. of divisons count\n",
    "df_trc_drop.geodivision.value_counts()"
   ]
  },
  {
   "cell_type": "markdown",
   "id": "ecb2d407-90f0-48b2-a663-6243b261195c",
   "metadata": {},
   "source": [
    "### category"
   ]
  },
  {
   "cell_type": "code",
   "execution_count": 16,
   "id": "d88bb03d-a8fd-4fd8-b0ad-ed9dd1d34a8b",
   "metadata": {},
   "outputs": [
    {
     "data": {
      "text/plain": [
       "6"
      ]
     },
     "execution_count": 16,
     "metadata": {},
     "output_type": "execute_result"
    }
   ],
   "source": [
    "df_trc_drop.category.nunique()"
   ]
  },
  {
   "cell_type": "code",
   "execution_count": 17,
   "id": "753a5e68-bd8a-4fa0-bfe6-b522120bd983",
   "metadata": {},
   "outputs": [
    {
     "data": {
      "text/plain": [
       "Crimes Against Property                1222\n",
       "Crimes Against the Person               799\n",
       "Other Criminal Code Violations          272\n",
       "Controlled Drugs and Substances Act     136\n",
       "Criminal Code Traffic                   136\n",
       "Other Federal Statute Violations        136\n",
       "Name: category, dtype: int64"
      ]
     },
     "execution_count": 17,
     "metadata": {},
     "output_type": "execute_result"
    }
   ],
   "source": [
    "df_trc_drop.category.value_counts()"
   ]
  },
  {
   "cell_type": "code",
   "execution_count": 18,
   "id": "db4210ec-fc0f-48d9-b915-82e989a7209e",
   "metadata": {},
   "outputs": [
    {
     "data": {
      "image/png": "[encoded data removed]",
      "text/plain": [
       "<Figure size 1000x700 with 1 Axes>"
      ]
     },
     "metadata": {},
     "output_type": "display_data"
    }
   ],
   "source": [
    "# Plot category counts\n",
    "plt.figure(figsize=(10,7));\n",
    "sns.histplot(y=df_trc_drop['category']);"
   ]
  },
  {
   "cell_type": "markdown",
   "id": "70c2dad6-4140-4d4e-95ae-343644ca3099",
   "metadata": {},
   "source": [
    "### subtype"
   ]
  },
  {
   "cell_type": "code",
   "execution_count": 19,
   "id": "8c208456-87b6-4db3-b319-a8ecd43e8f97",
   "metadata": {},
   "outputs": [
    {
     "data": {
      "text/plain": [
       "15"
      ]
     },
     "execution_count": 19,
     "metadata": {},
     "output_type": "execute_result"
    }
   ],
   "source": [
    "# No. of unique subtypes\n",
    "df_trc_drop.subtype.nunique()"
   ]
  },
  {
   "cell_type": "code",
   "execution_count": 20,
   "id": "1728edb0-1a07-433a-80df-845b41b78efe",
   "metadata": {},
   "outputs": [
    {
     "data": {
      "text/plain": [
       "Other                                            816\n",
       "Auto Theft                                       136\n",
       "Break & Enter-Apartment                          136\n",
       "Break & Enter-Commercial                         136\n",
       "Break & Enter-House                              136\n",
       "Fraud                                            136\n",
       "Theft Over $5000                                 136\n",
       "Theft Under $5000                                136\n",
       "Assault                                          136\n",
       "Robbery-Other                                    136\n",
       "Sexual Violation                                 136\n",
       "Other Criminal Violations - Offensive Weapons    136\n",
       "Break & Enter-Other                              134\n",
       "Attempt Murder                                   128\n",
       "Robbery-Financial                                127\n",
       "Name: subtype, dtype: int64"
      ]
     },
     "execution_count": 20,
     "metadata": {},
     "output_type": "execute_result"
    }
   ],
   "source": [
    "# counto of each subtype\n",
    "df_trc_drop.subtype.value_counts()"
   ]
  },
  {
   "cell_type": "code",
   "execution_count": 21,
   "id": "edef7048-f0b8-4730-a6c3-2b7dc0bf2cb1",
   "metadata": {},
   "outputs": [
    {
     "data": {
      "image/png": "[encoded data removed]",
      "text/plain": [
       "<Figure size 1000x700 with 1 Axes>"
      ]
     },
     "metadata": {},
     "output_type": "display_data"
    }
   ],
   "source": [
    "# Plot category counts\n",
    "plt.figure(figsize=(10,7));\n",
    "sns.histplot(y=df_trc_drop['subtype']);"
   ]
  },
  {
   "cell_type": "markdown",
   "id": "d49361a4-00cc-4b7a-9770-1fa17957b585",
   "metadata": {},
   "source": [
    "### count"
   ]
  },
  {
   "cell_type": "code",
   "execution_count": 22,
   "id": "a3a826d1-3f92-40be-9e6b-a4f4d2b2764e",
   "metadata": {},
   "outputs": [
    {
     "data": {
      "text/plain": [
       "1010128"
      ]
     },
     "execution_count": 22,
     "metadata": {},
     "output_type": "execute_result"
    }
   ],
   "source": [
    "# Total reported crimes for all years\n",
    "df_trc_drop['count'].sum()"
   ]
  },
  {
   "cell_type": "code",
   "execution_count": 23,
   "id": "7b117c84-b959-468e-9a14-71baee6d884c",
   "metadata": {},
   "outputs": [
    {
     "data": {
      "text/plain": [
       "count    2701.000000\n",
       "mean      373.982969\n",
       "std       660.664930\n",
       "min         1.000000\n",
       "25%        53.000000\n",
       "50%       134.000000\n",
       "75%       380.000000\n",
       "max      7256.000000\n",
       "Name: count, dtype: float64"
      ]
     },
     "execution_count": 23,
     "metadata": {},
     "output_type": "execute_result"
    }
   ],
   "source": [
    "df_trc_drop['count'].describe()"
   ]
  },
  {
   "cell_type": "markdown",
   "id": "aab8b055-f33d-4cc4-8f7d-dd6572e637cd",
   "metadata": {},
   "source": []
  },
  {
   "cell_type": "code",
   "execution_count": 24,
   "id": "6fc55cfa-89b2-4db1-95eb-9a2105ec1333",
   "metadata": {},
   "outputs": [
    {
     "data": {
      "text/plain": [
       "<AxesSubplot:xlabel='count', ylabel='Count'>"
      ]
     },
     "execution_count": 24,
     "metadata": {},
     "output_type": "execute_result"
    },
    {
     "data": {
      "image/png": "[encoded data removed]",
      "text/plain": [
       "<Figure size 640x480 with 1 Axes>"
      ]
     },
     "metadata": {},
     "output_type": "display_data"
    }
   ],
   "source": [
    "# Histogram of all data\n",
    "sns.histplot(df_trc_drop['count'], bins=50)"
   ]
  },
  {
   "cell_type": "markdown",
   "id": "67622b9c-1480-49eb-a3ff-ca959271c2e1",
   "metadata": {},
   "source": [
    "Since the `count` feature is right skewed, let's create another feature that is log(count) to see the distribution."
   ]
  },
  {
   "cell_type": "code",
   "execution_count": 25,
   "id": "a4074892-eb35-4725-a97a-0a928735df8b",
   "metadata": {},
   "outputs": [
    {
     "data": {
      "text/html": [
       "<div>\n",
       "<style scoped>\n",
       "    .dataframe tbody tr th:only-of-type {\n",
       "        vertical-align: middle;\n",
       "    }\n",
       "\n",
       "    .dataframe tbody tr th {\n",
       "        vertical-align: top;\n",
       "    }\n",
       "\n",
       "    .dataframe thead th {\n",
       "        text-align: right;\n",
       "    }\n",
       "</style>\n",
       "<table border=\"1\" class=\"dataframe\">\n",
       "  <thead>\n",
       "    <tr style=\"text-align: right;\">\n",
       "      <th></th>\n",
       "      <th>reportedyear</th>\n",
       "      <th>geodivision</th>\n",
       "      <th>category</th>\n",
       "      <th>subtype</th>\n",
       "      <th>count</th>\n",
       "      <th>count_log</th>\n",
       "    </tr>\n",
       "  </thead>\n",
       "  <tbody>\n",
       "    <tr>\n",
       "      <th>0</th>\n",
       "      <td>2014</td>\n",
       "      <td>D11</td>\n",
       "      <td>Controlled Drugs and Substances Act</td>\n",
       "      <td>Other</td>\n",
       "      <td>201</td>\n",
       "      <td>5.308268</td>\n",
       "    </tr>\n",
       "    <tr>\n",
       "      <th>1</th>\n",
       "      <td>2014</td>\n",
       "      <td>D11</td>\n",
       "      <td>Crimes Against Property</td>\n",
       "      <td>Auto Theft</td>\n",
       "      <td>124</td>\n",
       "      <td>4.828314</td>\n",
       "    </tr>\n",
       "    <tr>\n",
       "      <th>2</th>\n",
       "      <td>2014</td>\n",
       "      <td>D11</td>\n",
       "      <td>Crimes Against Property</td>\n",
       "      <td>Break &amp; Enter-Apartment</td>\n",
       "      <td>85</td>\n",
       "      <td>4.454347</td>\n",
       "    </tr>\n",
       "    <tr>\n",
       "      <th>3</th>\n",
       "      <td>2014</td>\n",
       "      <td>D11</td>\n",
       "      <td>Crimes Against Property</td>\n",
       "      <td>Break &amp; Enter-Commercial</td>\n",
       "      <td>58</td>\n",
       "      <td>4.077537</td>\n",
       "    </tr>\n",
       "    <tr>\n",
       "      <th>4</th>\n",
       "      <td>2014</td>\n",
       "      <td>D11</td>\n",
       "      <td>Crimes Against Property</td>\n",
       "      <td>Break &amp; Enter-House</td>\n",
       "      <td>89</td>\n",
       "      <td>4.499810</td>\n",
       "    </tr>\n",
       "  </tbody>\n",
       "</table>\n",
       "</div>"
      ],
      "text/plain": [
       "   reportedyear geodivision                             category  \\\n",
       "0          2014         D11  Controlled Drugs and Substances Act   \n",
       "1          2014         D11              Crimes Against Property   \n",
       "2          2014         D11              Crimes Against Property   \n",
       "3          2014         D11              Crimes Against Property   \n",
       "4          2014         D11              Crimes Against Property   \n",
       "\n",
       "                    subtype  count  count_log  \n",
       "0                     Other    201   5.308268  \n",
       "1                Auto Theft    124   4.828314  \n",
       "2   Break & Enter-Apartment     85   4.454347  \n",
       "3  Break & Enter-Commercial     58   4.077537  \n",
       "4       Break & Enter-House     89   4.499810  "
      ]
     },
     "execution_count": 25,
     "metadata": {},
     "output_type": "execute_result"
    }
   ],
   "source": [
    "# Create count_log column \n",
    "df_trc_drop['count_log'] = np.log1p(df_trc_drop['count'])\n",
    "df_trc_drop.head()"
   ]
  },
  {
   "cell_type": "code",
   "execution_count": 26,
   "id": "525a5db2-c6af-4f96-8053-833707c6e973",
   "metadata": {},
   "outputs": [
    {
     "data": {
      "text/plain": [
       "<AxesSubplot:xlabel='count_log', ylabel='Count'>"
      ]
     },
     "execution_count": 26,
     "metadata": {},
     "output_type": "execute_result"
    },
    {
     "data": {
      "image/png": "[encoded data removed]",
      "text/plain": [
       "<Figure size 640x480 with 1 Axes>"
      ]
     },
     "metadata": {},
     "output_type": "display_data"
    }
   ],
   "source": [
    "# Histogram of all data - log\n",
    "sns.histplot(df_trc_drop['count_log'], bins=50)"
   ]
  },
  {
   "cell_type": "markdown",
   "id": "98047bfc-3309-4404-8abc-cf22e13f13d4",
   "metadata": {},
   "source": [
    "Now, the **target** value distribution looks much better that is normal. "
   ]
  },
  {
   "cell_type": "markdown",
   "id": "3dca253a-a1cd-43a3-9d6e-0a0d6de860be",
   "metadata": {},
   "source": [
    "## Bivariate analysis\n",
    "In this section, we want ot understand how each feature changes with `count` feature."
   ]
  },
  {
   "cell_type": "code",
   "execution_count": 27,
   "id": "6b19468f-2b43-4cd3-aeb4-7b7a427fee2d",
   "metadata": {},
   "outputs": [
    {
     "data": {
      "image/png": "[encoded data removed]",
      "text/plain": [
       "<Figure size 1000x500 with 1 Axes>"
      ]
     },
     "metadata": {},
     "output_type": "display_data"
    }
   ],
   "source": [
    "# plot reportedyear with count \n",
    "plt.figure(figsize=(10,5))\n",
    "sns.lineplot(data=df_trc_drop, \n",
    "             x='reportedyear',\n",
    "             y='count');"
   ]
  },
  {
   "cell_type": "markdown",
   "id": "33d6c0b2-e0dc-4be7-85a5-ee61836e1293",
   "metadata": {},
   "source": [
    "Above plot indicates that the total reported crimes increased from 2014 until 2019 and slowed down since then. "
   ]
  },
  {
   "cell_type": "code",
   "execution_count": 28,
   "id": "afcef480-66d3-4375-a76b-fa4e6371662d",
   "metadata": {},
   "outputs": [
    {
     "data": {
      "image/png": "[encoded data removed]",
      "text/plain": [
       "<Figure size 1000x500 with 1 Axes>"
      ]
     },
     "metadata": {},
     "output_type": "display_data"
    }
   ],
   "source": [
    "# plot geodivision with count \n",
    "plt.figure(figsize=(10,5))\n",
    "sns.barplot(data=df_trc_drop, \n",
    "             x='geodivision',\n",
    "             y='count');"
   ]
  },
  {
   "cell_type": "markdown",
   "id": "1cc8a378-6ff5-42f2-90bb-5d6f05137bff",
   "metadata": {},
   "source": [
    "It is clear from above plot that some division have more reported crimes than others. "
   ]
  },
  {
   "cell_type": "code",
   "execution_count": 29,
   "id": "e8c09aaf-2181-4000-98c6-f9da85f9e6a8",
   "metadata": {},
   "outputs": [
    {
     "data": {
      "image/png": "[encoded data removed]",
      "text/plain": [
       "<Figure size 1000x700 with 1 Axes>"
      ]
     },
     "metadata": {},
     "output_type": "display_data"
    }
   ],
   "source": [
    "# plot category with count \n",
    "plt.figure(figsize=(10,7))\n",
    "sns.barplot(data=df_trc_drop, \n",
    "             y='category',\n",
    "             x='count');"
   ]
  },
  {
   "cell_type": "markdown",
   "id": "87f16c61-8182-47c4-a90d-329b0a70b57c",
   "metadata": {},
   "source": [
    "Crime aginst property is the most reported crime across all years. "
   ]
  },
  {
   "cell_type": "markdown",
   "id": "ee3f0233-bc23-42de-8720-1146eb459381",
   "metadata": {},
   "source": [
    "***"
   ]
  },
  {
   "cell_type": "markdown",
   "id": "64a70313-4807-4ce5-a765-d07e8d550de4",
   "metadata": {},
   "source": [
    "# Helper Functions"
   ]
  },
  {
   "cell_type": "code",
   "execution_count": 625,
   "id": "c93ce2de-3451-4b5d-8632-6abf5dbc225b",
   "metadata": {},
   "outputs": [],
   "source": [
    "# Import modules\n",
    "from sklearn.metrics import r2_score, mean_squared_error\n",
    "import pickle\n",
    "import sys \n",
    "sys.path.append('../../src/')\n",
    "\n",
    "import utilities as utils\n",
    "\n",
    "def save_model_pickle(model, output_file_model, verbose=True):\n",
    "    with open(output_file_model, 'wb') as f_out:\n",
    "        pickle.dump(model, f_out)\n",
    "        if (verbose): print(f' >>> ML model [Saved]: \\n\\t - File: {output_file_model}')\n",
    "        \n",
    "def load_model_pickle(filename_model, verbose=True):\n",
    "    with open(filename_model, 'rb') as f_in:\n",
    "        model = pickle.load(f_in)\n",
    "        if (verbose): print(f' >>> ML model [Loaded]: \\n\\t - File: {filename_model}')\n",
    "    return model\n",
    "\n",
    "def create_randomforest_regmodel(X_train, y_train, X_val, y_val):\n",
    "    # Import module\n",
    "    from sklearn.ensemble import RandomForestRegressor\n",
    "\n",
    "    model_rf_fi = RandomForestRegressor()\n",
    "\n",
    "    model_rf_fi.fit(X_train, y_train)\n",
    "\n",
    "    print(f'>> model score on training data: {round(model_rf_fi.score(X_train, y_train), 4)}')\n",
    "    print(f'>> model score on validation data: {round(model_rf_fi.score(X_val, y_val), 4)}')\n",
    "    \n",
    "    return model_rf_fi\n",
    "\n",
    "\n",
    "def plot_feature_importance(model, X_train, top_n, show=False):\n",
    "    \"\"\"\n",
    "    This funciton works only when the model is RF\n",
    "    \"\"\"\n",
    "    \n",
    "    # Get feature_importance\n",
    "    feature_importances = model_rf_fi.feature_importances_\n",
    "    \n",
    "    # Get indices of features (decreasing order)\n",
    "    indices_all = np.argsort(feature_importances)\n",
    "    indices = np.argsort(feature_importances)[-top_n:]\n",
    "\n",
    "    # Plot feature importance in decreasing order\n",
    "    if (show):\n",
    "        fig, ax = plt.subplots()\n",
    "        if (top_n > 0 or top_n < len(feature_importances)):\n",
    "            ax.barh(range(int(top_n)), feature_importances[indices])\n",
    "            ax.set_yticks(range(int(top_n)))\n",
    "        else:\n",
    "            ax.barh(range(len(feature_importances)), feature_importances[indices])\n",
    "            ax.set_yticks(range(len(feature_importances)))\n",
    "\n",
    "        _ = ax.set_yticklabels(np.array(X_train.columns)[indices])\n",
    "\n",
    "        plt.title(f' Top {top_n} features - decreasing order of importance')\n",
    "        \n",
    "    return np.array(X_train.columns)[indices_all], np.array(X_train.columns)[indices]\n",
    "\n",
    "\n",
    "def get_rsme(y_orig, y_pred, nround=4):\n",
    "    \"\"\"Returns RSME\n",
    "    \"\"\"\n",
    "    return round(np.sqrt(mean_squared_error(y_orig, y_pred)), nround)\n",
    "\n",
    "\n",
    "def get_r2score(y_orig, y_pred, nround=4):\n",
    "    \"\"\"Returns r2 score\n",
    "    \"\"\"\n",
    "    return round(r2_score(y_orig, y_pred), nround)\n",
    "\n",
    "\n",
    "def highlight_minerror_maxscore(s, bg_color='yellow'):\n",
    "    \"\"\"Returns min & max value in DF column (series) based on error or score\n",
    "        - Regressor metrics table - r2score and rmse \n",
    "    \"\"\"\n",
    "    # series name\n",
    "    series_name = s.name\n",
    "\n",
    "    if s.dtype == 'O':\n",
    "        is_min_max = [False for _ in range(s.shape[0])]\n",
    "    else:\n",
    "        if ('r2score' in series_name):\n",
    "            is_min_max = s == s.max()\n",
    "        elif ('rsme' in series_name):\n",
    "            is_min_max = s == s.min()\n",
    "    return [f'background: {bg_color}' if cell else '' for cell in is_min_max]\n",
    "\n",
    "\n",
    "def train_reg(X_train, y_train, \n",
    "              bootstrap=True, ccp_alpha=0.0, \n",
    "              max_depth=None, max_features=1.0, max_leaf_nodes=None, max_samples=None,\n",
    "              random_state=1):\n",
    "    \"\"\"Returns model object using train dataset\n",
    "    \"\"\"\n",
    "    model_object = RandomForestRegressor(bootstrap=bootstrap, ccp_alpha=ccp_alpha, \n",
    "                                         max_depth=max_depth, max_features=max_features, \n",
    "                                         max_leaf_nodes=max_leaf_nodes, max_samples=max_samples,\n",
    "                                         random_state=random_state)\n",
    "    model_object.fit(X_train, y_train)\n",
    "    return model_object\n",
    "\n",
    "\n",
    "def predict_reg(model_name, model_object, X_test):\n",
    "    \"\"\"Returns predictions based on model object and val or test datasets\n",
    "    \"\"\"\n",
    "    # Running predictions on validation dataset\n",
    "    y_pred_out = model_object.predict(X_test)\n",
    "    return y_pred_out\n",
    "\n",
    "\n",
    "def predict_reg_get_metrics(model_name, model_object, X_test, y_test, verbose=True):\n",
    "    \"\"\"Returns predictions and metrics based on model object and val or test datasets\n",
    "    \"\"\"\n",
    "    # Running predictions on validation dataset\n",
    "    y_pred_out = model_object.predict(X_test)\n",
    "    if (verbose): print(len(y_pred_out), len(y_test))\n",
    "    rsme = get_rsme(y_test, y_pred_out)\n",
    "    r2s  = get_r2score(y_test, y_pred_out)\n",
    "    if (verbose): print(f' >> model={model_name} rsme={rsme} r2_score={r2s}')\n",
    "    return rsme, r2s, y_pred_out\n",
    "\n",
    "    \n",
    "def prepare_dataset(df, list_features, target, verbose=True):\n",
    "    \"\"\"\"Returns test-val-train dataset according to the list of features\n",
    "    \"\"\"\n",
    "\n",
    "    # Prepare train-val-test on Important Features\n",
    "    df_train0, df_val0, df_test0 = utils.split_datasets_602020(df[list_features], randstate=11, verbose=verbose)\n",
    "    \n",
    "    df_train00 = df_train0.copy()\n",
    "    df_val00   = df_val0.copy()\n",
    "    df_test00  = df_test0.copy()\n",
    "\n",
    "    # Features and target \n",
    "    X_train, y_train = utils.dataset_into_features_and_target(df_train00, target)\n",
    "    X_val, y_val     = utils.dataset_into_features_and_target(df_val00, target)\n",
    "    X_test, y_test   = utils.dataset_into_features_and_target(df_test00, target)\n",
    "    print(' >> Train:', X_train.shape, len(y_train))\n",
    "    print(' >> Val  :', X_val.shape, len(y_val))\n",
    "    print(' >> Test :', X_test.shape, len(y_test))\n",
    "    \n",
    "    return df_train0, X_train, y_train, df_val0, X_val, y_val, df_test0, X_test, y_test\n",
    "\n",
    "\n",
    "# Count normalized\n",
    "def normalize_target(df, target):\n",
    "    \"\"\"Returns normalized target column in DF\n",
    "    \"\"\"\n",
    "    df_local = df.copy()\n",
    "    \n",
    "    target_max = df_local[target].max()\n",
    "    df_local[target] = df_local[target] / target_max\n",
    "    \n",
    "    return df_local, target_max\n",
    "\n",
    "\n",
    "def standardize_column_names(df):\n",
    "    \"\"\"Returns DF with standardized column names\n",
    "    \"\"\"\n",
    "    df.columns = [colname.lower().replace('_','') if '_' in colname else colname.lower() for colname in df.columns.to_list()]\n",
    "    return df\n",
    "\n",
    "\n",
    "def prepare_features(df, verbose=True):\n",
    "    \"\"\"REturns a new DF with new features used for training model \n",
    "        - Part of Feature Engineering\n",
    "    \"\"\"\n",
    "    df_local = df.copy()\n",
    "    \n",
    "    # Patch-up to prepare correct features DF\n",
    "    df_all = pd.read_csv('Reported Crimes.csv')\n",
    "    df_all = standardize_column_names(df_all)\n",
    "    df_all, list_features_cat = standardize_categorical_features(df_all, verbose)\n",
    "    target_max = df_all['count'].max()\n",
    "    \n",
    "    for feature in list_features_cat:\n",
    "        if (verbose): print('feature:', feature)\n",
    "        for item in df_all[feature].unique():\n",
    "            if (verbose): print(' -- item:',item)\n",
    "            df_local[f'feature_{item}'] = (df_local[feature] == item).astype('int')\n",
    "\n",
    "        del df_local[feature]\n",
    "\n",
    "    # Drop count (as we will use count_log as target)\n",
    "    if ('countlog' in df_local.columns.to_list()):\n",
    "        del df_local['countlog']\n",
    "    \n",
    "    return df_local, target_max\n",
    "\n",
    "def standardize_categorical_features(df, verbose=True):\n",
    "    \"\"\"Returns a standardized DF and list of cat features\n",
    "    \"\"\"    \n",
    "    df_local = df.copy()\n",
    "    \n",
    "    # Find string columns and standardize values\n",
    "    list_features_cat = df_local.dtypes[df_local.dtypes == 'O'].index.to_list()\n",
    "    if (verbose): print(list_features_cat)\n",
    "\n",
    "    for col in list_features_cat:\n",
    "        df_local[col] = df_local[col].apply(lambda x: x.lower().replace(' ','_'))\n",
    "    \n",
    "    return df_local, list_features_cat\n",
    "\n",
    "def prepare_for_prediction(X_dict):\n",
    "    \"\"\"Returns DF that is expected by predict_reg function\n",
    "    \"\"\"\n",
    "    df_pred_test = pd.DataFrame.from_dict(X_dict, orient='index').T\n",
    "    df_pred_test = df_pred_test.infer_objects()\n",
    "    df_pred_test, list_features_cat = standardize_categorical_features(df_pred_test, verbose=False)\n",
    "    df_pred_test, target_max = prepare_features(df_pred_test, verbose=False)\n",
    "    return df_pred_test, target_max\n",
    "\n",
    "def kfold_reg_randomforestregressor(df_train_full, target_feature, nsplits, list_param):\n",
    "    # Kfold CV\n",
    "    kfold = KFold(n_splits=nsplits, random_state=1, shuffle=True)\n",
    "    \n",
    "    # Loop over C - regulariztion param in Log.Regression\n",
    "    for param in tqdm(list_param, total=len(list_param)):\n",
    "\n",
    "        scores = [] \n",
    "\n",
    "        for train_idx, val_idx in kfold.split(df_train_full):\n",
    "\n",
    "            df_train = df_train_full.iloc[train_idx]\n",
    "            df_val = df_train_full.iloc[val_idx]\n",
    "\n",
    "            y_train = df_train[target_feature].values\n",
    "            y_val = df_val[target_feature].values\n",
    "\n",
    "            model = train_reg(df_train, y_train, max_depth=param)\n",
    "            rsme, r2s, y_pred = predict_reg_get_metrics(\"RandomForestRegressor\", model, df_val, y_val)\n",
    "            scores.append(r2s)\n",
    "\n",
    "        print(f'param={param} score_mean={np.mean(scores)*100:.3f}, score_std={np.std(scores)*100:.3f}')\n",
    "        \n",
    "    return scores"
   ]
  },
  {
   "cell_type": "markdown",
   "id": "f76e1e4b-f953-4d3a-93e0-95b208194f5d",
   "metadata": {},
   "source": [
    "***"
   ]
  },
  {
   "cell_type": "markdown",
   "id": "a2ab88fb-76a9-4ec7-b5d0-630cf5d002e3",
   "metadata": {
    "tags": []
   },
   "source": [
    "# Prepare features "
   ]
  },
  {
   "cell_type": "code",
   "execution_count": 485,
   "id": "6f9d5112-9a47-44f5-b6bf-be452d785bb3",
   "metadata": {},
   "outputs": [],
   "source": [
    "# Create a duplicate to avoid reload/kernel restart\n",
    "df_copy = df_trc_drop.copy()"
   ]
  },
  {
   "cell_type": "markdown",
   "id": "f41de747-ea93-429d-9e7f-41c6a63760f4",
   "metadata": {},
   "source": [
    "## Standardize column names"
   ]
  },
  {
   "cell_type": "code",
   "execution_count": 486,
   "id": "4c3d0657-2b2e-4301-b014-5a24ce225cbb",
   "metadata": {},
   "outputs": [],
   "source": [
    "# call standardize column name sfunctioan\n",
    "df_copy = standardize_column_names(df_copy)"
   ]
  },
  {
   "cell_type": "markdown",
   "id": "80208326-bf0c-4e97-9204-e74f3fc9495a",
   "metadata": {},
   "source": [
    "## Standardize categorical features "
   ]
  },
  {
   "cell_type": "code",
   "execution_count": 487,
   "id": "8f70caa3-a160-44df-9417-664502cecc5e",
   "metadata": {},
   "outputs": [],
   "source": [
    "# Call standadizing function\n",
    "df_copy, list_features_cat = standardize_categorical_features(df_copy)"
   ]
  },
  {
   "cell_type": "markdown",
   "id": "0b40e0b4-01b8-4e99-acd9-f30f6f128d84",
   "metadata": {},
   "source": [
    "## Normalize target for training"
   ]
  },
  {
   "cell_type": "code",
   "execution_count": 488,
   "id": "58844d92-b772-46d4-8050-598444094e4b",
   "metadata": {},
   "outputs": [],
   "source": [
    "# Call normlize target function\n",
    "df_copy, target_max = normalize_target(df_copy, 'count')"
   ]
  },
  {
   "cell_type": "code",
   "execution_count": 489,
   "id": "4d93ed26-aa99-4899-926e-f1a30926311e",
   "metadata": {},
   "outputs": [
    {
     "data": {
      "text/html": [
       "<div>\n",
       "<style scoped>\n",
       "    .dataframe tbody tr th:only-of-type {\n",
       "        vertical-align: middle;\n",
       "    }\n",
       "\n",
       "    .dataframe tbody tr th {\n",
       "        vertical-align: top;\n",
       "    }\n",
       "\n",
       "    .dataframe thead th {\n",
       "        text-align: right;\n",
       "    }\n",
       "</style>\n",
       "<table border=\"1\" class=\"dataframe\">\n",
       "  <thead>\n",
       "    <tr style=\"text-align: right;\">\n",
       "      <th></th>\n",
       "      <th>reportedyear</th>\n",
       "      <th>geodivision</th>\n",
       "      <th>category</th>\n",
       "      <th>subtype</th>\n",
       "      <th>count</th>\n",
       "      <th>countlog</th>\n",
       "    </tr>\n",
       "  </thead>\n",
       "  <tbody>\n",
       "    <tr>\n",
       "      <th>0</th>\n",
       "      <td>2014</td>\n",
       "      <td>d11</td>\n",
       "      <td>controlled_drugs_and_substances_act</td>\n",
       "      <td>other</td>\n",
       "      <td>0.027701</td>\n",
       "      <td>5.308268</td>\n",
       "    </tr>\n",
       "    <tr>\n",
       "      <th>1</th>\n",
       "      <td>2014</td>\n",
       "      <td>d11</td>\n",
       "      <td>crimes_against_property</td>\n",
       "      <td>auto_theft</td>\n",
       "      <td>0.017089</td>\n",
       "      <td>4.828314</td>\n",
       "    </tr>\n",
       "    <tr>\n",
       "      <th>2</th>\n",
       "      <td>2014</td>\n",
       "      <td>d11</td>\n",
       "      <td>crimes_against_property</td>\n",
       "      <td>break_&amp;_enter-apartment</td>\n",
       "      <td>0.011714</td>\n",
       "      <td>4.454347</td>\n",
       "    </tr>\n",
       "    <tr>\n",
       "      <th>3</th>\n",
       "      <td>2014</td>\n",
       "      <td>d11</td>\n",
       "      <td>crimes_against_property</td>\n",
       "      <td>break_&amp;_enter-commercial</td>\n",
       "      <td>0.007993</td>\n",
       "      <td>4.077537</td>\n",
       "    </tr>\n",
       "    <tr>\n",
       "      <th>4</th>\n",
       "      <td>2014</td>\n",
       "      <td>d11</td>\n",
       "      <td>crimes_against_property</td>\n",
       "      <td>break_&amp;_enter-house</td>\n",
       "      <td>0.012266</td>\n",
       "      <td>4.499810</td>\n",
       "    </tr>\n",
       "  </tbody>\n",
       "</table>\n",
       "</div>"
      ],
      "text/plain": [
       "   reportedyear geodivision                             category  \\\n",
       "0          2014         d11  controlled_drugs_and_substances_act   \n",
       "1          2014         d11              crimes_against_property   \n",
       "2          2014         d11              crimes_against_property   \n",
       "3          2014         d11              crimes_against_property   \n",
       "4          2014         d11              crimes_against_property   \n",
       "\n",
       "                    subtype     count  countlog  \n",
       "0                     other  0.027701  5.308268  \n",
       "1                auto_theft  0.017089  4.828314  \n",
       "2   break_&_enter-apartment  0.011714  4.454347  \n",
       "3  break_&_enter-commercial  0.007993  4.077537  \n",
       "4       break_&_enter-house  0.012266  4.499810  "
      ]
     },
     "execution_count": 489,
     "metadata": {},
     "output_type": "execute_result"
    }
   ],
   "source": [
    "df_copy.head()"
   ]
  },
  {
   "cell_type": "code",
   "execution_count": 490,
   "id": "b20ece7d-34c8-4ae4-a0c2-6210f7a7b9e1",
   "metadata": {},
   "outputs": [
    {
     "data": {
      "text/plain": [
       "7256"
      ]
     },
     "execution_count": 490,
     "metadata": {},
     "output_type": "execute_result"
    }
   ],
   "source": [
    "target_max"
   ]
  },
  {
   "cell_type": "markdown",
   "id": "20e40fde-9ea8-466a-9b66-0ae5f4cc1982",
   "metadata": {},
   "source": [
    "## Convert categorical features into numerical "
   ]
  },
  {
   "cell_type": "code",
   "execution_count": 491,
   "id": "fe3b7bd0-439c-499c-bbb5-f38545a6230c",
   "metadata": {},
   "outputs": [
    {
     "name": "stdout",
     "output_type": "stream",
     "text": [
      "feature: geodivision\n",
      " -- item: d11\n",
      " -- item: d12\n",
      " -- item: d13\n",
      " -- item: d42\n",
      " -- item: d43\n",
      " -- item: d51\n",
      " -- item: d23\n",
      " -- item: d31\n",
      " -- item: d32\n",
      " -- item: d52\n",
      " -- item: d53\n",
      " -- item: d54/d55\n",
      " -- item: d33\n",
      " -- item: d41\n",
      " -- item: d14\n",
      " -- item: nsa\n",
      " -- item: d22\n",
      "feature: category\n",
      " -- item: controlled_drugs_and_substances_act\n",
      " -- item: crimes_against_property\n",
      " -- item: crimes_against_the_person\n",
      " -- item: criminal_code_traffic\n",
      " -- item: other_criminal_code_violations\n",
      " -- item: other_federal_statute_violations\n",
      "feature: subtype\n",
      " -- item: other\n",
      " -- item: auto_theft\n",
      " -- item: break_&_enter-apartment\n",
      " -- item: break_&_enter-commercial\n",
      " -- item: break_&_enter-house\n",
      " -- item: break_&_enter-other\n",
      " -- item: fraud\n",
      " -- item: theft_over_$5000\n",
      " -- item: theft_under_$5000\n",
      " -- item: assault\n",
      " -- item: attempt_murder\n",
      " -- item: robbery-financial\n",
      " -- item: robbery-other\n",
      " -- item: sexual_violation\n",
      " -- item: other_criminal_violations_-_offensive_weapons\n"
     ]
    }
   ],
   "source": [
    "# Call prepare_features function \n",
    "df_copy, target_max = prepare_features(df_copy, list_features_cat)"
   ]
  },
  {
   "cell_type": "code",
   "execution_count": 492,
   "id": "74f3db1e-7640-4481-a99f-948f2b179d0a",
   "metadata": {},
   "outputs": [
    {
     "data": {
      "text/plain": [
       "0"
      ]
     },
     "execution_count": 492,
     "metadata": {},
     "output_type": "execute_result"
    }
   ],
   "source": [
    "# Check for null values \n",
    "df_copy.isnull().sum().sum()"
   ]
  },
  {
   "cell_type": "code",
   "execution_count": 493,
   "id": "a9f49f46-0ddc-4f7a-859c-d14167e4bd71",
   "metadata": {},
   "outputs": [
    {
     "data": {
      "text/plain": [
       "(2701, 40)"
      ]
     },
     "execution_count": 493,
     "metadata": {},
     "output_type": "execute_result"
    }
   ],
   "source": [
    "# Check the new DF size\n",
    "df_copy.shape"
   ]
  },
  {
   "cell_type": "code",
   "execution_count": 494,
   "id": "aa0968bd-cb85-4a75-b0eb-022409ab8e19",
   "metadata": {},
   "outputs": [
    {
     "data": {
      "text/plain": [
       "Index(['reportedyear', 'count', 'feature_d11', 'feature_d12', 'feature_d13',\n",
       "       'feature_d42', 'feature_d43', 'feature_d51', 'feature_d23',\n",
       "       'feature_d31', 'feature_d32', 'feature_d52', 'feature_d53',\n",
       "       'feature_d54/d55', 'feature_d33', 'feature_d41', 'feature_d14',\n",
       "       'feature_nsa', 'feature_d22',\n",
       "       'feature_controlled_drugs_and_substances_act',\n",
       "       'feature_crimes_against_property', 'feature_crimes_against_the_person',\n",
       "       'feature_criminal_code_traffic',\n",
       "       'feature_other_criminal_code_violations',\n",
       "       'feature_other_federal_statute_violations', 'feature_other',\n",
       "       'feature_auto_theft', 'feature_break_&_enter-apartment',\n",
       "       'feature_break_&_enter-commercial', 'feature_break_&_enter-house',\n",
       "       'feature_break_&_enter-other', 'feature_fraud',\n",
       "       'feature_theft_over_$5000', 'feature_theft_under_$5000',\n",
       "       'feature_assault', 'feature_attempt_murder',\n",
       "       'feature_robbery-financial', 'feature_robbery-other',\n",
       "       'feature_sexual_violation',\n",
       "       'feature_other_criminal_violations_-_offensive_weapons'],\n",
       "      dtype='object')"
      ]
     },
     "execution_count": 494,
     "metadata": {},
     "output_type": "execute_result"
    }
   ],
   "source": [
    "df_copy.columns"
   ]
  },
  {
   "cell_type": "markdown",
   "id": "ecddba60-1372-4206-bf79-23f391b79a5d",
   "metadata": {},
   "source": [
    "Now, we have 39 features to work with. But, not all features will be useful for modeling. So, we will try to identify top10 features that have high importance and use them for identifying the best performing model out of a selected few. Later, use finalize a model with the a set no. of features. "
   ]
  },
  {
   "cell_type": "markdown",
   "id": "e982c82a-0326-4827-8405-49b541e10991",
   "metadata": {},
   "source": [
    "***"
   ]
  },
  {
   "cell_type": "markdown",
   "id": "5821376c-3e50-4604-b71a-dba0740a2faf",
   "metadata": {},
   "source": [
    "# Feature Importance\n",
    "In this section, we will identify top10 features that have a large impact towards predicting total reported crimes using the `feature_importance_` method in **RandomForest Regressor** algorithm."
   ]
  },
  {
   "cell_type": "markdown",
   "id": "0dcfcafc-09ab-49c7-973e-89be573ca0e5",
   "metadata": {},
   "source": [
    "## Prepare Dataset - Test-Train split for Features Importance"
   ]
  },
  {
   "cell_type": "code",
   "execution_count": 433,
   "id": "880ddb15-a0d8-4b87-80d1-e8b64ea57dfc",
   "metadata": {},
   "outputs": [
    {
     "name": "stdout",
     "output_type": "stream",
     "text": [
      " Split lengths: 1620 540 541\n",
      " Split %: 59.98,                       19.99,                       20.03\n",
      " >> Train: (1620, 39) 1620\n",
      " >> Val  : (540, 39) 540\n",
      " >> Test : (541, 39) 541\n"
     ]
    }
   ],
   "source": [
    "# Test-Train Split\n",
    "df_train, X_train, y_train, df_val, X_val, y_val, df_test, X_test, y_test = prepare_dataset(df_copy, df_copy.columns.to_list(), target='count', verbose=True)"
   ]
  },
  {
   "cell_type": "markdown",
   "id": "61ad6911-9a12-4832-a6a8-44e51d9c7f00",
   "metadata": {},
   "source": [
    "## Model - Random Forest for Feature Importance"
   ]
  },
  {
   "cell_type": "code",
   "execution_count": 434,
   "id": "db12a56c-d050-4b52-9bec-6ad78a974d37",
   "metadata": {
    "tags": []
   },
   "outputs": [
    {
     "name": "stdout",
     "output_type": "stream",
     "text": [
      ">> model score on training data: 0.9923\n",
      ">> model score on validation data: 0.9516\n"
     ]
    }
   ],
   "source": [
    "# Call func to create RF regressor \n",
    "model_rf_fi = create_randomforest_regmodel(X_train, y_train, X_val, y_val)"
   ]
  },
  {
   "cell_type": "code",
   "execution_count": 435,
   "id": "a8046f21-bb95-49ea-8fde-eebbace0f405",
   "metadata": {},
   "outputs": [
    {
     "data": {
      "image/png": "[encoded data removed]",
      "text/plain": [
       "<Figure size 640x480 with 1 Axes>"
      ]
     },
     "metadata": {},
     "output_type": "display_data"
    }
   ],
   "source": [
    "# Plot important features and their corr \n",
    "features_imp_all, features_imp = plot_feature_importance(model_rf_fi, X_train, top_n=10, show=True)\n",
    "\n",
    "# Append target=count to features_imp\n",
    "features_imp = np.append(features_imp, 'count')\n",
    "features_imp_all = np.append(features_imp_all, 'count')"
   ]
  },
  {
   "cell_type": "code",
   "execution_count": 436,
   "id": "802db8b6-eb45-48e3-b1c0-e710914e9e49",
   "metadata": {},
   "outputs": [
    {
     "data": {
      "text/plain": [
       "<AxesSubplot:>"
      ]
     },
     "execution_count": 436,
     "metadata": {},
     "output_type": "execute_result"
    },
    {
     "data": {
      "image/png": "[encoded data removed]",
      "text/plain": [
       "<Figure size 1500x1500 with 2 Axes>"
      ]
     },
     "metadata": {},
     "output_type": "display_data"
    }
   ],
   "source": [
    "# Plot heatmpa of correlation matrix\n",
    "plt.figure(figsize=(15, 15))\n",
    "sns.heatmap(df_copy[features_imp].corr(), cmap=\"Blues\", annot=True)"
   ]
  },
  {
   "cell_type": "markdown",
   "id": "c3fb219c-2ce8-4a38-aecb-83110bb3c2bd",
   "metadata": {},
   "source": [
    "# Models - Train & Validation dataset\n",
    "Now that we know the top_n (10 in our case) features that have a higher impact in predicting the `target= count (total crime count)`, let's try out training different models and see how these models will do on validation dataset. "
   ]
  },
  {
   "cell_type": "code",
   "execution_count": 437,
   "id": "7e2888f8-5cbe-4cc2-9f57-f6b66b3a6851",
   "metadata": {},
   "outputs": [],
   "source": [
    "from sklearn.linear_model import LinearRegression, Ridge, Lasso\n",
    "from sklearn.svm import SVR\n",
    "from sklearn.ensemble import GradientBoostingRegressor, RandomForestRegressor"
   ]
  },
  {
   "cell_type": "markdown",
   "id": "030c799f-7835-4086-a25f-09646619c6dd",
   "metadata": {},
   "source": [
    "## Prepare Dataset - Test-Train split with Imp Features"
   ]
  },
  {
   "cell_type": "code",
   "execution_count": 438,
   "id": "e23040f7-6147-474c-9c6f-39cbde4d4e11",
   "metadata": {},
   "outputs": [
    {
     "data": {
      "text/plain": [
       "array(['feature_fraud', 'feature_other',\n",
       "       'feature_crimes_against_property',\n",
       "       'feature_other_criminal_code_violations', 'reportedyear',\n",
       "       'feature_d51', 'feature_d52', 'feature_nsa', 'feature_assault',\n",
       "       'feature_theft_under_$5000', 'count'], dtype=object)"
      ]
     },
     "execution_count": 438,
     "metadata": {},
     "output_type": "execute_result"
    }
   ],
   "source": [
    "features_imp"
   ]
  },
  {
   "cell_type": "code",
   "execution_count": 439,
   "id": "3b15ed54-716c-4733-9fa7-465adeebd895",
   "metadata": {},
   "outputs": [
    {
     "name": "stdout",
     "output_type": "stream",
     "text": [
      " Split lengths: 1620 540 541\n",
      " Split %: 59.98,                       19.99,                       20.03\n",
      " >> Train: (1620, 10) 1620\n",
      " >> Val  : (540, 10) 540\n",
      " >> Test : (541, 10) 541\n"
     ]
    }
   ],
   "source": [
    "# Prepare dataset uisng 10 imp. features \n",
    "target = 'count'\n",
    "df_train_imp, X_train_imp, y_train_imp, df_val_imp, X_val_imp, y_val_imp, df_test_imp, X_test_imp, y_test_imp = prepare_dataset(df_copy, list(features_imp), target)"
   ]
  },
  {
   "cell_type": "markdown",
   "id": "527ce64b-35ac-4b71-a5ef-d7ae70b36e3d",
   "metadata": {},
   "source": [
    "## Linear regression"
   ]
  },
  {
   "cell_type": "code",
   "execution_count": 440,
   "id": "f3401b48-80c0-4dce-9ae3-532c792974cb",
   "metadata": {},
   "outputs": [
    {
     "data": {
      "text/html": [
       "<style>#sk-container-id-15 {color: black;background-color: white;}#sk-container-id-15 pre{padding: 0;}#sk-container-id-15 div.sk-toggleable {background-color: white;}#sk-container-id-15 label.sk-toggleable__label {cursor: pointer;display: block;width: 100%;margin-bottom: 0;padding: 0.3em;box-sizing: border-box;text-align: center;}#sk-container-id-15 label.sk-toggleable__label-arrow:before {content: \"▸\";float: left;margin-right: 0.25em;color: #696969;}#sk-container-id-15 label.sk-toggleable__label-arrow:hover:before {color: black;}#sk-container-id-15 div.sk-estimator:hover label.sk-toggleable__label-arrow:before {color: black;}#sk-container-id-15 div.sk-toggleable__content {max-height: 0;max-width: 0;overflow: hidden;text-align: left;background-color: #f0f8ff;}#sk-container-id-15 div.sk-toggleable__content pre {margin: 0.2em;color: black;border-radius: 0.25em;background-color: #f0f8ff;}#sk-container-id-15 input.sk-toggleable__control:checked~div.sk-toggleable__content {max-height: 200px;max-width: 100%;overflow: auto;}#sk-container-id-15 input.sk-toggleable__control:checked~label.sk-toggleable__label-arrow:before {content: \"▾\";}#sk-container-id-15 div.sk-estimator input.sk-toggleable__control:checked~label.sk-toggleable__label {background-color: #d4ebff;}#sk-container-id-15 div.sk-label input.sk-toggleable__control:checked~label.sk-toggleable__label {background-color: #d4ebff;}#sk-container-id-15 input.sk-hidden--visually {border: 0;clip: rect(1px 1px 1px 1px);clip: rect(1px, 1px, 1px, 1px);height: 1px;margin: -1px;overflow: hidden;padding: 0;position: absolute;width: 1px;}#sk-container-id-15 div.sk-estimator {font-family: monospace;background-color: #f0f8ff;border: 1px dotted black;border-radius: 0.25em;box-sizing: border-box;margin-bottom: 0.5em;}#sk-container-id-15 div.sk-estimator:hover {background-color: #d4ebff;}#sk-container-id-15 div.sk-parallel-item::after {content: \"\";width: 100%;border-bottom: 1px solid gray;flex-grow: 1;}#sk-container-id-15 div.sk-label:hover label.sk-toggleable__label {background-color: #d4ebff;}#sk-container-id-15 div.sk-serial::before {content: \"\";position: absolute;border-left: 1px solid gray;box-sizing: border-box;top: 0;bottom: 0;left: 50%;z-index: 0;}#sk-container-id-15 div.sk-serial {display: flex;flex-direction: column;align-items: center;background-color: white;padding-right: 0.2em;padding-left: 0.2em;position: relative;}#sk-container-id-15 div.sk-item {position: relative;z-index: 1;}#sk-container-id-15 div.sk-parallel {display: flex;align-items: stretch;justify-content: center;background-color: white;position: relative;}#sk-container-id-15 div.sk-item::before, #sk-container-id-15 div.sk-parallel-item::before {content: \"\";position: absolute;border-left: 1px solid gray;box-sizing: border-box;top: 0;bottom: 0;left: 50%;z-index: -1;}#sk-container-id-15 div.sk-parallel-item {display: flex;flex-direction: column;z-index: 1;position: relative;background-color: white;}#sk-container-id-15 div.sk-parallel-item:first-child::after {align-self: flex-end;width: 50%;}#sk-container-id-15 div.sk-parallel-item:last-child::after {align-self: flex-start;width: 50%;}#sk-container-id-15 div.sk-parallel-item:only-child::after {width: 0;}#sk-container-id-15 div.sk-dashed-wrapped {border: 1px dashed gray;margin: 0 0.4em 0.5em 0.4em;box-sizing: border-box;padding-bottom: 0.4em;background-color: white;}#sk-container-id-15 div.sk-label label {font-family: monospace;font-weight: bold;display: inline-block;line-height: 1.2em;}#sk-container-id-15 div.sk-label-container {text-align: center;}#sk-container-id-15 div.sk-container {/* jupyter's `normalize.less` sets `[hidden] { display: none; }` but bootstrap.min.css set `[hidden] { display: none !important; }` so we also need the `!important` here to be able to override the default hidden behavior on the sphinx rendered scikit-learn.org. See: https://github.com/scikit-learn/scikit-learn/issues/21755 */display: inline-block !important;position: relative;}#sk-container-id-15 div.sk-text-repr-fallback {display: none;}</style><div id=\"sk-container-id-15\" class=\"sk-top-container\"><div class=\"sk-text-repr-fallback\"><pre>LinearRegression()</pre><b>In a Jupyter environment, please rerun this cell to show the HTML representation or trust the notebook. <br />On GitHub, the HTML representation is unable to render, please try loading this page with nbviewer.org.</b></div><div class=\"sk-container\" hidden><div class=\"sk-item\"><div class=\"sk-estimator sk-toggleable\"><input class=\"sk-toggleable__control sk-hidden--visually\" id=\"sk-estimator-id-19\" type=\"checkbox\" checked><label for=\"sk-estimator-id-19\" class=\"sk-toggleable__label sk-toggleable__label-arrow\">LinearRegression</label><div class=\"sk-toggleable__content\"><pre>LinearRegression()</pre></div></div></div></div></div>"
      ],
      "text/plain": [
       "LinearRegression()"
      ]
     },
     "execution_count": 440,
     "metadata": {},
     "output_type": "execute_result"
    }
   ],
   "source": [
    "model_linear = LinearRegression()\n",
    "model_linear.fit(X_train_imp, y_train_imp)"
   ]
  },
  {
   "cell_type": "markdown",
   "id": "bdeb3f6e-fa56-4017-a14c-d0bc9c4229e6",
   "metadata": {},
   "source": [
    "## Prediction on Train Dataset"
   ]
  },
  {
   "cell_type": "code",
   "execution_count": 441,
   "id": "f44b9302-ce2b-4f27-a348-a262b7cb8497",
   "metadata": {},
   "outputs": [
    {
     "name": "stdout",
     "output_type": "stream",
     "text": [
      "1620 1620\n",
      " >> model=LinearRegression (Train) rsme=0.0485 r2_score=0.7208\n"
     ]
    }
   ],
   "source": [
    "# train dataset\n",
    "rsme, r2s, y_pred = predict_reg_get_metrics(\"LinearRegression (Train)\", model_linear, X_train_imp, y_train_imp)"
   ]
  },
  {
   "cell_type": "markdown",
   "id": "5a4550ce-d4dd-4a5f-b911-179a2089f29e",
   "metadata": {},
   "source": [
    "## Prediction on Validation dataset"
   ]
  },
  {
   "cell_type": "code",
   "execution_count": 442,
   "id": "35a260ab-4e90-4724-8538-b1075b49324b",
   "metadata": {},
   "outputs": [
    {
     "name": "stdout",
     "output_type": "stream",
     "text": [
      "540 540\n",
      " >> model=LinearRegression (Val) rsme=0.0463 r2_score=0.7039\n"
     ]
    }
   ],
   "source": [
    "# Val datasest\n",
    "rsme, r2s, y_pred = predict_reg_get_metrics(\"LinearRegression (Val)\", model_linear, X_val_imp, y_val_imp)"
   ]
  },
  {
   "cell_type": "markdown",
   "id": "efa16a2b-b30c-4b47-ade1-e9565a7d3d14",
   "metadata": {},
   "source": [
    "## Ridge regression"
   ]
  },
  {
   "cell_type": "code",
   "execution_count": 443,
   "id": "e45fd250-b42c-421d-9292-3bd4c6d62808",
   "metadata": {},
   "outputs": [
    {
     "data": {
      "text/html": [
       "<style>#sk-container-id-16 {color: black;background-color: white;}#sk-container-id-16 pre{padding: 0;}#sk-container-id-16 div.sk-toggleable {background-color: white;}#sk-container-id-16 label.sk-toggleable__label {cursor: pointer;display: block;width: 100%;margin-bottom: 0;padding: 0.3em;box-sizing: border-box;text-align: center;}#sk-container-id-16 label.sk-toggleable__label-arrow:before {content: \"▸\";float: left;margin-right: 0.25em;color: #696969;}#sk-container-id-16 label.sk-toggleable__label-arrow:hover:before {color: black;}#sk-container-id-16 div.sk-estimator:hover label.sk-toggleable__label-arrow:before {color: black;}#sk-container-id-16 div.sk-toggleable__content {max-height: 0;max-width: 0;overflow: hidden;text-align: left;background-color: #f0f8ff;}#sk-container-id-16 div.sk-toggleable__content pre {margin: 0.2em;color: black;border-radius: 0.25em;background-color: #f0f8ff;}#sk-container-id-16 input.sk-toggleable__control:checked~div.sk-toggleable__content {max-height: 200px;max-width: 100%;overflow: auto;}#sk-container-id-16 input.sk-toggleable__control:checked~label.sk-toggleable__label-arrow:before {content: \"▾\";}#sk-container-id-16 div.sk-estimator input.sk-toggleable__control:checked~label.sk-toggleable__label {background-color: #d4ebff;}#sk-container-id-16 div.sk-label input.sk-toggleable__control:checked~label.sk-toggleable__label {background-color: #d4ebff;}#sk-container-id-16 input.sk-hidden--visually {border: 0;clip: rect(1px 1px 1px 1px);clip: rect(1px, 1px, 1px, 1px);height: 1px;margin: -1px;overflow: hidden;padding: 0;position: absolute;width: 1px;}#sk-container-id-16 div.sk-estimator {font-family: monospace;background-color: #f0f8ff;border: 1px dotted black;border-radius: 0.25em;box-sizing: border-box;margin-bottom: 0.5em;}#sk-container-id-16 div.sk-estimator:hover {background-color: #d4ebff;}#sk-container-id-16 div.sk-parallel-item::after {content: \"\";width: 100%;border-bottom: 1px solid gray;flex-grow: 1;}#sk-container-id-16 div.sk-label:hover label.sk-toggleable__label {background-color: #d4ebff;}#sk-container-id-16 div.sk-serial::before {content: \"\";position: absolute;border-left: 1px solid gray;box-sizing: border-box;top: 0;bottom: 0;left: 50%;z-index: 0;}#sk-container-id-16 div.sk-serial {display: flex;flex-direction: column;align-items: center;background-color: white;padding-right: 0.2em;padding-left: 0.2em;position: relative;}#sk-container-id-16 div.sk-item {position: relative;z-index: 1;}#sk-container-id-16 div.sk-parallel {display: flex;align-items: stretch;justify-content: center;background-color: white;position: relative;}#sk-container-id-16 div.sk-item::before, #sk-container-id-16 div.sk-parallel-item::before {content: \"\";position: absolute;border-left: 1px solid gray;box-sizing: border-box;top: 0;bottom: 0;left: 50%;z-index: -1;}#sk-container-id-16 div.sk-parallel-item {display: flex;flex-direction: column;z-index: 1;position: relative;background-color: white;}#sk-container-id-16 div.sk-parallel-item:first-child::after {align-self: flex-end;width: 50%;}#sk-container-id-16 div.sk-parallel-item:last-child::after {align-self: flex-start;width: 50%;}#sk-container-id-16 div.sk-parallel-item:only-child::after {width: 0;}#sk-container-id-16 div.sk-dashed-wrapped {border: 1px dashed gray;margin: 0 0.4em 0.5em 0.4em;box-sizing: border-box;padding-bottom: 0.4em;background-color: white;}#sk-container-id-16 div.sk-label label {font-family: monospace;font-weight: bold;display: inline-block;line-height: 1.2em;}#sk-container-id-16 div.sk-label-container {text-align: center;}#sk-container-id-16 div.sk-container {/* jupyter's `normalize.less` sets `[hidden] { display: none; }` but bootstrap.min.css set `[hidden] { display: none !important; }` so we also need the `!important` here to be able to override the default hidden behavior on the sphinx rendered scikit-learn.org. See: https://github.com/scikit-learn/scikit-learn/issues/21755 */display: inline-block !important;position: relative;}#sk-container-id-16 div.sk-text-repr-fallback {display: none;}</style><div id=\"sk-container-id-16\" class=\"sk-top-container\"><div class=\"sk-text-repr-fallback\"><pre>Ridge()</pre><b>In a Jupyter environment, please rerun this cell to show the HTML representation or trust the notebook. <br />On GitHub, the HTML representation is unable to render, please try loading this page with nbviewer.org.</b></div><div class=\"sk-container\" hidden><div class=\"sk-item\"><div class=\"sk-estimator sk-toggleable\"><input class=\"sk-toggleable__control sk-hidden--visually\" id=\"sk-estimator-id-20\" type=\"checkbox\" checked><label for=\"sk-estimator-id-20\" class=\"sk-toggleable__label sk-toggleable__label-arrow\">Ridge</label><div class=\"sk-toggleable__content\"><pre>Ridge()</pre></div></div></div></div></div>"
      ],
      "text/plain": [
       "Ridge()"
      ]
     },
     "execution_count": 443,
     "metadata": {},
     "output_type": "execute_result"
    }
   ],
   "source": [
    "model_ridge = Ridge()\n",
    "model_ridge.fit(X_train_imp, y_train_imp)"
   ]
  },
  {
   "cell_type": "markdown",
   "id": "fb1f2784-2fd1-4cc8-ad74-abe913cfbad5",
   "metadata": {},
   "source": [
    "## Gradient Boosting regression"
   ]
  },
  {
   "cell_type": "code",
   "execution_count": 444,
   "id": "90f5137d-1ece-4b23-b40c-b21d2f403283",
   "metadata": {},
   "outputs": [
    {
     "data": {
      "text/html": [
       "<style>#sk-container-id-17 {color: black;background-color: white;}#sk-container-id-17 pre{padding: 0;}#sk-container-id-17 div.sk-toggleable {background-color: white;}#sk-container-id-17 label.sk-toggleable__label {cursor: pointer;display: block;width: 100%;margin-bottom: 0;padding: 0.3em;box-sizing: border-box;text-align: center;}#sk-container-id-17 label.sk-toggleable__label-arrow:before {content: \"▸\";float: left;margin-right: 0.25em;color: #696969;}#sk-container-id-17 label.sk-toggleable__label-arrow:hover:before {color: black;}#sk-container-id-17 div.sk-estimator:hover label.sk-toggleable__label-arrow:before {color: black;}#sk-container-id-17 div.sk-toggleable__content {max-height: 0;max-width: 0;overflow: hidden;text-align: left;background-color: #f0f8ff;}#sk-container-id-17 div.sk-toggleable__content pre {margin: 0.2em;color: black;border-radius: 0.25em;background-color: #f0f8ff;}#sk-container-id-17 input.sk-toggleable__control:checked~div.sk-toggleable__content {max-height: 200px;max-width: 100%;overflow: auto;}#sk-container-id-17 input.sk-toggleable__control:checked~label.sk-toggleable__label-arrow:before {content: \"▾\";}#sk-container-id-17 div.sk-estimator input.sk-toggleable__control:checked~label.sk-toggleable__label {background-color: #d4ebff;}#sk-container-id-17 div.sk-label input.sk-toggleable__control:checked~label.sk-toggleable__label {background-color: #d4ebff;}#sk-container-id-17 input.sk-hidden--visually {border: 0;clip: rect(1px 1px 1px 1px);clip: rect(1px, 1px, 1px, 1px);height: 1px;margin: -1px;overflow: hidden;padding: 0;position: absolute;width: 1px;}#sk-container-id-17 div.sk-estimator {font-family: monospace;background-color: #f0f8ff;border: 1px dotted black;border-radius: 0.25em;box-sizing: border-box;margin-bottom: 0.5em;}#sk-container-id-17 div.sk-estimator:hover {background-color: #d4ebff;}#sk-container-id-17 div.sk-parallel-item::after {content: \"\";width: 100%;border-bottom: 1px solid gray;flex-grow: 1;}#sk-container-id-17 div.sk-label:hover label.sk-toggleable__label {background-color: #d4ebff;}#sk-container-id-17 div.sk-serial::before {content: \"\";position: absolute;border-left: 1px solid gray;box-sizing: border-box;top: 0;bottom: 0;left: 50%;z-index: 0;}#sk-container-id-17 div.sk-serial {display: flex;flex-direction: column;align-items: center;background-color: white;padding-right: 0.2em;padding-left: 0.2em;position: relative;}#sk-container-id-17 div.sk-item {position: relative;z-index: 1;}#sk-container-id-17 div.sk-parallel {display: flex;align-items: stretch;justify-content: center;background-color: white;position: relative;}#sk-container-id-17 div.sk-item::before, #sk-container-id-17 div.sk-parallel-item::before {content: \"\";position: absolute;border-left: 1px solid gray;box-sizing: border-box;top: 0;bottom: 0;left: 50%;z-index: -1;}#sk-container-id-17 div.sk-parallel-item {display: flex;flex-direction: column;z-index: 1;position: relative;background-color: white;}#sk-container-id-17 div.sk-parallel-item:first-child::after {align-self: flex-end;width: 50%;}#sk-container-id-17 div.sk-parallel-item:last-child::after {align-self: flex-start;width: 50%;}#sk-container-id-17 div.sk-parallel-item:only-child::after {width: 0;}#sk-container-id-17 div.sk-dashed-wrapped {border: 1px dashed gray;margin: 0 0.4em 0.5em 0.4em;box-sizing: border-box;padding-bottom: 0.4em;background-color: white;}#sk-container-id-17 div.sk-label label {font-family: monospace;font-weight: bold;display: inline-block;line-height: 1.2em;}#sk-container-id-17 div.sk-label-container {text-align: center;}#sk-container-id-17 div.sk-container {/* jupyter's `normalize.less` sets `[hidden] { display: none; }` but bootstrap.min.css set `[hidden] { display: none !important; }` so we also need the `!important` here to be able to override the default hidden behavior on the sphinx rendered scikit-learn.org. See: https://github.com/scikit-learn/scikit-learn/issues/21755 */display: inline-block !important;position: relative;}#sk-container-id-17 div.sk-text-repr-fallback {display: none;}</style><div id=\"sk-container-id-17\" class=\"sk-top-container\"><div class=\"sk-text-repr-fallback\"><pre>GradientBoostingRegressor(random_state=1)</pre><b>In a Jupyter environment, please rerun this cell to show the HTML representation or trust the notebook. <br />On GitHub, the HTML representation is unable to render, please try loading this page with nbviewer.org.</b></div><div class=\"sk-container\" hidden><div class=\"sk-item\"><div class=\"sk-estimator sk-toggleable\"><input class=\"sk-toggleable__control sk-hidden--visually\" id=\"sk-estimator-id-21\" type=\"checkbox\" checked><label for=\"sk-estimator-id-21\" class=\"sk-toggleable__label sk-toggleable__label-arrow\">GradientBoostingRegressor</label><div class=\"sk-toggleable__content\"><pre>GradientBoostingRegressor(random_state=1)</pre></div></div></div></div></div>"
      ],
      "text/plain": [
       "GradientBoostingRegressor(random_state=1)"
      ]
     },
     "execution_count": 444,
     "metadata": {},
     "output_type": "execute_result"
    }
   ],
   "source": [
    "model_gbr = GradientBoostingRegressor(random_state=1)\n",
    "model_gbr.fit(X_train_imp, y_train_imp)"
   ]
  },
  {
   "cell_type": "markdown",
   "id": "67fc84d7-8d89-4468-8d68-481996d713ac",
   "metadata": {},
   "source": [
    "## RandomForestRegressor"
   ]
  },
  {
   "cell_type": "code",
   "execution_count": 445,
   "id": "b04cb6d3-f56f-4cec-b941-1761838da268",
   "metadata": {},
   "outputs": [
    {
     "data": {
      "text/html": [
       "<style>#sk-container-id-18 {color: black;background-color: white;}#sk-container-id-18 pre{padding: 0;}#sk-container-id-18 div.sk-toggleable {background-color: white;}#sk-container-id-18 label.sk-toggleable__label {cursor: pointer;display: block;width: 100%;margin-bottom: 0;padding: 0.3em;box-sizing: border-box;text-align: center;}#sk-container-id-18 label.sk-toggleable__label-arrow:before {content: \"▸\";float: left;margin-right: 0.25em;color: #696969;}#sk-container-id-18 label.sk-toggleable__label-arrow:hover:before {color: black;}#sk-container-id-18 div.sk-estimator:hover label.sk-toggleable__label-arrow:before {color: black;}#sk-container-id-18 div.sk-toggleable__content {max-height: 0;max-width: 0;overflow: hidden;text-align: left;background-color: #f0f8ff;}#sk-container-id-18 div.sk-toggleable__content pre {margin: 0.2em;color: black;border-radius: 0.25em;background-color: #f0f8ff;}#sk-container-id-18 input.sk-toggleable__control:checked~div.sk-toggleable__content {max-height: 200px;max-width: 100%;overflow: auto;}#sk-container-id-18 input.sk-toggleable__control:checked~label.sk-toggleable__label-arrow:before {content: \"▾\";}#sk-container-id-18 div.sk-estimator input.sk-toggleable__control:checked~label.sk-toggleable__label {background-color: #d4ebff;}#sk-container-id-18 div.sk-label input.sk-toggleable__control:checked~label.sk-toggleable__label {background-color: #d4ebff;}#sk-container-id-18 input.sk-hidden--visually {border: 0;clip: rect(1px 1px 1px 1px);clip: rect(1px, 1px, 1px, 1px);height: 1px;margin: -1px;overflow: hidden;padding: 0;position: absolute;width: 1px;}#sk-container-id-18 div.sk-estimator {font-family: monospace;background-color: #f0f8ff;border: 1px dotted black;border-radius: 0.25em;box-sizing: border-box;margin-bottom: 0.5em;}#sk-container-id-18 div.sk-estimator:hover {background-color: #d4ebff;}#sk-container-id-18 div.sk-parallel-item::after {content: \"\";width: 100%;border-bottom: 1px solid gray;flex-grow: 1;}#sk-container-id-18 div.sk-label:hover label.sk-toggleable__label {background-color: #d4ebff;}#sk-container-id-18 div.sk-serial::before {content: \"\";position: absolute;border-left: 1px solid gray;box-sizing: border-box;top: 0;bottom: 0;left: 50%;z-index: 0;}#sk-container-id-18 div.sk-serial {display: flex;flex-direction: column;align-items: center;background-color: white;padding-right: 0.2em;padding-left: 0.2em;position: relative;}#sk-container-id-18 div.sk-item {position: relative;z-index: 1;}#sk-container-id-18 div.sk-parallel {display: flex;align-items: stretch;justify-content: center;background-color: white;position: relative;}#sk-container-id-18 div.sk-item::before, #sk-container-id-18 div.sk-parallel-item::before {content: \"\";position: absolute;border-left: 1px solid gray;box-sizing: border-box;top: 0;bottom: 0;left: 50%;z-index: -1;}#sk-container-id-18 div.sk-parallel-item {display: flex;flex-direction: column;z-index: 1;position: relative;background-color: white;}#sk-container-id-18 div.sk-parallel-item:first-child::after {align-self: flex-end;width: 50%;}#sk-container-id-18 div.sk-parallel-item:last-child::after {align-self: flex-start;width: 50%;}#sk-container-id-18 div.sk-parallel-item:only-child::after {width: 0;}#sk-container-id-18 div.sk-dashed-wrapped {border: 1px dashed gray;margin: 0 0.4em 0.5em 0.4em;box-sizing: border-box;padding-bottom: 0.4em;background-color: white;}#sk-container-id-18 div.sk-label label {font-family: monospace;font-weight: bold;display: inline-block;line-height: 1.2em;}#sk-container-id-18 div.sk-label-container {text-align: center;}#sk-container-id-18 div.sk-container {/* jupyter's `normalize.less` sets `[hidden] { display: none; }` but bootstrap.min.css set `[hidden] { display: none !important; }` so we also need the `!important` here to be able to override the default hidden behavior on the sphinx rendered scikit-learn.org. See: https://github.com/scikit-learn/scikit-learn/issues/21755 */display: inline-block !important;position: relative;}#sk-container-id-18 div.sk-text-repr-fallback {display: none;}</style><div id=\"sk-container-id-18\" class=\"sk-top-container\"><div class=\"sk-text-repr-fallback\"><pre>RandomForestRegressor(random_state=1)</pre><b>In a Jupyter environment, please rerun this cell to show the HTML representation or trust the notebook. <br />On GitHub, the HTML representation is unable to render, please try loading this page with nbviewer.org.</b></div><div class=\"sk-container\" hidden><div class=\"sk-item\"><div class=\"sk-estimator sk-toggleable\"><input class=\"sk-toggleable__control sk-hidden--visually\" id=\"sk-estimator-id-22\" type=\"checkbox\" checked><label for=\"sk-estimator-id-22\" class=\"sk-toggleable__label sk-toggleable__label-arrow\">RandomForestRegressor</label><div class=\"sk-toggleable__content\"><pre>RandomForestRegressor(random_state=1)</pre></div></div></div></div></div>"
      ],
      "text/plain": [
       "RandomForestRegressor(random_state=1)"
      ]
     },
     "execution_count": 445,
     "metadata": {},
     "output_type": "execute_result"
    }
   ],
   "source": [
    "model_rfr = RandomForestRegressor(random_state=1)\n",
    "model_rfr.fit(X_train_imp, y_train_imp)"
   ]
  },
  {
   "cell_type": "markdown",
   "id": "27b2724e-dc30-4b3d-bacb-bfb78eb06e82",
   "metadata": {},
   "source": [
    "## Create a model dictionary"
   ]
  },
  {
   "cell_type": "code",
   "execution_count": 446,
   "id": "830900a4-8835-4e52-a576-68e0b547ee9d",
   "metadata": {},
   "outputs": [
    {
     "data": {
      "text/plain": [
       "{'linear': LinearRegression(),\n",
       " 'ridge': Ridge(),\n",
       " 'gradient boosting': GradientBoostingRegressor(random_state=1),\n",
       " 'randome forest': RandomForestRegressor(random_state=1)}"
      ]
     },
     "execution_count": 446,
     "metadata": {},
     "output_type": "execute_result"
    }
   ],
   "source": [
    "models = {'linear': model_linear,\n",
    "          'ridge' : model_ridge,\n",
    "          'gradient boosting' : model_gbr,\n",
    "          'randome forest' : model_rfr}\n",
    "\n",
    "models"
   ]
  },
  {
   "cell_type": "code",
   "execution_count": 447,
   "id": "1d8c401a-63a9-4467-b120-7be86ae388c1",
   "metadata": {},
   "outputs": [
    {
     "name": "stdout",
     "output_type": "stream",
     "text": [
      "\n",
      "\n",
      " ++ Model Name: linear \n",
      " >> Model Object: LinearRegression()\n",
      "1620 1620\n",
      " >> model=LinearRegression (Train) rsme=0.0485 r2_score=0.7208\n",
      "540 540\n",
      " >> model=LinearRegression (Train) rsme=0.0463 r2_score=0.7039\n",
      "\n",
      "\n",
      " ++ Model Name: ridge \n",
      " >> Model Object: Ridge()\n",
      "1620 1620\n",
      " >> model=LinearRegression (Train) rsme=0.0485 r2_score=0.7207\n",
      "540 540\n",
      " >> model=LinearRegression (Train) rsme=0.0464 r2_score=0.7023\n",
      "\n",
      "\n",
      " ++ Model Name: gradient boosting \n",
      " >> Model Object: GradientBoostingRegressor(random_state=1)\n",
      "1620 1620\n",
      " >> model=LinearRegression (Train) rsme=0.0316 r2_score=0.8812\n",
      "540 540\n",
      " >> model=LinearRegression (Train) rsme=0.0332 r2_score=0.8481\n",
      "\n",
      "\n",
      " ++ Model Name: randome forest \n",
      " >> Model Object: RandomForestRegressor(random_state=1)\n",
      "1620 1620\n",
      " >> model=LinearRegression (Train) rsme=0.0303 r2_score=0.8911\n",
      "540 540\n",
      " >> model=LinearRegression (Train) rsme=0.0314 r2_score=0.8634\n"
     ]
    }
   ],
   "source": [
    "# Initialize list of metrics\n",
    "list_model_metrics = []\n",
    "\n",
    "# Loop over models\n",
    "for model_name, model_object in models.items():\n",
    "    print(\"\\n\")\n",
    "    print(\" ++ Model Name:\",model_name, \"\\n >> Model Object:\", model_object)\n",
    "\n",
    "    # Running predictions on train dataset\n",
    "    rsme_train, r2s_train, y_pred = predict_reg_get_metrics(\"LinearRegression (Train)\", model_object, X_train_imp, y_train_imp)\n",
    "        \n",
    "    # Running predictions on validation dataset\n",
    "    rsme_val, r2s_val, y_pred = predict_reg_get_metrics(\"LinearRegression (Train)\", model_object, X_val_imp, y_val_imp)\n",
    "    \n",
    "    # Append to list for DF later\n",
    "    list_model_metrics.append([model_name, model_object, rsme_train, r2s_train, rsme_val, r2s_val])\n",
    "\n",
    "    \n",
    "# COncat all models and results\n",
    "list_columns = ['model_name', 'model_object', 'rsme_train', 'r2score_train', 'rsme_val', 'r2score_val']\n",
    "df_models = pd.DataFrame(list_model_metrics, columns=list_columns)"
   ]
  },
  {
   "cell_type": "code",
   "execution_count": 448,
   "id": "fd2d966c-1b65-4cc0-9cdc-ab1be077b10b",
   "metadata": {},
   "outputs": [
    {
     "data": {
      "text/html": [
       "<div>\n",
       "<style scoped>\n",
       "    .dataframe tbody tr th:only-of-type {\n",
       "        vertical-align: middle;\n",
       "    }\n",
       "\n",
       "    .dataframe tbody tr th {\n",
       "        vertical-align: top;\n",
       "    }\n",
       "\n",
       "    .dataframe thead th {\n",
       "        text-align: right;\n",
       "    }\n",
       "</style>\n",
       "<table border=\"1\" class=\"dataframe\">\n",
       "  <thead>\n",
       "    <tr style=\"text-align: right;\">\n",
       "      <th></th>\n",
       "      <th>model_name</th>\n",
       "      <th>model_object</th>\n",
       "      <th>rsme_train</th>\n",
       "      <th>r2score_train</th>\n",
       "      <th>rsme_val</th>\n",
       "      <th>r2score_val</th>\n",
       "    </tr>\n",
       "  </thead>\n",
       "  <tbody>\n",
       "    <tr>\n",
       "      <th>0</th>\n",
       "      <td>linear</td>\n",
       "      <td>LinearRegression()</td>\n",
       "      <td>0.0485</td>\n",
       "      <td>0.7208</td>\n",
       "      <td>0.0463</td>\n",
       "      <td>0.7039</td>\n",
       "    </tr>\n",
       "    <tr>\n",
       "      <th>1</th>\n",
       "      <td>ridge</td>\n",
       "      <td>Ridge()</td>\n",
       "      <td>0.0485</td>\n",
       "      <td>0.7207</td>\n",
       "      <td>0.0464</td>\n",
       "      <td>0.7023</td>\n",
       "    </tr>\n",
       "    <tr>\n",
       "      <th>2</th>\n",
       "      <td>gradient boosting</td>\n",
       "      <td>([DecisionTreeRegressor(criterion='friedman_ms...</td>\n",
       "      <td>0.0316</td>\n",
       "      <td>0.8812</td>\n",
       "      <td>0.0332</td>\n",
       "      <td>0.8481</td>\n",
       "    </tr>\n",
       "    <tr>\n",
       "      <th>3</th>\n",
       "      <td>randome forest</td>\n",
       "      <td>(DecisionTreeRegressor(max_features=1.0, rando...</td>\n",
       "      <td>0.0303</td>\n",
       "      <td>0.8911</td>\n",
       "      <td>0.0314</td>\n",
       "      <td>0.8634</td>\n",
       "    </tr>\n",
       "  </tbody>\n",
       "</table>\n",
       "</div>"
      ],
      "text/plain": [
       "          model_name                                       model_object  \\\n",
       "0             linear                                 LinearRegression()   \n",
       "1              ridge                                            Ridge()   \n",
       "2  gradient boosting  ([DecisionTreeRegressor(criterion='friedman_ms...   \n",
       "3     randome forest  (DecisionTreeRegressor(max_features=1.0, rando...   \n",
       "\n",
       "   rsme_train  r2score_train  rsme_val  r2score_val  \n",
       "0      0.0485         0.7208    0.0463       0.7039  \n",
       "1      0.0485         0.7207    0.0464       0.7023  \n",
       "2      0.0316         0.8812    0.0332       0.8481  \n",
       "3      0.0303         0.8911    0.0314       0.8634  "
      ]
     },
     "execution_count": 448,
     "metadata": {},
     "output_type": "execute_result"
    }
   ],
   "source": [
    "# Print df\n",
    "df_models"
   ]
  },
  {
   "cell_type": "code",
   "execution_count": 449,
   "id": "8898662a-1c1b-4f01-8e43-ce2efe2bfa00",
   "metadata": {},
   "outputs": [
    {
     "data": {
      "text/plain": [
       "{'bootstrap': True,\n",
       " 'ccp_alpha': 0.0,\n",
       " 'criterion': 'squared_error',\n",
       " 'max_depth': None,\n",
       " 'max_features': 1.0,\n",
       " 'max_leaf_nodes': None,\n",
       " 'max_samples': None,\n",
       " 'min_impurity_decrease': 0.0,\n",
       " 'min_samples_leaf': 1,\n",
       " 'min_samples_split': 2,\n",
       " 'min_weight_fraction_leaf': 0.0,\n",
       " 'n_estimators': 100,\n",
       " 'n_jobs': None,\n",
       " 'oob_score': False,\n",
       " 'random_state': 1,\n",
       " 'verbose': 0,\n",
       " 'warm_start': False}"
      ]
     },
     "execution_count": 449,
     "metadata": {},
     "output_type": "execute_result"
    }
   ],
   "source": [
    "df_models.iloc[3].model_object.get_params()"
   ]
  },
  {
   "cell_type": "markdown",
   "id": "d6dcd443-d6b9-4430-a2ee-5f82126224fa",
   "metadata": {},
   "source": [
    "## Table: model & metrics"
   ]
  },
  {
   "cell_type": "code",
   "execution_count": 450,
   "id": "98ebf309-c7eb-4c96-87c1-0cc0b197b6a0",
   "metadata": {},
   "outputs": [
    {
     "data": {
      "text/html": [
       "<style type=\"text/css\">\n",
       "#T_b79f8_row3_col2, #T_b79f8_row3_col3, #T_b79f8_row3_col4, #T_b79f8_row3_col5 {\n",
       "  background: yellow;\n",
       "}\n",
       "</style>\n",
       "<table id=\"T_b79f8\">\n",
       "  <thead>\n",
       "    <tr>\n",
       "      <th class=\"blank level0\" >&nbsp;</th>\n",
       "      <th id=\"T_b79f8_level0_col0\" class=\"col_heading level0 col0\" >model_name</th>\n",
       "      <th id=\"T_b79f8_level0_col1\" class=\"col_heading level0 col1\" >model_object</th>\n",
       "      <th id=\"T_b79f8_level0_col2\" class=\"col_heading level0 col2\" >rsme_train</th>\n",
       "      <th id=\"T_b79f8_level0_col3\" class=\"col_heading level0 col3\" >r2score_train</th>\n",
       "      <th id=\"T_b79f8_level0_col4\" class=\"col_heading level0 col4\" >rsme_val</th>\n",
       "      <th id=\"T_b79f8_level0_col5\" class=\"col_heading level0 col5\" >r2score_val</th>\n",
       "    </tr>\n",
       "  </thead>\n",
       "  <tbody>\n",
       "    <tr>\n",
       "      <th id=\"T_b79f8_level0_row0\" class=\"row_heading level0 row0\" >0</th>\n",
       "      <td id=\"T_b79f8_row0_col0\" class=\"data row0 col0\" >linear</td>\n",
       "      <td id=\"T_b79f8_row0_col1\" class=\"data row0 col1\" >LinearRegression()</td>\n",
       "      <td id=\"T_b79f8_row0_col2\" class=\"data row0 col2\" >0.048500</td>\n",
       "      <td id=\"T_b79f8_row0_col3\" class=\"data row0 col3\" >0.720800</td>\n",
       "      <td id=\"T_b79f8_row0_col4\" class=\"data row0 col4\" >0.046300</td>\n",
       "      <td id=\"T_b79f8_row0_col5\" class=\"data row0 col5\" >0.703900</td>\n",
       "    </tr>\n",
       "    <tr>\n",
       "      <th id=\"T_b79f8_level0_row1\" class=\"row_heading level0 row1\" >1</th>\n",
       "      <td id=\"T_b79f8_row1_col0\" class=\"data row1 col0\" >ridge</td>\n",
       "      <td id=\"T_b79f8_row1_col1\" class=\"data row1 col1\" >Ridge()</td>\n",
       "      <td id=\"T_b79f8_row1_col2\" class=\"data row1 col2\" >0.048500</td>\n",
       "      <td id=\"T_b79f8_row1_col3\" class=\"data row1 col3\" >0.720700</td>\n",
       "      <td id=\"T_b79f8_row1_col4\" class=\"data row1 col4\" >0.046400</td>\n",
       "      <td id=\"T_b79f8_row1_col5\" class=\"data row1 col5\" >0.702300</td>\n",
       "    </tr>\n",
       "    <tr>\n",
       "      <th id=\"T_b79f8_level0_row2\" class=\"row_heading level0 row2\" >2</th>\n",
       "      <td id=\"T_b79f8_row2_col0\" class=\"data row2 col0\" >gradient boosting</td>\n",
       "      <td id=\"T_b79f8_row2_col1\" class=\"data row2 col1\" >GradientBoostingRegressor(random_state=1)</td>\n",
       "      <td id=\"T_b79f8_row2_col2\" class=\"data row2 col2\" >0.031600</td>\n",
       "      <td id=\"T_b79f8_row2_col3\" class=\"data row2 col3\" >0.881200</td>\n",
       "      <td id=\"T_b79f8_row2_col4\" class=\"data row2 col4\" >0.033200</td>\n",
       "      <td id=\"T_b79f8_row2_col5\" class=\"data row2 col5\" >0.848100</td>\n",
       "    </tr>\n",
       "    <tr>\n",
       "      <th id=\"T_b79f8_level0_row3\" class=\"row_heading level0 row3\" >3</th>\n",
       "      <td id=\"T_b79f8_row3_col0\" class=\"data row3 col0\" >randome forest</td>\n",
       "      <td id=\"T_b79f8_row3_col1\" class=\"data row3 col1\" >RandomForestRegressor(random_state=1)</td>\n",
       "      <td id=\"T_b79f8_row3_col2\" class=\"data row3 col2\" >0.030300</td>\n",
       "      <td id=\"T_b79f8_row3_col3\" class=\"data row3 col3\" >0.891100</td>\n",
       "      <td id=\"T_b79f8_row3_col4\" class=\"data row3 col4\" >0.031400</td>\n",
       "      <td id=\"T_b79f8_row3_col5\" class=\"data row3 col5\" >0.863400</td>\n",
       "    </tr>\n",
       "  </tbody>\n",
       "</table>\n"
      ],
      "text/plain": [
       "<pandas.io.formats.style.Styler at 0x7fdcc4b71a50>"
      ]
     },
     "execution_count": 450,
     "metadata": {},
     "output_type": "execute_result"
    }
   ],
   "source": [
    "# Call DF highlighter\n",
    "df_models.style.apply(highlight_minerror_maxscore)"
   ]
  },
  {
   "cell_type": "markdown",
   "id": "dd762d7e-8ecd-4d6c-8841-064b2a5ae5ee",
   "metadata": {},
   "source": [
    "Looks like, `random forest` is the best performing model of the 4 models based on the validation dataset and top 10 features used for the models. "
   ]
  },
  {
   "cell_type": "markdown",
   "id": "5ff550ab-16f2-44d4-b22d-887d55d8505b",
   "metadata": {},
   "source": [
    "# Set No. of Features for the model\n",
    "For the best performing model identified, we are now goign to set total no. of features that give the best performance. "
   ]
  },
  {
   "cell_type": "code",
   "execution_count": 451,
   "id": "c4944dd4-e00f-4b05-9b88-aa14cd738101",
   "metadata": {},
   "outputs": [
    {
     "data": {
      "text/plain": [
       "40"
      ]
     },
     "execution_count": 451,
     "metadata": {},
     "output_type": "execute_result"
    }
   ],
   "source": [
    "# Print all features\n",
    "len(features_imp_all)"
   ]
  },
  {
   "cell_type": "code",
   "execution_count": 452,
   "id": "9767747a-72d1-4bdd-98a0-5fc7e310d29b",
   "metadata": {
    "tags": []
   },
   "outputs": [
    {
     "name": "stdout",
     "output_type": "stream",
     "text": [
      "\n",
      " No. of features: 2\n",
      " Split lengths: 1620 540 541\n",
      " Split %: 59.98,                       19.99,                       20.03\n",
      " >> Train: (1620, 1) 1620\n",
      " >> Val  : (540, 1) 540\n",
      " >> Test : (541, 1) 541\n",
      "540 540\n",
      " >> model=RandomForestRegressor rsme=0.0604 r2_score=0.4962\n",
      "\n",
      " No. of features: 7\n",
      " Split lengths: 1620 540 541\n",
      " Split %: 59.98,                       19.99,                       20.03\n",
      " >> Train: (1620, 6) 1620\n",
      " >> Val  : (540, 6) 540\n",
      " >> Test : (541, 6) 541\n",
      "540 540\n",
      " >> model=RandomForestRegressor rsme=0.0487 r2_score=0.6719\n",
      "\n",
      " No. of features: 12\n",
      " Split lengths: 1620 540 541\n",
      " Split %: 59.98,                       19.99,                       20.03\n",
      " >> Train: (1620, 11) 1620\n",
      " >> Val  : (540, 11) 540\n",
      " >> Test : (541, 11) 541\n",
      "540 540\n",
      " >> model=RandomForestRegressor rsme=0.0313 r2_score=0.865\n",
      "\n",
      " No. of features: 17\n",
      " Split lengths: 1620 540 541\n",
      " Split %: 59.98,                       19.99,                       20.03\n",
      " >> Train: (1620, 16) 1620\n",
      " >> Val  : (540, 16) 540\n",
      " >> Test : (541, 16) 541\n",
      "540 540\n",
      " >> model=RandomForestRegressor rsme=0.0244 r2_score=0.9176\n",
      "\n",
      " No. of features: 22\n",
      " Split lengths: 1620 540 541\n",
      " Split %: 59.98,                       19.99,                       20.03\n",
      " >> Train: (1620, 21) 1620\n",
      " >> Val  : (540, 21) 540\n",
      " >> Test : (541, 21) 541\n",
      "540 540\n",
      " >> model=RandomForestRegressor rsme=0.0226 r2_score=0.9296\n",
      "\n",
      " No. of features: 27\n",
      " Split lengths: 1620 540 541\n",
      " Split %: 59.98,                       19.99,                       20.03\n",
      " >> Train: (1620, 26) 1620\n",
      " >> Val  : (540, 26) 540\n",
      " >> Test : (541, 26) 541\n",
      "540 540\n",
      " >> model=RandomForestRegressor rsme=0.0199 r2_score=0.9455\n",
      "\n",
      " No. of features: 32\n",
      " Split lengths: 1620 540 541\n",
      " Split %: 59.98,                       19.99,                       20.03\n",
      " >> Train: (1620, 31) 1620\n",
      " >> Val  : (540, 31) 540\n",
      " >> Test : (541, 31) 541\n",
      "540 540\n",
      " >> model=RandomForestRegressor rsme=0.0184 r2_score=0.9534\n",
      "\n",
      " No. of features: 37\n",
      " Split lengths: 1620 540 541\n",
      " Split %: 59.98,                       19.99,                       20.03\n",
      " >> Train: (1620, 36) 1620\n",
      " >> Val  : (540, 36) 540\n",
      " >> Test : (541, 36) 541\n",
      "540 540\n",
      " >> model=RandomForestRegressor rsme=0.0173 r2_score=0.9585\n"
     ]
    }
   ],
   "source": [
    "list_feature_metric = []\n",
    "\n",
    "# Loop of different no. of features\n",
    "for nfeatures in range(2, len(features_imp_all)+1, 5):\n",
    "    nfeatures = features_imp_all[-nfeatures:]\n",
    "    print(f\"\\n No. of features: {len(nfeatures)}\")\n",
    "    \n",
    "    df_train, X_train, y_train, df_val, X_val, y_val, df_test, X_test, y_test = prepare_dataset(df_copy, nfeatures, target='count', verbose=False)\n",
    "    \n",
    "    model_nfeatures = train_reg(X_train, y_train, random_state=1)\n",
    "\n",
    "    rsm2, r2s, y_pred = predict_reg_get_metrics(\"RandomForestRegressor\", model_nfeatures, X_val, y_val)\n",
    "    \n",
    "    list_feature_metric.append([len(nfeatures), r2s])"
   ]
  },
  {
   "cell_type": "markdown",
   "id": "583591d2-bd52-4024-88d1-4d18176aacc0",
   "metadata": {},
   "source": [
    "## Plot r2score vs no. of features"
   ]
  },
  {
   "cell_type": "code",
   "execution_count": 453,
   "id": "c6bc6ec8-df74-4076-a8de-94e72f917116",
   "metadata": {},
   "outputs": [
    {
     "data": {
      "image/png": "[encoded data removed]",
      "text/plain": [
       "<Figure size 640x480 with 1 Axes>"
      ]
     },
     "metadata": {},
     "output_type": "display_data"
    }
   ],
   "source": [
    "# Create DF for nfeatures and metric corresp\n",
    "df_feature_metric = pd.DataFrame(data=list_feature_metric, columns=['nfeatures','r2score'])\n",
    "\n",
    "sns.lineplot(data=df_feature_metric, x='nfeatures', y='r2score')\n",
    "plt.title('r2score variation with no. of features');"
   ]
  },
  {
   "cell_type": "markdown",
   "id": "bb850095-1423-435a-af94-4fd532f59c96",
   "metadata": {},
   "source": [
    "A better compramise between no. of features and metric is achieved with **no. of features=30** and **r2score=0.9513**"
   ]
  },
  {
   "cell_type": "markdown",
   "id": "031eac42-e598-4119-8e28-7d6103c10604",
   "metadata": {},
   "source": [
    "***"
   ]
  },
  {
   "cell_type": "markdown",
   "id": "2165d450-30f0-418b-a1c3-d03d7c8d7e80",
   "metadata": {},
   "source": [
    "# Model - Full Train & Test\n",
    "In this section, we will create a model using top 30 features and full train dataset (train + validation). Further, predictions are done on the test dataset using the model (`random forest`). "
   ]
  },
  {
   "cell_type": "markdown",
   "id": "a5325d28-01d2-4a9b-9621-031e4f85f56b",
   "metadata": {},
   "source": [
    "## Prepare Dataset - Full train and test"
   ]
  },
  {
   "cell_type": "code",
   "execution_count": 454,
   "id": "b7cb2918-30fe-47fe-964b-d1163cad4c80",
   "metadata": {},
   "outputs": [
    {
     "name": "stdout",
     "output_type": "stream",
     "text": [
      " Split lengths: 1620 540 541\n",
      " Split %: 59.98,                       19.99,                       20.03\n",
      " >> Train: (1620, 39) 1620\n",
      " >> Val  : (540, 39) 540\n",
      " >> Test : (541, 39) 541\n",
      "\n",
      " >> Train-full: ((2160, 39), 2160)\n"
     ]
    }
   ],
   "source": [
    "# Call function to prepare full-train dataset\n",
    "df_train, X_train, y_train, df_val, X_val, y_val, df_test, X_test, y_test = prepare_dataset(df_copy, df_copy.columns.to_list(), target='count', verbose=False)\n",
    "\n",
    "# Prepare full train dataset\n",
    "X_train_full, y_train_full = utils.prepare_full_train(X_train, X_val, y_train, y_val)\n",
    "print(f\"\\n >> Train-full: {X_train_full.shape, len(y_train_full)}\")"
   ]
  },
  {
   "cell_type": "markdown",
   "id": "68fd01df-fb3c-48a0-a056-46236203e883",
   "metadata": {},
   "source": [
    "## Parameters - Random Forest Regressor"
   ]
  },
  {
   "cell_type": "code",
   "execution_count": 455,
   "id": "398a8e84-b218-4fc6-924e-3ceb9909d506",
   "metadata": {},
   "outputs": [
    {
     "data": {
      "text/plain": [
       "{'bootstrap': True,\n",
       " 'ccp_alpha': 0.0,\n",
       " 'criterion': 'squared_error',\n",
       " 'max_depth': None,\n",
       " 'max_features': 1.0,\n",
       " 'max_leaf_nodes': None,\n",
       " 'max_samples': None,\n",
       " 'min_impurity_decrease': 0.0,\n",
       " 'min_samples_leaf': 1,\n",
       " 'min_samples_split': 2,\n",
       " 'min_weight_fraction_leaf': 0.0,\n",
       " 'n_estimators': 100,\n",
       " 'n_jobs': None,\n",
       " 'oob_score': False,\n",
       " 'random_state': None,\n",
       " 'verbose': 0,\n",
       " 'warm_start': False}"
      ]
     },
     "execution_count": 455,
     "metadata": {},
     "output_type": "execute_result"
    }
   ],
   "source": [
    "# get parameters used in the model \n",
    "model_rf_fi.get_params()"
   ]
  },
  {
   "cell_type": "markdown",
   "id": "e0573e93-e328-40cd-bfa9-0677ac76a608",
   "metadata": {},
   "source": [
    "## K-fold Cross validation "
   ]
  },
  {
   "cell_type": "code",
   "execution_count": 456,
   "id": "3a5e9f06-deb6-4952-bf6f-92a3ed4838ad",
   "metadata": {},
   "outputs": [
    {
     "data": {
      "application/vnd.jupyter.widget-view+json": {
       "model_id": "6733e7089bb241108622ea00091ad5c6",
       "version_major": 2,
       "version_minor": 0
      },
      "text/plain": [
       "  0%|          | 0/4 [00:00<?, ?it/s]"
      ]
     },
     "metadata": {},
     "output_type": "display_data"
    },
    {
     "name": "stdout",
     "output_type": "stream",
     "text": [
      "540 540\n",
      " >> model=RandomForestRegressor rsme=0.0516 r2_score=0.71\n",
      "540 540\n",
      " >> model=RandomForestRegressor rsme=0.0484 r2_score=0.702\n",
      "540 540\n",
      " >> model=RandomForestRegressor rsme=0.0487 r2_score=0.6373\n",
      "540 540\n",
      " >> model=RandomForestRegressor rsme=0.0398 r2_score=0.8224\n",
      "param=1 score_mean=71.792, score_std=6.658\n",
      "540 540\n",
      " >> model=RandomForestRegressor rsme=0.0018 r2_score=0.9996\n",
      "540 540\n",
      " >> model=RandomForestRegressor rsme=0.0014 r2_score=0.9998\n",
      "540 540\n",
      " >> model=RandomForestRegressor rsme=0.0052 r2_score=0.9959\n",
      "540 540\n",
      " >> model=RandomForestRegressor rsme=0.0022 r2_score=0.9995\n",
      "param=11 score_mean=99.870, score_std=0.162\n",
      "540 540\n",
      " >> model=RandomForestRegressor rsme=0.0018 r2_score=0.9996\n",
      "540 540\n",
      " >> model=RandomForestRegressor rsme=0.0011 r2_score=0.9999\n",
      "540 540\n",
      " >> model=RandomForestRegressor rsme=0.0054 r2_score=0.9955\n",
      "540 540\n",
      " >> model=RandomForestRegressor rsme=0.0021 r2_score=0.9995\n",
      "param=21 score_mean=99.863, score_std=0.181\n",
      "540 540\n",
      " >> model=RandomForestRegressor rsme=0.0018 r2_score=0.9996\n",
      "540 540\n",
      " >> model=RandomForestRegressor rsme=0.0011 r2_score=0.9999\n",
      "540 540\n",
      " >> model=RandomForestRegressor rsme=0.0054 r2_score=0.9955\n",
      "540 540\n",
      " >> model=RandomForestRegressor rsme=0.0021 r2_score=0.9995\n",
      "param=31 score_mean=99.863, score_std=0.181\n"
     ]
    },
    {
     "data": {
      "text/plain": [
       "[0.9996, 0.9999, 0.9955, 0.9995]"
      ]
     },
     "execution_count": 456,
     "metadata": {},
     "output_type": "execute_result"
    }
   ],
   "source": [
    "from sklearn.model_selection import KFold\n",
    "from tqdm.auto import tqdm\n",
    "\n",
    "df_train_full = pd.concat([df_train, df_val])\n",
    "#df_train_full.columns\n",
    "\n",
    "kfold_reg_randomforestregressor(df_train_full, 'count', 4, np.arange(1,40,10))"
   ]
  },
  {
   "cell_type": "markdown",
   "id": "dcf7828a-d3fb-4fa5-8f0b-5c33a5652b7c",
   "metadata": {},
   "source": [
    "It is possible to orchestrate other parameters and find the optimal values for the best possible combination of parameters. But, we already flattened the peak performance. So, finalize our model in the next section. "
   ]
  },
  {
   "cell_type": "markdown",
   "id": "23107bcb-2667-48cd-a97e-4bd98dc2f213",
   "metadata": {},
   "source": [
    "## Finalized params - Model "
   ]
  },
  {
   "cell_type": "code",
   "execution_count": 457,
   "id": "91b8cf82-d169-474a-a472-b118abb8cadf",
   "metadata": {},
   "outputs": [
    {
     "name": "stdout",
     "output_type": "stream",
     "text": [
      "541 541\n",
      " >> model=RandomForestRegressor rsme=0.02 r2_score=0.9551\n"
     ]
    }
   ],
   "source": [
    "# Prepare model with full train dataset\n",
    "model_final = train_reg(X_train_full, y_train_full, \n",
    "                        bootstrap=True, ccp_alpha=0.0, \n",
    "                        max_depth=10, max_features=1.0, max_leaf_nodes=None, max_samples=None,\n",
    "                        random_state=11)\n",
    "\n",
    "\n",
    "# Run prediction of test dataset\n",
    "rsme, r2s, y_pred = predict_reg_get_metrics(\"RandomForestRegressor\", model_final, X_test, y_test)"
   ]
  },
  {
   "cell_type": "markdown",
   "id": "5e166e43-1cc6-4f9e-a6a4-5e6fb8cb97d8",
   "metadata": {},
   "source": [
    "Out final model is doing way better with a `r2_score=0.9551`."
   ]
  },
  {
   "cell_type": "markdown",
   "id": "e7eb5699-5c98-4388-9845-c47d8c8586ec",
   "metadata": {},
   "source": [
    "## Save model (pickle)"
   ]
  },
  {
   "cell_type": "code",
   "execution_count": 458,
   "id": "b2c8130b-60ab-4106-a8a9-e2716cae2c93",
   "metadata": {},
   "outputs": [
    {
     "name": "stdout",
     "output_type": "stream",
     "text": [
      " >>> ML model [Saved]: \n",
      "\t - File: ./model_total_crime_count_final.pkl\n"
     ]
    }
   ],
   "source": [
    "# Call save model function \n",
    "save_model_pickle(model_final, './model_total_crime_count_final.pkl')"
   ]
  },
  {
   "cell_type": "markdown",
   "id": "741db27e-aafa-4980-bcc7-02bcf365cc97",
   "metadata": {},
   "source": [
    "## Load model"
   ]
  },
  {
   "cell_type": "code",
   "execution_count": 459,
   "id": "642904c1-964e-4f0f-bec5-de89eab91b03",
   "metadata": {},
   "outputs": [
    {
     "name": "stdout",
     "output_type": "stream",
     "text": [
      " >>> ML model [Loaded]: \n",
      "\t - File: ./model_total_crime_count_final.pkl\n"
     ]
    },
    {
     "data": {
      "text/html": [
       "<style>#sk-container-id-19 {color: black;background-color: white;}#sk-container-id-19 pre{padding: 0;}#sk-container-id-19 div.sk-toggleable {background-color: white;}#sk-container-id-19 label.sk-toggleable__label {cursor: pointer;display: block;width: 100%;margin-bottom: 0;padding: 0.3em;box-sizing: border-box;text-align: center;}#sk-container-id-19 label.sk-toggleable__label-arrow:before {content: \"▸\";float: left;margin-right: 0.25em;color: #696969;}#sk-container-id-19 label.sk-toggleable__label-arrow:hover:before {color: black;}#sk-container-id-19 div.sk-estimator:hover label.sk-toggleable__label-arrow:before {color: black;}#sk-container-id-19 div.sk-toggleable__content {max-height: 0;max-width: 0;overflow: hidden;text-align: left;background-color: #f0f8ff;}#sk-container-id-19 div.sk-toggleable__content pre {margin: 0.2em;color: black;border-radius: 0.25em;background-color: #f0f8ff;}#sk-container-id-19 input.sk-toggleable__control:checked~div.sk-toggleable__content {max-height: 200px;max-width: 100%;overflow: auto;}#sk-container-id-19 input.sk-toggleable__control:checked~label.sk-toggleable__label-arrow:before {content: \"▾\";}#sk-container-id-19 div.sk-estimator input.sk-toggleable__control:checked~label.sk-toggleable__label {background-color: #d4ebff;}#sk-container-id-19 div.sk-label input.sk-toggleable__control:checked~label.sk-toggleable__label {background-color: #d4ebff;}#sk-container-id-19 input.sk-hidden--visually {border: 0;clip: rect(1px 1px 1px 1px);clip: rect(1px, 1px, 1px, 1px);height: 1px;margin: -1px;overflow: hidden;padding: 0;position: absolute;width: 1px;}#sk-container-id-19 div.sk-estimator {font-family: monospace;background-color: #f0f8ff;border: 1px dotted black;border-radius: 0.25em;box-sizing: border-box;margin-bottom: 0.5em;}#sk-container-id-19 div.sk-estimator:hover {background-color: #d4ebff;}#sk-container-id-19 div.sk-parallel-item::after {content: \"\";width: 100%;border-bottom: 1px solid gray;flex-grow: 1;}#sk-container-id-19 div.sk-label:hover label.sk-toggleable__label {background-color: #d4ebff;}#sk-container-id-19 div.sk-serial::before {content: \"\";position: absolute;border-left: 1px solid gray;box-sizing: border-box;top: 0;bottom: 0;left: 50%;z-index: 0;}#sk-container-id-19 div.sk-serial {display: flex;flex-direction: column;align-items: center;background-color: white;padding-right: 0.2em;padding-left: 0.2em;position: relative;}#sk-container-id-19 div.sk-item {position: relative;z-index: 1;}#sk-container-id-19 div.sk-parallel {display: flex;align-items: stretch;justify-content: center;background-color: white;position: relative;}#sk-container-id-19 div.sk-item::before, #sk-container-id-19 div.sk-parallel-item::before {content: \"\";position: absolute;border-left: 1px solid gray;box-sizing: border-box;top: 0;bottom: 0;left: 50%;z-index: -1;}#sk-container-id-19 div.sk-parallel-item {display: flex;flex-direction: column;z-index: 1;position: relative;background-color: white;}#sk-container-id-19 div.sk-parallel-item:first-child::after {align-self: flex-end;width: 50%;}#sk-container-id-19 div.sk-parallel-item:last-child::after {align-self: flex-start;width: 50%;}#sk-container-id-19 div.sk-parallel-item:only-child::after {width: 0;}#sk-container-id-19 div.sk-dashed-wrapped {border: 1px dashed gray;margin: 0 0.4em 0.5em 0.4em;box-sizing: border-box;padding-bottom: 0.4em;background-color: white;}#sk-container-id-19 div.sk-label label {font-family: monospace;font-weight: bold;display: inline-block;line-height: 1.2em;}#sk-container-id-19 div.sk-label-container {text-align: center;}#sk-container-id-19 div.sk-container {/* jupyter's `normalize.less` sets `[hidden] { display: none; }` but bootstrap.min.css set `[hidden] { display: none !important; }` so we also need the `!important` here to be able to override the default hidden behavior on the sphinx rendered scikit-learn.org. See: https://github.com/scikit-learn/scikit-learn/issues/21755 */display: inline-block !important;position: relative;}#sk-container-id-19 div.sk-text-repr-fallback {display: none;}</style><div id=\"sk-container-id-19\" class=\"sk-top-container\"><div class=\"sk-text-repr-fallback\"><pre>RandomForestRegressor(max_depth=10, random_state=11)</pre><b>In a Jupyter environment, please rerun this cell to show the HTML representation or trust the notebook. <br />On GitHub, the HTML representation is unable to render, please try loading this page with nbviewer.org.</b></div><div class=\"sk-container\" hidden><div class=\"sk-item\"><div class=\"sk-estimator sk-toggleable\"><input class=\"sk-toggleable__control sk-hidden--visually\" id=\"sk-estimator-id-23\" type=\"checkbox\" checked><label for=\"sk-estimator-id-23\" class=\"sk-toggleable__label sk-toggleable__label-arrow\">RandomForestRegressor</label><div class=\"sk-toggleable__content\"><pre>RandomForestRegressor(max_depth=10, random_state=11)</pre></div></div></div></div></div>"
      ],
      "text/plain": [
       "RandomForestRegressor(max_depth=10, random_state=11)"
      ]
     },
     "execution_count": 459,
     "metadata": {},
     "output_type": "execute_result"
    }
   ],
   "source": [
    "model_loaded = load_model_pickle('./model_total_crime_count_final.pkl')\n",
    "model_loaded"
   ]
  },
  {
   "cell_type": "markdown",
   "id": "1303a385-110a-4200-b0ee-8b66defea0de",
   "metadata": {},
   "source": [
    "## Prediction using loaded model"
   ]
  },
  {
   "cell_type": "code",
   "execution_count": 626,
   "id": "2402a5ec-6acb-4ecd-88c6-e5f55ae7f96c",
   "metadata": {},
   "outputs": [
    {
     "data": {
      "text/plain": [
       "array([2014, 2015, 2016, 2017, 2018, 2019, 2020, 2021])"
      ]
     },
     "execution_count": 626,
     "metadata": {},
     "output_type": "execute_result"
    }
   ],
   "source": [
    "df_trc_drop.reportedyear.unique()"
   ]
  },
  {
   "cell_type": "code",
   "execution_count": 627,
   "id": "f0f33800-811e-44fa-a86a-7a9d15c2a42b",
   "metadata": {},
   "outputs": [
    {
     "data": {
      "text/plain": [
       "array(['D11', 'D12', 'D13', 'D42', 'D43', 'D51', 'D23', 'D31', 'D32',\n",
       "       'D52', 'D53', 'D54/D55', 'D33', 'D41', 'D14', 'NSA', 'D22'],\n",
       "      dtype=object)"
      ]
     },
     "execution_count": 627,
     "metadata": {},
     "output_type": "execute_result"
    }
   ],
   "source": [
    "df_trc_drop.geodivision.unique()"
   ]
  },
  {
   "cell_type": "code",
   "execution_count": 628,
   "id": "a53f7ad0-59f3-4286-a4a7-c74c92adadf1",
   "metadata": {},
   "outputs": [
    {
     "data": {
      "text/plain": [
       "array(['Controlled Drugs and Substances Act', 'Crimes Against Property',\n",
       "       'Crimes Against the Person', 'Criminal Code Traffic',\n",
       "       'Other Criminal Code Violations',\n",
       "       'Other Federal Statute Violations'], dtype=object)"
      ]
     },
     "execution_count": 628,
     "metadata": {},
     "output_type": "execute_result"
    }
   ],
   "source": [
    "df_trc_drop.category.unique()"
   ]
  },
  {
   "cell_type": "code",
   "execution_count": 629,
   "id": "8fa6a17f-5bed-44f4-bac2-0f4046031f7a",
   "metadata": {},
   "outputs": [
    {
     "data": {
      "text/plain": [
       "array(['Other', 'Auto Theft', 'Break & Enter-Apartment',\n",
       "       'Break & Enter-Commercial', 'Break & Enter-House',\n",
       "       'Break & Enter-Other', 'Fraud', 'Theft Over $5000',\n",
       "       'Theft Under $5000', 'Assault', 'Attempt Murder',\n",
       "       'Robbery-Financial', 'Robbery-Other', 'Sexual Violation',\n",
       "       'Other Criminal Violations - Offensive Weapons'], dtype=object)"
      ]
     },
     "execution_count": 629,
     "metadata": {},
     "output_type": "execute_result"
    }
   ],
   "source": [
    "df_trc_drop.subtype.unique()"
   ]
  },
  {
   "cell_type": "code",
   "execution_count": 630,
   "id": "7d21e67c-9aee-49ee-bc39-c9dc0a07981c",
   "metadata": {},
   "outputs": [],
   "source": [
    "# Prediction testing\n",
    "X_pred_test = {'reportedyear': 2014,\n",
    "          'geodivision': \"D12\",\n",
    "          'category': \"Crimes Against the Person\", \n",
    "          'subtype': \"Attempt Murder\"\n",
    "         }\n",
    "\n",
    "# Call preapre for prediction fucntion\n",
    "df_pred_test, target_max = prepare_for_prediction(X_pred_test)\n",
    "\n",
    "y_pred = predict_reg(\"RandomForestRegressor\", model_loaded, df_pred_test)"
   ]
  },
  {
   "cell_type": "code",
   "execution_count": 631,
   "id": "3062733d-195c-469d-b02f-cb137cd7539d",
   "metadata": {},
   "outputs": [
    {
     "name": "stdout",
     "output_type": "stream",
     "text": [
      "[5.9086632]\n"
     ]
    }
   ],
   "source": [
    "# Prediction\n",
    "print(y_pred*target_max)"
   ]
  },
  {
   "cell_type": "code",
   "execution_count": 632,
   "id": "a4c36480-f1f9-4edb-9339-67a680697b41",
   "metadata": {},
   "outputs": [
    {
     "data": {
      "text/plain": [
       "31    6.0\n",
       "Name: count, dtype: float64"
      ]
     },
     "execution_count": 632,
     "metadata": {},
     "output_type": "execute_result"
    }
   ],
   "source": [
    "# Expected response\n",
    "df_copy[(df_copy['reportedyear'] == X_pred_test.get('reportedyear')) & \n",
    "        (df_copy[f'feature_d12'] == 1) & \n",
    "        (df_copy[f'feature_crimes_against_the_person'] == 1) & \n",
    "        (df_copy[f'feature_attempt_murder'] == 1)\n",
    "       ]['count']*target_max"
   ]
  },
  {
   "cell_type": "markdown",
   "id": "247ad0f1-fd61-437e-abd8-60687e53c29b",
   "metadata": {},
   "source": [
    "***"
   ]
  },
  {
   "cell_type": "markdown",
   "id": "4059ab18-d36c-4e3f-81ef-0a522beee0e4",
   "metadata": {},
   "source": [
    "## Prediction test2"
   ]
  },
  {
   "cell_type": "code",
   "execution_count": 634,
   "id": "7551edca-ce31-4fed-968d-ef798002f9c4",
   "metadata": {},
   "outputs": [
    {
     "name": "stdout",
     "output_type": "stream",
     "text": [
      "[671.4160334]\n"
     ]
    }
   ],
   "source": [
    "# Prediction testing\n",
    "X_pred_test2 = {'reportedyear': 2022,\n",
    "          'geodivision': \"D13\",\n",
    "          'category': \"Criminal Code Traffic\", \n",
    "          'subtype': \"Assault\"\n",
    "         }\n",
    "\n",
    "# Call preapre for prediction fucntion\n",
    "df_pred_test2, target_max = prepare_for_prediction(X_pred_test2)\n",
    "\n",
    "y_pred2 = predict_reg(\"RandomForestRegressor\", model_loaded, df_pred_test2)\n",
    "\n",
    "# Prediction\n",
    "print(y_pred2*target_max)"
   ]
  },
  {
   "cell_type": "markdown",
   "id": "80d78705-8de2-4f40-9f17-6383857feb89",
   "metadata": {},
   "source": [
    "***"
   ]
  },
  {
   "cell_type": "markdown",
   "id": "463c1fdc-ce77-4962-95ae-f58eadb60041",
   "metadata": {},
   "source": [
    "# Assumptions:\n",
    "- The category and subtype are not inter-dependent i.e., for the current model, we haven't done extensive EDA on grouping of these two features. This might negatively impact the ML model by not directly helping us to use the ML model for real-life usecases. "
   ]
  },
  {
   "cell_type": "code",
   "execution_count": null,
   "id": "45ed2f92-8016-4d75-9d71-26b8392f71d6",
   "metadata": {},
   "outputs": [],
   "source": []
  },
  {
   "cell_type": "code",
   "execution_count": null,
   "id": "f3e11b7b-4468-4e40-8eb0-4edee3b05680",
   "metadata": {},
   "outputs": [],
   "source": []
  },
  {
   "cell_type": "code",
   "execution_count": null,
   "id": "9c12e64a-bb61-4d7a-950b-f253f5797f2d",
   "metadata": {},
   "outputs": [],
   "source": []
  }
 ],
 "metadata": {
  "kernelspec": {
   "display_name": "Python 3 (ipykernel)",
   "language": "python",
   "name": "python3"
  },
  "language_info": {
   "codemirror_mode": {
    "name": "ipython",
    "version": 3
   },
   "file_extension": ".py",
   "mimetype": "text/x-python",
   "name": "python",
   "nbconvert_exporter": "python",
   "pygments_lexer": "ipython3",
   "version": "3.10.6"
  },
  "toc-autonumbering": true,
  "toc-showcode": false,
  "toc-showmarkdowntxt": false
 },
 "nbformat": 4,
 "nbformat_minor": 5
}
