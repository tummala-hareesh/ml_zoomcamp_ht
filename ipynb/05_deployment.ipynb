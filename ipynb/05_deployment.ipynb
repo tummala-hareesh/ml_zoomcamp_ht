{
 "cells": [
  {
   "cell_type": "markdown",
   "id": "9fd8d327-ec19-4271-830d-aaeed85a4d00",
   "metadata": {},
   "source": [
    "# Week-5\n",
    "This notebook is created during week-5 of MLzoomcamp - `Deploying Machine Learning Models`."
   ]
  },
  {
   "cell_type": "markdown",
   "id": "edbd2e4a-b7bc-46a1-90d9-a823c79bf8cf",
   "metadata": {},
   "source": [
    "# Import modules"
   ]
  },
  {
   "cell_type": "code",
   "execution_count": 2,
   "id": "2fa71f2d-35b6-4585-99ac-e17cebf56711",
   "metadata": {},
   "outputs": [],
   "source": [
    "import pandas as pd\n",
    "import numpy as np \n",
    "\n",
    "import matplotlib.pyplot as plt\n",
    "import seaborn as sns\n",
    "\n",
    "%matplotlib inline"
   ]
  },
  {
   "cell_type": "markdown",
   "id": "946a0b40-42d0-4521-8ad5-6038147cfe5e",
   "metadata": {},
   "source": [
    "# Load utilities"
   ]
  },
  {
   "cell_type": "code",
   "execution_count": 3,
   "id": "e9bba260-2cd8-4c69-a71d-56dcd4b750ed",
   "metadata": {},
   "outputs": [],
   "source": [
    "import utilities as utils"
   ]
  },
  {
   "cell_type": "markdown",
   "id": "106bb52b-ff5f-4b23-9e56-84b4ef34cb4d",
   "metadata": {},
   "source": [
    "# Churn Prediction model from previous week"
   ]
  },
  {
   "cell_type": "code",
   "execution_count": 4,
   "id": "9112d777-2636-4410-b226-2ed6bb19b6b7",
   "metadata": {},
   "outputs": [],
   "source": [
    "df = pd.read_csv('03_data-Telco-Customer-Churn.csv')\n",
    "\n",
    "# Standardize column names \n",
    "df.columns = df.columns.str.lower().str.replace(' ','_')\n",
    "\n",
    "# get list of categorical features\n",
    "features_cat = list(df.dtypes[df.dtypes == 'object'].index)\n",
    "\n",
    "# standardize categorical features data\n",
    "for f in features_cat:\n",
    "    df[f] = df[f].str.lower().str.replace(' ','_')\n",
    "    \n",
    "df.totalcharges = pd.to_numeric(df.totalcharges, errors='coerce')\n",
    "df.totalcharges = df.totalcharges.fillna(0)\n",
    "\n",
    "\n",
    "df.churn = (df.churn == 'yes').astype('int')"
   ]
  },
  {
   "cell_type": "code",
   "execution_count": 7,
   "id": "504cfecd-4318-414e-aa7a-09d1d588f974",
   "metadata": {},
   "outputs": [],
   "source": [
    "# Train-Test-Split (80-20)\n",
    "df_train_full, df_test = utils.train_test_split(df, test_size=0.2, random_state=1)"
   ]
  },
  {
   "cell_type": "code",
   "execution_count": 8,
   "id": "63f0fcd6-563c-4827-b54f-1645be883e95",
   "metadata": {},
   "outputs": [
    {
     "data": {
      "text/plain": [
       "['tenure',\n",
       " 'monthlycharges',\n",
       " 'totalcharges',\n",
       " 'paperlessbilling',\n",
       " 'partner',\n",
       " 'deviceprotection',\n",
       " 'multiplelines',\n",
       " 'gender',\n",
       " 'paymentmethod',\n",
       " 'streamingtv',\n",
       " 'seniorcitizen',\n",
       " 'streamingmovies',\n",
       " 'techsupport',\n",
       " 'internetservice',\n",
       " 'contract',\n",
       " 'onlinebackup',\n",
       " 'phoneservice',\n",
       " 'onlinesecurity',\n",
       " 'dependents']"
      ]
     },
     "execution_count": 8,
     "metadata": {},
     "output_type": "execute_result"
    }
   ],
   "source": [
    "# Numericals \n",
    "list_features_num = ['tenure', 'monthlycharges', 'totalcharges']\n",
    "\n",
    "# Categoical \n",
    "list_features_cat = list(set(df_train_full.columns) - set(list_features_num) - set(['churn','customerid']))\n",
    "\n",
    "# All Features \n",
    "list_features = list_features_num + list_features_cat\n",
    "list_features"
   ]
  },
  {
   "cell_type": "code",
   "execution_count": 9,
   "id": "12a21fa2-6b03-4ec9-8355-8226f6d6fe6b",
   "metadata": {},
   "outputs": [
    {
     "data": {
      "application/vnd.jupyter.widget-view+json": {
       "model_id": "7b788852e0fa4755bca8f9930f18666f",
       "version_major": 2,
       "version_minor": 0
      },
      "text/plain": [
       "  0%|          | 0/1 [00:00<?, ?it/s]"
      ]
     },
     "metadata": {},
     "output_type": "display_data"
    },
    {
     "name": "stdout",
     "output_type": "stream",
     "text": [
      "C =1.0 score_mean=84.041, score_std=0.854\n"
     ]
    }
   ],
   "source": [
    "# params for Kfold CLf function\n",
    "nsplits = 5\n",
    "list_C = [1.0]\n",
    "\n",
    "# Call Kfold CLF\n",
    "scores = utils.kfold_biclf_logisticreg(df_train_full, 'churn', list_features, nsplits, list_C)"
   ]
  },
  {
   "cell_type": "code",
   "execution_count": 10,
   "id": "38ae0188-719d-4ea9-8688-e143e40fcbde",
   "metadata": {},
   "outputs": [
    {
     "data": {
      "text/plain": [
       "0.8572386167896259"
      ]
     },
     "execution_count": 10,
     "metadata": {},
     "output_type": "execute_result"
    }
   ],
   "source": [
    "# Train final model \n",
    "y_train_full = df_train_full.churn.values\n",
    "dv, model = utils.train_biclf_logisticreg(df_train_full, y_train_full, list_features, C=1.0)\n",
    "y_pred = utils.predict_clf(df_test, list_features, dv, model)\n",
    "\n",
    "# AUC final model\n",
    "y_test = df_test.churn.values\n",
    "auc = utils.get_roc_auc_score(y_test, y_pred)\n",
    "\n",
    "auc"
   ]
  },
  {
   "cell_type": "markdown",
   "id": "f64ee54e-99de-47c1-a079-0fcc797aad1e",
   "metadata": {},
   "source": [
    "***"
   ]
  },
  {
   "cell_type": "code",
   "execution_count": null,
   "id": "f4c1a567-1785-4805-b664-be6765438aa0",
   "metadata": {},
   "outputs": [],
   "source": []
  },
  {
   "cell_type": "code",
   "execution_count": null,
   "id": "97a4d9a2-db5e-4c91-bb40-64baf3713f18",
   "metadata": {},
   "outputs": [],
   "source": []
  },
  {
   "cell_type": "code",
   "execution_count": null,
   "id": "3274d145-5f9f-4b48-9f4d-4c5ab8567a40",
   "metadata": {},
   "outputs": [],
   "source": []
  },
  {
   "cell_type": "code",
   "execution_count": null,
   "id": "9a3353d1-1676-4aec-b7ec-388ac7b14441",
   "metadata": {},
   "outputs": [],
   "source": []
  },
  {
   "cell_type": "code",
   "execution_count": null,
   "id": "ea3af804-c404-4b41-b9ab-17f97b036ecb",
   "metadata": {},
   "outputs": [],
   "source": []
  },
  {
   "cell_type": "code",
   "execution_count": null,
   "id": "042bb98f-d959-46d7-8b9e-f0390a4b7f0a",
   "metadata": {},
   "outputs": [],
   "source": []
  },
  {
   "cell_type": "code",
   "execution_count": null,
   "id": "91fd2da2-656e-4154-beea-a42f239284ef",
   "metadata": {},
   "outputs": [],
   "source": []
  },
  {
   "cell_type": "code",
   "execution_count": null,
   "id": "bc146a96-c198-42ce-9c75-3b3b163b8950",
   "metadata": {},
   "outputs": [],
   "source": []
  },
  {
   "cell_type": "code",
   "execution_count": null,
   "id": "4bf204ad-8d5d-48b5-b563-a3fd6820dd33",
   "metadata": {},
   "outputs": [],
   "source": []
  },
  {
   "cell_type": "code",
   "execution_count": null,
   "id": "62f3fd9c-03cc-43c5-a75c-902b06f7a899",
   "metadata": {},
   "outputs": [],
   "source": []
  },
  {
   "cell_type": "code",
   "execution_count": null,
   "id": "465e2c01-b74e-4a81-8e1e-f1a5f3c46133",
   "metadata": {},
   "outputs": [],
   "source": []
  }
 ],
 "metadata": {
  "kernelspec": {
   "display_name": "Python 3 (ipykernel)",
   "language": "python",
   "name": "python3"
  },
  "language_info": {
   "codemirror_mode": {
    "name": "ipython",
    "version": 3
   },
   "file_extension": ".py",
   "mimetype": "text/x-python",
   "name": "python",
   "nbconvert_exporter": "python",
   "pygments_lexer": "ipython3",
   "version": "3.10.6"
  }
 },
 "nbformat": 4,
 "nbformat_minor": 5
}
