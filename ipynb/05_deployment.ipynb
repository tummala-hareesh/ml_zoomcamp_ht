{
 "cells": [
  {
   "cell_type": "markdown",
   "id": "9fd8d327-ec19-4271-830d-aaeed85a4d00",
   "metadata": {},
   "source": [
    "# Week-5\n",
    "This notebook is created during week-5 of MLzoomcamp - `Deploying Machine Learning Models`."
   ]
  },
  {
   "cell_type": "markdown",
   "id": "edbd2e4a-b7bc-46a1-90d9-a823c79bf8cf",
   "metadata": {},
   "source": [
    "# Import modules"
   ]
  },
  {
   "cell_type": "code",
   "execution_count": 1,
   "id": "2fa71f2d-35b6-4585-99ac-e17cebf56711",
   "metadata": {},
   "outputs": [],
   "source": [
    "import pandas as pd\n",
    "import numpy as np \n",
    "\n",
    "import matplotlib.pyplot as plt\n",
    "import seaborn as sns\n",
    "\n",
    "%matplotlib inline"
   ]
  },
  {
   "cell_type": "markdown",
   "id": "946a0b40-42d0-4521-8ad5-6038147cfe5e",
   "metadata": {},
   "source": [
    "# Load utilities"
   ]
  },
  {
   "cell_type": "code",
   "execution_count": 2,
   "id": "e9bba260-2cd8-4c69-a71d-56dcd4b750ed",
   "metadata": {},
   "outputs": [],
   "source": [
    "import sys \n",
    "sys.path.append('../src/')\n",
    "\n",
    "import utilities as utils"
   ]
  },
  {
   "cell_type": "markdown",
   "id": "106bb52b-ff5f-4b23-9e56-84b4ef34cb4d",
   "metadata": {},
   "source": [
    "# Churn Prediction model from previous week"
   ]
  },
  {
   "cell_type": "code",
   "execution_count": 3,
   "id": "9112d777-2636-4410-b226-2ed6bb19b6b7",
   "metadata": {},
   "outputs": [],
   "source": [
    "df = pd.read_csv('../data/03_data_customer_churn.csv')\n",
    "\n",
    "# Standardize column names \n",
    "df.columns = df.columns.str.lower().str.replace(' ','_')\n",
    "\n",
    "# get list of categorical features\n",
    "features_cat = list(df.dtypes[df.dtypes == 'object'].index)\n",
    "\n",
    "# standardize categorical features data\n",
    "for f in features_cat:\n",
    "    df[f] = df[f].str.lower().str.replace(' ','_')\n",
    "    \n",
    "df.totalcharges = pd.to_numeric(df.totalcharges, errors='coerce')\n",
    "df.totalcharges = df.totalcharges.fillna(0)\n",
    "\n",
    "\n",
    "df.churn = (df.churn == 'yes').astype('int')"
   ]
  },
  {
   "cell_type": "code",
   "execution_count": 4,
   "id": "504cfecd-4318-414e-aa7a-09d1d588f974",
   "metadata": {},
   "outputs": [],
   "source": [
    "# Train-Test-Split (80-20)\n",
    "df_train_full, df_test = utils.train_test_split(df, test_size=0.2, random_state=1)"
   ]
  },
  {
   "cell_type": "code",
   "execution_count": 5,
   "id": "63f0fcd6-563c-4827-b54f-1645be883e95",
   "metadata": {},
   "outputs": [
    {
     "data": {
      "text/plain": [
       "['tenure',\n",
       " 'monthlycharges',\n",
       " 'totalcharges',\n",
       " 'onlinebackup',\n",
       " 'onlinesecurity',\n",
       " 'multiplelines',\n",
       " 'streamingmovies',\n",
       " 'internetservice',\n",
       " 'techsupport',\n",
       " 'paymentmethod',\n",
       " 'paperlessbilling',\n",
       " 'phoneservice',\n",
       " 'partner',\n",
       " 'deviceprotection',\n",
       " 'seniorcitizen',\n",
       " 'streamingtv',\n",
       " 'dependents',\n",
       " 'contract',\n",
       " 'gender']"
      ]
     },
     "execution_count": 5,
     "metadata": {},
     "output_type": "execute_result"
    }
   ],
   "source": [
    "# Numericals \n",
    "list_features_num = ['tenure', 'monthlycharges', 'totalcharges']\n",
    "\n",
    "# Categoical \n",
    "list_features_cat = list(set(df_train_full.columns) - set(list_features_num) - set(['churn','customerid']))\n",
    "\n",
    "# All Features \n",
    "list_features = list_features_num + list_features_cat\n",
    "list_features"
   ]
  },
  {
   "cell_type": "code",
   "execution_count": 6,
   "id": "12a21fa2-6b03-4ec9-8355-8226f6d6fe6b",
   "metadata": {},
   "outputs": [
    {
     "data": {
      "application/vnd.jupyter.widget-view+json": {
       "model_id": "ceb018b8329c45ac92de9ad9cbc74c91",
       "version_major": 2,
       "version_minor": 0
      },
      "text/plain": [
       "  0%|          | 0/1 [00:00<?, ?it/s]"
      ]
     },
     "metadata": {},
     "output_type": "display_data"
    },
    {
     "name": "stdout",
     "output_type": "stream",
     "text": [
      "C =1.0 score_mean=84.041, score_std=0.854\n"
     ]
    }
   ],
   "source": [
    "# params for Kfold CLf function\n",
    "nsplits = 5\n",
    "list_C = [1.0]\n",
    "\n",
    "# Call Kfold CLF\n",
    "scores = utils.kfold_biclf_logisticreg(df_train_full, 'churn', list_features, nsplits, list_C)"
   ]
  },
  {
   "cell_type": "code",
   "execution_count": 7,
   "id": "38ae0188-719d-4ea9-8688-e143e40fcbde",
   "metadata": {},
   "outputs": [
    {
     "data": {
      "text/plain": [
       "0.8572386167896259"
      ]
     },
     "execution_count": 7,
     "metadata": {},
     "output_type": "execute_result"
    }
   ],
   "source": [
    "# Train final model \n",
    "y_train_full = df_train_full.churn.values\n",
    "C=1.0\n",
    "dv, model = utils.train_biclf_logisticreg(df_train_full, y_train_full, list_features, C=C)\n",
    "y_pred = utils.predict_clf(df_test, list_features, dv, model)\n",
    "\n",
    "# AUC final model\n",
    "y_test = df_test.churn.values\n",
    "auc = utils.get_roc_auc_score(y_test, y_pred)\n",
    "\n",
    "auc"
   ]
  },
  {
   "cell_type": "markdown",
   "id": "f64ee54e-99de-47c1-a079-0fcc797aad1e",
   "metadata": {},
   "source": [
    "***"
   ]
  },
  {
   "cell_type": "markdown",
   "id": "a902eac1-4417-422b-9f91-d40a87666f14",
   "metadata": {},
   "source": [
    "# Save the model"
   ]
  },
  {
   "cell_type": "code",
   "execution_count": 8,
   "id": "1a4df2f2-4148-4fe5-81a4-c07ac5ad13b1",
   "metadata": {},
   "outputs": [
    {
     "data": {
      "text/plain": [
       "'../models/model_C=1.0.bin'"
      ]
     },
     "execution_count": 8,
     "metadata": {},
     "output_type": "execute_result"
    }
   ],
   "source": [
    "# File name of the output model\n",
    "C=1.0\n",
    "filename_model = f'../models/model_C={C}.bin'\n",
    "filename_model"
   ]
  },
  {
   "cell_type": "code",
   "execution_count": 9,
   "id": "3664fe8d-9fb4-4996-8169-cf9320e526c7",
   "metadata": {},
   "outputs": [
    {
     "name": "stdout",
     "output_type": "stream",
     "text": [
      " >>> ML model [Saved]: \n",
      "\t - File: ../models/model_C=1.0.bin\n"
     ]
    }
   ],
   "source": [
    "# call save model func\n",
    "utils.save_model_pickle(dv, model, filename_model, verbose=True)"
   ]
  },
  {
   "cell_type": "markdown",
   "id": "055c2163-c922-4734-b7b7-8dd7db6deaa0",
   "metadata": {},
   "source": [
    "# Load the model"
   ]
  },
  {
   "cell_type": "code",
   "execution_count": 10,
   "id": "9a3353d1-1676-4aec-b7ec-388ac7b14441",
   "metadata": {},
   "outputs": [],
   "source": [
    "import pickle"
   ]
  },
  {
   "cell_type": "code",
   "execution_count": 11,
   "id": "d991a1c3-7432-4f99-9b6f-f659710a9c49",
   "metadata": {},
   "outputs": [
    {
     "name": "stdout",
     "output_type": "stream",
     "text": [
      " >>> ML model [Loaded]: \n",
      "\t - File: ../models/model_C=1.0.bin\n"
     ]
    }
   ],
   "source": [
    "dv, model = utils.load_model_pickle(filename_model, verbose=True)"
   ]
  },
  {
   "cell_type": "code",
   "execution_count": 12,
   "id": "7bc707e9-c049-4962-84ea-6a0ca968b770",
   "metadata": {},
   "outputs": [
    {
     "data": {
      "text/plain": [
       "(DictVectorizer(sparse=False), LogisticRegression(max_iter=1000))"
      ]
     },
     "execution_count": 12,
     "metadata": {},
     "output_type": "execute_result"
    }
   ],
   "source": [
    "dv, model"
   ]
  },
  {
   "cell_type": "code",
   "execution_count": 13,
   "id": "942045cc-c03f-4503-bbf8-a50c2416b9e9",
   "metadata": {},
   "outputs": [],
   "source": [
    "customer = {\n",
    "    'customerid': '8879-zkjof',\n",
    "    'gender': 'female',\n",
    "    'seniorcitizen': 0,\n",
    "    'partner': 'no',\n",
    "    'dependents': 'no',\n",
    "    'tenure': 1,\n",
    "    'phoneservice': 'yes',\n",
    "    'multiplelines': 'no',\n",
    "    'internetservice': 'dsl',\n",
    "    'onlinesecurity': 'yes',\n",
    "    'onlinebackup': 'no',\n",
    "    'deviceprotection': 'yes',\n",
    "    'techsupport': 'yes',\n",
    "    'streamingtv': 'yes',\n",
    "    'streamingmovies': 'yes',\n",
    "    'contract': 'month-to-month',\n",
    "    'paperlessbilling': 'yes',\n",
    "    'paymentmethod': 'bank_transfer_(automatic)',\n",
    "    'monthlycharges': 79.85,\n",
    "    'totalcharges': 3320.75\n",
    "}"
   ]
  },
  {
   "cell_type": "code",
   "execution_count": 14,
   "id": "3efad540-e21a-4317-8e85-491a31bb14e2",
   "metadata": {},
   "outputs": [],
   "source": [
    "X = dv.transform([customer])"
   ]
  },
  {
   "cell_type": "code",
   "execution_count": 15,
   "id": "65d63d35-efa3-4e9f-aa45-acd4ace6276c",
   "metadata": {},
   "outputs": [
    {
     "data": {
      "text/plain": [
       "0.5900396422629436"
      ]
     },
     "execution_count": 15,
     "metadata": {},
     "output_type": "execute_result"
    }
   ],
   "source": [
    "model.predict_proba(X)[0,1]"
   ]
  },
  {
   "cell_type": "code",
   "execution_count": null,
   "id": "ef97970f-5d12-498d-81f2-bdc99219c4be",
   "metadata": {},
   "outputs": [],
   "source": []
  },
  {
   "cell_type": "markdown",
   "id": "5d47ada4-6f40-44a5-a495-78ed670d642a",
   "metadata": {},
   "source": [
    "# Notebook into python script"
   ]
  },
  {
   "cell_type": "markdown",
   "id": "81577023-1d4b-4ebc-9358-51643bcdff76",
   "metadata": {},
   "source": [
    "- train script \n",
    "- predict script"
   ]
  },
  {
   "cell_type": "markdown",
   "id": "5eb27b73-c922-4b30-ae9b-05be660f46c7",
   "metadata": {},
   "source": [
    "***"
   ]
  },
  {
   "cell_type": "markdown",
   "id": "49c71d8b-4f06-4660-a11f-a8c578083929",
   "metadata": {},
   "source": [
    "# Web Service - ping pong"
   ]
  },
  {
   "cell_type": "code",
   "execution_count": 37,
   "id": "d59bcbd8-1894-40a8-9773-2c39741561dc",
   "metadata": {},
   "outputs": [
    {
     "data": {
      "text/plain": [
       "'PONG!'"
      ]
     },
     "execution_count": 37,
     "metadata": {},
     "output_type": "execute_result"
    }
   ],
   "source": [
    "import webservice_ping as ping\n",
    "\n",
    "ping.ping()"
   ]
  },
  {
   "cell_type": "code",
   "execution_count": null,
   "id": "92c58fb9-0f5e-4aad-b061-75eceec2a774",
   "metadata": {},
   "outputs": [],
   "source": []
  },
  {
   "cell_type": "code",
   "execution_count": null,
   "id": "8a45b082-10c7-4e6d-b190-ba9179dbd9f8",
   "metadata": {},
   "outputs": [],
   "source": []
  },
  {
   "cell_type": "code",
   "execution_count": null,
   "id": "519e29da-0a78-49fe-8609-3a35ce27cf36",
   "metadata": {},
   "outputs": [],
   "source": []
  },
  {
   "cell_type": "code",
   "execution_count": null,
   "id": "62f3fd9c-03cc-43c5-a75c-902b06f7a899",
   "metadata": {},
   "outputs": [],
   "source": []
  },
  {
   "cell_type": "code",
   "execution_count": null,
   "id": "465e2c01-b74e-4a81-8e1e-f1a5f3c46133",
   "metadata": {},
   "outputs": [],
   "source": []
  }
 ],
 "metadata": {
  "kernelspec": {
   "display_name": "Python 3 (ipykernel)",
   "language": "python",
   "name": "python3"
  },
  "language_info": {
   "codemirror_mode": {
    "name": "ipython",
    "version": 3
   },
   "file_extension": ".py",
   "mimetype": "text/x-python",
   "name": "python",
   "nbconvert_exporter": "python",
   "pygments_lexer": "ipython3",
   "version": "3.10.6"
  }
 },
 "nbformat": 4,
 "nbformat_minor": 5
}
